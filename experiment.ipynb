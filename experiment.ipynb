{
 "cells": [
  {
   "cell_type": "markdown",
   "metadata": {},
   "source": [
    "#### This is the experiment and graph code of OthelloGPT using SAE."
   ]
  },
  {
   "cell_type": "code",
   "execution_count": 1,
   "metadata": {},
   "outputs": [
    {
     "name": "stderr",
     "output_type": "stream",
     "text": [
      "c:\\Users\\Dolphin_\\anaconda3\\envs\\cs194\\lib\\site-packages\\tqdm\\auto.py:21: TqdmWarning: IProgress not found. Please update jupyter and ipywidgets. See https://ipywidgets.readthedocs.io/en/stable/user_install.html\n",
      "  from .autonotebook import tqdm as notebook_tqdm\n",
      "c:\\Users\\Dolphin_\\anaconda3\\envs\\cs194\\lib\\site-packages\\torchaudio\\backend\\utils.py:62: UserWarning: No audio backend is available.\n",
      "  warnings.warn(\"No audio backend is available.\")\n"
     ]
    }
   ],
   "source": [
    "%load_ext autoreload\n",
    "%autoreload 2\n",
    "%reload_ext autoreload\n",
    "# Imports\n",
    "import torch\n",
    "import matplotlib.pyplot as plt\n",
    "from utils.dataloaders import get_dataloader\n",
    "import utils.dataloaders\n",
    "from tqdm import tqdm\n",
    "from utils.game_engine import history_to_legal_moves\n",
    "import utils.game_engine\n",
    "from torcheval.metrics import BinaryAUROC\n",
    "import pickle as pkl\n",
    "import os\n",
    "import sys\n",
    "import numpy as np\n",
    "import seaborn as sns\n",
    "import analysis\n",
    "from neel_plotly import line, scatter, imshow, histogram\n"
   ]
  },
  {
   "cell_type": "code",
   "execution_count": 2,
   "metadata": {},
   "outputs": [
    {
     "name": "stdout",
     "output_type": "stream",
     "text": [
      "cuda\n"
     ]
    }
   ],
   "source": [
    "# GPU acceleration\n",
    "device='cuda' if torch.cuda.is_available() else 'cpu'\n",
    "print(device)"
   ]
  },
  {
   "cell_type": "code",
   "execution_count": 3,
   "metadata": {},
   "outputs": [],
   "source": [
    "# output stream rewrite for log files\n",
    "class Tee:\n",
    "    def __init__(self, filepath):\n",
    "        self.file = open(filepath, \"w\")\n",
    "        self.stdout = sys.stdout\n",
    "\n",
    "    def write(self, message):\n",
    "        self.file.write(message)\n",
    "        self.stdout.write(message)\n",
    "\n",
    "    def flush(self):\n",
    "        self.file.flush()\n",
    "        self.stdout.flush()\n",
    "\n",
    "    def close(self):\n",
    "        self.file.close()\n",
    "\n",
    "\n",
    "# tee = Tee(\"output.log\")\n",
    "# sys.stdout = tee\n",
    "# ...\n",
    "# sys.stdout = sys.__stdout__\n",
    "# tee.close()"
   ]
  },
  {
   "cell_type": "markdown",
   "metadata": {},
   "source": [
    "#### Train linear_probe on all layers"
   ]
  },
  {
   "cell_type": "code",
   "execution_count": 4,
   "metadata": {},
   "outputs": [
    {
     "name": "stderr",
     "output_type": "stream",
     "text": [
      "e:\\CS194\\Papers\\OthelloSAE\\model_training.py:162: FutureWarning: You are using `torch.load` with `weights_only=False` (the current default value), which uses the default pickle module implicitly. It is possible to construct malicious pickle data which will execute arbitrary code during unpickling (See https://github.com/pytorch/pytorch/blob/main/SECURITY.md#untrusted-models for more details). In a future release, the default value for `weights_only` will be flipped to `True`. This limits the functions that could be executed during unpickling. Arbitrary objects will no longer be allowed to be loaded via this mode unless they are explicitly allowlisted by the user via `torch.serialization.add_safe_globals`. We recommend you start setting `weights_only=True` for any use case where you don't have full control of the loaded file. Please open an issue on GitHub for any issues related to this experimental feature.\n",
      "  language_model=torch.load(f, map_location=device)\n"
     ]
    },
    {
     "name": "stdout",
     "output_type": "stream",
     "text": [
      "Beginning model training on cpu!\n"
     ]
    },
    {
     "ename": "FileNotFoundError",
     "evalue": "[Errno 2] No such file or directory: 'datasets/probe_train_corpus.txt'",
     "output_type": "error",
     "traceback": [
      "\u001b[1;31m---------------------------------------------------------------------------\u001b[0m",
      "\u001b[1;31mFileNotFoundError\u001b[0m                         Traceback (most recent call last)",
      "Cell \u001b[1;32mIn[4], line 8\u001b[0m\n\u001b[0;32m      6\u001b[0m layers \u001b[38;5;241m=\u001b[39m \u001b[38;5;28mlist\u001b[39m(\u001b[38;5;28mrange\u001b[39m(\u001b[38;5;241m0\u001b[39m, \u001b[38;5;241m8\u001b[39m))\n\u001b[0;32m      7\u001b[0m \u001b[38;5;28;01mfor\u001b[39;00m layer \u001b[38;5;129;01min\u001b[39;00m layers:\n\u001b[1;32m----> 8\u001b[0m     \u001b[43mfull_probe_run\u001b[49m\u001b[43m(\u001b[49m\u001b[43mlayer\u001b[49m\u001b[43m)\u001b[49m\n\u001b[0;32m     10\u001b[0m sys\u001b[38;5;241m.\u001b[39mstdout \u001b[38;5;241m=\u001b[39m sys\u001b[38;5;241m.\u001b[39m__stdout__\n\u001b[0;32m     11\u001b[0m tee\u001b[38;5;241m.\u001b[39mclose()\n",
      "File \u001b[1;32me:\\CS194\\Papers\\OthelloSAE\\model_training.py:172\u001b[0m, in \u001b[0;36mfull_probe_run\u001b[1;34m(target_layer, save)\u001b[0m\n\u001b[0;32m    170\u001b[0m linear_probe_model\u001b[38;5;241m=\u001b[39mlinear_probes\u001b[38;5;241m.\u001b[39mLinearProbe(language_model, layer_num\u001b[38;5;241m=\u001b[39mtarget_layer, window_start_trim\u001b[38;5;241m=\u001b[39mwindow_start, window_end_trim\u001b[38;5;241m=\u001b[39mwindow_end)\n\u001b[0;32m    171\u001b[0m \u001b[38;5;66;03m# print(num_epochs, batch_size, report_every_n_steps)\u001b[39;00m\n\u001b[1;32m--> 172\u001b[0m \u001b[43mtrain_model\u001b[49m\u001b[43m(\u001b[49m\u001b[43mlinear_probe_model\u001b[49m\u001b[43m,\u001b[49m\u001b[43m \u001b[49m\u001b[43mtrain_dataset_type\u001b[49m\u001b[38;5;241;43m=\u001b[39;49m\u001b[43mtrain_corpus\u001b[49m\u001b[43m,\u001b[49m\u001b[43m \u001b[49m\u001b[43meval_dataset_type\u001b[49m\u001b[38;5;241;43m=\u001b[39;49m\u001b[43meval_corpus\u001b[49m\u001b[43m,\u001b[49m\u001b[43m \u001b[49m\u001b[43mnum_epochs\u001b[49m\u001b[38;5;241;43m=\u001b[39;49m\u001b[43mnum_epochs\u001b[49m\u001b[43m,\u001b[49m\u001b[43m \u001b[49m\u001b[43mreport_every_n_steps\u001b[49m\u001b[38;5;241;43m=\u001b[39;49m\u001b[43mreport_every_n_steps\u001b[49m\u001b[43m,\u001b[49m\u001b[43m \u001b[49m\u001b[43mbatch_size\u001b[49m\u001b[38;5;241;43m=\u001b[39;49m\u001b[43mbatch_size\u001b[49m\u001b[43m)\u001b[49m\n\u001b[0;32m    174\u001b[0m \u001b[38;5;28;01mif\u001b[39;00m save:\n\u001b[0;32m    175\u001b[0m     to_save_location\u001b[38;5;241m=\u001b[39m\u001b[38;5;124mf\u001b[39m\u001b[38;5;124m\"\u001b[39m\u001b[38;5;124mprobes/probe_layer_\u001b[39m\u001b[38;5;132;01m{\u001b[39;00mtarget_layer\u001b[38;5;132;01m}\u001b[39;00m\u001b[38;5;124m.pkl\u001b[39m\u001b[38;5;124m\"\u001b[39m\n",
      "File \u001b[1;32me:\\CS194\\Papers\\OthelloSAE\\train.py:21\u001b[0m, in \u001b[0;36mtrain_model\u001b[1;34m(model, train_dataset_type, eval_dataset_type, batch_size, num_epochs, report_every_n_steps, fixed_seed)\u001b[0m\n\u001b[0;32m     18\u001b[0m \u001b[38;5;28mprint\u001b[39m(\u001b[38;5;124mf\u001b[39m\u001b[38;5;124m\"\u001b[39m\u001b[38;5;124mBeginning model training on \u001b[39m\u001b[38;5;132;01m{\u001b[39;00mdevice\u001b[38;5;132;01m}\u001b[39;00m\u001b[38;5;124m!\u001b[39m\u001b[38;5;124m\"\u001b[39m)\n\u001b[0;32m     20\u001b[0m \u001b[38;5;28;01mfor\u001b[39;00m epoch \u001b[38;5;129;01min\u001b[39;00m \u001b[38;5;28mrange\u001b[39m(num_epochs):\n\u001b[1;32m---> 21\u001b[0m     train_dataloader\u001b[38;5;241m=\u001b[39m\u001b[38;5;28miter\u001b[39m(\u001b[43mget_dataloader\u001b[49m\u001b[43m(\u001b[49m\u001b[43mmode\u001b[49m\u001b[38;5;241;43m=\u001b[39;49m\u001b[43mtrain_dataset_type\u001b[49m\u001b[43m,\u001b[49m\u001b[43m \u001b[49m\u001b[43mwindow_length\u001b[49m\u001b[38;5;241;43m=\u001b[39;49m\u001b[43mmodel\u001b[49m\u001b[38;5;241;43m.\u001b[39;49m\u001b[43mwindow_length\u001b[49m\u001b[43m,\u001b[49m\u001b[43m \u001b[49m\u001b[43mbatch_size\u001b[49m\u001b[38;5;241;43m=\u001b[39;49m\u001b[43mbatch_size\u001b[49m\u001b[43m)\u001b[49m)\n\u001b[0;32m     22\u001b[0m     \u001b[38;5;28mprint\u001b[39m(\u001b[38;5;124mf\u001b[39m\u001b[38;5;124m\"\u001b[39m\u001b[38;5;124mBeginning epoch \u001b[39m\u001b[38;5;132;01m{\u001b[39;00mepoch\u001b[38;5;241m+\u001b[39m\u001b[38;5;241m1\u001b[39m\u001b[38;5;132;01m}\u001b[39;00m\u001b[38;5;124m/\u001b[39m\u001b[38;5;132;01m{\u001b[39;00mnum_epochs\u001b[38;5;132;01m}\u001b[39;00m\u001b[38;5;124m. Epoch duration is \u001b[39m\u001b[38;5;132;01m{\u001b[39;00m\u001b[38;5;28mlen\u001b[39m(train_dataloader)\u001b[38;5;132;01m}\u001b[39;00m\u001b[38;5;124m steps, will evaluate every \u001b[39m\u001b[38;5;132;01m{\u001b[39;00mreport_every_n_steps\u001b[38;5;132;01m}\u001b[39;00m\u001b[38;5;124m steps.\u001b[39m\u001b[38;5;124m\"\u001b[39m)\n\u001b[0;32m     24\u001b[0m     \u001b[38;5;28;01mfor\u001b[39;00m input_batch,label_batch \u001b[38;5;129;01min\u001b[39;00m tqdm(train_dataloader):\n",
      "File \u001b[1;32me:\\CS194\\Papers\\OthelloSAE\\utils\\dataloaders.py:104\u001b[0m, in \u001b[0;36mget_dataloader\u001b[1;34m(mode, window_length, batch_size)\u001b[0m\n\u001b[0;32m    102\u001b[0m mode_lookups\u001b[38;5;241m=\u001b[39mrecognized_dataset()\n\u001b[0;32m    103\u001b[0m file_location, dataset_type, kwargs\u001b[38;5;241m=\u001b[39mmode_lookups[mode]\n\u001b[1;32m--> 104\u001b[0m dataset\u001b[38;5;241m=\u001b[39mdataset_type(file_location, window_length\u001b[38;5;241m=\u001b[39mwindow_length, device\u001b[38;5;241m=\u001b[39mdevice, \u001b[38;5;241m*\u001b[39m\u001b[38;5;241m*\u001b[39mkwargs)\n\u001b[0;32m    105\u001b[0m dataloader\u001b[38;5;241m=\u001b[39mDataLoader(dataset, batch_size\u001b[38;5;241m=\u001b[39mbatch_size, shuffle\u001b[38;5;241m=\u001b[39m\u001b[38;5;28;01mTrue\u001b[39;00m)\n\u001b[0;32m    106\u001b[0m \u001b[38;5;28;01mreturn\u001b[39;00m dataloader\n",
      "File \u001b[1;32me:\\CS194\\Papers\\OthelloSAE\\utils\\dataloaders.py:64\u001b[0m, in \u001b[0;36mLabelledOthelloDataset.__init__\u001b[1;34m(self, file_location, window_length, device, use_ally_enemy)\u001b[0m\n\u001b[0;32m     62\u001b[0m \u001b[38;5;28mself\u001b[39m\u001b[38;5;241m.\u001b[39mdevice\u001b[38;5;241m=\u001b[39mdevice\n\u001b[0;32m     63\u001b[0m \u001b[38;5;28mself\u001b[39m\u001b[38;5;241m.\u001b[39mturn_mask\u001b[38;5;241m=\u001b[39m[(\u001b[38;5;241m-\u001b[39m\u001b[38;5;241m1\u001b[39m)\u001b[38;5;241m*\u001b[39m\u001b[38;5;241m*\u001b[39mn \u001b[38;5;28;01mfor\u001b[39;00m n \u001b[38;5;129;01min\u001b[39;00m \u001b[38;5;28mrange\u001b[39m(\u001b[38;5;28mself\u001b[39m\u001b[38;5;241m.\u001b[39mwindow_length)] \u001b[38;5;28;01mif\u001b[39;00m use_ally_enemy \u001b[38;5;28;01melse\u001b[39;00m [\u001b[38;5;241m1\u001b[39m \u001b[38;5;28;01mfor\u001b[39;00m n \u001b[38;5;129;01min\u001b[39;00m \u001b[38;5;28mrange\u001b[39m(\u001b[38;5;28mself\u001b[39m\u001b[38;5;241m.\u001b[39mwindow_length)]\n\u001b[1;32m---> 64\u001b[0m \u001b[38;5;28;01mwith\u001b[39;00m \u001b[38;5;28;43mopen\u001b[39;49m\u001b[43m(\u001b[49m\u001b[43mfile_location\u001b[49m\u001b[43m,\u001b[49m\u001b[38;5;124;43m'\u001b[39;49m\u001b[38;5;124;43mr\u001b[39;49m\u001b[38;5;124;43m'\u001b[39;49m\u001b[43m)\u001b[49m \u001b[38;5;28;01mas\u001b[39;00m f:\n\u001b[0;32m     65\u001b[0m     \u001b[38;5;28mself\u001b[39m\u001b[38;5;241m.\u001b[39mgames\u001b[38;5;241m=\u001b[39mf\u001b[38;5;241m.\u001b[39mread()\u001b[38;5;241m.\u001b[39msplit(\u001b[38;5;124m\"\u001b[39m\u001b[38;5;130;01m\\n\u001b[39;00m\u001b[38;5;124m\"\u001b[39m)\n",
      "\u001b[1;31mFileNotFoundError\u001b[0m: [Errno 2] No such file or directory: 'datasets/probe_train_corpus.txt'"
     ]
    }
   ],
   "source": [
    "from model_training import full_probe_run\n",
    "\n",
    "tee = Tee(\"output.log\")\n",
    "sys.stdout = tee\n",
    "\n",
    "layers = list(range(0, 8))\n",
    "for layer in layers:\n",
    "    full_probe_run(layer)\n",
    "\n",
    "sys.stdout = sys.__stdout__\n",
    "tee.close()"
   ]
  },
  {
   "cell_type": "code",
   "execution_count": 5,
   "metadata": {},
   "outputs": [
    {
     "ename": "FileNotFoundError",
     "evalue": "[Errno 2] No such file or directory: 'probe_train_output.log'",
     "output_type": "error",
     "traceback": [
      "\u001b[1;31m---------------------------------------------------------------------------\u001b[0m",
      "\u001b[1;31mFileNotFoundError\u001b[0m                         Traceback (most recent call last)",
      "Cell \u001b[1;32mIn[5], line 6\u001b[0m\n\u001b[0;32m      4\u001b[0m log_file_path \u001b[38;5;241m=\u001b[39m \u001b[38;5;124m\"\u001b[39m\u001b[38;5;124mprobe_train_output.log\u001b[39m\u001b[38;5;124m\"\u001b[39m\n\u001b[0;32m      5\u001b[0m layer_pattern \u001b[38;5;241m=\u001b[39m re\u001b[38;5;241m.\u001b[39mcompile(\u001b[38;5;124mr\u001b[39m\u001b[38;5;124m\"\u001b[39m\u001b[38;5;124mTrain loss and test accuracy after Omega steps: .*?, (\u001b[39m\u001b[38;5;124m\\\u001b[39m\u001b[38;5;124md+\u001b[39m\u001b[38;5;124m\\\u001b[39m\u001b[38;5;124m.\u001b[39m\u001b[38;5;124m\\\u001b[39m\u001b[38;5;124md+)\u001b[39m\u001b[38;5;124m%\u001b[39m\u001b[38;5;124m\"\u001b[39m)\n\u001b[1;32m----> 6\u001b[0m \u001b[38;5;28;01mwith\u001b[39;00m \u001b[38;5;28;43mopen\u001b[39;49m\u001b[43m(\u001b[49m\u001b[43mlog_file_path\u001b[49m\u001b[43m,\u001b[49m\u001b[43m \u001b[49m\u001b[38;5;124;43m'\u001b[39;49m\u001b[38;5;124;43mr\u001b[39;49m\u001b[38;5;124;43m'\u001b[39;49m\u001b[43m)\u001b[49m \u001b[38;5;28;01mas\u001b[39;00m f:\n\u001b[0;32m      7\u001b[0m     log_content \u001b[38;5;241m=\u001b[39m f\u001b[38;5;241m.\u001b[39mread()\n\u001b[0;32m      8\u001b[0m accuracies \u001b[38;5;241m=\u001b[39m [\u001b[38;5;28mfloat\u001b[39m(match) \u001b[38;5;28;01mfor\u001b[39;00m match \u001b[38;5;129;01min\u001b[39;00m layer_pattern\u001b[38;5;241m.\u001b[39mfindall(log_content)]\n",
      "File \u001b[1;32mc:\\Users\\Dolphin_\\anaconda3\\envs\\cs194\\lib\\site-packages\\IPython\\core\\interactiveshell.py:324\u001b[0m, in \u001b[0;36m_modified_open\u001b[1;34m(file, *args, **kwargs)\u001b[0m\n\u001b[0;32m    317\u001b[0m \u001b[38;5;28;01mif\u001b[39;00m file \u001b[38;5;129;01min\u001b[39;00m {\u001b[38;5;241m0\u001b[39m, \u001b[38;5;241m1\u001b[39m, \u001b[38;5;241m2\u001b[39m}:\n\u001b[0;32m    318\u001b[0m     \u001b[38;5;28;01mraise\u001b[39;00m \u001b[38;5;167;01mValueError\u001b[39;00m(\n\u001b[0;32m    319\u001b[0m         \u001b[38;5;124mf\u001b[39m\u001b[38;5;124m\"\u001b[39m\u001b[38;5;124mIPython won\u001b[39m\u001b[38;5;124m'\u001b[39m\u001b[38;5;124mt let you open fd=\u001b[39m\u001b[38;5;132;01m{\u001b[39;00mfile\u001b[38;5;132;01m}\u001b[39;00m\u001b[38;5;124m by default \u001b[39m\u001b[38;5;124m\"\u001b[39m\n\u001b[0;32m    320\u001b[0m         \u001b[38;5;124m\"\u001b[39m\u001b[38;5;124mas it is likely to crash IPython. If you know what you are doing, \u001b[39m\u001b[38;5;124m\"\u001b[39m\n\u001b[0;32m    321\u001b[0m         \u001b[38;5;124m\"\u001b[39m\u001b[38;5;124myou can use builtins\u001b[39m\u001b[38;5;124m'\u001b[39m\u001b[38;5;124m open.\u001b[39m\u001b[38;5;124m\"\u001b[39m\n\u001b[0;32m    322\u001b[0m     )\n\u001b[1;32m--> 324\u001b[0m \u001b[38;5;28;01mreturn\u001b[39;00m io_open(file, \u001b[38;5;241m*\u001b[39margs, \u001b[38;5;241m*\u001b[39m\u001b[38;5;241m*\u001b[39mkwargs)\n",
      "\u001b[1;31mFileNotFoundError\u001b[0m: [Errno 2] No such file or directory: 'probe_train_output.log'"
     ]
    }
   ],
   "source": [
    "# Plot probe training acc\n",
    "import re\n",
    "\n",
    "log_file_path = \"probe_train_output.log\"\n",
    "layer_pattern = re.compile(r\"Train loss and test accuracy after Omega steps: .*?, (\\d+\\.\\d+)%\")\n",
    "with open(log_file_path, 'r') as f:\n",
    "    log_content = f.read()\n",
    "accuracies = [float(match) for match in layer_pattern.findall(log_content)]\n",
    "layers = list(range(len(accuracies)))\n",
    "\n",
    "plt.figure(figsize=(10, 6))\n",
    "plt.plot(layers, accuracies, marker='o', linestyle='-', label=\"Accuracy over Layers\")\n",
    "# Annotate each point with its accuracy value\n",
    "for i, acc in enumerate(accuracies):\n",
    "    plt.text(layers[i], acc, f\"{acc:.2f}%\", fontsize=9, ha='center', va='bottom')\n",
    "plt.title(\"Linear Probe Accuracy Across Layers\")\n",
    "plt.xlabel(\"Layer\")\n",
    "plt.ylabel(\"Test Accuracy (%)\")\n",
    "plt.grid(True, linestyle='--', alpha=0.6)\n",
    "plt.xticks(range(len(layers)), [f\"Layer {i}\" for i in layers])\n",
    "plt.legend()\n",
    "plt.show()"
   ]
  },
  {
   "cell_type": "code",
   "execution_count": 9,
   "metadata": {},
   "outputs": [],
   "source": [
    "model_location = \"trained_model_full.pkl\"\n",
    "with open(model_location, 'rb') as f:\n",
    "    othello_gpt=torch.load(f, map_location=device)"
   ]
  },
  {
   "cell_type": "code",
   "execution_count": 66,
   "metadata": {},
   "outputs": [
    {
     "data": {
      "application/vnd.plotly.v1+json": {
       "config": {
        "plotlyServerURL": "https://plot.ly"
       },
       "data": [
        {
         "coloraxis": "coloraxis",
         "hovertemplate": "x: %{x}<br>y: %{y}<br>color: %{z}<extra></extra>",
         "name": "0",
         "type": "heatmap",
         "xaxis": "x",
         "y": [
          "A",
          "B",
          "C",
          "D",
          "E",
          "F",
          "G",
          "H"
         ],
         "yaxis": "y",
         "z": [
          [
           0.2398359477519989,
           0.23974382877349854,
           0.1924097239971161,
           0.29730501770973206,
           0.3268156349658966,
           0.1976885199546814,
           0.2984139323234558,
           0.29092320799827576
          ],
          [
           0.2821509540081024,
           0.14645427465438843,
           0.12237252295017242,
           0.09788890182971954,
           0.1742454469203949,
           0.25166746973991394,
           0.21851594746112823,
           0.24001775681972504
          ],
          [
           0.2624608278274536,
           0.12988512217998505,
           -0.0010706298053264618,
           -0.07410743832588196,
           0.11212152242660522,
           0.09328002482652664,
           0.18340438604354858,
           0.2495058923959732
          ],
          [
           0.1820991337299347,
           0.07841527462005615,
           -0.03116365522146225,
           0,
           0,
           0.051107361912727356,
           0.01245199330151081,
           0.23786209523677826
          ],
          [
           0.2442304641008377,
           0.16426002979278564,
           -0.07630501687526703,
           0,
           0,
           0.010951753705739975,
           0.12738704681396484,
           0.23389089107513428
          ],
          [
           0.25538963079452515,
           0.16077940165996552,
           0.06495515257120132,
           0.03499673306941986,
           -0.05968214571475983,
           0.03792958706617355,
           0.1317249983549118,
           0.2417422980070114
          ],
          [
           0.13837502896785736,
           0.21209335327148438,
           0.1600884646177292,
           0.14073821902275085,
           0.060554955154657364,
           0.13503853976726532,
           0.11861470341682434,
           0.2787264287471771
          ],
          [
           0.33266976475715637,
           0.33446812629699707,
           0.22812384366989136,
           0.16624248027801514,
           0.23378722369670868,
           0.2618332505226135,
           0.21410402655601501,
           0.23459458351135254
          ]
         ]
        },
        {
         "coloraxis": "coloraxis",
         "hovertemplate": "x: %{x}<br>y: %{y}<br>color: %{z}<extra></extra>",
         "name": "1",
         "type": "heatmap",
         "xaxis": "x2",
         "y": [
          "A",
          "B",
          "C",
          "D",
          "E",
          "F",
          "G",
          "H"
         ],
         "yaxis": "y2",
         "z": [
          [
           0.21611781418323517,
           0.21467918157577515,
           0.18249060213565826,
           0.28786447644233704,
           0.3075868487358093,
           0.178978830575943,
           0.2709500193595886,
           0.26770761609077454
          ],
          [
           0.2585200071334839,
           0.12994787096977234,
           0.0952821671962738,
           0.09639935940504074,
           0.14737887680530548,
           0.23353758454322815,
           0.2027709037065506,
           0.24110646545886993
          ],
          [
           0.23230737447738647,
           0.11823758482933044,
           -0.008519604802131653,
           -0.06097199022769928,
           0.09463392943143845,
           0.0897366851568222,
           0.16081717610359192,
           0.2349684089422226
          ],
          [
           0.16978169977664948,
           0.06586439907550812,
           -0.033412866294384,
           0,
           0,
           0.02551029808819294,
           -0.0008730962872505188,
           0.21284443140029907
          ],
          [
           0.22707688808441162,
           0.14802885055541992,
           -0.07749709486961365,
           0,
           0,
           0.01274120807647705,
           0.12232901155948639,
           0.21472541987895966
          ],
          [
           0.24012063443660736,
           0.14800620079040527,
           0.07135561108589172,
           0.0242355614900589,
           -0.06819817423820496,
           0.03564765304327011,
           0.12938697636127472,
           0.2303362339735031
          ],
          [
           0.13102149963378906,
           0.19924287497997284,
           0.15029063820838928,
           0.12809590995311737,
           0.05207817628979683,
           0.12714998424053192,
           0.10750687122344971,
           0.26186585426330566
          ],
          [
           0.3113417625427246,
           0.31484758853912354,
           0.2248380184173584,
           0.15707868337631226,
           0.22471874952316284,
           0.23517729341983795,
           0.20562002062797546,
           0.21665194630622864
          ]
         ]
        },
        {
         "coloraxis": "coloraxis",
         "hovertemplate": "x: %{x}<br>y: %{y}<br>color: %{z}<extra></extra>",
         "name": "2",
         "type": "heatmap",
         "xaxis": "x3",
         "y": [
          "A",
          "B",
          "C",
          "D",
          "E",
          "F",
          "G",
          "H"
         ],
         "yaxis": "y3",
         "z": [
          [
           0.1920972317457199,
           0.11905466020107269,
           0.17555496096611023,
           0.15271174907684326,
           0.11569569259881973,
           0.17576910555362701,
           0.1945967674255371,
           0.21130985021591187
          ],
          [
           0.14109183847904205,
           0.08873479068279266,
           0.10050993412733078,
           0.12024348229169846,
           0.06625060737133026,
           0.06793354451656342,
           0.12058468908071518,
           0.19579315185546875
          ],
          [
           0.14874616265296936,
           0.06163893640041351,
           -0.003926148638129234,
           0.014720983803272247,
           -0.01989041268825531,
           0.023940403014421463,
           0.1100529357790947,
           0.13908100128173828
          ],
          [
           0.10703163594007492,
           0.03522616997361183,
           -0.022346429526805878,
           0,
           0,
           0.04269126057624817,
           0.09153542667627335,
           0.16835127770900726
          ],
          [
           0.13186991214752197,
           0.11140069365501404,
           0.03789184242486954,
           0,
           0,
           -0.016492623835802078,
           0.05604321137070656,
           0.10188394784927368
          ],
          [
           0.1349145770072937,
           0.03164805844426155,
           0.023928489536046982,
           -0.011307385750114918,
           -0.041015852242708206,
           -0.03981952369213104,
           0.039743974804878235,
           0.17336761951446533
          ],
          [
           0.12831330299377441,
           0.14845505356788635,
           0.08074122667312622,
           0.04210778325796127,
           0.030346980318427086,
           0.034971754997968674,
           0.09573201835155487,
           0.15782508254051208
          ],
          [
           0.20277510583400726,
           0.15124940872192383,
           0.1156129240989685,
           0.16829121112823486,
           0.12160176038742065,
           0.1515566110610962,
           0.1600058674812317,
           0.18009284138679504
          ]
         ]
        },
        {
         "coloraxis": "coloraxis",
         "hovertemplate": "x: %{x}<br>y: %{y}<br>color: %{z}<extra></extra>",
         "name": "3",
         "type": "heatmap",
         "xaxis": "x4",
         "y": [
          "A",
          "B",
          "C",
          "D",
          "E",
          "F",
          "G",
          "H"
         ],
         "yaxis": "y4",
         "z": [
          [
           0.15903133153915405,
           0.14330445230007172,
           0.1757926642894745,
           0.13437026739120483,
           0.15352188050746918,
           0.14816342294216156,
           0.10953651368618011,
           0.15741108357906342
          ],
          [
           0.12995842099189758,
           0.08902505785226822,
           0.09982290118932724,
           0.07918079197406769,
           0.11722119897603989,
           0.12170151621103287,
           0.13736511766910553,
           0.1166524589061737
          ],
          [
           0.15395624935626984,
           0.0881970152258873,
           0.053157076239585876,
           0.044242117553949356,
           0.07807271182537079,
           0.07264992594718933,
           0.10411032289266586,
           0.11747397482395172
          ],
          [
           0.12421116232872009,
           0.07291199266910553,
           0.02761218324303627,
           0,
           0,
           0.05806008726358414,
           0.08086289465427399,
           0.11164475232362747
          ],
          [
           0.1180594265460968,
           0.07243743538856506,
           0.016028564423322678,
           0,
           0,
           0.029931772500276566,
           0.04304976761341095,
           0.11654993146657944
          ],
          [
           0.14274872839450836,
           0.07740871608257294,
           0.032972302287817,
           0.046141307801008224,
           -0.01263469085097313,
           0.02603117562830448,
           0.0672244280576706,
           0.11765492707490921
          ],
          [
           0.11255455762147903,
           0.10682849586009979,
           0.08855334669351578,
           0.0517769381403923,
           0.0679418221116066,
           0.0852576345205307,
           0.07419434934854507,
           0.11619411408901215
          ],
          [
           0.1375219225883484,
           0.1543751358985901,
           0.12960053980350494,
           0.11703167855739594,
           0.08318173885345459,
           0.1192890852689743,
           0.10712991654872894,
           0.14691802859306335
          ]
         ]
        },
        {
         "coloraxis": "coloraxis",
         "hovertemplate": "x: %{x}<br>y: %{y}<br>color: %{z}<extra></extra>",
         "name": "4",
         "type": "heatmap",
         "xaxis": "x5",
         "y": [
          "A",
          "B",
          "C",
          "D",
          "E",
          "F",
          "G",
          "H"
         ],
         "yaxis": "y5",
         "z": [
          [
           0.12748950719833374,
           0.13737362623214722,
           0.14837801456451416,
           0.12180124223232269,
           0.13566046953201294,
           0.13786843419075012,
           0.14646947383880615,
           0.16091415286064148
          ],
          [
           0.1540069282054901,
           0.06081736087799072,
           0.10241508483886719,
           0.07529255747795105,
           0.09191298484802246,
           0.07476155459880829,
           0.1007661297917366,
           0.11477690935134888
          ],
          [
           0.11063650995492935,
           0.04983329027891159,
           0.014257887378334999,
           0.011125327087938786,
           0.01620180532336235,
           0.051756419241428375,
           0.1054612472653389,
           0.14442889392375946
          ],
          [
           0.11753761768341064,
           0.045374538749456406,
           -0.01669357530772686,
           0,
           0,
           -0.011810308322310448,
           0.06236840784549713,
           0.11934970319271088
          ],
          [
           0.14433972537517548,
           0.04311008006334305,
           -0.026594098657369614,
           0,
           0,
           -0.0173773393034935,
           0.04645761102437973,
           0.14739622175693512
          ],
          [
           0.12965574860572815,
           0.08504999428987503,
           -0.011276713572442532,
           -0.02882595732808113,
           -0.04163737595081329,
           0.0027564112097024918,
           0.06395324319601059,
           0.10674358904361725
          ],
          [
           0.12591952085494995,
           0.048658814281225204,
           0.06557068228721619,
           0.028670091181993484,
           0.039118584245443344,
           0.09155233204364777,
           0.08786286413669586,
           0.16927914321422577
          ],
          [
           0.1495237946510315,
           0.11794814467430115,
           0.13019411265850067,
           0.10977158695459366,
           0.13078436255455017,
           0.1361057162284851,
           0.14160791039466858,
           0.1276063621044159
          ]
         ]
        },
        {
         "coloraxis": "coloraxis",
         "hovertemplate": "x: %{x}<br>y: %{y}<br>color: %{z}<extra></extra>",
         "name": "5",
         "type": "heatmap",
         "xaxis": "x6",
         "y": [
          "A",
          "B",
          "C",
          "D",
          "E",
          "F",
          "G",
          "H"
         ],
         "yaxis": "y6",
         "z": [
          [
           0.15209145843982697,
           0.16059426963329315,
           0.12080550193786621,
           0.18386909365653992,
           0.2130696326494217,
           0.12544211745262146,
           0.19015423953533173,
           0.17496156692504883
          ],
          [
           0.18121109902858734,
           0.08411374688148499,
           0.03267794847488403,
           0.06277807056903839,
           0.0679948627948761,
           0.15395431220531464,
           0.14169134199619293,
           0.14998802542686462
          ],
          [
           0.16062727570533752,
           0.04125206544995308,
           -0.030831726267933846,
           -0.08777405321598053,
           0.04722941666841507,
           0.03721656650304794,
           0.1139179915189743,
           0.1537993848323822
          ],
          [
           0.10092408210039139,
           0.014838481321930885,
           -0.05679141357541084,
           0,
           0,
           0.017174141481518745,
           -0.019329020753502846,
           0.12686005234718323
          ],
          [
           0.15004971623420715,
           0.06882595270872116,
           -0.09020642936229706,
           0,
           0,
           0.0010837242007255554,
           0.06250862777233124,
           0.1411849558353424
          ],
          [
           0.14701595902442932,
           0.09512227773666382,
           0.01836429163813591,
           0.00015850691124796867,
           -0.06074030324816704,
           0.028048265725374222,
           0.08585445582866669,
           0.16545262932777405
          ],
          [
           0.09117892384529114,
           0.1259307563304901,
           0.06971018761396408,
           0.05647100508213043,
           0.023320863023400307,
           0.08901632577180862,
           0.08069920539855957,
           0.14876601099967957
          ],
          [
           0.2169003039598465,
           0.2039106786251068,
           0.1411425918340683,
           0.09583264589309692,
           0.14552712440490723,
           0.157694473862648,
           0.1365126371383667,
           0.13406546413898468
          ]
         ]
        },
        {
         "coloraxis": "coloraxis",
         "hovertemplate": "x: %{x}<br>y: %{y}<br>color: %{z}<extra></extra>",
         "name": "6",
         "type": "heatmap",
         "xaxis": "x7",
         "y": [
          "A",
          "B",
          "C",
          "D",
          "E",
          "F",
          "G",
          "H"
         ],
         "yaxis": "y7",
         "z": [
          [
           0.1639629304409027,
           0.15268871188163757,
           0.21508267521858215,
           0.09977273643016815,
           0.14171656966209412,
           0.13863471150398254,
           0.15307290852069855,
           0.1495925486087799
          ],
          [
           0.23132669925689697,
           0.0667661651968956,
           0.08639717847108841,
           0.008084841072559357,
           0.03860589489340782,
           0.12715820968151093,
           0.10258585214614868,
           0.12592945992946625
          ],
          [
           0.1793140023946762,
           0.014180369675159454,
           0.005609476938843727,
           -0.022008251398801804,
           -0.03328835591673851,
           -0.015208153054118156,
           0.029857465997338295,
           0.14396998286247253
          ],
          [
           0.14445550739765167,
           0.013429483398795128,
           -0.047166384756565094,
           0,
           0,
           -0.0016917027533054352,
           0.0173637792468071,
           0.05873265862464905
          ],
          [
           0.13818342983722687,
           0.005621775519102812,
           -0.11160103976726532,
           0,
           0,
           -0.04864722117781639,
           0.006973216310143471,
           0.11141791939735413
          ],
          [
           0.15147583186626434,
           0.05972866714000702,
           -0.020996540784835815,
           -0.03389385715126991,
           -0.12361038476228714,
           -0.031672850251197815,
           0.04928562790155411,
           0.17590323090553284
          ],
          [
           0.1505628377199173,
           0.09055367112159729,
           0.0844036415219307,
           -0.0032756952568888664,
           0.062212441116571426,
           0.06648969650268555,
           0.09491121768951416,
           0.19232779741287231
          ],
          [
           0.19518285989761353,
           0.1964128613471985,
           0.12323218584060669,
           0.16954761743545532,
           0.12656626105308533,
           0.12363479286432266,
           0.17721876502037048,
           0.16383379697799683
          ]
         ]
        },
        {
         "coloraxis": "coloraxis",
         "hovertemplate": "x: %{x}<br>y: %{y}<br>color: %{z}<extra></extra>",
         "name": "7",
         "type": "heatmap",
         "xaxis": "x8",
         "y": [
          "A",
          "B",
          "C",
          "D",
          "E",
          "F",
          "G",
          "H"
         ],
         "yaxis": "y8",
         "z": [
          [
           0.1523568034172058,
           0.13306757807731628,
           0.11257916688919067,
           0.1880260854959488,
           0.1972830444574356,
           0.11775463074445724,
           0.15577460825443268,
           0.16821199655532837
          ],
          [
           0.12947669625282288,
           0.07977521419525146,
           0.062292180955410004,
           0.06423291563987732,
           0.08155399560928345,
           0.16276472806930542,
           0.13442271947860718,
           0.13760297000408173
          ],
          [
           0.1461104154586792,
           0.06853863596916199,
           -0.015532121993601322,
           -0.055048659443855286,
           0.03935876488685608,
           0.04139010235667229,
           0.0874432772397995,
           0.1300535500049591
          ],
          [
           0.10116815567016602,
           0.014497743919491768,
           -0.04849402979016304,
           0,
           0,
           0.010192284360527992,
           -0.01273280382156372,
           0.1374327391386032
          ],
          [
           0.1084485873579979,
           0.0836796686053276,
           -0.04323044419288635,
           0,
           0,
           0.009777620434761047,
           0.05059671774506569,
           0.09164081513881683
          ],
          [
           0.12750962376594543,
           0.11077696084976196,
           0.009412703104317188,
           -0.00330284982919693,
           -0.05626998096704483,
           0.0017338227480649948,
           0.03352567180991173,
           0.13149765133857727
          ],
          [
           0.07558077573776245,
           0.11231525242328644,
           0.07883346080780029,
           0.04757590591907501,
           -0.010859604924917221,
           0.05193664878606796,
           0.05044207721948624,
           0.16548682749271393
          ],
          [
           0.1800137311220169,
           0.17034360766410828,
           0.11535091698169708,
           0.06885242462158203,
           0.1052008718252182,
           0.1422056406736374,
           0.12234386801719666,
           0.14342474937438965
          ]
         ]
        },
        {
         "coloraxis": "coloraxis",
         "hovertemplate": "x: %{x}<br>y: %{y}<br>color: %{z}<extra></extra>",
         "name": "8",
         "type": "heatmap",
         "xaxis": "x9",
         "y": [
          "A",
          "B",
          "C",
          "D",
          "E",
          "F",
          "G",
          "H"
         ],
         "yaxis": "y9",
         "z": [
          [
           0.13850118219852448,
           0.13454878330230713,
           0.11475594341754913,
           0.1959812343120575,
           0.20309725403785706,
           0.09857825934886932,
           0.1614328920841217,
           0.16763034462928772
          ],
          [
           0.1617160439491272,
           0.06266710162162781,
           0.029142726212739944,
           0.03802620247006416,
           0.10828939080238342,
           0.1199013963341713,
           0.10674339532852173,
           0.15959712862968445
          ],
          [
           0.14406061172485352,
           0.07330702990293503,
           0.0043789539486169815,
           -0.049375392496585846,
           0.04972144216299057,
           0.020222146064043045,
           0.08261589705944061,
           0.12324652075767517
          ],
          [
           0.09698449075222015,
           0.053114067763090134,
           -0.035536207258701324,
           0,
           0,
           0.005748315714299679,
           -0.02961866185069084,
           0.12640054523944855
          ],
          [
           0.1451476514339447,
           0.07422610372304916,
           -0.07725575566291809,
           0,
           0,
           -0.0026318468153476715,
           0.01684238389134407,
           0.11745033413171768
          ],
          [
           0.1509762406349182,
           0.08129332214593887,
           0.03384675458073616,
           0.012282053008675575,
           -0.06484145671129227,
           0.0037693269550800323,
           0.08397023379802704,
           0.139431431889534
          ],
          [
           0.07415729761123657,
           0.10806404054164886,
           0.07634860277175903,
           0.055347736924886703,
           0.02741476148366928,
           0.084220752120018,
           0.06809470057487488,
           0.12386155128479004
          ],
          [
           0.1912137120962143,
           0.21107739210128784,
           0.12762844562530518,
           0.08431212604045868,
           0.1276611089706421,
           0.13510921597480774,
           0.11400449275970459,
           0.1223127692937851
          ]
         ]
        },
        {
         "coloraxis": "coloraxis",
         "hovertemplate": "x: %{x}<br>y: %{y}<br>color: %{z}<extra></extra>",
         "name": "9",
         "type": "heatmap",
         "xaxis": "x10",
         "y": [
          "A",
          "B",
          "C",
          "D",
          "E",
          "F",
          "G",
          "H"
         ],
         "yaxis": "y10",
         "z": [
          [
           0.16939622163772583,
           0.13856978714466095,
           0.13035687804222107,
           0.1256459802389145,
           0.09372490644454956,
           0.12417890131473541,
           0.11155317723751068,
           0.15189963579177856
          ],
          [
           0.11829489469528198,
           0.061973147094249725,
           0.04787164553999901,
           0.0525231659412384,
           0.056438155472278595,
           0.03942288085818291,
           0.09289531409740448,
           0.13460978865623474
          ],
          [
           0.12417206913232803,
           0.040017757564783096,
           -0.01655721664428711,
           -0.028184235095977783,
           0.015761449933052063,
           -0.020233934745192528,
           0.017343485727906227,
           0.10665358603000641
          ],
          [
           0.10931225121021271,
           0.05326532945036888,
           -0.03204631060361862,
           0,
           0,
           0.006338668987154961,
           0.0630563274025917,
           0.10937665402889252
          ],
          [
           0.12612545490264893,
           0.053504638373851776,
           -0.03647630289196968,
           0,
           0,
           -0.043043866753578186,
           0.041728079319000244,
           0.10434601455926895
          ],
          [
           0.11621451377868652,
           0.024674348533153534,
           0.02624078467488289,
           0.024769257754087448,
           0.019877096638083458,
           0.001620638184249401,
           0.011078054085373878,
           0.12716510891914368
          ],
          [
           0.11526411771774292,
           0.0686110332608223,
           0.08540038019418716,
           0.025903645902872086,
           0.05929407849907875,
           0.06695704162120819,
           0.07096867263317108,
           0.1348748803138733
          ],
          [
           0.17668873071670532,
           0.1739649921655655,
           0.1117662638425827,
           0.10951297730207443,
           0.10877429693937302,
           0.15807515382766724,
           0.13552221655845642,
           0.14506778120994568
          ]
         ]
        }
       ],
       "layout": {
        "annotations": [
         {
          "font": {},
          "showarrow": false,
          "text": "L1N571",
          "x": 0.04100000000000001,
          "xanchor": "center",
          "xref": "paper",
          "y": 1,
          "yanchor": "bottom",
          "yref": "paper"
         },
         {
          "font": {},
          "showarrow": false,
          "text": "L1N632",
          "x": 0.14300000000000004,
          "xanchor": "center",
          "xref": "paper",
          "y": 1,
          "yanchor": "bottom",
          "yref": "paper"
         },
         {
          "font": {},
          "showarrow": false,
          "text": "L1N1248",
          "x": 0.24500000000000005,
          "xanchor": "center",
          "xref": "paper",
          "y": 1,
          "yanchor": "bottom",
          "yref": "paper"
         },
         {
          "font": {},
          "showarrow": false,
          "text": "L1N1067",
          "x": 0.3470000000000001,
          "xanchor": "center",
          "xref": "paper",
          "y": 1,
          "yanchor": "bottom",
          "yref": "paper"
         },
         {
          "font": {},
          "showarrow": false,
          "text": "L1N1337",
          "x": 0.44900000000000007,
          "xanchor": "center",
          "xref": "paper",
          "y": 1,
          "yanchor": "bottom",
          "yref": "paper"
         },
         {
          "font": {},
          "showarrow": false,
          "text": "L1N958",
          "x": 0.5510000000000002,
          "xanchor": "center",
          "xref": "paper",
          "y": 1,
          "yanchor": "bottom",
          "yref": "paper"
         },
         {
          "font": {},
          "showarrow": false,
          "text": "L1N1588",
          "x": 0.6530000000000001,
          "xanchor": "center",
          "xref": "paper",
          "y": 1,
          "yanchor": "bottom",
          "yref": "paper"
         },
         {
          "font": {},
          "showarrow": false,
          "text": "L1N451",
          "x": 0.7550000000000001,
          "xanchor": "center",
          "xref": "paper",
          "y": 1,
          "yanchor": "bottom",
          "yref": "paper"
         },
         {
          "font": {},
          "showarrow": false,
          "text": "L1N1771",
          "x": 0.8570000000000002,
          "xanchor": "center",
          "xref": "paper",
          "y": 1,
          "yanchor": "bottom",
          "yref": "paper"
         },
         {
          "font": {},
          "showarrow": false,
          "text": "L1N383",
          "x": 0.9590000000000002,
          "xanchor": "center",
          "xref": "paper",
          "y": 1,
          "yanchor": "bottom",
          "yref": "paper"
         }
        ],
        "coloraxis": {
         "cmax": 0.5,
         "cmid": 0,
         "cmin": -0.5,
         "colorscale": [
          [
           0,
           "rgb(103,0,31)"
          ],
          [
           0.1,
           "rgb(178,24,43)"
          ],
          [
           0.2,
           "rgb(214,96,77)"
          ],
          [
           0.3,
           "rgb(244,165,130)"
          ],
          [
           0.4,
           "rgb(253,219,199)"
          ],
          [
           0.5,
           "rgb(247,247,247)"
          ],
          [
           0.6,
           "rgb(209,229,240)"
          ],
          [
           0.7,
           "rgb(146,197,222)"
          ],
          [
           0.8,
           "rgb(67,147,195)"
          ],
          [
           0.9,
           "rgb(33,102,172)"
          ],
          [
           1,
           "rgb(5,48,97)"
          ]
         ]
        },
        "template": {
         "data": {
          "bar": [
           {
            "error_x": {
             "color": "#2a3f5f"
            },
            "error_y": {
             "color": "#2a3f5f"
            },
            "marker": {
             "line": {
              "color": "#E5ECF6",
              "width": 0.5
             },
             "pattern": {
              "fillmode": "overlay",
              "size": 10,
              "solidity": 0.2
             }
            },
            "type": "bar"
           }
          ],
          "barpolar": [
           {
            "marker": {
             "line": {
              "color": "#E5ECF6",
              "width": 0.5
             },
             "pattern": {
              "fillmode": "overlay",
              "size": 10,
              "solidity": 0.2
             }
            },
            "type": "barpolar"
           }
          ],
          "carpet": [
           {
            "aaxis": {
             "endlinecolor": "#2a3f5f",
             "gridcolor": "white",
             "linecolor": "white",
             "minorgridcolor": "white",
             "startlinecolor": "#2a3f5f"
            },
            "baxis": {
             "endlinecolor": "#2a3f5f",
             "gridcolor": "white",
             "linecolor": "white",
             "minorgridcolor": "white",
             "startlinecolor": "#2a3f5f"
            },
            "type": "carpet"
           }
          ],
          "choropleth": [
           {
            "colorbar": {
             "outlinewidth": 0,
             "ticks": ""
            },
            "type": "choropleth"
           }
          ],
          "contour": [
           {
            "colorbar": {
             "outlinewidth": 0,
             "ticks": ""
            },
            "colorscale": [
             [
              0,
              "#0d0887"
             ],
             [
              0.1111111111111111,
              "#46039f"
             ],
             [
              0.2222222222222222,
              "#7201a8"
             ],
             [
              0.3333333333333333,
              "#9c179e"
             ],
             [
              0.4444444444444444,
              "#bd3786"
             ],
             [
              0.5555555555555556,
              "#d8576b"
             ],
             [
              0.6666666666666666,
              "#ed7953"
             ],
             [
              0.7777777777777778,
              "#fb9f3a"
             ],
             [
              0.8888888888888888,
              "#fdca26"
             ],
             [
              1,
              "#f0f921"
             ]
            ],
            "type": "contour"
           }
          ],
          "contourcarpet": [
           {
            "colorbar": {
             "outlinewidth": 0,
             "ticks": ""
            },
            "type": "contourcarpet"
           }
          ],
          "heatmap": [
           {
            "colorbar": {
             "outlinewidth": 0,
             "ticks": ""
            },
            "colorscale": [
             [
              0,
              "#0d0887"
             ],
             [
              0.1111111111111111,
              "#46039f"
             ],
             [
              0.2222222222222222,
              "#7201a8"
             ],
             [
              0.3333333333333333,
              "#9c179e"
             ],
             [
              0.4444444444444444,
              "#bd3786"
             ],
             [
              0.5555555555555556,
              "#d8576b"
             ],
             [
              0.6666666666666666,
              "#ed7953"
             ],
             [
              0.7777777777777778,
              "#fb9f3a"
             ],
             [
              0.8888888888888888,
              "#fdca26"
             ],
             [
              1,
              "#f0f921"
             ]
            ],
            "type": "heatmap"
           }
          ],
          "heatmapgl": [
           {
            "colorbar": {
             "outlinewidth": 0,
             "ticks": ""
            },
            "colorscale": [
             [
              0,
              "#0d0887"
             ],
             [
              0.1111111111111111,
              "#46039f"
             ],
             [
              0.2222222222222222,
              "#7201a8"
             ],
             [
              0.3333333333333333,
              "#9c179e"
             ],
             [
              0.4444444444444444,
              "#bd3786"
             ],
             [
              0.5555555555555556,
              "#d8576b"
             ],
             [
              0.6666666666666666,
              "#ed7953"
             ],
             [
              0.7777777777777778,
              "#fb9f3a"
             ],
             [
              0.8888888888888888,
              "#fdca26"
             ],
             [
              1,
              "#f0f921"
             ]
            ],
            "type": "heatmapgl"
           }
          ],
          "histogram": [
           {
            "marker": {
             "pattern": {
              "fillmode": "overlay",
              "size": 10,
              "solidity": 0.2
             }
            },
            "type": "histogram"
           }
          ],
          "histogram2d": [
           {
            "colorbar": {
             "outlinewidth": 0,
             "ticks": ""
            },
            "colorscale": [
             [
              0,
              "#0d0887"
             ],
             [
              0.1111111111111111,
              "#46039f"
             ],
             [
              0.2222222222222222,
              "#7201a8"
             ],
             [
              0.3333333333333333,
              "#9c179e"
             ],
             [
              0.4444444444444444,
              "#bd3786"
             ],
             [
              0.5555555555555556,
              "#d8576b"
             ],
             [
              0.6666666666666666,
              "#ed7953"
             ],
             [
              0.7777777777777778,
              "#fb9f3a"
             ],
             [
              0.8888888888888888,
              "#fdca26"
             ],
             [
              1,
              "#f0f921"
             ]
            ],
            "type": "histogram2d"
           }
          ],
          "histogram2dcontour": [
           {
            "colorbar": {
             "outlinewidth": 0,
             "ticks": ""
            },
            "colorscale": [
             [
              0,
              "#0d0887"
             ],
             [
              0.1111111111111111,
              "#46039f"
             ],
             [
              0.2222222222222222,
              "#7201a8"
             ],
             [
              0.3333333333333333,
              "#9c179e"
             ],
             [
              0.4444444444444444,
              "#bd3786"
             ],
             [
              0.5555555555555556,
              "#d8576b"
             ],
             [
              0.6666666666666666,
              "#ed7953"
             ],
             [
              0.7777777777777778,
              "#fb9f3a"
             ],
             [
              0.8888888888888888,
              "#fdca26"
             ],
             [
              1,
              "#f0f921"
             ]
            ],
            "type": "histogram2dcontour"
           }
          ],
          "mesh3d": [
           {
            "colorbar": {
             "outlinewidth": 0,
             "ticks": ""
            },
            "type": "mesh3d"
           }
          ],
          "parcoords": [
           {
            "line": {
             "colorbar": {
              "outlinewidth": 0,
              "ticks": ""
             }
            },
            "type": "parcoords"
           }
          ],
          "pie": [
           {
            "automargin": true,
            "type": "pie"
           }
          ],
          "scatter": [
           {
            "fillpattern": {
             "fillmode": "overlay",
             "size": 10,
             "solidity": 0.2
            },
            "type": "scatter"
           }
          ],
          "scatter3d": [
           {
            "line": {
             "colorbar": {
              "outlinewidth": 0,
              "ticks": ""
             }
            },
            "marker": {
             "colorbar": {
              "outlinewidth": 0,
              "ticks": ""
             }
            },
            "type": "scatter3d"
           }
          ],
          "scattercarpet": [
           {
            "marker": {
             "colorbar": {
              "outlinewidth": 0,
              "ticks": ""
             }
            },
            "type": "scattercarpet"
           }
          ],
          "scattergeo": [
           {
            "marker": {
             "colorbar": {
              "outlinewidth": 0,
              "ticks": ""
             }
            },
            "type": "scattergeo"
           }
          ],
          "scattergl": [
           {
            "marker": {
             "colorbar": {
              "outlinewidth": 0,
              "ticks": ""
             }
            },
            "type": "scattergl"
           }
          ],
          "scattermapbox": [
           {
            "marker": {
             "colorbar": {
              "outlinewidth": 0,
              "ticks": ""
             }
            },
            "type": "scattermapbox"
           }
          ],
          "scatterpolar": [
           {
            "marker": {
             "colorbar": {
              "outlinewidth": 0,
              "ticks": ""
             }
            },
            "type": "scatterpolar"
           }
          ],
          "scatterpolargl": [
           {
            "marker": {
             "colorbar": {
              "outlinewidth": 0,
              "ticks": ""
             }
            },
            "type": "scatterpolargl"
           }
          ],
          "scatterternary": [
           {
            "marker": {
             "colorbar": {
              "outlinewidth": 0,
              "ticks": ""
             }
            },
            "type": "scatterternary"
           }
          ],
          "surface": [
           {
            "colorbar": {
             "outlinewidth": 0,
             "ticks": ""
            },
            "colorscale": [
             [
              0,
              "#0d0887"
             ],
             [
              0.1111111111111111,
              "#46039f"
             ],
             [
              0.2222222222222222,
              "#7201a8"
             ],
             [
              0.3333333333333333,
              "#9c179e"
             ],
             [
              0.4444444444444444,
              "#bd3786"
             ],
             [
              0.5555555555555556,
              "#d8576b"
             ],
             [
              0.6666666666666666,
              "#ed7953"
             ],
             [
              0.7777777777777778,
              "#fb9f3a"
             ],
             [
              0.8888888888888888,
              "#fdca26"
             ],
             [
              1,
              "#f0f921"
             ]
            ],
            "type": "surface"
           }
          ],
          "table": [
           {
            "cells": {
             "fill": {
              "color": "#EBF0F8"
             },
             "line": {
              "color": "white"
             }
            },
            "header": {
             "fill": {
              "color": "#C8D4E3"
             },
             "line": {
              "color": "white"
             }
            },
            "type": "table"
           }
          ]
         },
         "layout": {
          "annotationdefaults": {
           "arrowcolor": "#2a3f5f",
           "arrowhead": 0,
           "arrowwidth": 1
          },
          "autotypenumbers": "strict",
          "coloraxis": {
           "colorbar": {
            "outlinewidth": 0,
            "ticks": ""
           }
          },
          "colorscale": {
           "diverging": [
            [
             0,
             "#8e0152"
            ],
            [
             0.1,
             "#c51b7d"
            ],
            [
             0.2,
             "#de77ae"
            ],
            [
             0.3,
             "#f1b6da"
            ],
            [
             0.4,
             "#fde0ef"
            ],
            [
             0.5,
             "#f7f7f7"
            ],
            [
             0.6,
             "#e6f5d0"
            ],
            [
             0.7,
             "#b8e186"
            ],
            [
             0.8,
             "#7fbc41"
            ],
            [
             0.9,
             "#4d9221"
            ],
            [
             1,
             "#276419"
            ]
           ],
           "sequential": [
            [
             0,
             "#0d0887"
            ],
            [
             0.1111111111111111,
             "#46039f"
            ],
            [
             0.2222222222222222,
             "#7201a8"
            ],
            [
             0.3333333333333333,
             "#9c179e"
            ],
            [
             0.4444444444444444,
             "#bd3786"
            ],
            [
             0.5555555555555556,
             "#d8576b"
            ],
            [
             0.6666666666666666,
             "#ed7953"
            ],
            [
             0.7777777777777778,
             "#fb9f3a"
            ],
            [
             0.8888888888888888,
             "#fdca26"
            ],
            [
             1,
             "#f0f921"
            ]
           ],
           "sequentialminus": [
            [
             0,
             "#0d0887"
            ],
            [
             0.1111111111111111,
             "#46039f"
            ],
            [
             0.2222222222222222,
             "#7201a8"
            ],
            [
             0.3333333333333333,
             "#9c179e"
            ],
            [
             0.4444444444444444,
             "#bd3786"
            ],
            [
             0.5555555555555556,
             "#d8576b"
            ],
            [
             0.6666666666666666,
             "#ed7953"
            ],
            [
             0.7777777777777778,
             "#fb9f3a"
            ],
            [
             0.8888888888888888,
             "#fdca26"
            ],
            [
             1,
             "#f0f921"
            ]
           ]
          },
          "colorway": [
           "#636efa",
           "#EF553B",
           "#00cc96",
           "#ab63fa",
           "#FFA15A",
           "#19d3f3",
           "#FF6692",
           "#B6E880",
           "#FF97FF",
           "#FECB52"
          ],
          "font": {
           "color": "#2a3f5f"
          },
          "geo": {
           "bgcolor": "white",
           "lakecolor": "white",
           "landcolor": "#E5ECF6",
           "showlakes": true,
           "showland": true,
           "subunitcolor": "white"
          },
          "hoverlabel": {
           "align": "left"
          },
          "hovermode": "closest",
          "mapbox": {
           "style": "light"
          },
          "paper_bgcolor": "white",
          "plot_bgcolor": "#E5ECF6",
          "polar": {
           "angularaxis": {
            "gridcolor": "white",
            "linecolor": "white",
            "ticks": ""
           },
           "bgcolor": "#E5ECF6",
           "radialaxis": {
            "gridcolor": "white",
            "linecolor": "white",
            "ticks": ""
           }
          },
          "scene": {
           "xaxis": {
            "backgroundcolor": "#E5ECF6",
            "gridcolor": "white",
            "gridwidth": 2,
            "linecolor": "white",
            "showbackground": true,
            "ticks": "",
            "zerolinecolor": "white"
           },
           "yaxis": {
            "backgroundcolor": "#E5ECF6",
            "gridcolor": "white",
            "gridwidth": 2,
            "linecolor": "white",
            "showbackground": true,
            "ticks": "",
            "zerolinecolor": "white"
           },
           "zaxis": {
            "backgroundcolor": "#E5ECF6",
            "gridcolor": "white",
            "gridwidth": 2,
            "linecolor": "white",
            "showbackground": true,
            "ticks": "",
            "zerolinecolor": "white"
           }
          },
          "shapedefaults": {
           "line": {
            "color": "#2a3f5f"
           }
          },
          "ternary": {
           "aaxis": {
            "gridcolor": "white",
            "linecolor": "white",
            "ticks": ""
           },
           "baxis": {
            "gridcolor": "white",
            "linecolor": "white",
            "ticks": ""
           },
           "bgcolor": "#E5ECF6",
           "caxis": {
            "gridcolor": "white",
            "linecolor": "white",
            "ticks": ""
           }
          },
          "title": {
           "x": 0.05
          },
          "xaxis": {
           "automargin": true,
           "gridcolor": "white",
           "linecolor": "white",
           "ticks": "",
           "title": {
            "standoff": 15
           },
           "zerolinecolor": "white",
           "zerolinewidth": 2
          },
          "yaxis": {
           "automargin": true,
           "gridcolor": "white",
           "linecolor": "white",
           "ticks": "",
           "title": {
            "standoff": 15
           },
           "zerolinecolor": "white",
           "zerolinewidth": 2
          }
         }
        },
        "title": {
         "text": "Cosine sim of Input weights and the my color probe for top layer 1 neurons"
        },
        "xaxis": {
         "anchor": "y",
         "domain": [
          0,
          0.08200000000000002
         ],
         "title": {
          "text": "x"
         }
        },
        "xaxis10": {
         "anchor": "y10",
         "domain": [
          0.9180000000000001,
          1
         ],
         "matches": "x",
         "title": {
          "text": "x"
         }
        },
        "xaxis2": {
         "anchor": "y2",
         "domain": [
          0.10200000000000002,
          0.18400000000000005
         ],
         "matches": "x",
         "title": {
          "text": "x"
         }
        },
        "xaxis3": {
         "anchor": "y3",
         "domain": [
          0.20400000000000004,
          0.28600000000000003
         ],
         "matches": "x",
         "title": {
          "text": "x"
         }
        },
        "xaxis4": {
         "anchor": "y4",
         "domain": [
          0.30600000000000005,
          0.38800000000000007
         ],
         "matches": "x",
         "title": {
          "text": "x"
         }
        },
        "xaxis5": {
         "anchor": "y5",
         "domain": [
          0.4080000000000001,
          0.4900000000000001
         ],
         "matches": "x",
         "title": {
          "text": "x"
         }
        },
        "xaxis6": {
         "anchor": "y6",
         "domain": [
          0.5100000000000001,
          0.5920000000000001
         ],
         "matches": "x",
         "title": {
          "text": "x"
         }
        },
        "xaxis7": {
         "anchor": "y7",
         "domain": [
          0.6120000000000001,
          0.6940000000000002
         ],
         "matches": "x",
         "title": {
          "text": "x"
         }
        },
        "xaxis8": {
         "anchor": "y8",
         "domain": [
          0.7140000000000001,
          0.796
         ],
         "matches": "x",
         "title": {
          "text": "x"
         }
        },
        "xaxis9": {
         "anchor": "y9",
         "domain": [
          0.8160000000000002,
          0.8980000000000001
         ],
         "matches": "x",
         "title": {
          "text": "x"
         }
        },
        "yaxis": {
         "anchor": "x",
         "autorange": "reversed",
         "domain": [
          0,
          1
         ],
         "title": {
          "text": "y"
         }
        },
        "yaxis10": {
         "anchor": "x10",
         "domain": [
          0,
          1
         ],
         "matches": "y",
         "showticklabels": false
        },
        "yaxis2": {
         "anchor": "x2",
         "domain": [
          0,
          1
         ],
         "matches": "y",
         "showticklabels": false
        },
        "yaxis3": {
         "anchor": "x3",
         "domain": [
          0,
          1
         ],
         "matches": "y",
         "showticklabels": false
        },
        "yaxis4": {
         "anchor": "x4",
         "domain": [
          0,
          1
         ],
         "matches": "y",
         "showticklabels": false
        },
        "yaxis5": {
         "anchor": "x5",
         "domain": [
          0,
          1
         ],
         "matches": "y",
         "showticklabels": false
        },
        "yaxis6": {
         "anchor": "x6",
         "domain": [
          0,
          1
         ],
         "matches": "y",
         "showticklabels": false
        },
        "yaxis7": {
         "anchor": "x7",
         "domain": [
          0,
          1
         ],
         "matches": "y",
         "showticklabels": false
        },
        "yaxis8": {
         "anchor": "x8",
         "domain": [
          0,
          1
         ],
         "matches": "y",
         "showticklabels": false
        },
        "yaxis9": {
         "anchor": "x9",
         "domain": [
          0,
          1
         ],
         "matches": "y",
         "showticklabels": false
        }
       }
      }
     },
     "metadata": {},
     "output_type": "display_data"
    },
    {
     "data": {
      "application/vnd.plotly.v1+json": {
       "config": {
        "plotlyServerURL": "https://plot.ly"
       },
       "data": [
        {
         "coloraxis": "coloraxis",
         "hovertemplate": "x: %{x}<br>y: %{y}<br>color: %{z}<extra></extra>",
         "name": "0",
         "type": "heatmap",
         "xaxis": "x",
         "y": [
          "A",
          "B",
          "C",
          "D",
          "E",
          "F",
          "G",
          "H"
         ],
         "yaxis": "y",
         "z": [
          [
           0.03176600858569145,
           0.15000906586647034,
           0.16521179676055908,
           0.0969301164150238,
           0.05046232417225838,
           0.12598127126693726,
           0.0141964852809906,
           0.15421997010707855
          ],
          [
           0.09324087202548981,
           0.03103608638048172,
           0.0818425863981247,
           0.058919768780469894,
           0.08377104997634888,
           0.02166735753417015,
           0.09282117336988449,
           0.17783448100090027
          ],
          [
           0.134428471326828,
           0.034785039722919464,
           -0.0013343356549739838,
           -0.023548688739538193,
           -0.005785394459962845,
           0.060283809900283813,
           0.029836107045412064,
           0.10984623432159424
          ],
          [
           0.11978917568922043,
           0.03760245069861412,
           -0.0974292904138565,
           0,
           0,
           -0.11653392761945724,
           0.0187507476657629,
           0.10530069470405579
          ],
          [
           0.121048703789711,
           0.04109592363238335,
           -0.08509908616542816,
           0,
           0,
           -0.06628179550170898,
           -0.03675595670938492,
           0.17384789884090424
          ],
          [
           0.14053875207901,
           0.0799286961555481,
           -0.02636096253991127,
           -0.0887456014752388,
           -0.11263913661241531,
           -0.06063034385442734,
           0.0545622855424881,
           0.1357789784669876
          ],
          [
           0.11689713597297668,
           0.10890945047140121,
           0.044334061443805695,
           0.005058817565441132,
           -0.012287916615605354,
           0.04506715014576912,
           0.07649783045053482,
           0.12873952090740204
          ],
          [
           0.07959001511335373,
           0.11585436761379242,
           0.29063481092453003,
           0.10835571587085724,
           0.11954568326473236,
           0.041815564036369324,
           0.12101750075817108,
           0.038296569138765335
          ]
         ]
        },
        {
         "coloraxis": "coloraxis",
         "hovertemplate": "x: %{x}<br>y: %{y}<br>color: %{z}<extra></extra>",
         "name": "1",
         "type": "heatmap",
         "xaxis": "x2",
         "y": [
          "A",
          "B",
          "C",
          "D",
          "E",
          "F",
          "G",
          "H"
         ],
         "yaxis": "y2",
         "z": [
          [
           0.01779218390583992,
           0.12465541064739227,
           0.14176464080810547,
           0.08240848034620285,
           0.045752350240945816,
           0.10142700374126434,
           -0.00370967760682106,
           0.1466386318206787
          ],
          [
           0.09680618345737457,
           0.025494351983070374,
           0.04389842599630356,
           0.05437321960926056,
           0.07268019020557404,
           0.023819560185074806,
           0.08515121787786484,
           0.1742350459098816
          ],
          [
           0.12015287578105927,
           0.06782809644937515,
           -0.0317380353808403,
           -0.005881737917661667,
           -0.03335491195321083,
           0.036391712725162506,
           0.038538090884685516,
           0.11616692692041397
          ],
          [
           0.10973913967609406,
           0.044472239911556244,
           -0.07910636067390442,
           0,
           0,
           -0.11150768399238586,
           0.034557096660137177,
           0.10005804151296616
          ],
          [
           0.11371895670890808,
           0.046511098742485046,
           -0.077980175614357,
           0,
           0,
           -0.08020500838756561,
           -0.04735048860311508,
           0.1478593796491623
          ],
          [
           0.15541845560073853,
           0.07680239528417587,
           -0.006080607883632183,
           -0.04448474571108818,
           -0.11006294935941696,
           -0.07655218988656998,
           0.03289191052317619,
           0.1124277114868164
          ],
          [
           0.13036778569221497,
           0.13348206877708435,
           0.0662962943315506,
           0.020043231546878815,
           -0.026823364198207855,
           0.05060940980911255,
           0.05845097824931145,
           0.12987066805362701
          ],
          [
           0.08900678157806396,
           0.13484743237495422,
           0.29811492562294006,
           0.12040428817272186,
           0.10853759944438934,
           0.039025239646434784,
           0.09870085120201111,
           0.05372489243745804
          ]
         ]
        },
        {
         "coloraxis": "coloraxis",
         "hovertemplate": "x: %{x}<br>y: %{y}<br>color: %{z}<extra></extra>",
         "name": "2",
         "type": "heatmap",
         "xaxis": "x3",
         "y": [
          "A",
          "B",
          "C",
          "D",
          "E",
          "F",
          "G",
          "H"
         ],
         "yaxis": "y3",
         "z": [
          [
           0.014531455934047699,
           0.10737785696983337,
           0.10504653304815292,
           0.08804051578044891,
           0.03646784648299217,
           0.07506945729255676,
           -0.002837532199919224,
           0.11897142231464386
          ],
          [
           0.0874268040060997,
           0.009369603358209133,
           0.05231868103146553,
           0.03975797817111015,
           0.07538533955812454,
           0.012788068503141403,
           0.08007055521011353,
           0.14394937455654144
          ],
          [
           0.0933384895324707,
           0.02839280478656292,
           -0.03072688914835453,
           0.009796522557735443,
           -0.03298177197575569,
           0.019766079261898994,
           -0.008505894802510738,
           0.10016380250453949
          ],
          [
           0.08252511918544769,
           -0.007697705179452896,
           -0.09604831039905548,
           0,
           0,
           -0.10650727152824402,
           0.046858981251716614,
           0.1045897901058197
          ],
          [
           0.07196908444166183,
           0.01378884818404913,
           -0.10344011336565018,
           0,
           0,
           -0.028082888573408127,
           -0.02818906120955944,
           0.1479819118976593
          ],
          [
           0.0766378790140152,
           0.05494371056556702,
           0.0006629275158047676,
           -0.04672267287969589,
           -0.10110495239496231,
           -0.05402402952313423,
           0.05294698104262352,
           0.10959577560424805
          ],
          [
           0.06372310221195221,
           0.06218990311026573,
           0.05087647959589958,
           0.014562591910362244,
           -0.039346128702163696,
           0.04387972131371498,
           0.04510248824954033,
           0.12760159373283386
          ],
          [
           0.04705438390374184,
           0.08815273642539978,
           0.2081630676984787,
           0.11141301691532135,
           0.08274900913238525,
           0.024562736973166466,
           0.0855388268828392,
           0.04809083044528961
          ]
         ]
        },
        {
         "coloraxis": "coloraxis",
         "hovertemplate": "x: %{x}<br>y: %{y}<br>color: %{z}<extra></extra>",
         "name": "3",
         "type": "heatmap",
         "xaxis": "x4",
         "y": [
          "A",
          "B",
          "C",
          "D",
          "E",
          "F",
          "G",
          "H"
         ],
         "yaxis": "y4",
         "z": [
          [
           0.01543189212679863,
           0.11017954349517822,
           0.11515254527330399,
           0.07291864603757858,
           0.02773723006248474,
           0.10264549404382706,
           0.00013877823948860168,
           0.1254439502954483
          ],
          [
           0.09102708101272583,
           0.02867763675749302,
           0.058343056589365005,
           0.0376959852874279,
           0.0739361122250557,
           0.009799101389944553,
           0.0879749208688736,
           0.13526731729507446
          ],
          [
           0.10091463476419449,
           0.06958571821451187,
           -0.02077391743659973,
           -0.016737403348088264,
           -0.023654457181692123,
           0.03961888328194618,
           0.030020447447896004,
           0.08684691786766052
          ],
          [
           0.10186303406953812,
           0.024763941764831543,
           -0.0905376523733139,
           0,
           0,
           -0.10341934114694595,
           0.004663746803998947,
           0.07935932278633118
          ],
          [
           0.0858793780207634,
           0.05989333242177963,
           -0.06828796863555908,
           0,
           0,
           -0.050657451152801514,
           -0.05166919529438019,
           0.1325652003288269
          ],
          [
           0.12590152025222778,
           0.08535365760326385,
           -0.008391059935092926,
           -0.036101482808589935,
           -0.09186442941427231,
           -0.04370405152440071,
           0.04380306601524353,
           0.08926506340503693
          ],
          [
           0.09136436134576797,
           0.08976209163665771,
           0.0460558757185936,
           -0.00022903457283973694,
           -0.05117316171526909,
           0.03545945882797241,
           0.036679066717624664,
           0.10360237956047058
          ],
          [
           0.059119924902915955,
           0.10909269750118256,
           0.2452021837234497,
           0.09499973803758621,
           0.0779806599020958,
           0.020540565252304077,
           0.08495792001485825,
           0.04219302535057068
          ]
         ]
        },
        {
         "coloraxis": "coloraxis",
         "hovertemplate": "x: %{x}<br>y: %{y}<br>color: %{z}<extra></extra>",
         "name": "4",
         "type": "heatmap",
         "xaxis": "x5",
         "y": [
          "A",
          "B",
          "C",
          "D",
          "E",
          "F",
          "G",
          "H"
         ],
         "yaxis": "y5",
         "z": [
          [
           0.014709372073411942,
           0.0583566352725029,
           0.09649869799613953,
           0.03940947353839874,
           0.01784694194793701,
           0.0708671286702156,
           -0.004943141248077154,
           0.11105747520923615
          ],
          [
           0.058472953736782074,
           0.032931141555309296,
           0.03893943876028061,
           0.03351372107863426,
           0.0753328800201416,
           -0.00370999239385128,
           0.07845821976661682,
           0.1209426149725914
          ],
          [
           0.08793629705905914,
           0.030867135152220726,
           0.006120108067989349,
           -0.026777783408761024,
           0.0019157100468873978,
           0.028521284461021423,
           0.032667942345142365,
           0.07397861778736115
          ],
          [
           0.0686199963092804,
           0.05020566284656525,
           -0.06094977259635925,
           0,
           0,
           -0.08069375902414322,
           0.021916285157203674,
           0.07281546294689178
          ],
          [
           0.060998447239398956,
           -0.0046322280541062355,
           -0.03180308640003204,
           0,
           0,
           -0.08671899139881134,
           -0.04812142252922058,
           0.11359573900699615
          ],
          [
           0.10316143929958344,
           0.05624028295278549,
           -0.003999956883490086,
           -0.002315100282430649,
           -0.08252783864736557,
           -0.015214454382658005,
           0.004017986357212067,
           0.07788559794425964
          ],
          [
           0.06429356336593628,
           0.08448536694049835,
           0.06386637687683105,
           -0.005671922117471695,
           -0.010305941104888916,
           0.03710031509399414,
           0.04166237637400627,
           0.0719604641199112
          ],
          [
           0.07352550327777863,
           0.10360879451036453,
           0.19319918751716614,
           0.0794072076678276,
           0.06184810400009155,
           0.04857552424073219,
           0.08795353770256042,
           0.04605385288596153
          ]
         ]
        },
        {
         "coloraxis": "coloraxis",
         "hovertemplate": "x: %{x}<br>y: %{y}<br>color: %{z}<extra></extra>",
         "name": "5",
         "type": "heatmap",
         "xaxis": "x6",
         "y": [
          "A",
          "B",
          "C",
          "D",
          "E",
          "F",
          "G",
          "H"
         ],
         "yaxis": "y6",
         "z": [
          [
           0.036761876195669174,
           0.1065012738108635,
           0.0963561162352562,
           0.06217113137245178,
           0.03658275306224823,
           0.0990094542503357,
           0.010828014463186264,
           0.09792329370975494
          ],
          [
           0.07437816262245178,
           0.025239497423171997,
           0.020779378712177277,
           0.05834655836224556,
           0.053882092237472534,
           0.03072398155927658,
           0.0798821896314621,
           0.09738186001777649
          ],
          [
           0.08270599693059921,
           0.07588282227516174,
           -0.028193175792694092,
           0.006523009389638901,
           0.004641085863113403,
           0.025412149727344513,
           -0.004679515957832336,
           0.04940991848707199
          ],
          [
           0.06685367226600647,
           -0.02314784750342369,
           -0.08244555443525314,
           0,
           0,
           -0.11629174649715424,
           0.005956484004855156,
           0.052108194679021835
          ],
          [
           0.029187999665737152,
           0.03540762513875961,
           -0.05655694380402565,
           0,
           0,
           -0.03702360391616821,
           -0.05614931136369705,
           0.07037388533353806
          ],
          [
           0.10362286865711212,
           0.04220864921808243,
           0.00906737707555294,
           -0.04402054846286774,
           -0.05970868095755577,
           -0.03783401474356651,
           0.04245203733444214,
           0.07552925497293472
          ],
          [
           0.07337871193885803,
           0.10172528028488159,
           0.028058025985956192,
           0.028532959520816803,
           -0.011964960023760796,
           0.06203422695398331,
           0.02580873668193817,
           0.09545302391052246
          ],
          [
           0.076776422560215,
           0.09452630579471588,
           0.21136760711669922,
           0.05550231784582138,
           0.08660199493169785,
           0.02617945522069931,
           0.08483569324016571,
           0.04709133505821228
          ]
         ]
        },
        {
         "coloraxis": "coloraxis",
         "hovertemplate": "x: %{x}<br>y: %{y}<br>color: %{z}<extra></extra>",
         "name": "6",
         "type": "heatmap",
         "xaxis": "x7",
         "y": [
          "A",
          "B",
          "C",
          "D",
          "E",
          "F",
          "G",
          "H"
         ],
         "yaxis": "y7",
         "z": [
          [
           0.012779798358678818,
           0.11329576373100281,
           0.07401251047849655,
           -0.014640404842793941,
           0.03117389604449272,
           0.032892465591430664,
           0.03262210264801979,
           0.05085642635822296
          ],
          [
           0.054476648569107056,
           0.10094785690307617,
           0.12880559265613556,
           -0.019816085696220398,
           -0.01215498335659504,
           0.01786237396299839,
           0.05460800230503082,
           0.04123985394835472
          ],
          [
           0.055904850363731384,
           0.19845154881477356,
           0.03841562941670418,
           -0.0013157445937395096,
           0.002024827990680933,
           0.016168121248483658,
           0.02191833406686783,
           0.020729443058371544
          ],
          [
           0.10532697290182114,
           -0.049456290900707245,
           -0.013888660818338394,
           0,
           0,
           0.005505670793354511,
           0.0011933804489672184,
           0.012616665102541447
          ],
          [
           -0.05129438638687134,
           -0.015719644725322723,
           -0.00289289653301239,
           0,
           0,
           -0.022019587457180023,
           -0.009378168731927872,
           0.021589718759059906
          ],
          [
           -0.0015648864209651947,
           0.021580971777439117,
           -0.006395298987627029,
           0.008905153721570969,
           0.016611985862255096,
           -0.000674461480230093,
           -0.01333474088460207,
           0.008866827003657818
          ],
          [
           -0.006999695673584938,
           0.015261692926287651,
           -0.005422340705990791,
           -0.010233771055936813,
           -0.010323232971131802,
           -0.006869310513138771,
           -0.01169436052441597,
           0.032594941556453705
          ],
          [
           0.0001004459336400032,
           -0.007808085530996323,
           0.032674968242645264,
           0.023129016160964966,
           0.012715871445834637,
           -0.00013635307550430298,
           0.010764078237116337,
           0.04943843185901642
          ]
         ]
        },
        {
         "coloraxis": "coloraxis",
         "hovertemplate": "x: %{x}<br>y: %{y}<br>color: %{z}<extra></extra>",
         "name": "7",
         "type": "heatmap",
         "xaxis": "x8",
         "y": [
          "A",
          "B",
          "C",
          "D",
          "E",
          "F",
          "G",
          "H"
         ],
         "yaxis": "y8",
         "z": [
          [
           0.032416943460702896,
           0.04150942713022232,
           0.038789860904216766,
           -0.029657481238245964,
           -0.03270251676440239,
           0.021468251943588257,
           0.012114754877984524,
           0.00826229527592659
          ],
          [
           0.00844563264399767,
           0.007579287514090538,
           0.017936458811163902,
           0.015561392530798912,
           -0.05406743288040161,
           -0.03506449609994888,
           -0.033953163772821426,
           0.005456492304801941
          ],
          [
           0.007570596411824226,
           0.023420201614499092,
           0.017539355903863907,
           -0.00621384009718895,
           0.006243683397769928,
           -0.04354453831911087,
           -0.13087160885334015,
           -0.10142876207828522
          ],
          [
           -0.0036490634083747864,
           -0.017455145716667175,
           -0.0557112842798233,
           0,
           0,
           0.11131496727466583,
           -0.2382308542728424,
           -0.029799828305840492
          ],
          [
           0.003963306546211243,
           -0.017907820641994476,
           -0.0033220327459275723,
           0,
           0,
           -0.05363365635275841,
           0.033930301666259766,
           -0.059481311589479446
          ],
          [
           0.007441936060786247,
           0.006794556975364685,
           -0.026767145842313766,
           -0.020991282537579536,
           0.0174055527895689,
           0.02132856473326683,
           -0.04946734011173248,
           -0.004888659343123436
          ],
          [
           0.0018248967826366425,
           0.009332085959613323,
           -0.014060639776289463,
           -0.03296534717082977,
           0.03528035432100296,
           0.035707987844944,
           -0.038972869515419006,
           -0.0016745887696743011
          ],
          [
           -0.0022146813571453094,
           0.004730321932584047,
           0.01431747805327177,
           0.030852997675538063,
           0.017932744696736336,
           0.02783254161477089,
           0.015743274241685867,
           0.002766851568594575
          ]
         ]
        },
        {
         "coloraxis": "coloraxis",
         "hovertemplate": "x: %{x}<br>y: %{y}<br>color: %{z}<extra></extra>",
         "name": "8",
         "type": "heatmap",
         "xaxis": "x9",
         "y": [
          "A",
          "B",
          "C",
          "D",
          "E",
          "F",
          "G",
          "H"
         ],
         "yaxis": "y9",
         "z": [
          [
           -0.012420175597071648,
           0.10013832151889801,
           0.05500416085124016,
           0.027885954827070236,
           0.01849530264735222,
           0.0455712229013443,
           0.008731722831726074,
           0.020702548325061798
          ],
          [
           0.07605098932981491,
           -0.027910610660910606,
           0.12363164126873016,
           -0.00359896756708622,
           0.012052980251610279,
           -0.00468179676681757,
           0.02324621006846428,
           0.021921709179878235
          ],
          [
           0.07505388557910919,
           0.14025092124938965,
           -0.023754380643367767,
           -0.03183036670088768,
           -0.03455287218093872,
           0.00699994619935751,
           -0.002466438338160515,
           0.03375111520290375
          ],
          [
           0.13043048977851868,
           0.02780742384493351,
           0.020776404067873955,
           0,
           0,
           0.005318328272551298,
           -0.004814121872186661,
           0.009260881692171097
          ],
          [
           0.008616650477051735,
           -0.017714401707053185,
           -0.0311867818236351,
           0,
           0,
           -0.017456181347370148,
           -0.017658203840255737,
           0.0028324455488473177
          ],
          [
           0.0034840828739106655,
           0.031221158802509308,
           0.012930004857480526,
           -0.007893282920122147,
           0.01880432292819023,
           -0.017493337392807007,
           -0.010859893634915352,
           0.008123012259602547
          ],
          [
           -0.015839073807001114,
           -0.0004349043592810631,
           0.0013734926469624043,
           -0.02903078868985176,
           -0.002646826906129718,
           -0.004118071869015694,
           -0.013506555929780006,
           0.007260017096996307
          ],
          [
           0.014942139387130737,
           -0.01839309372007847,
           0.03847607597708702,
           0.0001406869851052761,
           0.02867060899734497,
           -0.018467795103788376,
           0.004990866407752037,
           0.01897611655294895
          ]
         ]
        },
        {
         "coloraxis": "coloraxis",
         "hovertemplate": "x: %{x}<br>y: %{y}<br>color: %{z}<extra></extra>",
         "name": "9",
         "type": "heatmap",
         "xaxis": "x10",
         "y": [
          "A",
          "B",
          "C",
          "D",
          "E",
          "F",
          "G",
          "H"
         ],
         "yaxis": "y10",
         "z": [
          [
           -0.0056224241852760315,
           0.03753701597452164,
           -0.024920327588915825,
           -0.000432492233812809,
           -0.03947559744119644,
           0.010473495349287987,
           -0.0007439404726028442,
           -0.005086274817585945
          ],
          [
           -0.010598725639283657,
           0.002540910616517067,
           0.002426578663289547,
           -0.037583012133836746,
           -0.012458529323339462,
           0.01591268740594387,
           -0.00999358855187893,
           -0.012017419561743736
          ],
          [
           0.023987431079149246,
           -0.04296598210930824,
           0.005804803222417831,
           0.01657549850642681,
           -0.032073404639959335,
           -0.006897908169776201,
           -0.014530647546052933,
           -0.04117394983768463
          ],
          [
           -0.0024002082645893097,
           -0.01956716924905777,
           -0.04675291106104851,
           0,
           0,
           -0.06114903464913368,
           -0.13170810043811798,
           -0.055844590067863464
          ],
          [
           -0.010294254869222641,
           -0.03219775855541229,
           -0.004862443543970585,
           0,
           0,
           -0.007916304282844067,
           -0.11142301559448242,
           -0.028033502399921417
          ],
          [
           0.008047886192798615,
           -0.019091743975877762,
           0.0008553853258490562,
           -0.006044389214366674,
           0.016709942370653152,
           0.03188978135585785,
           0.13433189690113068,
           -0.02047499269247055
          ],
          [
           -0.013479828834533691,
           0.019950248301029205,
           -0.014360729604959488,
           -0.01257283240556717,
           -0.02110103890299797,
           0.11768606305122375,
           0.021572772413492203,
           0.09193011373281479
          ],
          [
           0.05784273147583008,
           -0.017071690410375595,
           -0.021144818514585495,
           0.01725597307085991,
           -0.0029556192457675934,
           -0.01962808147072792,
           0.08932800590991974,
           0.014341458678245544
          ]
         ]
        }
       ],
       "layout": {
        "annotations": [
         {
          "font": {},
          "showarrow": false,
          "text": "L2N454",
          "x": 0.04100000000000001,
          "xanchor": "center",
          "xref": "paper",
          "y": 1,
          "yanchor": "bottom",
          "yref": "paper"
         },
         {
          "font": {},
          "showarrow": false,
          "text": "L2N269",
          "x": 0.14300000000000004,
          "xanchor": "center",
          "xref": "paper",
          "y": 1,
          "yanchor": "bottom",
          "yref": "paper"
         },
         {
          "font": {},
          "showarrow": false,
          "text": "L2N974",
          "x": 0.24500000000000005,
          "xanchor": "center",
          "xref": "paper",
          "y": 1,
          "yanchor": "bottom",
          "yref": "paper"
         },
         {
          "font": {},
          "showarrow": false,
          "text": "L2N346",
          "x": 0.3470000000000001,
          "xanchor": "center",
          "xref": "paper",
          "y": 1,
          "yanchor": "bottom",
          "yref": "paper"
         },
         {
          "font": {},
          "showarrow": false,
          "text": "L2N1517",
          "x": 0.44900000000000007,
          "xanchor": "center",
          "xref": "paper",
          "y": 1,
          "yanchor": "bottom",
          "yref": "paper"
         },
         {
          "font": {},
          "showarrow": false,
          "text": "L2N163",
          "x": 0.5510000000000002,
          "xanchor": "center",
          "xref": "paper",
          "y": 1,
          "yanchor": "bottom",
          "yref": "paper"
         },
         {
          "font": {},
          "showarrow": false,
          "text": "L2N804",
          "x": 0.6530000000000001,
          "xanchor": "center",
          "xref": "paper",
          "y": 1,
          "yanchor": "bottom",
          "yref": "paper"
         },
         {
          "font": {},
          "showarrow": false,
          "text": "L2N17",
          "x": 0.7550000000000001,
          "xanchor": "center",
          "xref": "paper",
          "y": 1,
          "yanchor": "bottom",
          "yref": "paper"
         },
         {
          "font": {},
          "showarrow": false,
          "text": "L2N51",
          "x": 0.8570000000000002,
          "xanchor": "center",
          "xref": "paper",
          "y": 1,
          "yanchor": "bottom",
          "yref": "paper"
         },
         {
          "font": {},
          "showarrow": false,
          "text": "L2N267",
          "x": 0.9590000000000002,
          "xanchor": "center",
          "xref": "paper",
          "y": 1,
          "yanchor": "bottom",
          "yref": "paper"
         }
        ],
        "coloraxis": {
         "cmax": 0.5,
         "cmid": 0,
         "cmin": -0.5,
         "colorscale": [
          [
           0,
           "rgb(103,0,31)"
          ],
          [
           0.1,
           "rgb(178,24,43)"
          ],
          [
           0.2,
           "rgb(214,96,77)"
          ],
          [
           0.3,
           "rgb(244,165,130)"
          ],
          [
           0.4,
           "rgb(253,219,199)"
          ],
          [
           0.5,
           "rgb(247,247,247)"
          ],
          [
           0.6,
           "rgb(209,229,240)"
          ],
          [
           0.7,
           "rgb(146,197,222)"
          ],
          [
           0.8,
           "rgb(67,147,195)"
          ],
          [
           0.9,
           "rgb(33,102,172)"
          ],
          [
           1,
           "rgb(5,48,97)"
          ]
         ]
        },
        "template": {
         "data": {
          "bar": [
           {
            "error_x": {
             "color": "#2a3f5f"
            },
            "error_y": {
             "color": "#2a3f5f"
            },
            "marker": {
             "line": {
              "color": "#E5ECF6",
              "width": 0.5
             },
             "pattern": {
              "fillmode": "overlay",
              "size": 10,
              "solidity": 0.2
             }
            },
            "type": "bar"
           }
          ],
          "barpolar": [
           {
            "marker": {
             "line": {
              "color": "#E5ECF6",
              "width": 0.5
             },
             "pattern": {
              "fillmode": "overlay",
              "size": 10,
              "solidity": 0.2
             }
            },
            "type": "barpolar"
           }
          ],
          "carpet": [
           {
            "aaxis": {
             "endlinecolor": "#2a3f5f",
             "gridcolor": "white",
             "linecolor": "white",
             "minorgridcolor": "white",
             "startlinecolor": "#2a3f5f"
            },
            "baxis": {
             "endlinecolor": "#2a3f5f",
             "gridcolor": "white",
             "linecolor": "white",
             "minorgridcolor": "white",
             "startlinecolor": "#2a3f5f"
            },
            "type": "carpet"
           }
          ],
          "choropleth": [
           {
            "colorbar": {
             "outlinewidth": 0,
             "ticks": ""
            },
            "type": "choropleth"
           }
          ],
          "contour": [
           {
            "colorbar": {
             "outlinewidth": 0,
             "ticks": ""
            },
            "colorscale": [
             [
              0,
              "#0d0887"
             ],
             [
              0.1111111111111111,
              "#46039f"
             ],
             [
              0.2222222222222222,
              "#7201a8"
             ],
             [
              0.3333333333333333,
              "#9c179e"
             ],
             [
              0.4444444444444444,
              "#bd3786"
             ],
             [
              0.5555555555555556,
              "#d8576b"
             ],
             [
              0.6666666666666666,
              "#ed7953"
             ],
             [
              0.7777777777777778,
              "#fb9f3a"
             ],
             [
              0.8888888888888888,
              "#fdca26"
             ],
             [
              1,
              "#f0f921"
             ]
            ],
            "type": "contour"
           }
          ],
          "contourcarpet": [
           {
            "colorbar": {
             "outlinewidth": 0,
             "ticks": ""
            },
            "type": "contourcarpet"
           }
          ],
          "heatmap": [
           {
            "colorbar": {
             "outlinewidth": 0,
             "ticks": ""
            },
            "colorscale": [
             [
              0,
              "#0d0887"
             ],
             [
              0.1111111111111111,
              "#46039f"
             ],
             [
              0.2222222222222222,
              "#7201a8"
             ],
             [
              0.3333333333333333,
              "#9c179e"
             ],
             [
              0.4444444444444444,
              "#bd3786"
             ],
             [
              0.5555555555555556,
              "#d8576b"
             ],
             [
              0.6666666666666666,
              "#ed7953"
             ],
             [
              0.7777777777777778,
              "#fb9f3a"
             ],
             [
              0.8888888888888888,
              "#fdca26"
             ],
             [
              1,
              "#f0f921"
             ]
            ],
            "type": "heatmap"
           }
          ],
          "heatmapgl": [
           {
            "colorbar": {
             "outlinewidth": 0,
             "ticks": ""
            },
            "colorscale": [
             [
              0,
              "#0d0887"
             ],
             [
              0.1111111111111111,
              "#46039f"
             ],
             [
              0.2222222222222222,
              "#7201a8"
             ],
             [
              0.3333333333333333,
              "#9c179e"
             ],
             [
              0.4444444444444444,
              "#bd3786"
             ],
             [
              0.5555555555555556,
              "#d8576b"
             ],
             [
              0.6666666666666666,
              "#ed7953"
             ],
             [
              0.7777777777777778,
              "#fb9f3a"
             ],
             [
              0.8888888888888888,
              "#fdca26"
             ],
             [
              1,
              "#f0f921"
             ]
            ],
            "type": "heatmapgl"
           }
          ],
          "histogram": [
           {
            "marker": {
             "pattern": {
              "fillmode": "overlay",
              "size": 10,
              "solidity": 0.2
             }
            },
            "type": "histogram"
           }
          ],
          "histogram2d": [
           {
            "colorbar": {
             "outlinewidth": 0,
             "ticks": ""
            },
            "colorscale": [
             [
              0,
              "#0d0887"
             ],
             [
              0.1111111111111111,
              "#46039f"
             ],
             [
              0.2222222222222222,
              "#7201a8"
             ],
             [
              0.3333333333333333,
              "#9c179e"
             ],
             [
              0.4444444444444444,
              "#bd3786"
             ],
             [
              0.5555555555555556,
              "#d8576b"
             ],
             [
              0.6666666666666666,
              "#ed7953"
             ],
             [
              0.7777777777777778,
              "#fb9f3a"
             ],
             [
              0.8888888888888888,
              "#fdca26"
             ],
             [
              1,
              "#f0f921"
             ]
            ],
            "type": "histogram2d"
           }
          ],
          "histogram2dcontour": [
           {
            "colorbar": {
             "outlinewidth": 0,
             "ticks": ""
            },
            "colorscale": [
             [
              0,
              "#0d0887"
             ],
             [
              0.1111111111111111,
              "#46039f"
             ],
             [
              0.2222222222222222,
              "#7201a8"
             ],
             [
              0.3333333333333333,
              "#9c179e"
             ],
             [
              0.4444444444444444,
              "#bd3786"
             ],
             [
              0.5555555555555556,
              "#d8576b"
             ],
             [
              0.6666666666666666,
              "#ed7953"
             ],
             [
              0.7777777777777778,
              "#fb9f3a"
             ],
             [
              0.8888888888888888,
              "#fdca26"
             ],
             [
              1,
              "#f0f921"
             ]
            ],
            "type": "histogram2dcontour"
           }
          ],
          "mesh3d": [
           {
            "colorbar": {
             "outlinewidth": 0,
             "ticks": ""
            },
            "type": "mesh3d"
           }
          ],
          "parcoords": [
           {
            "line": {
             "colorbar": {
              "outlinewidth": 0,
              "ticks": ""
             }
            },
            "type": "parcoords"
           }
          ],
          "pie": [
           {
            "automargin": true,
            "type": "pie"
           }
          ],
          "scatter": [
           {
            "fillpattern": {
             "fillmode": "overlay",
             "size": 10,
             "solidity": 0.2
            },
            "type": "scatter"
           }
          ],
          "scatter3d": [
           {
            "line": {
             "colorbar": {
              "outlinewidth": 0,
              "ticks": ""
             }
            },
            "marker": {
             "colorbar": {
              "outlinewidth": 0,
              "ticks": ""
             }
            },
            "type": "scatter3d"
           }
          ],
          "scattercarpet": [
           {
            "marker": {
             "colorbar": {
              "outlinewidth": 0,
              "ticks": ""
             }
            },
            "type": "scattercarpet"
           }
          ],
          "scattergeo": [
           {
            "marker": {
             "colorbar": {
              "outlinewidth": 0,
              "ticks": ""
             }
            },
            "type": "scattergeo"
           }
          ],
          "scattergl": [
           {
            "marker": {
             "colorbar": {
              "outlinewidth": 0,
              "ticks": ""
             }
            },
            "type": "scattergl"
           }
          ],
          "scattermapbox": [
           {
            "marker": {
             "colorbar": {
              "outlinewidth": 0,
              "ticks": ""
             }
            },
            "type": "scattermapbox"
           }
          ],
          "scatterpolar": [
           {
            "marker": {
             "colorbar": {
              "outlinewidth": 0,
              "ticks": ""
             }
            },
            "type": "scatterpolar"
           }
          ],
          "scatterpolargl": [
           {
            "marker": {
             "colorbar": {
              "outlinewidth": 0,
              "ticks": ""
             }
            },
            "type": "scatterpolargl"
           }
          ],
          "scatterternary": [
           {
            "marker": {
             "colorbar": {
              "outlinewidth": 0,
              "ticks": ""
             }
            },
            "type": "scatterternary"
           }
          ],
          "surface": [
           {
            "colorbar": {
             "outlinewidth": 0,
             "ticks": ""
            },
            "colorscale": [
             [
              0,
              "#0d0887"
             ],
             [
              0.1111111111111111,
              "#46039f"
             ],
             [
              0.2222222222222222,
              "#7201a8"
             ],
             [
              0.3333333333333333,
              "#9c179e"
             ],
             [
              0.4444444444444444,
              "#bd3786"
             ],
             [
              0.5555555555555556,
              "#d8576b"
             ],
             [
              0.6666666666666666,
              "#ed7953"
             ],
             [
              0.7777777777777778,
              "#fb9f3a"
             ],
             [
              0.8888888888888888,
              "#fdca26"
             ],
             [
              1,
              "#f0f921"
             ]
            ],
            "type": "surface"
           }
          ],
          "table": [
           {
            "cells": {
             "fill": {
              "color": "#EBF0F8"
             },
             "line": {
              "color": "white"
             }
            },
            "header": {
             "fill": {
              "color": "#C8D4E3"
             },
             "line": {
              "color": "white"
             }
            },
            "type": "table"
           }
          ]
         },
         "layout": {
          "annotationdefaults": {
           "arrowcolor": "#2a3f5f",
           "arrowhead": 0,
           "arrowwidth": 1
          },
          "autotypenumbers": "strict",
          "coloraxis": {
           "colorbar": {
            "outlinewidth": 0,
            "ticks": ""
           }
          },
          "colorscale": {
           "diverging": [
            [
             0,
             "#8e0152"
            ],
            [
             0.1,
             "#c51b7d"
            ],
            [
             0.2,
             "#de77ae"
            ],
            [
             0.3,
             "#f1b6da"
            ],
            [
             0.4,
             "#fde0ef"
            ],
            [
             0.5,
             "#f7f7f7"
            ],
            [
             0.6,
             "#e6f5d0"
            ],
            [
             0.7,
             "#b8e186"
            ],
            [
             0.8,
             "#7fbc41"
            ],
            [
             0.9,
             "#4d9221"
            ],
            [
             1,
             "#276419"
            ]
           ],
           "sequential": [
            [
             0,
             "#0d0887"
            ],
            [
             0.1111111111111111,
             "#46039f"
            ],
            [
             0.2222222222222222,
             "#7201a8"
            ],
            [
             0.3333333333333333,
             "#9c179e"
            ],
            [
             0.4444444444444444,
             "#bd3786"
            ],
            [
             0.5555555555555556,
             "#d8576b"
            ],
            [
             0.6666666666666666,
             "#ed7953"
            ],
            [
             0.7777777777777778,
             "#fb9f3a"
            ],
            [
             0.8888888888888888,
             "#fdca26"
            ],
            [
             1,
             "#f0f921"
            ]
           ],
           "sequentialminus": [
            [
             0,
             "#0d0887"
            ],
            [
             0.1111111111111111,
             "#46039f"
            ],
            [
             0.2222222222222222,
             "#7201a8"
            ],
            [
             0.3333333333333333,
             "#9c179e"
            ],
            [
             0.4444444444444444,
             "#bd3786"
            ],
            [
             0.5555555555555556,
             "#d8576b"
            ],
            [
             0.6666666666666666,
             "#ed7953"
            ],
            [
             0.7777777777777778,
             "#fb9f3a"
            ],
            [
             0.8888888888888888,
             "#fdca26"
            ],
            [
             1,
             "#f0f921"
            ]
           ]
          },
          "colorway": [
           "#636efa",
           "#EF553B",
           "#00cc96",
           "#ab63fa",
           "#FFA15A",
           "#19d3f3",
           "#FF6692",
           "#B6E880",
           "#FF97FF",
           "#FECB52"
          ],
          "font": {
           "color": "#2a3f5f"
          },
          "geo": {
           "bgcolor": "white",
           "lakecolor": "white",
           "landcolor": "#E5ECF6",
           "showlakes": true,
           "showland": true,
           "subunitcolor": "white"
          },
          "hoverlabel": {
           "align": "left"
          },
          "hovermode": "closest",
          "mapbox": {
           "style": "light"
          },
          "paper_bgcolor": "white",
          "plot_bgcolor": "#E5ECF6",
          "polar": {
           "angularaxis": {
            "gridcolor": "white",
            "linecolor": "white",
            "ticks": ""
           },
           "bgcolor": "#E5ECF6",
           "radialaxis": {
            "gridcolor": "white",
            "linecolor": "white",
            "ticks": ""
           }
          },
          "scene": {
           "xaxis": {
            "backgroundcolor": "#E5ECF6",
            "gridcolor": "white",
            "gridwidth": 2,
            "linecolor": "white",
            "showbackground": true,
            "ticks": "",
            "zerolinecolor": "white"
           },
           "yaxis": {
            "backgroundcolor": "#E5ECF6",
            "gridcolor": "white",
            "gridwidth": 2,
            "linecolor": "white",
            "showbackground": true,
            "ticks": "",
            "zerolinecolor": "white"
           },
           "zaxis": {
            "backgroundcolor": "#E5ECF6",
            "gridcolor": "white",
            "gridwidth": 2,
            "linecolor": "white",
            "showbackground": true,
            "ticks": "",
            "zerolinecolor": "white"
           }
          },
          "shapedefaults": {
           "line": {
            "color": "#2a3f5f"
           }
          },
          "ternary": {
           "aaxis": {
            "gridcolor": "white",
            "linecolor": "white",
            "ticks": ""
           },
           "baxis": {
            "gridcolor": "white",
            "linecolor": "white",
            "ticks": ""
           },
           "bgcolor": "#E5ECF6",
           "caxis": {
            "gridcolor": "white",
            "linecolor": "white",
            "ticks": ""
           }
          },
          "title": {
           "x": 0.05
          },
          "xaxis": {
           "automargin": true,
           "gridcolor": "white",
           "linecolor": "white",
           "ticks": "",
           "title": {
            "standoff": 15
           },
           "zerolinecolor": "white",
           "zerolinewidth": 2
          },
          "yaxis": {
           "automargin": true,
           "gridcolor": "white",
           "linecolor": "white",
           "ticks": "",
           "title": {
            "standoff": 15
           },
           "zerolinecolor": "white",
           "zerolinewidth": 2
          }
         }
        },
        "title": {
         "text": "Cosine sim of Input weights and the my color probe for top layer 2 neurons"
        },
        "xaxis": {
         "anchor": "y",
         "domain": [
          0,
          0.08200000000000002
         ],
         "title": {
          "text": "x"
         }
        },
        "xaxis10": {
         "anchor": "y10",
         "domain": [
          0.9180000000000001,
          1
         ],
         "matches": "x",
         "title": {
          "text": "x"
         }
        },
        "xaxis2": {
         "anchor": "y2",
         "domain": [
          0.10200000000000002,
          0.18400000000000005
         ],
         "matches": "x",
         "title": {
          "text": "x"
         }
        },
        "xaxis3": {
         "anchor": "y3",
         "domain": [
          0.20400000000000004,
          0.28600000000000003
         ],
         "matches": "x",
         "title": {
          "text": "x"
         }
        },
        "xaxis4": {
         "anchor": "y4",
         "domain": [
          0.30600000000000005,
          0.38800000000000007
         ],
         "matches": "x",
         "title": {
          "text": "x"
         }
        },
        "xaxis5": {
         "anchor": "y5",
         "domain": [
          0.4080000000000001,
          0.4900000000000001
         ],
         "matches": "x",
         "title": {
          "text": "x"
         }
        },
        "xaxis6": {
         "anchor": "y6",
         "domain": [
          0.5100000000000001,
          0.5920000000000001
         ],
         "matches": "x",
         "title": {
          "text": "x"
         }
        },
        "xaxis7": {
         "anchor": "y7",
         "domain": [
          0.6120000000000001,
          0.6940000000000002
         ],
         "matches": "x",
         "title": {
          "text": "x"
         }
        },
        "xaxis8": {
         "anchor": "y8",
         "domain": [
          0.7140000000000001,
          0.796
         ],
         "matches": "x",
         "title": {
          "text": "x"
         }
        },
        "xaxis9": {
         "anchor": "y9",
         "domain": [
          0.8160000000000002,
          0.8980000000000001
         ],
         "matches": "x",
         "title": {
          "text": "x"
         }
        },
        "yaxis": {
         "anchor": "x",
         "autorange": "reversed",
         "domain": [
          0,
          1
         ],
         "title": {
          "text": "y"
         }
        },
        "yaxis10": {
         "anchor": "x10",
         "domain": [
          0,
          1
         ],
         "matches": "y",
         "showticklabels": false
        },
        "yaxis2": {
         "anchor": "x2",
         "domain": [
          0,
          1
         ],
         "matches": "y",
         "showticklabels": false
        },
        "yaxis3": {
         "anchor": "x3",
         "domain": [
          0,
          1
         ],
         "matches": "y",
         "showticklabels": false
        },
        "yaxis4": {
         "anchor": "x4",
         "domain": [
          0,
          1
         ],
         "matches": "y",
         "showticklabels": false
        },
        "yaxis5": {
         "anchor": "x5",
         "domain": [
          0,
          1
         ],
         "matches": "y",
         "showticklabels": false
        },
        "yaxis6": {
         "anchor": "x6",
         "domain": [
          0,
          1
         ],
         "matches": "y",
         "showticklabels": false
        },
        "yaxis7": {
         "anchor": "x7",
         "domain": [
          0,
          1
         ],
         "matches": "y",
         "showticklabels": false
        },
        "yaxis8": {
         "anchor": "x8",
         "domain": [
          0,
          1
         ],
         "matches": "y",
         "showticklabels": false
        },
        "yaxis9": {
         "anchor": "x9",
         "domain": [
          0,
          1
         ],
         "matches": "y",
         "showticklabels": false
        }
       }
      }
     },
     "metadata": {},
     "output_type": "display_data"
    },
    {
     "data": {
      "application/vnd.plotly.v1+json": {
       "config": {
        "plotlyServerURL": "https://plot.ly"
       },
       "data": [
        {
         "coloraxis": "coloraxis",
         "hovertemplate": "x: %{x}<br>y: %{y}<br>color: %{z}<extra></extra>",
         "name": "0",
         "type": "heatmap",
         "xaxis": "x",
         "y": [
          "A",
          "B",
          "C",
          "D",
          "E",
          "F",
          "G",
          "H"
         ],
         "yaxis": "y",
         "z": [
          [
           0.06687702238559723,
           0.16614122688770294,
           0.15286147594451904,
           0.18112149834632874,
           0.06293581426143646,
           0.16447687149047852,
           0.08401401340961456,
           0.13057786226272583
          ],
          [
           0.16077671945095062,
           0.06736865639686584,
           0.10899897664785385,
           0.09066148102283478,
           0.1423603892326355,
           0.08960072696208954,
           0.13602182269096375,
           0.07043001055717468
          ],
          [
           0.1502661257982254,
           0.14488981664180756,
           -0.06037367880344391,
           0.002844585105776787,
           -0.0810072124004364,
           0.08660189807415009,
           0.048387087881565094,
           0.1177469789981842
          ],
          [
           0.08127127587795258,
           0.05229009687900543,
           -0.0758335068821907,
           0,
           0,
           -0.15325738489627838,
           0.044227465987205505,
           0.09356202185153961
          ],
          [
           0.1442541629076004,
           0.059731196612119675,
           -0.1382131725549698,
           0,
           0,
           -0.013368560001254082,
           0.06083444505929947,
           0.16543664038181305
          ],
          [
           0.12046848237514496,
           0.08051889389753342,
           -0.04022008553147316,
           -0.10990546643733978,
           -0.07795217633247375,
           -0.07321606576442719,
           0.09646079689264297,
           0.07526753842830658
          ],
          [
           0.13361495733261108,
           0.10293114185333252,
           0.12284420430660248,
           0.05341128632426262,
           0.04146653786301613,
           0.06265934556722641,
           0.15981072187423706,
           0.16352912783622742
          ],
          [
           0.09902698546648026,
           0.15591034293174744,
           0.14963966608047485,
           0.16364997625350952,
           0.09361795336008072,
           0.13454385101795197,
           0.07716834545135498,
           0.11776138842105865
          ]
         ]
        },
        {
         "coloraxis": "coloraxis",
         "hovertemplate": "x: %{x}<br>y: %{y}<br>color: %{z}<extra></extra>",
         "name": "1",
         "type": "heatmap",
         "xaxis": "x2",
         "y": [
          "A",
          "B",
          "C",
          "D",
          "E",
          "F",
          "G",
          "H"
         ],
         "yaxis": "y2",
         "z": [
          [
           0.0470384880900383,
           0.14986875653266907,
           0.11972083896398544,
           0.1589893102645874,
           0.07263832539319992,
           0.1357039511203766,
           0.08877202868461609,
           0.11733114719390869
          ],
          [
           0.12065824866294861,
           0.006412725895643234,
           0.09695923328399658,
           0.08805051445960999,
           0.1116769015789032,
           0.07709375023841858,
           0.14147120714187622,
           0.11552320420742035
          ],
          [
           0.09075061976909637,
           0.08626522868871689,
           -0.11742808669805527,
           0.040114305913448334,
           -0.09959818422794342,
           0.06273247301578522,
           0.06125711649656296,
           0.09787272661924362
          ],
          [
           0.06995945423841476,
           0.036663033068180084,
           -0.05351627618074417,
           0,
           0,
           -0.07210252434015274,
           0.02249390259385109,
           0.0867992490530014
          ],
          [
           0.11079230904579163,
           0.061166319996118546,
           -0.10171380639076233,
           0,
           0,
           -0.01149374432861805,
           0.049075957387685776,
           0.14302030205726624
          ],
          [
           0.11635826528072357,
           0.07530052959918976,
           -0.016897127032279968,
           -0.06922302395105362,
           -0.05961594730615616,
           -0.03855732083320618,
           0.08801057189702988,
           0.07758080959320068
          ],
          [
           0.09704181551933289,
           0.10602138936519623,
           0.0982101634144783,
           0.024048447608947754,
           0.04959110543131828,
           0.07816459238529205,
           0.11307046562433243,
           0.15142641961574554
          ],
          [
           0.07803624123334885,
           0.1046258956193924,
           0.12644976377487183,
           0.11368007957935333,
           0.06504425406455994,
           0.10128781944513321,
           0.06836536526679993,
           0.10054701566696167
          ]
         ]
        },
        {
         "coloraxis": "coloraxis",
         "hovertemplate": "x: %{x}<br>y: %{y}<br>color: %{z}<extra></extra>",
         "name": "2",
         "type": "heatmap",
         "xaxis": "x3",
         "y": [
          "A",
          "B",
          "C",
          "D",
          "E",
          "F",
          "G",
          "H"
         ],
         "yaxis": "y3",
         "z": [
          [
           0.06469177454710007,
           0.11807263642549515,
           0.10462810844182968,
           0.12341085821390152,
           0.05236402153968811,
           0.11952689290046692,
           0.0585145577788353,
           0.09066115319728851
          ],
          [
           0.14456087350845337,
           0.03909372538328171,
           0.06239289790391922,
           0.06873200833797455,
           0.10084153711795807,
           0.05250932648777962,
           0.11664928495883942,
           0.0490545928478241
          ],
          [
           0.10702231526374817,
           0.08695986866950989,
           -0.07218315452337265,
           0.007626607082784176,
           -0.07357010245323181,
           0.050756584852933884,
           0.03250138834118843,
           0.06087564304471016
          ],
          [
           0.04863275587558746,
           0.007881653495132923,
           -0.047957178205251694,
           0,
           0,
           -0.12643612921237946,
           0.03809981793165207,
           0.08173825591802597
          ],
          [
           0.10653404891490936,
           0.04757068306207657,
           -0.09105587005615234,
           0,
           0,
           -0.03087879717350006,
           0.06524114310741425,
           0.10922098159790039
          ],
          [
           0.10588894039392471,
           0.0900530219078064,
           -0.009815104305744171,
           -0.11818617582321167,
           -0.04833618551492691,
           -0.06888802349567413,
           0.055474478751420975,
           0.04762617126107216
          ],
          [
           0.10758250951766968,
           0.0875461995601654,
           0.07484794408082962,
           0.0072977058589458466,
           -0.007843151688575745,
           0.05167759209871292,
           0.0983743742108345,
           0.12420358508825302
          ],
          [
           0.08683723211288452,
           0.08990928530693054,
           0.10574819147586823,
           0.12766405940055847,
           0.06222376972436905,
           0.09819056838750839,
           0.08083481341600418,
           0.10731928050518036
          ]
         ]
        },
        {
         "coloraxis": "coloraxis",
         "hovertemplate": "x: %{x}<br>y: %{y}<br>color: %{z}<extra></extra>",
         "name": "3",
         "type": "heatmap",
         "xaxis": "x4",
         "y": [
          "A",
          "B",
          "C",
          "D",
          "E",
          "F",
          "G",
          "H"
         ],
         "yaxis": "y4",
         "z": [
          [
           0.05173478648066521,
           0.13625803589820862,
           0.10623057931661606,
           0.15233665704727173,
           0.037747714668512344,
           0.11247573792934418,
           0.051754213869571686,
           0.09989545494318008
          ],
          [
           0.14974647760391235,
           0.06336934864521027,
           0.08826790750026703,
           0.06956671923398972,
           0.11892151087522507,
           0.033397071063518524,
           0.10357905179262161,
           0.05242237076163292
          ],
          [
           0.07128258049488068,
           0.12390346825122833,
           -0.04917360097169876,
           0.018130499869585037,
           -0.06333987414836884,
           0.07299729436635971,
           0.03360637649893761,
           0.08008521795272827
          ],
          [
           0.05684993416070938,
           0.01642133668065071,
           -0.0421702042222023,
           0,
           0,
           -0.10604953020811081,
           0.030543429777026176,
           0.04938365891575813
          ],
          [
           0.09619848430156708,
           0.055902816355228424,
           -0.10660739988088608,
           0,
           0,
           -0.021583333611488342,
           0.04003047198057175,
           0.13988575339317322
          ],
          [
           0.13881486654281616,
           0.06033889949321747,
           -0.02036312408745289,
           -0.08512460440397263,
           -0.060180168598890305,
           -0.03885818272829056,
           0.0751814991235733,
           0.07052631676197052
          ],
          [
           0.08673486113548279,
           0.088345006108284,
           0.10250924527645111,
           0.015047881752252579,
           0.001946358010172844,
           0.041147638112306595,
           0.09264242649078369,
           0.14084406197071075
          ],
          [
           0.06137306988239288,
           0.12369205057621002,
           0.11664137244224548,
           0.13699042797088623,
           0.06784956157207489,
           0.10924936830997467,
           0.06815610080957413,
           0.07896149903535843
          ]
         ]
        },
        {
         "coloraxis": "coloraxis",
         "hovertemplate": "x: %{x}<br>y: %{y}<br>color: %{z}<extra></extra>",
         "name": "4",
         "type": "heatmap",
         "xaxis": "x5",
         "y": [
          "A",
          "B",
          "C",
          "D",
          "E",
          "F",
          "G",
          "H"
         ],
         "yaxis": "y5",
         "z": [
          [
           0.04659312218427658,
           0.11065404117107391,
           0.06540893018245697,
           0.11506053805351257,
           0.03057790920138359,
           0.09967505931854248,
           0.07048312574625015,
           0.10563775897026062
          ],
          [
           0.11500008404254913,
           0.052924275398254395,
           0.07887811958789825,
           0.050589509308338165,
           0.0693175420165062,
           0.07856646925210953,
           0.07643628865480423,
           0.07106515020132065
          ],
          [
           0.0610148087143898,
           0.0671173632144928,
           -0.05846861004829407,
           0.026922043412923813,
           -0.07836215198040009,
           0.026869622990489006,
           0.04512292146682739,
           0.08972770720720291
          ],
          [
           0.05048946291208267,
           0.041572097688913345,
           -0.046222686767578125,
           0,
           0,
           -0.06278518587350845,
           0.06226915121078491,
           0.04640442505478859
          ],
          [
           0.08595184981822968,
           0.01330389641225338,
           -0.108768031001091,
           0,
           0,
           -0.006733761169016361,
           0.043458156287670135,
           0.08949373662471771
          ],
          [
           0.04914195090532303,
           0.026952538639307022,
           -0.026323795318603516,
           -0.03024507686495781,
           -0.03130113705992699,
           -0.06944631040096283,
           0.04601848125457764,
           0.04675498604774475
          ],
          [
           0.044710591435432434,
           0.04473928362131119,
           0.10552874952554703,
           0.04618045315146446,
           -0.023368988186120987,
           0.054581716656684875,
           0.1143110916018486,
           0.13180962204933167
          ],
          [
           0.05896582454442978,
           0.1487419754266739,
           0.11568103730678558,
           0.10739046335220337,
           0.031771935522556305,
           0.07834183424711227,
           0.05366921424865723,
           0.056324101984500885
          ]
         ]
        },
        {
         "coloraxis": "coloraxis",
         "hovertemplate": "x: %{x}<br>y: %{y}<br>color: %{z}<extra></extra>",
         "name": "5",
         "type": "heatmap",
         "xaxis": "x6",
         "y": [
          "A",
          "B",
          "C",
          "D",
          "E",
          "F",
          "G",
          "H"
         ],
         "yaxis": "y6",
         "z": [
          [
           0.04723015055060387,
           0.08150447905063629,
           0.05158664286136627,
           0.09685879945755005,
           0.03756783902645111,
           0.1393633484840393,
           0.031214352697134018,
           0.062026262283325195
          ],
          [
           0.09584953635931015,
           0.02556879073381424,
           0.0803833082318306,
           0.04624316841363907,
           0.10500893741846085,
           0.07707802206277847,
           0.02366429753601551,
           0.026042241603136063
          ],
          [
           0.0778532326221466,
           0.06234925612807274,
           -0.04643195495009422,
           0.006346314214169979,
           -0.08466039597988129,
           0.06336750090122223,
           -0.017854278907179832,
           0.028306206688284874
          ],
          [
           0.0540459007024765,
           0.004913473501801491,
           -0.07164601981639862,
           0,
           0,
           -0.07182233035564423,
           0.00416814349591732,
           0.07912778854370117
          ],
          [
           0.05027446895837784,
           -0.004466635175049305,
           -0.11284525692462921,
           0,
           0,
           -0.02900727093219757,
           0.04349677264690399,
           0.1092439591884613
          ],
          [
           0.046773530542850494,
           0.0378609225153923,
           -0.021271735429763794,
           -0.11142392456531525,
           -0.0016555897891521454,
           -0.03384383022785187,
           0.10356616973876953,
           0.05507459118962288
          ],
          [
           0.07306542992591858,
           0.06593021005392075,
           0.05815640091896057,
           0.02515113539993763,
           -0.02325495332479477,
           0.04705141857266426,
           0.043138276785612106,
           0.08406418561935425
          ],
          [
           0.09356515109539032,
           0.10558011382818222,
           0.0799630805850029,
           0.09770377725362778,
           0.05631276220083237,
           0.03942355513572693,
           0.06008439511060715,
           0.05910349264740944
          ]
         ]
        },
        {
         "coloraxis": "coloraxis",
         "hovertemplate": "x: %{x}<br>y: %{y}<br>color: %{z}<extra></extra>",
         "name": "6",
         "type": "heatmap",
         "xaxis": "x7",
         "y": [
          "A",
          "B",
          "C",
          "D",
          "E",
          "F",
          "G",
          "H"
         ],
         "yaxis": "y7",
         "z": [
          [
           -0.006539071910083294,
           0.01464705541729927,
           0.014668295159935951,
           0.005980676040053368,
           0.005491225048899651,
           0.011350548826158047,
           0.00877540186047554,
           -0.012207007966935635
          ],
          [
           0.02280067652463913,
           0.014624591916799545,
           0.011539369821548462,
           0.015979589894413948,
           0.003519979305565357,
           -0.022453851997852325,
           0.024063147604465485,
           0.013584630563855171
          ],
          [
           0.007640616036951542,
           -0.013425350189208984,
           -0.01532532088458538,
           0.0010420517064630985,
           0.0043536461889743805,
           0.0320916473865509,
           0.006809552200138569,
           -0.01004846766591072
          ],
          [
           -0.029534298926591873,
           -0.031061001121997833,
           0.00536028016358614,
           0,
           0,
           -0.005828664638102055,
           0.014457743614912033,
           0.02586696483194828
          ],
          [
           0.10449366271495819,
           0.17713816463947296,
           -0.010159501805901527,
           0,
           0,
           -0.02102135308086872,
           0.026182042434811592,
           0.02343188039958477
          ],
          [
           0.09275096654891968,
           0.018312938511371613,
           0.22919043898582458,
           0.015562006272375584,
           -0.007356372661888599,
           0.02094406448304653,
           0.014649936929345131,
           0.00926755927503109
          ],
          [
           -0.006662752479314804,
           0.08615917712450027,
           0.01384216919541359,
           0.16518962383270264,
           0.008022394962608814,
           -0.020640898495912552,
           -0.0006930408999323845,
           0.009351621381938457
          ],
          [
           0.08088291436433792,
           -0.011728579178452492,
           0.07370702922344208,
           0.10961699485778809,
           -0.022543037310242653,
           0.03341514244675636,
           0.012952840887010098,
           0.02602284774184227
          ]
         ]
        },
        {
         "coloraxis": "coloraxis",
         "hovertemplate": "x: %{x}<br>y: %{y}<br>color: %{z}<extra></extra>",
         "name": "7",
         "type": "heatmap",
         "xaxis": "x8",
         "y": [
          "A",
          "B",
          "C",
          "D",
          "E",
          "F",
          "G",
          "H"
         ],
         "yaxis": "y8",
         "z": [
          [
           0.020470991730690002,
           0.05090335011482239,
           0.013775356113910675,
           0.010620743036270142,
           0.020466649904847145,
           0.042166393250226974,
           0.017046965658664703,
           0.021019339561462402
          ],
          [
           0.03211046755313873,
           -0.010448545217514038,
           0.014531483873724937,
           0.004855906590819359,
           0.05060480162501335,
           -0.005806680768728256,
           0.02188654989004135,
           0.006312141194939613
          ],
          [
           0.015197692438960075,
           0.03203257918357849,
           -0.02754269540309906,
           -0.022854577749967575,
           -0.006270301528275013,
           -0.01143764890730381,
           0.004170806147158146,
           0.0045823706313967705
          ],
          [
           0.018900133669376373,
           -0.010794678702950478,
           -0.015818728134036064,
           0,
           0,
           0.003115525469183922,
           0.03885292634367943,
           0.015313948504626751
          ],
          [
           0.039080992341041565,
           0.024101171642541885,
           -0.013410309329628944,
           0,
           0,
           0.04174992814660072,
           0.03154878318309784,
           -0.005112513899803162
          ],
          [
           0.010730183683335781,
           0.02458970807492733,
           0.009215407073497772,
           0.003991610836237669,
           0.019701717421412468,
           -0.012408730573952198,
           0.17880451679229736,
           0.06570318341255188
          ],
          [
           0.03015054762363434,
           0.008089886978268623,
           0.009820673614740372,
           0.005549629218876362,
           -0.03451088070869446,
           0.2468477487564087,
           0.03862942010164261,
           0.12336381524801254
          ],
          [
           -0.01701373979449272,
           0.004732253961265087,
           -0.0005172453820705414,
           0.005015506409108639,
           0.1049465462565422,
           0.02493315562605858,
           0.11874578893184662,
           -0.006147464737296104
          ]
         ]
        },
        {
         "coloraxis": "coloraxis",
         "hovertemplate": "x: %{x}<br>y: %{y}<br>color: %{z}<extra></extra>",
         "name": "8",
         "type": "heatmap",
         "xaxis": "x9",
         "y": [
          "A",
          "B",
          "C",
          "D",
          "E",
          "F",
          "G",
          "H"
         ],
         "yaxis": "y9",
         "z": [
          [
           -0.0041312044486403465,
           0.005592311266809702,
           0.011413387954235077,
           0.009905241429805756,
           0.03857545554637909,
           0.008928931318223476,
           -0.013556468300521374,
           0.02465158700942993
          ],
          [
           0.027829814702272415,
           0.0072862617671489716,
           -0.006683149840682745,
           0.008540338836610317,
           0.014694850891828537,
           0.025418641045689583,
           0.015554763376712799,
           0.032858703285455704
          ],
          [
           0.000046273693442344666,
           0.013165857642889023,
           0.0031048525124788284,
           0.009944437071681023,
           -0.021788597106933594,
           -0.021532749757170677,
           0.1387454718351364,
           0.11156618595123291
          ],
          [
           0.010593373328447342,
           0.007742699235677719,
           0.015616077929735184,
           0,
           0,
           0.053964488208293915,
           0.20414577424526215,
           0.054460279643535614
          ],
          [
           -0.0020724600180983543,
           0.012527721002697945,
           -0.015676628798246384,
           0,
           0,
           0.022498872131109238,
           0.14692525565624237,
           0.13091358542442322
          ],
          [
           0.009372411295771599,
           0.004203327931463718,
           0.008221901953220367,
           0.002651975955814123,
           0.02559351921081543,
           -0.03771086037158966,
           0.011069788597524166,
           0.04860847815871239
          ],
          [
           0.0020832065492868423,
           0.04316657409071922,
           0.024136651307344437,
           0.0068331994116306305,
           0.01614883914589882,
           0.048448026180267334,
           0.003996049053966999,
           0.04489801079034805
          ],
          [
           0.015264793299138546,
           0.01678379625082016,
           0.013860611245036125,
           0.03314156085252762,
           0.01438543014228344,
           0.04372519254684448,
           -0.0028152065351605415,
           0.04025128856301308
          ]
         ]
        },
        {
         "coloraxis": "coloraxis",
         "hovertemplate": "x: %{x}<br>y: %{y}<br>color: %{z}<extra></extra>",
         "name": "9",
         "type": "heatmap",
         "xaxis": "x10",
         "y": [
          "A",
          "B",
          "C",
          "D",
          "E",
          "F",
          "G",
          "H"
         ],
         "yaxis": "y10",
         "z": [
          [
           -0.011030416004359722,
           0.14844445884227753,
           -0.004608479328453541,
           0.024909663945436478,
           -0.04561416804790497,
           0.05517449975013733,
           0.02514633536338806,
           0.019133146852254868
          ],
          [
           0.14186932146549225,
           0.08855964243412018,
           0.24633952975273132,
           -0.055989086627960205,
           0.006510084494948387,
           0.04405316337943077,
           0.05804721266031265,
           0.0007498562335968018
          ],
          [
           0.118819460272789,
           0.1356802135705948,
           -0.026462780311703682,
           -0.019533252343535423,
           0.0039063687436282635,
           -0.005500737577676773,
           0.010900236666202545,
           0.035822413861751556
          ],
          [
           -0.024124860763549805,
           -0.009452661499381065,
           -0.0016466062515974045,
           0,
           0,
           0.0013065887615084648,
           0.015992015600204468,
           0.028709597885608673
          ],
          [
           0.01213875226676464,
           -0.03821753337979317,
           -0.010838225483894348,
           0,
           0,
           -0.010006519965827465,
           0.01976296864449978,
           0.0447712317109108
          ],
          [
           0.004921061918139458,
           0.009145734831690788,
           -0.03534167259931564,
           -0.008129470981657505,
           -0.004665118642151356,
           0.0066406805999577045,
           0.011079516261816025,
           0.02559225633740425
          ],
          [
           0.0026714010164141655,
           0.021825918927788734,
           -0.010297543369233608,
           -0.0011237822473049164,
           -0.0025795497931540012,
           0.014226708561182022,
           0.016060292720794678,
           0.005602317862212658
          ],
          [
           0.0040585920214653015,
           0.0021313074976205826,
           0.005645722150802612,
           0.026129327714443207,
           0.02775198593735695,
           0.02763277478516102,
           -0.009763045236468315,
           0.042530402541160583
          ]
         ]
        }
       ],
       "layout": {
        "annotations": [
         {
          "font": {},
          "showarrow": false,
          "text": "L3N1526",
          "x": 0.04100000000000001,
          "xanchor": "center",
          "xref": "paper",
          "y": 1,
          "yanchor": "bottom",
          "yref": "paper"
         },
         {
          "font": {},
          "showarrow": false,
          "text": "L3N1909",
          "x": 0.14300000000000004,
          "xanchor": "center",
          "xref": "paper",
          "y": 1,
          "yanchor": "bottom",
          "yref": "paper"
         },
         {
          "font": {},
          "showarrow": false,
          "text": "L3N1046",
          "x": 0.24500000000000005,
          "xanchor": "center",
          "xref": "paper",
          "y": 1,
          "yanchor": "bottom",
          "yref": "paper"
         },
         {
          "font": {},
          "showarrow": false,
          "text": "L3N1226",
          "x": 0.3470000000000001,
          "xanchor": "center",
          "xref": "paper",
          "y": 1,
          "yanchor": "bottom",
          "yref": "paper"
         },
         {
          "font": {},
          "showarrow": false,
          "text": "L3N129",
          "x": 0.44900000000000007,
          "xanchor": "center",
          "xref": "paper",
          "y": 1,
          "yanchor": "bottom",
          "yref": "paper"
         },
         {
          "font": {},
          "showarrow": false,
          "text": "L3N599",
          "x": 0.5510000000000002,
          "xanchor": "center",
          "xref": "paper",
          "y": 1,
          "yanchor": "bottom",
          "yref": "paper"
         },
         {
          "font": {},
          "showarrow": false,
          "text": "L3N1027",
          "x": 0.6530000000000001,
          "xanchor": "center",
          "xref": "paper",
          "y": 1,
          "yanchor": "bottom",
          "yref": "paper"
         },
         {
          "font": {},
          "showarrow": false,
          "text": "L3N1276",
          "x": 0.7550000000000001,
          "xanchor": "center",
          "xref": "paper",
          "y": 1,
          "yanchor": "bottom",
          "yref": "paper"
         },
         {
          "font": {},
          "showarrow": false,
          "text": "L3N1868",
          "x": 0.8570000000000002,
          "xanchor": "center",
          "xref": "paper",
          "y": 1,
          "yanchor": "bottom",
          "yref": "paper"
         },
         {
          "font": {},
          "showarrow": false,
          "text": "L3N1998",
          "x": 0.9590000000000002,
          "xanchor": "center",
          "xref": "paper",
          "y": 1,
          "yanchor": "bottom",
          "yref": "paper"
         }
        ],
        "coloraxis": {
         "cmax": 0.5,
         "cmid": 0,
         "cmin": -0.5,
         "colorscale": [
          [
           0,
           "rgb(103,0,31)"
          ],
          [
           0.1,
           "rgb(178,24,43)"
          ],
          [
           0.2,
           "rgb(214,96,77)"
          ],
          [
           0.3,
           "rgb(244,165,130)"
          ],
          [
           0.4,
           "rgb(253,219,199)"
          ],
          [
           0.5,
           "rgb(247,247,247)"
          ],
          [
           0.6,
           "rgb(209,229,240)"
          ],
          [
           0.7,
           "rgb(146,197,222)"
          ],
          [
           0.8,
           "rgb(67,147,195)"
          ],
          [
           0.9,
           "rgb(33,102,172)"
          ],
          [
           1,
           "rgb(5,48,97)"
          ]
         ]
        },
        "template": {
         "data": {
          "bar": [
           {
            "error_x": {
             "color": "#2a3f5f"
            },
            "error_y": {
             "color": "#2a3f5f"
            },
            "marker": {
             "line": {
              "color": "#E5ECF6",
              "width": 0.5
             },
             "pattern": {
              "fillmode": "overlay",
              "size": 10,
              "solidity": 0.2
             }
            },
            "type": "bar"
           }
          ],
          "barpolar": [
           {
            "marker": {
             "line": {
              "color": "#E5ECF6",
              "width": 0.5
             },
             "pattern": {
              "fillmode": "overlay",
              "size": 10,
              "solidity": 0.2
             }
            },
            "type": "barpolar"
           }
          ],
          "carpet": [
           {
            "aaxis": {
             "endlinecolor": "#2a3f5f",
             "gridcolor": "white",
             "linecolor": "white",
             "minorgridcolor": "white",
             "startlinecolor": "#2a3f5f"
            },
            "baxis": {
             "endlinecolor": "#2a3f5f",
             "gridcolor": "white",
             "linecolor": "white",
             "minorgridcolor": "white",
             "startlinecolor": "#2a3f5f"
            },
            "type": "carpet"
           }
          ],
          "choropleth": [
           {
            "colorbar": {
             "outlinewidth": 0,
             "ticks": ""
            },
            "type": "choropleth"
           }
          ],
          "contour": [
           {
            "colorbar": {
             "outlinewidth": 0,
             "ticks": ""
            },
            "colorscale": [
             [
              0,
              "#0d0887"
             ],
             [
              0.1111111111111111,
              "#46039f"
             ],
             [
              0.2222222222222222,
              "#7201a8"
             ],
             [
              0.3333333333333333,
              "#9c179e"
             ],
             [
              0.4444444444444444,
              "#bd3786"
             ],
             [
              0.5555555555555556,
              "#d8576b"
             ],
             [
              0.6666666666666666,
              "#ed7953"
             ],
             [
              0.7777777777777778,
              "#fb9f3a"
             ],
             [
              0.8888888888888888,
              "#fdca26"
             ],
             [
              1,
              "#f0f921"
             ]
            ],
            "type": "contour"
           }
          ],
          "contourcarpet": [
           {
            "colorbar": {
             "outlinewidth": 0,
             "ticks": ""
            },
            "type": "contourcarpet"
           }
          ],
          "heatmap": [
           {
            "colorbar": {
             "outlinewidth": 0,
             "ticks": ""
            },
            "colorscale": [
             [
              0,
              "#0d0887"
             ],
             [
              0.1111111111111111,
              "#46039f"
             ],
             [
              0.2222222222222222,
              "#7201a8"
             ],
             [
              0.3333333333333333,
              "#9c179e"
             ],
             [
              0.4444444444444444,
              "#bd3786"
             ],
             [
              0.5555555555555556,
              "#d8576b"
             ],
             [
              0.6666666666666666,
              "#ed7953"
             ],
             [
              0.7777777777777778,
              "#fb9f3a"
             ],
             [
              0.8888888888888888,
              "#fdca26"
             ],
             [
              1,
              "#f0f921"
             ]
            ],
            "type": "heatmap"
           }
          ],
          "heatmapgl": [
           {
            "colorbar": {
             "outlinewidth": 0,
             "ticks": ""
            },
            "colorscale": [
             [
              0,
              "#0d0887"
             ],
             [
              0.1111111111111111,
              "#46039f"
             ],
             [
              0.2222222222222222,
              "#7201a8"
             ],
             [
              0.3333333333333333,
              "#9c179e"
             ],
             [
              0.4444444444444444,
              "#bd3786"
             ],
             [
              0.5555555555555556,
              "#d8576b"
             ],
             [
              0.6666666666666666,
              "#ed7953"
             ],
             [
              0.7777777777777778,
              "#fb9f3a"
             ],
             [
              0.8888888888888888,
              "#fdca26"
             ],
             [
              1,
              "#f0f921"
             ]
            ],
            "type": "heatmapgl"
           }
          ],
          "histogram": [
           {
            "marker": {
             "pattern": {
              "fillmode": "overlay",
              "size": 10,
              "solidity": 0.2
             }
            },
            "type": "histogram"
           }
          ],
          "histogram2d": [
           {
            "colorbar": {
             "outlinewidth": 0,
             "ticks": ""
            },
            "colorscale": [
             [
              0,
              "#0d0887"
             ],
             [
              0.1111111111111111,
              "#46039f"
             ],
             [
              0.2222222222222222,
              "#7201a8"
             ],
             [
              0.3333333333333333,
              "#9c179e"
             ],
             [
              0.4444444444444444,
              "#bd3786"
             ],
             [
              0.5555555555555556,
              "#d8576b"
             ],
             [
              0.6666666666666666,
              "#ed7953"
             ],
             [
              0.7777777777777778,
              "#fb9f3a"
             ],
             [
              0.8888888888888888,
              "#fdca26"
             ],
             [
              1,
              "#f0f921"
             ]
            ],
            "type": "histogram2d"
           }
          ],
          "histogram2dcontour": [
           {
            "colorbar": {
             "outlinewidth": 0,
             "ticks": ""
            },
            "colorscale": [
             [
              0,
              "#0d0887"
             ],
             [
              0.1111111111111111,
              "#46039f"
             ],
             [
              0.2222222222222222,
              "#7201a8"
             ],
             [
              0.3333333333333333,
              "#9c179e"
             ],
             [
              0.4444444444444444,
              "#bd3786"
             ],
             [
              0.5555555555555556,
              "#d8576b"
             ],
             [
              0.6666666666666666,
              "#ed7953"
             ],
             [
              0.7777777777777778,
              "#fb9f3a"
             ],
             [
              0.8888888888888888,
              "#fdca26"
             ],
             [
              1,
              "#f0f921"
             ]
            ],
            "type": "histogram2dcontour"
           }
          ],
          "mesh3d": [
           {
            "colorbar": {
             "outlinewidth": 0,
             "ticks": ""
            },
            "type": "mesh3d"
           }
          ],
          "parcoords": [
           {
            "line": {
             "colorbar": {
              "outlinewidth": 0,
              "ticks": ""
             }
            },
            "type": "parcoords"
           }
          ],
          "pie": [
           {
            "automargin": true,
            "type": "pie"
           }
          ],
          "scatter": [
           {
            "fillpattern": {
             "fillmode": "overlay",
             "size": 10,
             "solidity": 0.2
            },
            "type": "scatter"
           }
          ],
          "scatter3d": [
           {
            "line": {
             "colorbar": {
              "outlinewidth": 0,
              "ticks": ""
             }
            },
            "marker": {
             "colorbar": {
              "outlinewidth": 0,
              "ticks": ""
             }
            },
            "type": "scatter3d"
           }
          ],
          "scattercarpet": [
           {
            "marker": {
             "colorbar": {
              "outlinewidth": 0,
              "ticks": ""
             }
            },
            "type": "scattercarpet"
           }
          ],
          "scattergeo": [
           {
            "marker": {
             "colorbar": {
              "outlinewidth": 0,
              "ticks": ""
             }
            },
            "type": "scattergeo"
           }
          ],
          "scattergl": [
           {
            "marker": {
             "colorbar": {
              "outlinewidth": 0,
              "ticks": ""
             }
            },
            "type": "scattergl"
           }
          ],
          "scattermapbox": [
           {
            "marker": {
             "colorbar": {
              "outlinewidth": 0,
              "ticks": ""
             }
            },
            "type": "scattermapbox"
           }
          ],
          "scatterpolar": [
           {
            "marker": {
             "colorbar": {
              "outlinewidth": 0,
              "ticks": ""
             }
            },
            "type": "scatterpolar"
           }
          ],
          "scatterpolargl": [
           {
            "marker": {
             "colorbar": {
              "outlinewidth": 0,
              "ticks": ""
             }
            },
            "type": "scatterpolargl"
           }
          ],
          "scatterternary": [
           {
            "marker": {
             "colorbar": {
              "outlinewidth": 0,
              "ticks": ""
             }
            },
            "type": "scatterternary"
           }
          ],
          "surface": [
           {
            "colorbar": {
             "outlinewidth": 0,
             "ticks": ""
            },
            "colorscale": [
             [
              0,
              "#0d0887"
             ],
             [
              0.1111111111111111,
              "#46039f"
             ],
             [
              0.2222222222222222,
              "#7201a8"
             ],
             [
              0.3333333333333333,
              "#9c179e"
             ],
             [
              0.4444444444444444,
              "#bd3786"
             ],
             [
              0.5555555555555556,
              "#d8576b"
             ],
             [
              0.6666666666666666,
              "#ed7953"
             ],
             [
              0.7777777777777778,
              "#fb9f3a"
             ],
             [
              0.8888888888888888,
              "#fdca26"
             ],
             [
              1,
              "#f0f921"
             ]
            ],
            "type": "surface"
           }
          ],
          "table": [
           {
            "cells": {
             "fill": {
              "color": "#EBF0F8"
             },
             "line": {
              "color": "white"
             }
            },
            "header": {
             "fill": {
              "color": "#C8D4E3"
             },
             "line": {
              "color": "white"
             }
            },
            "type": "table"
           }
          ]
         },
         "layout": {
          "annotationdefaults": {
           "arrowcolor": "#2a3f5f",
           "arrowhead": 0,
           "arrowwidth": 1
          },
          "autotypenumbers": "strict",
          "coloraxis": {
           "colorbar": {
            "outlinewidth": 0,
            "ticks": ""
           }
          },
          "colorscale": {
           "diverging": [
            [
             0,
             "#8e0152"
            ],
            [
             0.1,
             "#c51b7d"
            ],
            [
             0.2,
             "#de77ae"
            ],
            [
             0.3,
             "#f1b6da"
            ],
            [
             0.4,
             "#fde0ef"
            ],
            [
             0.5,
             "#f7f7f7"
            ],
            [
             0.6,
             "#e6f5d0"
            ],
            [
             0.7,
             "#b8e186"
            ],
            [
             0.8,
             "#7fbc41"
            ],
            [
             0.9,
             "#4d9221"
            ],
            [
             1,
             "#276419"
            ]
           ],
           "sequential": [
            [
             0,
             "#0d0887"
            ],
            [
             0.1111111111111111,
             "#46039f"
            ],
            [
             0.2222222222222222,
             "#7201a8"
            ],
            [
             0.3333333333333333,
             "#9c179e"
            ],
            [
             0.4444444444444444,
             "#bd3786"
            ],
            [
             0.5555555555555556,
             "#d8576b"
            ],
            [
             0.6666666666666666,
             "#ed7953"
            ],
            [
             0.7777777777777778,
             "#fb9f3a"
            ],
            [
             0.8888888888888888,
             "#fdca26"
            ],
            [
             1,
             "#f0f921"
            ]
           ],
           "sequentialminus": [
            [
             0,
             "#0d0887"
            ],
            [
             0.1111111111111111,
             "#46039f"
            ],
            [
             0.2222222222222222,
             "#7201a8"
            ],
            [
             0.3333333333333333,
             "#9c179e"
            ],
            [
             0.4444444444444444,
             "#bd3786"
            ],
            [
             0.5555555555555556,
             "#d8576b"
            ],
            [
             0.6666666666666666,
             "#ed7953"
            ],
            [
             0.7777777777777778,
             "#fb9f3a"
            ],
            [
             0.8888888888888888,
             "#fdca26"
            ],
            [
             1,
             "#f0f921"
            ]
           ]
          },
          "colorway": [
           "#636efa",
           "#EF553B",
           "#00cc96",
           "#ab63fa",
           "#FFA15A",
           "#19d3f3",
           "#FF6692",
           "#B6E880",
           "#FF97FF",
           "#FECB52"
          ],
          "font": {
           "color": "#2a3f5f"
          },
          "geo": {
           "bgcolor": "white",
           "lakecolor": "white",
           "landcolor": "#E5ECF6",
           "showlakes": true,
           "showland": true,
           "subunitcolor": "white"
          },
          "hoverlabel": {
           "align": "left"
          },
          "hovermode": "closest",
          "mapbox": {
           "style": "light"
          },
          "paper_bgcolor": "white",
          "plot_bgcolor": "#E5ECF6",
          "polar": {
           "angularaxis": {
            "gridcolor": "white",
            "linecolor": "white",
            "ticks": ""
           },
           "bgcolor": "#E5ECF6",
           "radialaxis": {
            "gridcolor": "white",
            "linecolor": "white",
            "ticks": ""
           }
          },
          "scene": {
           "xaxis": {
            "backgroundcolor": "#E5ECF6",
            "gridcolor": "white",
            "gridwidth": 2,
            "linecolor": "white",
            "showbackground": true,
            "ticks": "",
            "zerolinecolor": "white"
           },
           "yaxis": {
            "backgroundcolor": "#E5ECF6",
            "gridcolor": "white",
            "gridwidth": 2,
            "linecolor": "white",
            "showbackground": true,
            "ticks": "",
            "zerolinecolor": "white"
           },
           "zaxis": {
            "backgroundcolor": "#E5ECF6",
            "gridcolor": "white",
            "gridwidth": 2,
            "linecolor": "white",
            "showbackground": true,
            "ticks": "",
            "zerolinecolor": "white"
           }
          },
          "shapedefaults": {
           "line": {
            "color": "#2a3f5f"
           }
          },
          "ternary": {
           "aaxis": {
            "gridcolor": "white",
            "linecolor": "white",
            "ticks": ""
           },
           "baxis": {
            "gridcolor": "white",
            "linecolor": "white",
            "ticks": ""
           },
           "bgcolor": "#E5ECF6",
           "caxis": {
            "gridcolor": "white",
            "linecolor": "white",
            "ticks": ""
           }
          },
          "title": {
           "x": 0.05
          },
          "xaxis": {
           "automargin": true,
           "gridcolor": "white",
           "linecolor": "white",
           "ticks": "",
           "title": {
            "standoff": 15
           },
           "zerolinecolor": "white",
           "zerolinewidth": 2
          },
          "yaxis": {
           "automargin": true,
           "gridcolor": "white",
           "linecolor": "white",
           "ticks": "",
           "title": {
            "standoff": 15
           },
           "zerolinecolor": "white",
           "zerolinewidth": 2
          }
         }
        },
        "title": {
         "text": "Cosine sim of Input weights and the my color probe for top layer 3 neurons"
        },
        "xaxis": {
         "anchor": "y",
         "domain": [
          0,
          0.08200000000000002
         ],
         "title": {
          "text": "x"
         }
        },
        "xaxis10": {
         "anchor": "y10",
         "domain": [
          0.9180000000000001,
          1
         ],
         "matches": "x",
         "title": {
          "text": "x"
         }
        },
        "xaxis2": {
         "anchor": "y2",
         "domain": [
          0.10200000000000002,
          0.18400000000000005
         ],
         "matches": "x",
         "title": {
          "text": "x"
         }
        },
        "xaxis3": {
         "anchor": "y3",
         "domain": [
          0.20400000000000004,
          0.28600000000000003
         ],
         "matches": "x",
         "title": {
          "text": "x"
         }
        },
        "xaxis4": {
         "anchor": "y4",
         "domain": [
          0.30600000000000005,
          0.38800000000000007
         ],
         "matches": "x",
         "title": {
          "text": "x"
         }
        },
        "xaxis5": {
         "anchor": "y5",
         "domain": [
          0.4080000000000001,
          0.4900000000000001
         ],
         "matches": "x",
         "title": {
          "text": "x"
         }
        },
        "xaxis6": {
         "anchor": "y6",
         "domain": [
          0.5100000000000001,
          0.5920000000000001
         ],
         "matches": "x",
         "title": {
          "text": "x"
         }
        },
        "xaxis7": {
         "anchor": "y7",
         "domain": [
          0.6120000000000001,
          0.6940000000000002
         ],
         "matches": "x",
         "title": {
          "text": "x"
         }
        },
        "xaxis8": {
         "anchor": "y8",
         "domain": [
          0.7140000000000001,
          0.796
         ],
         "matches": "x",
         "title": {
          "text": "x"
         }
        },
        "xaxis9": {
         "anchor": "y9",
         "domain": [
          0.8160000000000002,
          0.8980000000000001
         ],
         "matches": "x",
         "title": {
          "text": "x"
         }
        },
        "yaxis": {
         "anchor": "x",
         "autorange": "reversed",
         "domain": [
          0,
          1
         ],
         "title": {
          "text": "y"
         }
        },
        "yaxis10": {
         "anchor": "x10",
         "domain": [
          0,
          1
         ],
         "matches": "y",
         "showticklabels": false
        },
        "yaxis2": {
         "anchor": "x2",
         "domain": [
          0,
          1
         ],
         "matches": "y",
         "showticklabels": false
        },
        "yaxis3": {
         "anchor": "x3",
         "domain": [
          0,
          1
         ],
         "matches": "y",
         "showticklabels": false
        },
        "yaxis4": {
         "anchor": "x4",
         "domain": [
          0,
          1
         ],
         "matches": "y",
         "showticklabels": false
        },
        "yaxis5": {
         "anchor": "x5",
         "domain": [
          0,
          1
         ],
         "matches": "y",
         "showticklabels": false
        },
        "yaxis6": {
         "anchor": "x6",
         "domain": [
          0,
          1
         ],
         "matches": "y",
         "showticklabels": false
        },
        "yaxis7": {
         "anchor": "x7",
         "domain": [
          0,
          1
         ],
         "matches": "y",
         "showticklabels": false
        },
        "yaxis8": {
         "anchor": "x8",
         "domain": [
          0,
          1
         ],
         "matches": "y",
         "showticklabels": false
        },
        "yaxis9": {
         "anchor": "x9",
         "domain": [
          0,
          1
         ],
         "matches": "y",
         "showticklabels": false
        }
       }
      }
     },
     "metadata": {},
     "output_type": "display_data"
    },
    {
     "data": {
      "application/vnd.plotly.v1+json": {
       "config": {
        "plotlyServerURL": "https://plot.ly"
       },
       "data": [
        {
         "coloraxis": "coloraxis",
         "hovertemplate": "x: %{x}<br>y: %{y}<br>color: %{z}<extra></extra>",
         "name": "0",
         "type": "heatmap",
         "xaxis": "x",
         "y": [
          "A",
          "B",
          "C",
          "D",
          "E",
          "F",
          "G",
          "H"
         ],
         "yaxis": "y",
         "z": [
          [
           0.08272252976894379,
           0.10497834533452988,
           0.13134640455245972,
           0.14105549454689026,
           0.08316574990749359,
           0.17498919367790222,
           0.0615222193300724,
           0.049623481929302216
          ],
          [
           0.16755905747413635,
           0.052417561411857605,
           0.09105474501848221,
           0.0336708202958107,
           0.06880238652229309,
           0.08958274126052856,
           0.04424123466014862,
           0.052737899124622345
          ],
          [
           0.12214169651269913,
           0.10095870494842529,
           -0.006796855479478836,
           0.0036249570548534393,
           -0.13160470128059387,
           0.02547760121524334,
           0.04313565418124199,
           0.10572727024555206
          ],
          [
           0.05874350666999817,
           0.025392232462763786,
           -0.042706262320280075,
           0,
           0,
           -0.08267612010240555,
           0.03638498857617378,
           0.08220598101615906
          ],
          [
           0.10666221380233765,
           0.011628870852291584,
           -0.1372624933719635,
           0,
           0,
           0.009394552558660507,
           0.031398989260196686,
           0.0950978696346283
          ],
          [
           0.04349946603178978,
           -0.010586045682430267,
           -0.03062478080391884,
           -0.1459006667137146,
           -0.022423628717660904,
           -0.02808435820043087,
           0.049616601318120956,
           0.07900784909725189
          ],
          [
           0.08119718730449677,
           0.053192492574453354,
           0.043407224118709564,
           0.0038948841392993927,
           0.034668147563934326,
           0.05210825055837631,
           0.05140773952007294,
           0.17004024982452393
          ],
          [
           0.06613487005233765,
           0.1292126178741455,
           0.10036982595920563,
           0.1035880446434021,
           0.0678987205028534,
           0.08142032474279404,
           0.06302982568740845,
           0.06416873633861542
          ]
         ]
        },
        {
         "coloraxis": "coloraxis",
         "hovertemplate": "x: %{x}<br>y: %{y}<br>color: %{z}<extra></extra>",
         "name": "1",
         "type": "heatmap",
         "xaxis": "x2",
         "y": [
          "A",
          "B",
          "C",
          "D",
          "E",
          "F",
          "G",
          "H"
         ],
         "yaxis": "y2",
         "z": [
          [
           0.06574656814336777,
           0.0879855826497078,
           0.0746617466211319,
           0.11299127340316772,
           0.07082058489322662,
           0.08278960734605789,
           0.03393852338194847,
           0.06497788429260254
          ],
          [
           0.10502783954143524,
           -0.015083469450473785,
           0.02687886357307434,
           -0.023791421204805374,
           0.044787950813770294,
           0.024224359542131424,
           0.05239701271057129,
           0.03163500130176544
          ],
          [
           0.06564681231975555,
           0.04880078136920929,
           -0.06025781109929085,
           -0.06385499984025955,
           -0.14206135272979736,
           0.04050995036959648,
           0.028770217671990395,
           0.047718316316604614
          ],
          [
           0.062256552278995514,
           -0.019516006112098694,
           -0.04910079389810562,
           0,
           0,
           -0.12323522567749023,
           -0.0017552406061440706,
           0.04740530997514725
          ],
          [
           0.07988613098859787,
           0.03671872988343239,
           -0.11824434995651245,
           0,
           0,
           0.015130499377846718,
           0.028199447318911552,
           0.05616068094968796
          ],
          [
           0.06874716281890869,
           -0.0024320781230926514,
           0.030399860814213753,
           -0.08582976460456848,
           0.02484019659459591,
           0.10349930822849274,
           0.0114718247205019,
           0.044629812240600586
          ],
          [
           0.08701196312904358,
           0.061781078577041626,
           0.05541209876537323,
           0.06865642964839935,
           0.03214231878519058,
           0.013700909912586212,
           0.0625428706407547,
           0.055677786469459534
          ],
          [
           0.07115098088979721,
           0.09683527052402496,
           0.10022875666618347,
           0.11971564590930939,
           0.08661201596260071,
           0.06959854066371918,
           0.045759692788124084,
           0.06476377695798874
          ]
         ]
        },
        {
         "coloraxis": "coloraxis",
         "hovertemplate": "x: %{x}<br>y: %{y}<br>color: %{z}<extra></extra>",
         "name": "2",
         "type": "heatmap",
         "xaxis": "x3",
         "y": [
          "A",
          "B",
          "C",
          "D",
          "E",
          "F",
          "G",
          "H"
         ],
         "yaxis": "y3",
         "z": [
          [
           0.034772176295518875,
           0.037950512021780014,
           0.01230956893414259,
           0.03767857328057289,
           -0.0056098951026797295,
           0.01914343610405922,
           0.020350446924567223,
           0.029164720326662064
          ],
          [
           0.02707686275243759,
           0.02061988040804863,
           0.0012258673086762428,
           -0.01856100931763649,
           0.00186574412509799,
           0.005388597492128611,
           0.03541399911046028,
           -0.00946785043925047
          ],
          [
           0.10480433702468872,
           0.0546935498714447,
           -0.002383335493505001,
           0.005897696129977703,
           -0.030809683725237846,
           0.000931689515709877,
           0.0029734577983617783,
           0.011564712040126324
          ],
          [
           0.15452532470226288,
           0.18182657659053802,
           0.0028487779200077057,
           0,
           0,
           -0.008422267623245716,
           0.011082800105214119,
           -0.0051138196140527725
          ],
          [
           0.12900866568088531,
           0.12147390842437744,
           0.013669401407241821,
           0,
           0,
           0.009167667478322983,
           -0.0029073799960315228,
           -0.002886096015572548
          ],
          [
           0.04418103024363518,
           0.04172661900520325,
           0.030784733593463898,
           -0.006567176431417465,
           -0.00359044736251235,
           0.016023553907871246,
           0.016810491681098938,
           -0.03242845833301544
          ],
          [
           0.023198910057544708,
           0.04214799404144287,
           0.004170557484030724,
           0.03198414668440819,
           0.009198269806802273,
           -0.001308724284172058,
           0.005236215889453888,
           0.00622822530567646
          ],
          [
           0.027934513986110687,
           0.03169983625411987,
           0.0006161965429782867,
           0.013484545052051544,
           0.02323318086564541,
           0.01293010450899601,
           0.006492823362350464,
           -0.0003430815413594246
          ]
         ]
        },
        {
         "coloraxis": "coloraxis",
         "hovertemplate": "x: %{x}<br>y: %{y}<br>color: %{z}<extra></extra>",
         "name": "3",
         "type": "heatmap",
         "xaxis": "x4",
         "y": [
          "A",
          "B",
          "C",
          "D",
          "E",
          "F",
          "G",
          "H"
         ],
         "yaxis": "y4",
         "z": [
          [
           0.02638784423470497,
           0.0037414757534861565,
           0.001264592632651329,
           -0.0028004134073853493,
           0.019669387489557266,
           0.028790991753339767,
           0.028680555522441864,
           0.05815182998776436
          ],
          [
           0.020492658019065857,
           0.002825457602739334,
           -0.0020735785365104675,
           0.014927204698324203,
           0.006990115158259869,
           0.03973432630300522,
           0.03577028587460518,
           0.05270736664533615
          ],
          [
           0.047196466475725174,
           -0.009282877668738365,
           -0.024228231981396675,
           -0.019524935632944107,
           -0.011203208938241005,
           -0.007219116669148207,
           -0.01357481349259615,
           0.03277730196714401
          ],
          [
           0.021113289520144463,
           0.01904928684234619,
           -0.01285090483725071,
           0,
           0,
           0.10237742960453033,
           -0.045921579003334045,
           0.04353600740432739
          ],
          [
           0.00009524822235107422,
           0.016851384192705154,
           0.00001862458884716034,
           0,
           0,
           -0.15873366594314575,
           -0.015618184581398964,
           0.000307698966935277
          ],
          [
           0.08102408051490784,
           0.02573639713227749,
           -0.002169322222471237,
           0.1307772696018219,
           -0.14495061337947845,
           -0.10966478288173676,
           -0.04072650894522667,
           0.011190365068614483
          ],
          [
           0.022575322538614273,
           0.03736730292439461,
           -0.005242031067609787,
           -0.01730586588382721,
           -0.03034435771405697,
           -0.03027314320206642,
           -0.029929913580417633,
           0.038839176297187805
          ],
          [
           0.023414773866534233,
           0.044099923223257065,
           0.02564036101102829,
           -0.003405730240046978,
           0.014400098472833633,
           0.03452043980360031,
           -0.026533115655183792,
           -0.009339739568531513
          ]
         ]
        },
        {
         "coloraxis": "coloraxis",
         "hovertemplate": "x: %{x}<br>y: %{y}<br>color: %{z}<extra></extra>",
         "name": "4",
         "type": "heatmap",
         "xaxis": "x5",
         "y": [
          "A",
          "B",
          "C",
          "D",
          "E",
          "F",
          "G",
          "H"
         ],
         "yaxis": "y5",
         "z": [
          [
           0.027833446860313416,
           0.01075630635023117,
           0.022295083850622177,
           0.022524425759911537,
           0.02554788440465927,
           0.005721740424633026,
           0.017419055104255676,
           0.04908592253923416
          ],
          [
           0.01291063241660595,
           -0.049405358731746674,
           -0.02468498796224594,
           -0.033577196300029755,
           0.0011705453507602215,
           0.017396196722984314,
           0.051382385194301605,
           0.046730026602745056
          ],
          [
           -0.043233271688222885,
           -0.10871399939060211,
           -0.1403883695602417,
           -0.13379722833633423,
           -0.016683466732501984,
           0.027883773669600487,
           0.01914718560874462,
           0.05680856108665466
          ],
          [
           0.035262517631053925,
           0.04764189571142197,
           0.039083339273929596,
           0,
           0,
           0.01067638024687767,
           -0.012653137557208538,
           0.02186129055917263
          ],
          [
           -0.04597007483243942,
           -0.11943463981151581,
           -0.10982491075992584,
           0,
           0,
           -0.038542717695236206,
           0.029301512986421585,
           0.05557079240679741
          ],
          [
           -0.0027610999532043934,
           0.004375142976641655,
           0.0038851313292980194,
           -0.0269519854336977,
           -0.036562077701091766,
           -0.012107951566576958,
           -0.02684595435857773,
           -0.008456772193312645
          ],
          [
           -0.002892147284001112,
           0.007562164217233658,
           0.004722777754068375,
           -0.007063906639814377,
           -0.014383368194103241,
           0.017308475449681282,
           0.039968978613615036,
           0.01359578873962164
          ],
          [
           0.006198069080710411,
           0.03521149232983589,
           0.019513778388500214,
           -0.000986679457128048,
           0.04132901877164841,
           0.031854234635829926,
           0.022991569712758064,
           0.04672784358263016
          ]
         ]
        },
        {
         "coloraxis": "coloraxis",
         "hovertemplate": "x: %{x}<br>y: %{y}<br>color: %{z}<extra></extra>",
         "name": "5",
         "type": "heatmap",
         "xaxis": "x6",
         "y": [
          "A",
          "B",
          "C",
          "D",
          "E",
          "F",
          "G",
          "H"
         ],
         "yaxis": "y6",
         "z": [
          [
           0.03615506738424301,
           0.04746581241488457,
           0.03934513404965401,
           0.05290689691901207,
           0.04663560166954994,
           0.043974049389362335,
           0.014295535162091255,
           0.047330550849437714
          ],
          [
           0.01781015656888485,
           0.06986220926046371,
           0.11276121437549591,
           0.013805171474814415,
           -0.004724736325442791,
           0.03677816689014435,
           0.014448651112616062,
           0.019105084240436554
          ],
          [
           0.11999037861824036,
           0.24670232832431793,
           0.03636625036597252,
           -0.012061286717653275,
           -0.025841254740953445,
           0.004825239069759846,
           0.015246368944644928,
           0.02176990918815136
          ],
          [
           0.11504250764846802,
           0.0026492364704608917,
           -0.0604521669447422,
           0,
           0,
           -0.006822971627116203,
           0.014018903486430645,
           0.03257877007126808
          ],
          [
           0.014460751786828041,
           -0.023849114775657654,
           0.0026493240147829056,
           0,
           0,
           -0.016693582758307457,
           -0.0018470734357833862,
           0.023563113063573837
          ],
          [
           0.030837908387184143,
           0.027372468262910843,
           -0.030664194375276566,
           -0.012787321582436562,
           -0.03183836489915848,
           0.0021018018014729023,
           0.0211302749812603,
           0.024494964629411697
          ],
          [
           0.026376981288194656,
           0.01276799663901329,
           0.0030071954242885113,
           -0.002463351935148239,
           -0.0007188916206359863,
           0.004737493582069874,
           0.033386293798685074,
           0.02789010852575302
          ],
          [
           0.019936267286539078,
           0.009151682257652283,
           0.033146943897008896,
           0.022205978631973267,
           0.021247461438179016,
           0.032533422112464905,
           0.027646157890558243,
           0.030915673822164536
          ]
         ]
        },
        {
         "coloraxis": "coloraxis",
         "hovertemplate": "x: %{x}<br>y: %{y}<br>color: %{z}<extra></extra>",
         "name": "6",
         "type": "heatmap",
         "xaxis": "x7",
         "y": [
          "A",
          "B",
          "C",
          "D",
          "E",
          "F",
          "G",
          "H"
         ],
         "yaxis": "y7",
         "z": [
          [
           0.011907472275197506,
           0.02408338338136673,
           -0.00855419971048832,
           0.021464765071868896,
           0.022380342707037926,
           0.019104667007923126,
           0.014205588027834892,
           -0.012924770824611187
          ],
          [
           -0.005067219492048025,
           0.00022866809740662575,
           -0.0016025002114474773,
           -0.0081673264503479,
           -0.01579613983631134,
           0.018270321190357208,
           0.026054907590150833,
           0.002936528529971838
          ],
          [
           0.055096812546253204,
           -0.019687026739120483,
           -0.029474029317498207,
           -0.02924681082367897,
           -0.006323919165879488,
           0.018010880798101425,
           0.021109871566295624,
           0.00481734424829483
          ],
          [
           0.047214120626449585,
           0.012407399713993073,
           -0.0633373111486435,
           0,
           0,
           -0.03224316984415054,
           -0.028003472834825516,
           -0.010020414367318153
          ],
          [
           0.07114432752132416,
           0.008643453940749168,
           -0.038934797048568726,
           0,
           0,
           -0.02921883389353752,
           0.0016988757997751236,
           0.008502118289470673
          ],
          [
           0.011071309447288513,
           0.08236251771450043,
           0.02189764194190502,
           -0.059485696256160736,
           -0.056710802018642426,
           0.008787170052528381,
           -0.004916081205010414,
           -0.006324570160359144
          ],
          [
           0.05439909175038338,
           0.14972615242004395,
           -0.11036944389343262,
           -0.011150013655424118,
           0.04590614512562752,
           -0.005514703691005707,
           0.04792620241641998,
           -0.010984320193529129
          ],
          [
           0.22049251198768616,
           0.06573110073804855,
           -0.16273245215415955,
           0.04232911020517349,
           -0.022025523707270622,
           0.02417776733636856,
           0.004918275400996208,
           -0.029598504304885864
          ]
         ]
        },
        {
         "coloraxis": "coloraxis",
         "hovertemplate": "x: %{x}<br>y: %{y}<br>color: %{z}<extra></extra>",
         "name": "7",
         "type": "heatmap",
         "xaxis": "x8",
         "y": [
          "A",
          "B",
          "C",
          "D",
          "E",
          "F",
          "G",
          "H"
         ],
         "yaxis": "y8",
         "z": [
          [
           0.021668050438165665,
           0.034521907567977905,
           -0.041506364941596985,
           0.04326996952295303,
           0.10993862897157669,
           0.10729826241731644,
           -0.054996930062770844,
           -0.014752674847841263
          ],
          [
           0.008376190438866615,
           0.04238571971654892,
           0.021654091775417328,
           0.015221445821225643,
           0.13591113686561584,
           0.10525137931108475,
           0.009021987207233906,
           0.011761478148400784
          ],
          [
           0.028361013159155846,
           0.0004501454532146454,
           0.009831973351538181,
           0.03247437626123428,
           -0.014378633350133896,
           -0.009903905913233757,
           -0.022794876247644424,
           0.01239093765616417
          ],
          [
           0.02443998120725155,
           -0.0056955283507704735,
           -0.011039824225008488,
           0,
           0,
           -0.04666152969002724,
           0.028240129351615906,
           -0.001790432259440422
          ],
          [
           0.02468123659491539,
           0.013293273746967316,
           -0.008039833046495914,
           0,
           0,
           -0.04520827531814575,
           -0.021638499572873116,
           0.012046445161104202
          ],
          [
           -0.0024197278544306755,
           0.0044770631939172745,
           -0.0138962771743536,
           -0.013730902224779129,
           0.010675342753529549,
           -0.002299400046467781,
           -0.007354775443673134,
           -0.013148944824934006
          ],
          [
           0.026527587324380875,
           0.0041136061772704124,
           0.011743824928998947,
           0.004534527659416199,
           -0.020385056734085083,
           0.0025117211043834686,
           0.01004047878086567,
           -0.020444605499505997
          ],
          [
           -0.0068383850157260895,
           0.020824318751692772,
           0.019312841817736626,
           0.006959991529583931,
           0.017931126058101654,
           -0.0050993869081139565,
           0.025748897343873978,
           0.01867572031915188
          ]
         ]
        },
        {
         "coloraxis": "coloraxis",
         "hovertemplate": "x: %{x}<br>y: %{y}<br>color: %{z}<extra></extra>",
         "name": "8",
         "type": "heatmap",
         "xaxis": "x9",
         "y": [
          "A",
          "B",
          "C",
          "D",
          "E",
          "F",
          "G",
          "H"
         ],
         "yaxis": "y9",
         "z": [
          [
           0.018266167491674423,
           0.02364981919527054,
           0.048032764345407486,
           0.05115111172199249,
           0.013556452468037605,
           0.016997477039694786,
           -0.012608205899596214,
           0.0320032462477684
          ],
          [
           0.009796207770705223,
           0.012365216389298439,
           0.026386823505163193,
           -0.03540915250778198,
           -0.007467835210263729,
           -0.013718373142182827,
           0.0012673567980527878,
           -0.005185682326555252
          ],
          [
           0.003372563049197197,
           0.03533342108130455,
           0.0059809498488903046,
           -0.01416896190494299,
           -0.029615599662065506,
           -0.004681192338466644,
           0.007261462509632111,
           0.029713623225688934
          ],
          [
           0.011024905368685722,
           -0.0011132247745990753,
           -0.058231886476278305,
           0,
           0,
           -0.03264617174863815,
           -0.0004412531852722168,
           0.032504335045814514
          ],
          [
           -0.00035120476968586445,
           0.012159204110503197,
           -0.05634259805083275,
           0,
           0,
           -0.02895943447947502,
           0.017163991928100586,
           -0.018487505614757538
          ],
          [
           0.033256012946367264,
           -0.0012953868135809898,
           0.02502039074897766,
           -0.0039686039090156555,
           -0.039348796010017395,
           -0.0065157534554600716,
           0.019060824066400528,
           0.009487774223089218
          ],
          [
           0.010420722886919975,
           0.012226665392518044,
           -0.028040539473295212,
           0.20754438638687134,
           -0.035024020820856094,
           -0.03034219890832901,
           0.010664522647857666,
           0.010629916563630104
          ],
          [
           0.021550603210926056,
           0.008396544493734837,
           0.13778828084468842,
           0.12299811840057373,
           0.11211548745632172,
           -0.000029591843485832214,
           0.05186128243803978,
           0.031037045642733574
          ]
         ]
        },
        {
         "coloraxis": "coloraxis",
         "hovertemplate": "x: %{x}<br>y: %{y}<br>color: %{z}<extra></extra>",
         "name": "9",
         "type": "heatmap",
         "xaxis": "x10",
         "y": [
          "A",
          "B",
          "C",
          "D",
          "E",
          "F",
          "G",
          "H"
         ],
         "yaxis": "y10",
         "z": [
          [
           0.03973754495382309,
           0.03059186041355133,
           0.04495587944984436,
           0.04936046898365021,
           0.041155360639095306,
           0.07968871295452118,
           0.034025341272354126,
           0.03596634417772293
          ],
          [
           0.02088688313961029,
           -0.0036831852048635483,
           -0.007934389635920525,
           0.011883322149515152,
           0.038537658751010895,
           0.01733674481511116,
           0.0116506889462471,
           0.025610309094190598
          ],
          [
           0.04114827513694763,
           0.01116936095058918,
           -0.020392797887325287,
           -0.0018527330830693245,
           0.03796772658824921,
           -0.009156071580946445,
           -0.013973728753626347,
           0.027124013751745224
          ],
          [
           -0.0027905283495783806,
           -0.024776224046945572,
           -0.03763746842741966,
           0,
           0,
           -0.021706294268369675,
           -0.02788267284631729,
           0.03127054125070572
          ],
          [
           0.012688228860497475,
           0.025094326585531235,
           0.013521136716008186,
           0,
           0,
           -0.0478878952562809,
           -0.006968557834625244,
           0.039637599140405655
          ],
          [
           0.007323425263166428,
           -0.008167368359863758,
           -0.16242358088493347,
           -0.1782533824443817,
           -0.18912145495414734,
           -0.11462706327438354,
           -0.04026871547102928,
           0.00029754266142845154
          ],
          [
           0.050455160439014435,
           0.004710839595645666,
           -0.006451662629842758,
           -0.037100352346897125,
           -0.0010720379650592804,
           -0.03361320123076439,
           -0.005126388743519783,
           0.049257438629865646
          ],
          [
           0.007649675942957401,
           0.046229563653469086,
           -0.0022411085665225983,
           0.022410914301872253,
           0.013882666826248169,
           0.017406243830919266,
           0.005031310487538576,
           0.010388977825641632
          ]
         ]
        }
       ],
       "layout": {
        "annotations": [
         {
          "font": {},
          "showarrow": false,
          "text": "L4N976",
          "x": 0.04100000000000001,
          "xanchor": "center",
          "xref": "paper",
          "y": 1,
          "yanchor": "bottom",
          "yref": "paper"
         },
         {
          "font": {},
          "showarrow": false,
          "text": "L4N233",
          "x": 0.14300000000000004,
          "xanchor": "center",
          "xref": "paper",
          "y": 1,
          "yanchor": "bottom",
          "yref": "paper"
         },
         {
          "font": {},
          "showarrow": false,
          "text": "L4N1012",
          "x": 0.24500000000000005,
          "xanchor": "center",
          "xref": "paper",
          "y": 1,
          "yanchor": "bottom",
          "yref": "paper"
         },
         {
          "font": {},
          "showarrow": false,
          "text": "L4N1988",
          "x": 0.3470000000000001,
          "xanchor": "center",
          "xref": "paper",
          "y": 1,
          "yanchor": "bottom",
          "yref": "paper"
         },
         {
          "font": {},
          "showarrow": false,
          "text": "L4N2044",
          "x": 0.44900000000000007,
          "xanchor": "center",
          "xref": "paper",
          "y": 1,
          "yanchor": "bottom",
          "yref": "paper"
         },
         {
          "font": {},
          "showarrow": false,
          "text": "L4N61",
          "x": 0.5510000000000002,
          "xanchor": "center",
          "xref": "paper",
          "y": 1,
          "yanchor": "bottom",
          "yref": "paper"
         },
         {
          "font": {},
          "showarrow": false,
          "text": "L4N70",
          "x": 0.6530000000000001,
          "xanchor": "center",
          "xref": "paper",
          "y": 1,
          "yanchor": "bottom",
          "yref": "paper"
         },
         {
          "font": {},
          "showarrow": false,
          "text": "L4N100",
          "x": 0.7550000000000001,
          "xanchor": "center",
          "xref": "paper",
          "y": 1,
          "yanchor": "bottom",
          "yref": "paper"
         },
         {
          "font": {},
          "showarrow": false,
          "text": "L4N133",
          "x": 0.8570000000000002,
          "xanchor": "center",
          "xref": "paper",
          "y": 1,
          "yanchor": "bottom",
          "yref": "paper"
         },
         {
          "font": {},
          "showarrow": false,
          "text": "L4N372",
          "x": 0.9590000000000002,
          "xanchor": "center",
          "xref": "paper",
          "y": 1,
          "yanchor": "bottom",
          "yref": "paper"
         }
        ],
        "coloraxis": {
         "cmax": 0.5,
         "cmid": 0,
         "cmin": -0.5,
         "colorscale": [
          [
           0,
           "rgb(103,0,31)"
          ],
          [
           0.1,
           "rgb(178,24,43)"
          ],
          [
           0.2,
           "rgb(214,96,77)"
          ],
          [
           0.3,
           "rgb(244,165,130)"
          ],
          [
           0.4,
           "rgb(253,219,199)"
          ],
          [
           0.5,
           "rgb(247,247,247)"
          ],
          [
           0.6,
           "rgb(209,229,240)"
          ],
          [
           0.7,
           "rgb(146,197,222)"
          ],
          [
           0.8,
           "rgb(67,147,195)"
          ],
          [
           0.9,
           "rgb(33,102,172)"
          ],
          [
           1,
           "rgb(5,48,97)"
          ]
         ]
        },
        "template": {
         "data": {
          "bar": [
           {
            "error_x": {
             "color": "#2a3f5f"
            },
            "error_y": {
             "color": "#2a3f5f"
            },
            "marker": {
             "line": {
              "color": "#E5ECF6",
              "width": 0.5
             },
             "pattern": {
              "fillmode": "overlay",
              "size": 10,
              "solidity": 0.2
             }
            },
            "type": "bar"
           }
          ],
          "barpolar": [
           {
            "marker": {
             "line": {
              "color": "#E5ECF6",
              "width": 0.5
             },
             "pattern": {
              "fillmode": "overlay",
              "size": 10,
              "solidity": 0.2
             }
            },
            "type": "barpolar"
           }
          ],
          "carpet": [
           {
            "aaxis": {
             "endlinecolor": "#2a3f5f",
             "gridcolor": "white",
             "linecolor": "white",
             "minorgridcolor": "white",
             "startlinecolor": "#2a3f5f"
            },
            "baxis": {
             "endlinecolor": "#2a3f5f",
             "gridcolor": "white",
             "linecolor": "white",
             "minorgridcolor": "white",
             "startlinecolor": "#2a3f5f"
            },
            "type": "carpet"
           }
          ],
          "choropleth": [
           {
            "colorbar": {
             "outlinewidth": 0,
             "ticks": ""
            },
            "type": "choropleth"
           }
          ],
          "contour": [
           {
            "colorbar": {
             "outlinewidth": 0,
             "ticks": ""
            },
            "colorscale": [
             [
              0,
              "#0d0887"
             ],
             [
              0.1111111111111111,
              "#46039f"
             ],
             [
              0.2222222222222222,
              "#7201a8"
             ],
             [
              0.3333333333333333,
              "#9c179e"
             ],
             [
              0.4444444444444444,
              "#bd3786"
             ],
             [
              0.5555555555555556,
              "#d8576b"
             ],
             [
              0.6666666666666666,
              "#ed7953"
             ],
             [
              0.7777777777777778,
              "#fb9f3a"
             ],
             [
              0.8888888888888888,
              "#fdca26"
             ],
             [
              1,
              "#f0f921"
             ]
            ],
            "type": "contour"
           }
          ],
          "contourcarpet": [
           {
            "colorbar": {
             "outlinewidth": 0,
             "ticks": ""
            },
            "type": "contourcarpet"
           }
          ],
          "heatmap": [
           {
            "colorbar": {
             "outlinewidth": 0,
             "ticks": ""
            },
            "colorscale": [
             [
              0,
              "#0d0887"
             ],
             [
              0.1111111111111111,
              "#46039f"
             ],
             [
              0.2222222222222222,
              "#7201a8"
             ],
             [
              0.3333333333333333,
              "#9c179e"
             ],
             [
              0.4444444444444444,
              "#bd3786"
             ],
             [
              0.5555555555555556,
              "#d8576b"
             ],
             [
              0.6666666666666666,
              "#ed7953"
             ],
             [
              0.7777777777777778,
              "#fb9f3a"
             ],
             [
              0.8888888888888888,
              "#fdca26"
             ],
             [
              1,
              "#f0f921"
             ]
            ],
            "type": "heatmap"
           }
          ],
          "heatmapgl": [
           {
            "colorbar": {
             "outlinewidth": 0,
             "ticks": ""
            },
            "colorscale": [
             [
              0,
              "#0d0887"
             ],
             [
              0.1111111111111111,
              "#46039f"
             ],
             [
              0.2222222222222222,
              "#7201a8"
             ],
             [
              0.3333333333333333,
              "#9c179e"
             ],
             [
              0.4444444444444444,
              "#bd3786"
             ],
             [
              0.5555555555555556,
              "#d8576b"
             ],
             [
              0.6666666666666666,
              "#ed7953"
             ],
             [
              0.7777777777777778,
              "#fb9f3a"
             ],
             [
              0.8888888888888888,
              "#fdca26"
             ],
             [
              1,
              "#f0f921"
             ]
            ],
            "type": "heatmapgl"
           }
          ],
          "histogram": [
           {
            "marker": {
             "pattern": {
              "fillmode": "overlay",
              "size": 10,
              "solidity": 0.2
             }
            },
            "type": "histogram"
           }
          ],
          "histogram2d": [
           {
            "colorbar": {
             "outlinewidth": 0,
             "ticks": ""
            },
            "colorscale": [
             [
              0,
              "#0d0887"
             ],
             [
              0.1111111111111111,
              "#46039f"
             ],
             [
              0.2222222222222222,
              "#7201a8"
             ],
             [
              0.3333333333333333,
              "#9c179e"
             ],
             [
              0.4444444444444444,
              "#bd3786"
             ],
             [
              0.5555555555555556,
              "#d8576b"
             ],
             [
              0.6666666666666666,
              "#ed7953"
             ],
             [
              0.7777777777777778,
              "#fb9f3a"
             ],
             [
              0.8888888888888888,
              "#fdca26"
             ],
             [
              1,
              "#f0f921"
             ]
            ],
            "type": "histogram2d"
           }
          ],
          "histogram2dcontour": [
           {
            "colorbar": {
             "outlinewidth": 0,
             "ticks": ""
            },
            "colorscale": [
             [
              0,
              "#0d0887"
             ],
             [
              0.1111111111111111,
              "#46039f"
             ],
             [
              0.2222222222222222,
              "#7201a8"
             ],
             [
              0.3333333333333333,
              "#9c179e"
             ],
             [
              0.4444444444444444,
              "#bd3786"
             ],
             [
              0.5555555555555556,
              "#d8576b"
             ],
             [
              0.6666666666666666,
              "#ed7953"
             ],
             [
              0.7777777777777778,
              "#fb9f3a"
             ],
             [
              0.8888888888888888,
              "#fdca26"
             ],
             [
              1,
              "#f0f921"
             ]
            ],
            "type": "histogram2dcontour"
           }
          ],
          "mesh3d": [
           {
            "colorbar": {
             "outlinewidth": 0,
             "ticks": ""
            },
            "type": "mesh3d"
           }
          ],
          "parcoords": [
           {
            "line": {
             "colorbar": {
              "outlinewidth": 0,
              "ticks": ""
             }
            },
            "type": "parcoords"
           }
          ],
          "pie": [
           {
            "automargin": true,
            "type": "pie"
           }
          ],
          "scatter": [
           {
            "fillpattern": {
             "fillmode": "overlay",
             "size": 10,
             "solidity": 0.2
            },
            "type": "scatter"
           }
          ],
          "scatter3d": [
           {
            "line": {
             "colorbar": {
              "outlinewidth": 0,
              "ticks": ""
             }
            },
            "marker": {
             "colorbar": {
              "outlinewidth": 0,
              "ticks": ""
             }
            },
            "type": "scatter3d"
           }
          ],
          "scattercarpet": [
           {
            "marker": {
             "colorbar": {
              "outlinewidth": 0,
              "ticks": ""
             }
            },
            "type": "scattercarpet"
           }
          ],
          "scattergeo": [
           {
            "marker": {
             "colorbar": {
              "outlinewidth": 0,
              "ticks": ""
             }
            },
            "type": "scattergeo"
           }
          ],
          "scattergl": [
           {
            "marker": {
             "colorbar": {
              "outlinewidth": 0,
              "ticks": ""
             }
            },
            "type": "scattergl"
           }
          ],
          "scattermapbox": [
           {
            "marker": {
             "colorbar": {
              "outlinewidth": 0,
              "ticks": ""
             }
            },
            "type": "scattermapbox"
           }
          ],
          "scatterpolar": [
           {
            "marker": {
             "colorbar": {
              "outlinewidth": 0,
              "ticks": ""
             }
            },
            "type": "scatterpolar"
           }
          ],
          "scatterpolargl": [
           {
            "marker": {
             "colorbar": {
              "outlinewidth": 0,
              "ticks": ""
             }
            },
            "type": "scatterpolargl"
           }
          ],
          "scatterternary": [
           {
            "marker": {
             "colorbar": {
              "outlinewidth": 0,
              "ticks": ""
             }
            },
            "type": "scatterternary"
           }
          ],
          "surface": [
           {
            "colorbar": {
             "outlinewidth": 0,
             "ticks": ""
            },
            "colorscale": [
             [
              0,
              "#0d0887"
             ],
             [
              0.1111111111111111,
              "#46039f"
             ],
             [
              0.2222222222222222,
              "#7201a8"
             ],
             [
              0.3333333333333333,
              "#9c179e"
             ],
             [
              0.4444444444444444,
              "#bd3786"
             ],
             [
              0.5555555555555556,
              "#d8576b"
             ],
             [
              0.6666666666666666,
              "#ed7953"
             ],
             [
              0.7777777777777778,
              "#fb9f3a"
             ],
             [
              0.8888888888888888,
              "#fdca26"
             ],
             [
              1,
              "#f0f921"
             ]
            ],
            "type": "surface"
           }
          ],
          "table": [
           {
            "cells": {
             "fill": {
              "color": "#EBF0F8"
             },
             "line": {
              "color": "white"
             }
            },
            "header": {
             "fill": {
              "color": "#C8D4E3"
             },
             "line": {
              "color": "white"
             }
            },
            "type": "table"
           }
          ]
         },
         "layout": {
          "annotationdefaults": {
           "arrowcolor": "#2a3f5f",
           "arrowhead": 0,
           "arrowwidth": 1
          },
          "autotypenumbers": "strict",
          "coloraxis": {
           "colorbar": {
            "outlinewidth": 0,
            "ticks": ""
           }
          },
          "colorscale": {
           "diverging": [
            [
             0,
             "#8e0152"
            ],
            [
             0.1,
             "#c51b7d"
            ],
            [
             0.2,
             "#de77ae"
            ],
            [
             0.3,
             "#f1b6da"
            ],
            [
             0.4,
             "#fde0ef"
            ],
            [
             0.5,
             "#f7f7f7"
            ],
            [
             0.6,
             "#e6f5d0"
            ],
            [
             0.7,
             "#b8e186"
            ],
            [
             0.8,
             "#7fbc41"
            ],
            [
             0.9,
             "#4d9221"
            ],
            [
             1,
             "#276419"
            ]
           ],
           "sequential": [
            [
             0,
             "#0d0887"
            ],
            [
             0.1111111111111111,
             "#46039f"
            ],
            [
             0.2222222222222222,
             "#7201a8"
            ],
            [
             0.3333333333333333,
             "#9c179e"
            ],
            [
             0.4444444444444444,
             "#bd3786"
            ],
            [
             0.5555555555555556,
             "#d8576b"
            ],
            [
             0.6666666666666666,
             "#ed7953"
            ],
            [
             0.7777777777777778,
             "#fb9f3a"
            ],
            [
             0.8888888888888888,
             "#fdca26"
            ],
            [
             1,
             "#f0f921"
            ]
           ],
           "sequentialminus": [
            [
             0,
             "#0d0887"
            ],
            [
             0.1111111111111111,
             "#46039f"
            ],
            [
             0.2222222222222222,
             "#7201a8"
            ],
            [
             0.3333333333333333,
             "#9c179e"
            ],
            [
             0.4444444444444444,
             "#bd3786"
            ],
            [
             0.5555555555555556,
             "#d8576b"
            ],
            [
             0.6666666666666666,
             "#ed7953"
            ],
            [
             0.7777777777777778,
             "#fb9f3a"
            ],
            [
             0.8888888888888888,
             "#fdca26"
            ],
            [
             1,
             "#f0f921"
            ]
           ]
          },
          "colorway": [
           "#636efa",
           "#EF553B",
           "#00cc96",
           "#ab63fa",
           "#FFA15A",
           "#19d3f3",
           "#FF6692",
           "#B6E880",
           "#FF97FF",
           "#FECB52"
          ],
          "font": {
           "color": "#2a3f5f"
          },
          "geo": {
           "bgcolor": "white",
           "lakecolor": "white",
           "landcolor": "#E5ECF6",
           "showlakes": true,
           "showland": true,
           "subunitcolor": "white"
          },
          "hoverlabel": {
           "align": "left"
          },
          "hovermode": "closest",
          "mapbox": {
           "style": "light"
          },
          "paper_bgcolor": "white",
          "plot_bgcolor": "#E5ECF6",
          "polar": {
           "angularaxis": {
            "gridcolor": "white",
            "linecolor": "white",
            "ticks": ""
           },
           "bgcolor": "#E5ECF6",
           "radialaxis": {
            "gridcolor": "white",
            "linecolor": "white",
            "ticks": ""
           }
          },
          "scene": {
           "xaxis": {
            "backgroundcolor": "#E5ECF6",
            "gridcolor": "white",
            "gridwidth": 2,
            "linecolor": "white",
            "showbackground": true,
            "ticks": "",
            "zerolinecolor": "white"
           },
           "yaxis": {
            "backgroundcolor": "#E5ECF6",
            "gridcolor": "white",
            "gridwidth": 2,
            "linecolor": "white",
            "showbackground": true,
            "ticks": "",
            "zerolinecolor": "white"
           },
           "zaxis": {
            "backgroundcolor": "#E5ECF6",
            "gridcolor": "white",
            "gridwidth": 2,
            "linecolor": "white",
            "showbackground": true,
            "ticks": "",
            "zerolinecolor": "white"
           }
          },
          "shapedefaults": {
           "line": {
            "color": "#2a3f5f"
           }
          },
          "ternary": {
           "aaxis": {
            "gridcolor": "white",
            "linecolor": "white",
            "ticks": ""
           },
           "baxis": {
            "gridcolor": "white",
            "linecolor": "white",
            "ticks": ""
           },
           "bgcolor": "#E5ECF6",
           "caxis": {
            "gridcolor": "white",
            "linecolor": "white",
            "ticks": ""
           }
          },
          "title": {
           "x": 0.05
          },
          "xaxis": {
           "automargin": true,
           "gridcolor": "white",
           "linecolor": "white",
           "ticks": "",
           "title": {
            "standoff": 15
           },
           "zerolinecolor": "white",
           "zerolinewidth": 2
          },
          "yaxis": {
           "automargin": true,
           "gridcolor": "white",
           "linecolor": "white",
           "ticks": "",
           "title": {
            "standoff": 15
           },
           "zerolinecolor": "white",
           "zerolinewidth": 2
          }
         }
        },
        "title": {
         "text": "Cosine sim of Input weights and the my color probe for top layer 4 neurons"
        },
        "xaxis": {
         "anchor": "y",
         "domain": [
          0,
          0.08200000000000002
         ],
         "title": {
          "text": "x"
         }
        },
        "xaxis10": {
         "anchor": "y10",
         "domain": [
          0.9180000000000001,
          1
         ],
         "matches": "x",
         "title": {
          "text": "x"
         }
        },
        "xaxis2": {
         "anchor": "y2",
         "domain": [
          0.10200000000000002,
          0.18400000000000005
         ],
         "matches": "x",
         "title": {
          "text": "x"
         }
        },
        "xaxis3": {
         "anchor": "y3",
         "domain": [
          0.20400000000000004,
          0.28600000000000003
         ],
         "matches": "x",
         "title": {
          "text": "x"
         }
        },
        "xaxis4": {
         "anchor": "y4",
         "domain": [
          0.30600000000000005,
          0.38800000000000007
         ],
         "matches": "x",
         "title": {
          "text": "x"
         }
        },
        "xaxis5": {
         "anchor": "y5",
         "domain": [
          0.4080000000000001,
          0.4900000000000001
         ],
         "matches": "x",
         "title": {
          "text": "x"
         }
        },
        "xaxis6": {
         "anchor": "y6",
         "domain": [
          0.5100000000000001,
          0.5920000000000001
         ],
         "matches": "x",
         "title": {
          "text": "x"
         }
        },
        "xaxis7": {
         "anchor": "y7",
         "domain": [
          0.6120000000000001,
          0.6940000000000002
         ],
         "matches": "x",
         "title": {
          "text": "x"
         }
        },
        "xaxis8": {
         "anchor": "y8",
         "domain": [
          0.7140000000000001,
          0.796
         ],
         "matches": "x",
         "title": {
          "text": "x"
         }
        },
        "xaxis9": {
         "anchor": "y9",
         "domain": [
          0.8160000000000002,
          0.8980000000000001
         ],
         "matches": "x",
         "title": {
          "text": "x"
         }
        },
        "yaxis": {
         "anchor": "x",
         "autorange": "reversed",
         "domain": [
          0,
          1
         ],
         "title": {
          "text": "y"
         }
        },
        "yaxis10": {
         "anchor": "x10",
         "domain": [
          0,
          1
         ],
         "matches": "y",
         "showticklabels": false
        },
        "yaxis2": {
         "anchor": "x2",
         "domain": [
          0,
          1
         ],
         "matches": "y",
         "showticklabels": false
        },
        "yaxis3": {
         "anchor": "x3",
         "domain": [
          0,
          1
         ],
         "matches": "y",
         "showticklabels": false
        },
        "yaxis4": {
         "anchor": "x4",
         "domain": [
          0,
          1
         ],
         "matches": "y",
         "showticklabels": false
        },
        "yaxis5": {
         "anchor": "x5",
         "domain": [
          0,
          1
         ],
         "matches": "y",
         "showticklabels": false
        },
        "yaxis6": {
         "anchor": "x6",
         "domain": [
          0,
          1
         ],
         "matches": "y",
         "showticklabels": false
        },
        "yaxis7": {
         "anchor": "x7",
         "domain": [
          0,
          1
         ],
         "matches": "y",
         "showticklabels": false
        },
        "yaxis8": {
         "anchor": "x8",
         "domain": [
          0,
          1
         ],
         "matches": "y",
         "showticklabels": false
        },
        "yaxis9": {
         "anchor": "x9",
         "domain": [
          0,
          1
         ],
         "matches": "y",
         "showticklabels": false
        }
       }
      }
     },
     "metadata": {},
     "output_type": "display_data"
    },
    {
     "data": {
      "application/vnd.plotly.v1+json": {
       "config": {
        "plotlyServerURL": "https://plot.ly"
       },
       "data": [
        {
         "coloraxis": "coloraxis",
         "hovertemplate": "x: %{x}<br>y: %{y}<br>color: %{z}<extra></extra>",
         "name": "0",
         "type": "heatmap",
         "xaxis": "x",
         "y": [
          "A",
          "B",
          "C",
          "D",
          "E",
          "F",
          "G",
          "H"
         ],
         "yaxis": "y",
         "z": [
          [
           0.07837504893541336,
           0.09906111657619476,
           0.05628368631005287,
           0.15058761835098267,
           0.08816354721784592,
           0.08945995569229126,
           0.06268516182899475,
           0.0739603042602539
          ],
          [
           0.11574964225292206,
           0.011314434930682182,
           0.06634805351495743,
           0.060690321028232574,
           0.04413772001862526,
           0.053840987384319305,
           -0.005376076325774193,
           0.07173021137714386
          ],
          [
           0.07119013369083405,
           0.06167233735322952,
           -0.05152583122253418,
           -0.015500292181968689,
           -0.05101441219449043,
           0.07512277364730835,
           0.05627131462097168,
           0.09410232305526733
          ],
          [
           0.053040534257888794,
           0.021434331312775612,
           -0.009182242676615715,
           0,
           0,
           -0.04874344915151596,
           0.025672204792499542,
           0.10908601433038712
          ],
          [
           0.07515372335910797,
           0.0550905242562294,
           -0.05973586067557335,
           0,
           0,
           0.03492990881204605,
           0.0912856012582779,
           0.1284400373697281
          ],
          [
           0.05712302774190903,
           0.013914395123720169,
           -0.0247043427079916,
           -0.11483950912952423,
           -0.01301582157611847,
           -0.0641806572675705,
           0.029366888105869293,
           0.0870518907904625
          ],
          [
           0.10583540797233582,
           0.02256770245730877,
           0.07175793498754501,
           0.039469823241233826,
           0.009880312718451023,
           -0.004201531410217285,
           0.03785230964422226,
           0.09334764629602432
          ],
          [
           0.048422981053590775,
           0.1113920658826828,
           0.11277181655168533,
           0.10324463248252869,
           0.04857788234949112,
           0.0982879251241684,
           0.06792557239532471,
           0.0713735967874527
          ]
         ]
        },
        {
         "coloraxis": "coloraxis",
         "hovertemplate": "x: %{x}<br>y: %{y}<br>color: %{z}<extra></extra>",
         "name": "1",
         "type": "heatmap",
         "xaxis": "x2",
         "y": [
          "A",
          "B",
          "C",
          "D",
          "E",
          "F",
          "G",
          "H"
         ],
         "yaxis": "y2",
         "z": [
          [
           0.026026960462331772,
           0.039660077542066574,
           0.019203178584575653,
           0.02823297306895256,
           0.015415636822581291,
           0.06253717839717865,
           0.0247219055891037,
           0.07595048099756241
          ],
          [
           0.04794951528310776,
           0.01158016175031662,
           0.006062461994588375,
           -0.006083612330257893,
           0.01758079044520855,
           0.05246352776885033,
           0.1054830402135849,
           0.06973393261432648
          ],
          [
           0.03481769561767578,
           0.004547911696135998,
           -0.03197444975376129,
           -0.015688946470618248,
           0.0023038797080516815,
           0.06371334195137024,
           0.04556775093078613,
           0.14713045954704285
          ],
          [
           0.04222229868173599,
           0.03678432106971741,
           -0.00717988982796669,
           0,
           0,
           0.035814039409160614,
           0.11782284080982208,
           -0.20933710038661957
          ],
          [
           0.04391167685389519,
           0.02100258320569992,
           -0.02713012881577015,
           0,
           0,
           -0.04924360662698746,
           -0.04361933469772339,
           -0.008275208994746208
          ],
          [
           0.02004326693713665,
           0.013803842477500439,
           -0.02207079902291298,
           -0.006066453643143177,
           0.022821594029664993,
           -0.04517588019371033,
           0.0030668536201119423,
           0.11804570257663727
          ],
          [
           0.04836132377386093,
           0.03559548407793045,
           -0.0043821875005960464,
           0.011055292561650276,
           0.004351490177214146,
           -0.007053596433252096,
           0.04226545989513397,
           0.056887976825237274
          ],
          [
           0.03801211342215538,
           0.010162261314690113,
           0.006442518904805183,
           0.019047405570745468,
           0.043660588562488556,
           0.03624429181218147,
           0.041602954268455505,
           0.038361288607120514
          ]
         ]
        },
        {
         "coloraxis": "coloraxis",
         "hovertemplate": "x: %{x}<br>y: %{y}<br>color: %{z}<extra></extra>",
         "name": "2",
         "type": "heatmap",
         "xaxis": "x3",
         "y": [
          "A",
          "B",
          "C",
          "D",
          "E",
          "F",
          "G",
          "H"
         ],
         "yaxis": "y3",
         "z": [
          [
           0.05003495514392853,
           0.04814379662275314,
           0.08661394566297531,
           0.046459708362817764,
           0.008639140985906124,
           0.08619165420532227,
           0.05382480472326279,
           0.07444702833890915
          ],
          [
           0.06324578821659088,
           0.05058915540575981,
           0.04732576757669449,
           0.0008869278244674206,
           0.07499570399522781,
           0.011430282145738602,
           0.03973207622766495,
           0.03437747806310654
          ],
          [
           0.10004835575819016,
           -0.012521356344223022,
           0.044372133910655975,
           -0.05730210989713669,
           0.052364982664585114,
           0.042856283485889435,
           0.01859525591135025,
           0.0467541329562664
          ],
          [
           0.038246624171733856,
           -0.01018163375556469,
           -0.07580019533634186,
           0,
           0,
           -0.09238848090171814,
           -0.025787394493818283,
           0.027993833646178246
          ],
          [
           0.05472492054104805,
           0.02927570603787899,
           0.033533018082380295,
           0,
           0,
           -0.030545054003596306,
           0.026909876614809036,
           0.06780600547790527
          ],
          [
           0.07913462072610855,
           0.018291901797056198,
           -0.013926886953413486,
           -0.04431209713220596,
           -0.016011234372854233,
           -0.10870707035064697,
           -0.009532754309475422,
           0.034121014177799225
          ],
          [
           0.09535825252532959,
           0.06332720071077347,
           0.05694243684411049,
           0.012785261496901512,
           0.056084319949150085,
           0.012077704071998596,
           0.012357259169220924,
           0.045131780207157135
          ],
          [
           0.08638834208250046,
           0.10723802447319031,
           0.0864144042134285,
           0.09094108641147614,
           0.12057264149188995,
           0.10911198705434799,
           0.05125092715024948,
           0.035492219030857086
          ]
         ]
        },
        {
         "coloraxis": "coloraxis",
         "hovertemplate": "x: %{x}<br>y: %{y}<br>color: %{z}<extra></extra>",
         "name": "3",
         "type": "heatmap",
         "xaxis": "x4",
         "y": [
          "A",
          "B",
          "C",
          "D",
          "E",
          "F",
          "G",
          "H"
         ],
         "yaxis": "y4",
         "z": [
          [
           0.019181037321686745,
           0.021427761763334274,
           0.00012823380529880524,
           -0.009206432849168777,
           0.022172516211867332,
           0.010552449151873589,
           0.013029638677835464,
           0.010628028772771358
          ],
          [
           0.019960127770900726,
           -0.014030979946255684,
           -0.013452267274260521,
           -0.04644609987735748,
           0.003520267317071557,
           0.0018023760057985783,
           -0.0064630694687366486,
           -0.007745140232145786
          ],
          [
           -0.00969220045953989,
           -0.02564573846757412,
           -0.026367539539933205,
           -0.06383740901947021,
           -0.04082011058926582,
           -0.059525758028030396,
           -0.03334273025393486,
           -0.010607471689581871
          ],
          [
           -0.0530630424618721,
           -0.04303566366434097,
           -0.06949291378259659,
           0,
           0,
           -0.023778898641467094,
           -0.007695190608501434,
           -0.0081162229180336
          ],
          [
           -0.055018212646245956,
           -0.15496326982975006,
           -0.05329401046037674,
           0,
           0,
           -0.045785337686538696,
           -0.011201397515833378,
           -0.006285073235630989
          ],
          [
           -0.10440550744533539,
           0.0019702697172760963,
           -0.23971551656723022,
           -0.07122232019901276,
           -0.03691321238875389,
           -0.016046077013015747,
           0.009745236486196518,
           0.045938145369291306
          ],
          [
           0.05607837438583374,
           -0.12426261603832245,
           -0.14169129729270935,
           -0.02028511092066765,
           -0.013637203723192215,
           -0.024453159421682358,
           0.009507501497864723,
           0.010969786904752254
          ],
          [
           -0.024951960891485214,
           -0.015856090933084488,
           0.0501711443066597,
           0.020613400265574455,
           -0.022007407620549202,
           0.02225964516401291,
           0.02703644521534443,
           0.03240623325109482
          ]
         ]
        },
        {
         "coloraxis": "coloraxis",
         "hovertemplate": "x: %{x}<br>y: %{y}<br>color: %{z}<extra></extra>",
         "name": "4",
         "type": "heatmap",
         "xaxis": "x5",
         "y": [
          "A",
          "B",
          "C",
          "D",
          "E",
          "F",
          "G",
          "H"
         ],
         "yaxis": "y5",
         "z": [
          [
           0.19652920961380005,
           0.14654825627803802,
           0.10113571584224701,
           0.14241066575050354,
           0.2063583880662918,
           0.05163877084851265,
           -0.034058764576911926,
           -0.03351645544171333
          ],
          [
           -0.008630742318928242,
           0.022022966295480728,
           0.024271056056022644,
           0.01949326880276203,
           0.06652189791202545,
           0.0522204264998436,
           -0.03710934519767761,
           0.013254610821604729
          ],
          [
           0.052570637315511703,
           -0.005980477202683687,
           0.019868014380335808,
           0.002746421843767166,
           -0.012754487805068493,
           -0.0780269131064415,
           -0.0020025111734867096,
           -0.01331426203250885
          ],
          [
           0.04062458127737045,
           0.01125889178365469,
           -0.03954871743917465,
           0,
           0,
           -0.010798504576086998,
           0.0056679099798202515,
           0.0012512188404798508
          ],
          [
           0.05909845605492592,
           0.006834749598056078,
           -0.00906786136329174,
           0,
           0,
           -0.029296189546585083,
           0.016341514885425568,
           0.01639711670577526
          ],
          [
           0.010689044371247292,
           0.004487540572881699,
           -0.015620885416865349,
           -0.024965763092041016,
           -0.015818148851394653,
           -0.011880900710821152,
           0.030303172767162323,
           0.025006353855133057
          ],
          [
           0.043593037873506546,
           0.024320201948285103,
           -0.02424567937850952,
           -0.027928689494729042,
           0.021316591650247574,
           0.009167038835585117,
           0.03210678696632385,
           0.008451792411506176
          ],
          [
           0.004271385259926319,
           0.03567883372306824,
           -0.002084641717374325,
           0.027298372238874435,
           0.016558296978473663,
           0.0285322442650795,
           0.029172133654356003,
           0.027268340811133385
          ]
         ]
        },
        {
         "coloraxis": "coloraxis",
         "hovertemplate": "x: %{x}<br>y: %{y}<br>color: %{z}<extra></extra>",
         "name": "5",
         "type": "heatmap",
         "xaxis": "x6",
         "y": [
          "A",
          "B",
          "C",
          "D",
          "E",
          "F",
          "G",
          "H"
         ],
         "yaxis": "y6",
         "z": [
          [
           0.011043069884181023,
           -0.00612441124394536,
           -0.007001218851655722,
           -0.03254760429263115,
           0.016543667763471603,
           -0.025808528065681458,
           -0.010583298280835152,
           0.01593102514743805
          ],
          [
           0.005546029657125473,
           -0.01157517358660698,
           -0.04125947505235672,
           -0.10367941111326218,
           -0.021271497011184692,
           -0.018641794100403786,
           0.02914128266274929,
           0.05279146507382393
          ],
          [
           -0.004498666152358055,
           -0.10157321393489838,
           0.02112729847431183,
           -0.20859764516353607,
           -0.08857651054859161,
           -0.014043467119336128,
           0.02294977754354477,
           -0.015216151252388954
          ],
          [
           -0.000978388823568821,
           -0.13636243343353271,
           -0.14278268814086914,
           0,
           0,
           0.01688837818801403,
           0.01484675146639347,
           0.03494488075375557
          ],
          [
           0.0011950014159083366,
           -0.03909818083047867,
           -0.037964627146720886,
           0,
           0,
           -0.03416852653026581,
           0.008215127512812614,
           0.04882735759019852
          ],
          [
           -0.013465173542499542,
           -0.03732867166399956,
           -0.020336419343948364,
           0.00709114596247673,
           -0.04607687518000603,
           -0.022700585424900055,
           0.029276829212903976,
           0.010796325281262398
          ],
          [
           0.008636949583888054,
           -0.015239983797073364,
           0.021751007065176964,
           0.02542899362742901,
           -0.01417781412601471,
           -0.011742165312170982,
           -0.0025036511942744255,
           0.009040207602083683
          ],
          [
           0.012944385409355164,
           0.0049991486594080925,
           0.006195574998855591,
           0.0054182615131139755,
           0.014374800957739353,
           0.01401679776608944,
           -0.0027474667876958847,
           0.051273003220558167
          ]
         ]
        },
        {
         "coloraxis": "coloraxis",
         "hovertemplate": "x: %{x}<br>y: %{y}<br>color: %{z}<extra></extra>",
         "name": "6",
         "type": "heatmap",
         "xaxis": "x7",
         "y": [
          "A",
          "B",
          "C",
          "D",
          "E",
          "F",
          "G",
          "H"
         ],
         "yaxis": "y7",
         "z": [
          [
           0.02286589704453945,
           0.028762344270944595,
           -0.028440164402127266,
           -0.07496512681245804,
           -0.11292051523923874,
           0.04553702473640442,
           -0.05307886004447937,
           0.010232822969555855
          ],
          [
           0.0069190445356070995,
           -0.003361032111570239,
           -0.024688981473445892,
           -0.1888759732246399,
           -0.10730776190757751,
           -0.1431601345539093,
           -0.0038184979930520058,
           -0.007526339963078499
          ],
          [
           0.013454651460051537,
           0.00044070184230804443,
           -0.002568364143371582,
           -0.045579344034194946,
           -0.23903276026248932,
           -0.043979860842227936,
           -0.040564924478530884,
           -0.013185243122279644
          ],
          [
           0.031118489801883698,
           0.023745421320199966,
           0.02352941781282425,
           0,
           0,
           -0.04180580750107765,
           -0.025412406772375107,
           0.018291784450411797
          ],
          [
           0.028624916449189186,
           -0.006268906872719526,
           -0.03319017216563225,
           0,
           0,
           -0.014043586328625679,
           -0.011950092390179634,
           -0.0069434684701263905
          ],
          [
           -0.0011840108782052994,
           0.0015049231005832553,
           -0.008523976430296898,
           0.020455699414014816,
           -0.0009165476076304913,
           0.010716790333390236,
           -0.009743176400661469,
           -0.008807798847556114
          ],
          [
           0.014032166451215744,
           -0.01031070202589035,
           0.023120878264307976,
           0.02426777593791485,
           0.0029524434357881546,
           -0.00037318095564842224,
           -0.010396318510174751,
           0.006465328857302666
          ],
          [
           0.03875710815191269,
           -0.007425587624311447,
           0.03432457149028778,
           0.012816839851439,
           0.016310133039951324,
           0.007413722574710846,
           0.009675560519099236,
           0.008697204291820526
          ]
         ]
        },
        {
         "coloraxis": "coloraxis",
         "hovertemplate": "x: %{x}<br>y: %{y}<br>color: %{z}<extra></extra>",
         "name": "7",
         "type": "heatmap",
         "xaxis": "x8",
         "y": [
          "A",
          "B",
          "C",
          "D",
          "E",
          "F",
          "G",
          "H"
         ],
         "yaxis": "y8",
         "z": [
          [
           0.00646283058449626,
           0.038401320576667786,
           0.034775275737047195,
           0.01882290281355381,
           0.009724580682814121,
           0.017165854573249817,
           0.04006927087903023,
           0.014842133969068527
          ],
          [
           0.03637906536459923,
           0.023194819688796997,
           0.03317653387784958,
           -0.012880772352218628,
           -0.01763542741537094,
           0.015063592232763767,
           0.0026600807905197144,
           0.0015392578206956387
          ],
          [
           0.04029963165521622,
           0.015511011704802513,
           -0.020426444709300995,
           -0.02239561453461647,
           -0.005316809751093388,
           -0.001997188664972782,
           0.0007536611519753933,
           0.03781750425696373
          ],
          [
           0.030970502644777298,
           0.026722854003310204,
           -0.03134911134839058,
           0,
           0,
           -0.027904240414500237,
           0.01442017126828432,
           0.01664220541715622
          ],
          [
           0.011081497184932232,
           0.003153742291033268,
           0.006821773946285248,
           0,
           0,
           -0.015278137288987637,
           -0.11265279352664948,
           -0.03613870590925217
          ],
          [
           0.025552120059728622,
           -0.011587433516979218,
           -0.030115332454442978,
           -0.013752374798059464,
           -0.11399203538894653,
           -0.12016822397708893,
           0.08826236426830292,
           -0.05260903388261795
          ],
          [
           0.013036797754466534,
           -0.009948725812137127,
           -0.01696966588497162,
           -0.013605681248009205,
           -0.010895408689975739,
           -0.1552191972732544,
           -0.056089095771312714,
           -0.0012228097766637802
          ],
          [
           0.01057362835854292,
           0.008604866452515125,
           0.003209151327610016,
           0.009545087814331055,
           0.008216493763029575,
           0.003986308351159096,
           -0.03407837450504303,
           0.009702498093247414
          ]
         ]
        },
        {
         "coloraxis": "coloraxis",
         "hovertemplate": "x: %{x}<br>y: %{y}<br>color: %{z}<extra></extra>",
         "name": "8",
         "type": "heatmap",
         "xaxis": "x9",
         "y": [
          "A",
          "B",
          "C",
          "D",
          "E",
          "F",
          "G",
          "H"
         ],
         "yaxis": "y9",
         "z": [
          [
           0.0014942185953259468,
           0.01632702350616455,
           0.028297368437051773,
           0.021123874932527542,
           0.0191968884319067,
           0.012478846125304699,
           -0.00303475558757782,
           0.025807645171880722
          ],
          [
           -0.0027237506583333015,
           -0.011543989181518555,
           -0.014764564111828804,
           -0.02105831913650036,
           0.008022699505090714,
           0.004916229285299778,
           -0.0025554047897458076,
           -0.009966800920665264
          ],
          [
           -0.005110785365104675,
           -0.009018074721097946,
           -0.005348184145987034,
           -0.04107511043548584,
           -0.02367468550801277,
           -0.003138769418001175,
           -0.00510816927999258,
           0.0029248427599668503
          ],
          [
           0.013567652553319931,
           0.016617584973573685,
           -0.03850918263196945,
           0,
           0,
           -0.03229153901338577,
           0.00005009770393371582,
           0.006350363604724407
          ],
          [
           0.027341149747371674,
           -0.016482843086123466,
           -0.02808202989399433,
           0,
           0,
           -0.07824694365262985,
           -0.04687301814556122,
           -0.08402958512306213
          ],
          [
           0.027089934796094894,
           -0.020651930943131447,
           -0.014320534653961658,
           -0.028192192316055298,
           0.005335062742233276,
           -0.11371921002864838,
           -0.10796656459569931,
           -0.02243034355342388
          ],
          [
           0.007008681073784828,
           0.0023670699447393417,
           -0.007600290700793266,
           -0.02946525253355503,
           -0.15526501834392548,
           -0.06474994122982025,
           -0.0690649002790451,
           -0.04996933788061142
          ],
          [
           0.03288082033395767,
           0.0033929485362023115,
           -0.000613061711192131,
           -0.01710057631134987,
           -0.10375963151454926,
           -0.06065507233142853,
           -0.03713765740394592,
           -0.00681605190038681
          ]
         ]
        },
        {
         "coloraxis": "coloraxis",
         "hovertemplate": "x: %{x}<br>y: %{y}<br>color: %{z}<extra></extra>",
         "name": "9",
         "type": "heatmap",
         "xaxis": "x10",
         "y": [
          "A",
          "B",
          "C",
          "D",
          "E",
          "F",
          "G",
          "H"
         ],
         "yaxis": "y10",
         "z": [
          [
           0.029156813398003578,
           0.04783601313829422,
           0.0616697296500206,
           -0.0010628057643771172,
           -0.014385031536221504,
           0.026243777945637703,
           0.009405926801264286,
           0.023023664951324463
          ],
          [
           0.0171821266412735,
           0.0017466787248849869,
           0.010281541384756565,
           -0.02605539932847023,
           -0.0318557471036911,
           -0.06451865285634995,
           -0.10915812849998474,
           0.002327924594283104
          ],
          [
           0.03729482367634773,
           0.042159564793109894,
           0.005595284514129162,
           -0.025345394387841225,
           -0.10023239254951477,
           -0.16529887914657593,
           -0.050896525382995605,
           0.009188341908156872
          ],
          [
           0.02166329324245453,
           0.016778433695435524,
           0.03019033744931221,
           0,
           0,
           0.014202451333403587,
           -0.13900348544120789,
           0.01118615921586752
          ],
          [
           0.008485844358801842,
           -0.011367561295628548,
           -0.06155342608690262,
           0,
           0,
           -0.00003676116466522217,
           -0.023853207007050514,
           -0.005502483807504177
          ],
          [
           0.001136676874011755,
           -0.0007743034511804581,
           0.0005867150612175465,
           -0.008701235055923462,
           -0.0333927646279335,
           -0.02592063508927822,
           -0.03315585106611252,
           0.031590335071086884
          ],
          [
           0.006128313019871712,
           -0.005010081455111504,
           -0.001209702342748642,
           -0.00832955539226532,
           0.021960249170660973,
           0.014791510999202728,
           0.009359527379274368,
           0.03211122751235962
          ],
          [
           0.029343256726861,
           0.018121182918548584,
           0.03006158396601677,
           0.02721417509019375,
           0.026103831827640533,
           0.021161431446671486,
           0.027637043967843056,
           0.059804610908031464
          ]
         ]
        }
       ],
       "layout": {
        "annotations": [
         {
          "font": {},
          "showarrow": false,
          "text": "L5N1337",
          "x": 0.04100000000000001,
          "xanchor": "center",
          "xref": "paper",
          "y": 1,
          "yanchor": "bottom",
          "yref": "paper"
         },
         {
          "font": {},
          "showarrow": false,
          "text": "L5N190",
          "x": 0.14300000000000004,
          "xanchor": "center",
          "xref": "paper",
          "y": 1,
          "yanchor": "bottom",
          "yref": "paper"
         },
         {
          "font": {},
          "showarrow": false,
          "text": "L5N714",
          "x": 0.24500000000000005,
          "xanchor": "center",
          "xref": "paper",
          "y": 1,
          "yanchor": "bottom",
          "yref": "paper"
         },
         {
          "font": {},
          "showarrow": false,
          "text": "L5N1167",
          "x": 0.3470000000000001,
          "xanchor": "center",
          "xref": "paper",
          "y": 1,
          "yanchor": "bottom",
          "yref": "paper"
         },
         {
          "font": {},
          "showarrow": false,
          "text": "L5N1410",
          "x": 0.44900000000000007,
          "xanchor": "center",
          "xref": "paper",
          "y": 1,
          "yanchor": "bottom",
          "yref": "paper"
         },
         {
          "font": {},
          "showarrow": false,
          "text": "L5N1526",
          "x": 0.5510000000000002,
          "xanchor": "center",
          "xref": "paper",
          "y": 1,
          "yanchor": "bottom",
          "yref": "paper"
         },
         {
          "font": {},
          "showarrow": false,
          "text": "L5N1879",
          "x": 0.6530000000000001,
          "xanchor": "center",
          "xref": "paper",
          "y": 1,
          "yanchor": "bottom",
          "yref": "paper"
         },
         {
          "font": {},
          "showarrow": false,
          "text": "L5N19",
          "x": 0.7550000000000001,
          "xanchor": "center",
          "xref": "paper",
          "y": 1,
          "yanchor": "bottom",
          "yref": "paper"
         },
         {
          "font": {},
          "showarrow": false,
          "text": "L5N90",
          "x": 0.8570000000000002,
          "xanchor": "center",
          "xref": "paper",
          "y": 1,
          "yanchor": "bottom",
          "yref": "paper"
         },
         {
          "font": {},
          "showarrow": false,
          "text": "L5N186",
          "x": 0.9590000000000002,
          "xanchor": "center",
          "xref": "paper",
          "y": 1,
          "yanchor": "bottom",
          "yref": "paper"
         }
        ],
        "coloraxis": {
         "cmax": 0.5,
         "cmid": 0,
         "cmin": -0.5,
         "colorscale": [
          [
           0,
           "rgb(103,0,31)"
          ],
          [
           0.1,
           "rgb(178,24,43)"
          ],
          [
           0.2,
           "rgb(214,96,77)"
          ],
          [
           0.3,
           "rgb(244,165,130)"
          ],
          [
           0.4,
           "rgb(253,219,199)"
          ],
          [
           0.5,
           "rgb(247,247,247)"
          ],
          [
           0.6,
           "rgb(209,229,240)"
          ],
          [
           0.7,
           "rgb(146,197,222)"
          ],
          [
           0.8,
           "rgb(67,147,195)"
          ],
          [
           0.9,
           "rgb(33,102,172)"
          ],
          [
           1,
           "rgb(5,48,97)"
          ]
         ]
        },
        "template": {
         "data": {
          "bar": [
           {
            "error_x": {
             "color": "#2a3f5f"
            },
            "error_y": {
             "color": "#2a3f5f"
            },
            "marker": {
             "line": {
              "color": "#E5ECF6",
              "width": 0.5
             },
             "pattern": {
              "fillmode": "overlay",
              "size": 10,
              "solidity": 0.2
             }
            },
            "type": "bar"
           }
          ],
          "barpolar": [
           {
            "marker": {
             "line": {
              "color": "#E5ECF6",
              "width": 0.5
             },
             "pattern": {
              "fillmode": "overlay",
              "size": 10,
              "solidity": 0.2
             }
            },
            "type": "barpolar"
           }
          ],
          "carpet": [
           {
            "aaxis": {
             "endlinecolor": "#2a3f5f",
             "gridcolor": "white",
             "linecolor": "white",
             "minorgridcolor": "white",
             "startlinecolor": "#2a3f5f"
            },
            "baxis": {
             "endlinecolor": "#2a3f5f",
             "gridcolor": "white",
             "linecolor": "white",
             "minorgridcolor": "white",
             "startlinecolor": "#2a3f5f"
            },
            "type": "carpet"
           }
          ],
          "choropleth": [
           {
            "colorbar": {
             "outlinewidth": 0,
             "ticks": ""
            },
            "type": "choropleth"
           }
          ],
          "contour": [
           {
            "colorbar": {
             "outlinewidth": 0,
             "ticks": ""
            },
            "colorscale": [
             [
              0,
              "#0d0887"
             ],
             [
              0.1111111111111111,
              "#46039f"
             ],
             [
              0.2222222222222222,
              "#7201a8"
             ],
             [
              0.3333333333333333,
              "#9c179e"
             ],
             [
              0.4444444444444444,
              "#bd3786"
             ],
             [
              0.5555555555555556,
              "#d8576b"
             ],
             [
              0.6666666666666666,
              "#ed7953"
             ],
             [
              0.7777777777777778,
              "#fb9f3a"
             ],
             [
              0.8888888888888888,
              "#fdca26"
             ],
             [
              1,
              "#f0f921"
             ]
            ],
            "type": "contour"
           }
          ],
          "contourcarpet": [
           {
            "colorbar": {
             "outlinewidth": 0,
             "ticks": ""
            },
            "type": "contourcarpet"
           }
          ],
          "heatmap": [
           {
            "colorbar": {
             "outlinewidth": 0,
             "ticks": ""
            },
            "colorscale": [
             [
              0,
              "#0d0887"
             ],
             [
              0.1111111111111111,
              "#46039f"
             ],
             [
              0.2222222222222222,
              "#7201a8"
             ],
             [
              0.3333333333333333,
              "#9c179e"
             ],
             [
              0.4444444444444444,
              "#bd3786"
             ],
             [
              0.5555555555555556,
              "#d8576b"
             ],
             [
              0.6666666666666666,
              "#ed7953"
             ],
             [
              0.7777777777777778,
              "#fb9f3a"
             ],
             [
              0.8888888888888888,
              "#fdca26"
             ],
             [
              1,
              "#f0f921"
             ]
            ],
            "type": "heatmap"
           }
          ],
          "heatmapgl": [
           {
            "colorbar": {
             "outlinewidth": 0,
             "ticks": ""
            },
            "colorscale": [
             [
              0,
              "#0d0887"
             ],
             [
              0.1111111111111111,
              "#46039f"
             ],
             [
              0.2222222222222222,
              "#7201a8"
             ],
             [
              0.3333333333333333,
              "#9c179e"
             ],
             [
              0.4444444444444444,
              "#bd3786"
             ],
             [
              0.5555555555555556,
              "#d8576b"
             ],
             [
              0.6666666666666666,
              "#ed7953"
             ],
             [
              0.7777777777777778,
              "#fb9f3a"
             ],
             [
              0.8888888888888888,
              "#fdca26"
             ],
             [
              1,
              "#f0f921"
             ]
            ],
            "type": "heatmapgl"
           }
          ],
          "histogram": [
           {
            "marker": {
             "pattern": {
              "fillmode": "overlay",
              "size": 10,
              "solidity": 0.2
             }
            },
            "type": "histogram"
           }
          ],
          "histogram2d": [
           {
            "colorbar": {
             "outlinewidth": 0,
             "ticks": ""
            },
            "colorscale": [
             [
              0,
              "#0d0887"
             ],
             [
              0.1111111111111111,
              "#46039f"
             ],
             [
              0.2222222222222222,
              "#7201a8"
             ],
             [
              0.3333333333333333,
              "#9c179e"
             ],
             [
              0.4444444444444444,
              "#bd3786"
             ],
             [
              0.5555555555555556,
              "#d8576b"
             ],
             [
              0.6666666666666666,
              "#ed7953"
             ],
             [
              0.7777777777777778,
              "#fb9f3a"
             ],
             [
              0.8888888888888888,
              "#fdca26"
             ],
             [
              1,
              "#f0f921"
             ]
            ],
            "type": "histogram2d"
           }
          ],
          "histogram2dcontour": [
           {
            "colorbar": {
             "outlinewidth": 0,
             "ticks": ""
            },
            "colorscale": [
             [
              0,
              "#0d0887"
             ],
             [
              0.1111111111111111,
              "#46039f"
             ],
             [
              0.2222222222222222,
              "#7201a8"
             ],
             [
              0.3333333333333333,
              "#9c179e"
             ],
             [
              0.4444444444444444,
              "#bd3786"
             ],
             [
              0.5555555555555556,
              "#d8576b"
             ],
             [
              0.6666666666666666,
              "#ed7953"
             ],
             [
              0.7777777777777778,
              "#fb9f3a"
             ],
             [
              0.8888888888888888,
              "#fdca26"
             ],
             [
              1,
              "#f0f921"
             ]
            ],
            "type": "histogram2dcontour"
           }
          ],
          "mesh3d": [
           {
            "colorbar": {
             "outlinewidth": 0,
             "ticks": ""
            },
            "type": "mesh3d"
           }
          ],
          "parcoords": [
           {
            "line": {
             "colorbar": {
              "outlinewidth": 0,
              "ticks": ""
             }
            },
            "type": "parcoords"
           }
          ],
          "pie": [
           {
            "automargin": true,
            "type": "pie"
           }
          ],
          "scatter": [
           {
            "fillpattern": {
             "fillmode": "overlay",
             "size": 10,
             "solidity": 0.2
            },
            "type": "scatter"
           }
          ],
          "scatter3d": [
           {
            "line": {
             "colorbar": {
              "outlinewidth": 0,
              "ticks": ""
             }
            },
            "marker": {
             "colorbar": {
              "outlinewidth": 0,
              "ticks": ""
             }
            },
            "type": "scatter3d"
           }
          ],
          "scattercarpet": [
           {
            "marker": {
             "colorbar": {
              "outlinewidth": 0,
              "ticks": ""
             }
            },
            "type": "scattercarpet"
           }
          ],
          "scattergeo": [
           {
            "marker": {
             "colorbar": {
              "outlinewidth": 0,
              "ticks": ""
             }
            },
            "type": "scattergeo"
           }
          ],
          "scattergl": [
           {
            "marker": {
             "colorbar": {
              "outlinewidth": 0,
              "ticks": ""
             }
            },
            "type": "scattergl"
           }
          ],
          "scattermapbox": [
           {
            "marker": {
             "colorbar": {
              "outlinewidth": 0,
              "ticks": ""
             }
            },
            "type": "scattermapbox"
           }
          ],
          "scatterpolar": [
           {
            "marker": {
             "colorbar": {
              "outlinewidth": 0,
              "ticks": ""
             }
            },
            "type": "scatterpolar"
           }
          ],
          "scatterpolargl": [
           {
            "marker": {
             "colorbar": {
              "outlinewidth": 0,
              "ticks": ""
             }
            },
            "type": "scatterpolargl"
           }
          ],
          "scatterternary": [
           {
            "marker": {
             "colorbar": {
              "outlinewidth": 0,
              "ticks": ""
             }
            },
            "type": "scatterternary"
           }
          ],
          "surface": [
           {
            "colorbar": {
             "outlinewidth": 0,
             "ticks": ""
            },
            "colorscale": [
             [
              0,
              "#0d0887"
             ],
             [
              0.1111111111111111,
              "#46039f"
             ],
             [
              0.2222222222222222,
              "#7201a8"
             ],
             [
              0.3333333333333333,
              "#9c179e"
             ],
             [
              0.4444444444444444,
              "#bd3786"
             ],
             [
              0.5555555555555556,
              "#d8576b"
             ],
             [
              0.6666666666666666,
              "#ed7953"
             ],
             [
              0.7777777777777778,
              "#fb9f3a"
             ],
             [
              0.8888888888888888,
              "#fdca26"
             ],
             [
              1,
              "#f0f921"
             ]
            ],
            "type": "surface"
           }
          ],
          "table": [
           {
            "cells": {
             "fill": {
              "color": "#EBF0F8"
             },
             "line": {
              "color": "white"
             }
            },
            "header": {
             "fill": {
              "color": "#C8D4E3"
             },
             "line": {
              "color": "white"
             }
            },
            "type": "table"
           }
          ]
         },
         "layout": {
          "annotationdefaults": {
           "arrowcolor": "#2a3f5f",
           "arrowhead": 0,
           "arrowwidth": 1
          },
          "autotypenumbers": "strict",
          "coloraxis": {
           "colorbar": {
            "outlinewidth": 0,
            "ticks": ""
           }
          },
          "colorscale": {
           "diverging": [
            [
             0,
             "#8e0152"
            ],
            [
             0.1,
             "#c51b7d"
            ],
            [
             0.2,
             "#de77ae"
            ],
            [
             0.3,
             "#f1b6da"
            ],
            [
             0.4,
             "#fde0ef"
            ],
            [
             0.5,
             "#f7f7f7"
            ],
            [
             0.6,
             "#e6f5d0"
            ],
            [
             0.7,
             "#b8e186"
            ],
            [
             0.8,
             "#7fbc41"
            ],
            [
             0.9,
             "#4d9221"
            ],
            [
             1,
             "#276419"
            ]
           ],
           "sequential": [
            [
             0,
             "#0d0887"
            ],
            [
             0.1111111111111111,
             "#46039f"
            ],
            [
             0.2222222222222222,
             "#7201a8"
            ],
            [
             0.3333333333333333,
             "#9c179e"
            ],
            [
             0.4444444444444444,
             "#bd3786"
            ],
            [
             0.5555555555555556,
             "#d8576b"
            ],
            [
             0.6666666666666666,
             "#ed7953"
            ],
            [
             0.7777777777777778,
             "#fb9f3a"
            ],
            [
             0.8888888888888888,
             "#fdca26"
            ],
            [
             1,
             "#f0f921"
            ]
           ],
           "sequentialminus": [
            [
             0,
             "#0d0887"
            ],
            [
             0.1111111111111111,
             "#46039f"
            ],
            [
             0.2222222222222222,
             "#7201a8"
            ],
            [
             0.3333333333333333,
             "#9c179e"
            ],
            [
             0.4444444444444444,
             "#bd3786"
            ],
            [
             0.5555555555555556,
             "#d8576b"
            ],
            [
             0.6666666666666666,
             "#ed7953"
            ],
            [
             0.7777777777777778,
             "#fb9f3a"
            ],
            [
             0.8888888888888888,
             "#fdca26"
            ],
            [
             1,
             "#f0f921"
            ]
           ]
          },
          "colorway": [
           "#636efa",
           "#EF553B",
           "#00cc96",
           "#ab63fa",
           "#FFA15A",
           "#19d3f3",
           "#FF6692",
           "#B6E880",
           "#FF97FF",
           "#FECB52"
          ],
          "font": {
           "color": "#2a3f5f"
          },
          "geo": {
           "bgcolor": "white",
           "lakecolor": "white",
           "landcolor": "#E5ECF6",
           "showlakes": true,
           "showland": true,
           "subunitcolor": "white"
          },
          "hoverlabel": {
           "align": "left"
          },
          "hovermode": "closest",
          "mapbox": {
           "style": "light"
          },
          "paper_bgcolor": "white",
          "plot_bgcolor": "#E5ECF6",
          "polar": {
           "angularaxis": {
            "gridcolor": "white",
            "linecolor": "white",
            "ticks": ""
           },
           "bgcolor": "#E5ECF6",
           "radialaxis": {
            "gridcolor": "white",
            "linecolor": "white",
            "ticks": ""
           }
          },
          "scene": {
           "xaxis": {
            "backgroundcolor": "#E5ECF6",
            "gridcolor": "white",
            "gridwidth": 2,
            "linecolor": "white",
            "showbackground": true,
            "ticks": "",
            "zerolinecolor": "white"
           },
           "yaxis": {
            "backgroundcolor": "#E5ECF6",
            "gridcolor": "white",
            "gridwidth": 2,
            "linecolor": "white",
            "showbackground": true,
            "ticks": "",
            "zerolinecolor": "white"
           },
           "zaxis": {
            "backgroundcolor": "#E5ECF6",
            "gridcolor": "white",
            "gridwidth": 2,
            "linecolor": "white",
            "showbackground": true,
            "ticks": "",
            "zerolinecolor": "white"
           }
          },
          "shapedefaults": {
           "line": {
            "color": "#2a3f5f"
           }
          },
          "ternary": {
           "aaxis": {
            "gridcolor": "white",
            "linecolor": "white",
            "ticks": ""
           },
           "baxis": {
            "gridcolor": "white",
            "linecolor": "white",
            "ticks": ""
           },
           "bgcolor": "#E5ECF6",
           "caxis": {
            "gridcolor": "white",
            "linecolor": "white",
            "ticks": ""
           }
          },
          "title": {
           "x": 0.05
          },
          "xaxis": {
           "automargin": true,
           "gridcolor": "white",
           "linecolor": "white",
           "ticks": "",
           "title": {
            "standoff": 15
           },
           "zerolinecolor": "white",
           "zerolinewidth": 2
          },
          "yaxis": {
           "automargin": true,
           "gridcolor": "white",
           "linecolor": "white",
           "ticks": "",
           "title": {
            "standoff": 15
           },
           "zerolinecolor": "white",
           "zerolinewidth": 2
          }
         }
        },
        "title": {
         "text": "Cosine sim of Input weights and the my color probe for top layer 5 neurons"
        },
        "xaxis": {
         "anchor": "y",
         "domain": [
          0,
          0.08200000000000002
         ],
         "title": {
          "text": "x"
         }
        },
        "xaxis10": {
         "anchor": "y10",
         "domain": [
          0.9180000000000001,
          1
         ],
         "matches": "x",
         "title": {
          "text": "x"
         }
        },
        "xaxis2": {
         "anchor": "y2",
         "domain": [
          0.10200000000000002,
          0.18400000000000005
         ],
         "matches": "x",
         "title": {
          "text": "x"
         }
        },
        "xaxis3": {
         "anchor": "y3",
         "domain": [
          0.20400000000000004,
          0.28600000000000003
         ],
         "matches": "x",
         "title": {
          "text": "x"
         }
        },
        "xaxis4": {
         "anchor": "y4",
         "domain": [
          0.30600000000000005,
          0.38800000000000007
         ],
         "matches": "x",
         "title": {
          "text": "x"
         }
        },
        "xaxis5": {
         "anchor": "y5",
         "domain": [
          0.4080000000000001,
          0.4900000000000001
         ],
         "matches": "x",
         "title": {
          "text": "x"
         }
        },
        "xaxis6": {
         "anchor": "y6",
         "domain": [
          0.5100000000000001,
          0.5920000000000001
         ],
         "matches": "x",
         "title": {
          "text": "x"
         }
        },
        "xaxis7": {
         "anchor": "y7",
         "domain": [
          0.6120000000000001,
          0.6940000000000002
         ],
         "matches": "x",
         "title": {
          "text": "x"
         }
        },
        "xaxis8": {
         "anchor": "y8",
         "domain": [
          0.7140000000000001,
          0.796
         ],
         "matches": "x",
         "title": {
          "text": "x"
         }
        },
        "xaxis9": {
         "anchor": "y9",
         "domain": [
          0.8160000000000002,
          0.8980000000000001
         ],
         "matches": "x",
         "title": {
          "text": "x"
         }
        },
        "yaxis": {
         "anchor": "x",
         "autorange": "reversed",
         "domain": [
          0,
          1
         ],
         "title": {
          "text": "y"
         }
        },
        "yaxis10": {
         "anchor": "x10",
         "domain": [
          0,
          1
         ],
         "matches": "y",
         "showticklabels": false
        },
        "yaxis2": {
         "anchor": "x2",
         "domain": [
          0,
          1
         ],
         "matches": "y",
         "showticklabels": false
        },
        "yaxis3": {
         "anchor": "x3",
         "domain": [
          0,
          1
         ],
         "matches": "y",
         "showticklabels": false
        },
        "yaxis4": {
         "anchor": "x4",
         "domain": [
          0,
          1
         ],
         "matches": "y",
         "showticklabels": false
        },
        "yaxis5": {
         "anchor": "x5",
         "domain": [
          0,
          1
         ],
         "matches": "y",
         "showticklabels": false
        },
        "yaxis6": {
         "anchor": "x6",
         "domain": [
          0,
          1
         ],
         "matches": "y",
         "showticklabels": false
        },
        "yaxis7": {
         "anchor": "x7",
         "domain": [
          0,
          1
         ],
         "matches": "y",
         "showticklabels": false
        },
        "yaxis8": {
         "anchor": "x8",
         "domain": [
          0,
          1
         ],
         "matches": "y",
         "showticklabels": false
        },
        "yaxis9": {
         "anchor": "x9",
         "domain": [
          0,
          1
         ],
         "matches": "y",
         "showticklabels": false
        }
       }
      }
     },
     "metadata": {},
     "output_type": "display_data"
    },
    {
     "data": {
      "application/vnd.plotly.v1+json": {
       "config": {
        "plotlyServerURL": "https://plot.ly"
       },
       "data": [
        {
         "coloraxis": "coloraxis",
         "hovertemplate": "x: %{x}<br>y: %{y}<br>color: %{z}<extra></extra>",
         "name": "0",
         "type": "heatmap",
         "xaxis": "x",
         "y": [
          "A",
          "B",
          "C",
          "D",
          "E",
          "F",
          "G",
          "H"
         ],
         "yaxis": "y",
         "z": [
          [
           -0.008728688582777977,
           0.03303692117333412,
           -0.035490743815898895,
           0.025895796716213226,
           0.005376104265451431,
           -0.00006758235394954681,
           -0.00690818764269352,
           -0.019187407568097115
          ],
          [
           -0.021570809185504913,
           -0.049888040870428085,
           -0.0026667900383472443,
           0.005219363607466221,
           0.023463817313313484,
           0.014673401601612568,
           0.01991308107972145,
           0.004548933357000351
          ],
          [
           0.14986997842788696,
           0.04998257756233215,
           -0.07664099335670471,
           0.008317012339830399,
           -0.03433956205844879,
           0.012461802922189236,
           -0.018477043136954308,
           0.0031601134687662125
          ],
          [
           0.14510205388069153,
           0.07614697515964508,
           -0.05180300399661064,
           0,
           0,
           -0.008842628449201584,
           0.0009099515154957771,
           0.021782003343105316
          ],
          [
           0.10611212998628616,
           0.02383304014801979,
           -0.009879092685878277,
           0,
           0,
           -0.021581478416919708,
           0.023130349814891815,
           0.02621525712311268
          ],
          [
           0.1411934792995453,
           0.007924824021756649,
           0.0072427187114953995,
           -0.014775505289435387,
           -0.013884348794817924,
           -0.03463296592235565,
           -0.017669549211859703,
           -0.011005120351910591
          ],
          [
           0.10846717655658722,
           0.03506354242563248,
           0.009636425413191319,
           0.003644835203886032,
           -0.00797232799232006,
           -0.0040699178352952,
           0.0032416395843029022,
           0.01902160421013832
          ],
          [
           0.16279536485671997,
           0.03924858942627907,
           0.04741409048438072,
           0.05027465522289276,
           0.036771707236766815,
           0.031313806772232056,
           -0.0014434121549129486,
           0.013100906275212765
          ]
         ]
        },
        {
         "coloraxis": "coloraxis",
         "hovertemplate": "x: %{x}<br>y: %{y}<br>color: %{z}<extra></extra>",
         "name": "1",
         "type": "heatmap",
         "xaxis": "x2",
         "y": [
          "A",
          "B",
          "C",
          "D",
          "E",
          "F",
          "G",
          "H"
         ],
         "yaxis": "y2",
         "z": [
          [
           -0.00554916076362133,
           0.004651270806789398,
           0.016125239431858063,
           0.0018393639475107193,
           0.004980689845979214,
           0.01770307868719101,
           -0.022606246173381805,
           0.026203621178865433
          ],
          [
           -0.01641644537448883,
           0.002308361232280731,
           0.0027103330940008163,
           -0.0001279246062040329,
           0.025341078639030457,
           0.011092886328697205,
           0.006676590535789728,
           0.04047302156686783
          ],
          [
           -0.022055143490433693,
           -0.009093120694160461,
           -0.02756170928478241,
           -0.011802679859101772,
           -0.02128881774842739,
           0.001767301931977272,
           0.017956087365746498,
           0.02426121197640896
          ],
          [
           -0.0006641503423452377,
           0.031134936958551407,
           0.005944921635091305,
           0,
           0,
           0.02006399631500244,
           0.005629120394587517,
           0.023498238995671272
          ],
          [
           -0.0441291369497776,
           -0.004531744867563248,
           -0.10511504113674164,
           0,
           0,
           -0.011843828484416008,
           0.007028654217720032,
           0.027145154774188995
          ],
          [
           0.01639273390173912,
           0.023646757006645203,
           -0.021496914327144623,
           0.0069074472412467,
           -0.02312118001282215,
           -0.022822368890047073,
           0.02535449154675007,
           0.018215518444776535
          ],
          [
           -0.006391255185008049,
           0.05302746221423149,
           0.17033961415290833,
           0.03556793928146362,
           0.0114840567111969,
           0.014249456115067005,
           -0.01265873946249485,
           0.034350231289863586
          ],
          [
           0.11869217455387115,
           0.1103074699640274,
           0.10377706587314606,
           0.21928368508815765,
           0.05980156362056732,
           0.04170389473438263,
           0.03607848286628723,
           0.02147139608860016
          ]
         ]
        },
        {
         "coloraxis": "coloraxis",
         "hovertemplate": "x: %{x}<br>y: %{y}<br>color: %{z}<extra></extra>",
         "name": "2",
         "type": "heatmap",
         "xaxis": "x3",
         "y": [
          "A",
          "B",
          "C",
          "D",
          "E",
          "F",
          "G",
          "H"
         ],
         "yaxis": "y3",
         "z": [
          [
           0.003457607701420784,
           -0.022564522922039032,
           0.009440387599170208,
           -0.007069036364555359,
           -0.008551113307476044,
           -0.008297533728182316,
           -0.012464967556297779,
           -0.009161937050521374
          ],
          [
           0.016460280865430832,
           -0.02072777785360813,
           -0.010522250086069107,
           0.0010220212861895561,
           0.0031111901625990868,
           -0.0027530454099178314,
           0.011128085665404797,
           0.01647576317191124
          ],
          [
           0.01158316433429718,
           -0.0019178707152605057,
           -0.016598213464021683,
           -0.028474275022745132,
           -0.025286203250288963,
           0.006926584057509899,
           9.071081876754761e-7,
           0.021274788305163383
          ],
          [
           0.005816102493554354,
           0.0004812884144484997,
           -0.039832934737205505,
           0,
           0,
           -0.008752581663429737,
           -0.017248794436454773,
           -0.010756991803646088
          ],
          [
           -0.013057395815849304,
           -0.004523666575551033,
           -0.04328535124659538,
           0,
           0,
           -0.024456549435853958,
           -0.0048322491347789764,
           0.018025903031229973
          ],
          [
           0.029377292841672897,
           -0.1382729411125183,
           -0.15401269495487213,
           0.004733357112854719,
           -0.011158633977174759,
           -0.032110799103975296,
           -0.0020926576107740402,
           0.009638293646275997
          ],
          [
           -0.01570926606655121,
           -0.032228052616119385,
           -0.02169216051697731,
           -0.12398665398359299,
           0.015927942469716072,
           -0.0031633907929062843,
           -0.029014084488153458,
           -0.001089322380721569
          ],
          [
           0.017537130042910576,
           -0.013881058432161808,
           -0.12308410555124283,
           -0.11735917627811432,
           -0.016221599653363228,
           -0.004612292163074017,
           0.007725223898887634,
           0.008264968171715736
          ]
         ]
        },
        {
         "coloraxis": "coloraxis",
         "hovertemplate": "x: %{x}<br>y: %{y}<br>color: %{z}<extra></extra>",
         "name": "3",
         "type": "heatmap",
         "xaxis": "x4",
         "y": [
          "A",
          "B",
          "C",
          "D",
          "E",
          "F",
          "G",
          "H"
         ],
         "yaxis": "y4",
         "z": [
          [
           0.034142471849918365,
           0.06404445320367813,
           0.013722032308578491,
           0.06062046065926552,
           0.022959180176258087,
           0.023443123325705528,
           0.009448656812310219,
           -0.008528961800038815
          ],
          [
           -0.10030892491340637,
           0.006417885422706604,
           -0.014142323285341263,
           0.01377839595079422,
           0.009662944823503494,
           0.0006632888689637184,
           0.010138189420104027,
           -0.001226847991347313
          ],
          [
           -0.045606888830661774,
           -0.04363793879747391,
           -0.0175473615527153,
           -0.015185198746621609,
           -0.014769594185054302,
           0.0025346954353153706,
           -0.005816614255309105,
           0.015232148580253124
          ],
          [
           0.2233102023601532,
           0.06100240722298622,
           -0.0898003876209259,
           0,
           0,
           -0.016710495576262474,
           -0.022659912705421448,
           0.022994456812739372
          ],
          [
           0.11015060544013977,
           0.035128429532051086,
           -0.008106567896902561,
           0,
           0,
           -0.024381477385759354,
           0.007396126165986061,
           0.021534692496061325
          ],
          [
           0.07714442163705826,
           0.05611984059214592,
           -0.020544514060020447,
           -0.03776860609650612,
           -0.03404888138175011,
           -0.009587184526026249,
           -0.017984539270401,
           0.014093225821852684
          ],
          [
           0.10986888408660889,
           0.024560758844017982,
           0.021466290578246117,
           -0.0014591068029403687,
           -0.012590762227773666,
           -0.0451945886015892,
           -0.014416905120015144,
           0.02643870934844017
          ],
          [
           0.12953069806098938,
           0.03838452696800232,
           0.032841816544532776,
           0.032951727509498596,
           0.006797473877668381,
           0.02174404449760914,
           0.00039948709309101105,
           0.011116433888673782
          ]
         ]
        },
        {
         "coloraxis": "coloraxis",
         "hovertemplate": "x: %{x}<br>y: %{y}<br>color: %{z}<extra></extra>",
         "name": "4",
         "type": "heatmap",
         "xaxis": "x5",
         "y": [
          "A",
          "B",
          "C",
          "D",
          "E",
          "F",
          "G",
          "H"
         ],
         "yaxis": "y5",
         "z": [
          [
           0.10403922200202942,
           0.10579507052898407,
           0.05016563460230827,
           0.03565875440835953,
           0.03477846086025238,
           0.027399791404604912,
           0.01506739854812622,
           0.0007173679769039154
          ],
          [
           0.18908540904521942,
           0.15396590530872345,
           0.046770744025707245,
           0.005592328496277332,
           0.0280538909137249,
           0.012548339553177357,
           0.012767191044986248,
           0.03239859640598297
          ],
          [
           0.03307343274354935,
           0.06222476810216904,
           0.022253016009926796,
           0.015776388347148895,
           -0.04496551677584648,
           -0.020721254870295525,
           0.013235339894890785,
           0.01732105016708374
          ],
          [
           -0.08407428860664368,
           -0.10528573393821716,
           -0.046180445700883865,
           0,
           0,
           -0.03610686585307121,
           -0.012842943891882896,
           0.022989192977547646
          ],
          [
           0.041913650929927826,
           0.02104240283370018,
           -0.003202463500201702,
           0,
           0,
           0.009868266060948372,
           0.02559622749686241,
           0.03525406867265701
          ],
          [
           0.026363663375377655,
           0.021646954119205475,
           -0.003148258663713932,
           0.004220740869641304,
           -0.030188214033842087,
           0.01125281024724245,
           0.015357304364442825,
           0.0013745902106165886
          ],
          [
           -0.0067212749272584915,
           0.0116710951551795,
           0.004838548135012388,
           0.0070098210126161575,
           0.005305863916873932,
           0.00844053365290165,
           0.00027565937489271164,
           0.021533384919166565
          ],
          [
           0.019858447834849358,
           0.022640815004706383,
           0.0034498656168580055,
           0.005279107019305229,
           0.03622613847255707,
           0.020068204030394554,
           0.01117386482656002,
           0.03021024540066719
          ]
         ]
        },
        {
         "coloraxis": "coloraxis",
         "hovertemplate": "x: %{x}<br>y: %{y}<br>color: %{z}<extra></extra>",
         "name": "5",
         "type": "heatmap",
         "xaxis": "x6",
         "y": [
          "A",
          "B",
          "C",
          "D",
          "E",
          "F",
          "G",
          "H"
         ],
         "yaxis": "y6",
         "z": [
          [
           0.011501624248921871,
           0.024419065564870834,
           -0.005063225515186787,
           0.037405796349048615,
           0.029593201354146004,
           0.008388620801270008,
           0.0687185525894165,
           -0.00464450940489769
          ],
          [
           0.021473964676260948,
           -0.005108117125928402,
           -0.014217481948435307,
           -0.003154677338898182,
           0.005431302823126316,
           -0.04180052503943443,
           0.06422708928585052,
           0.10927581787109375
          ],
          [
           -0.006461611948907375,
           0.026257893070578575,
           -0.05707377940416336,
           -0.042955972254276276,
           -0.14058881998062134,
           0.018416065722703934,
           0.2229779064655304,
           0.13085609674453735
          ],
          [
           0.021419674158096313,
           0.02174902707338333,
           -0.008773036301136017,
           0,
           0,
           0.020420901477336884,
           0.03758077323436737,
           0.10327938199043274
          ],
          [
           0.0024914462119340897,
           -0.025607453659176826,
           -0.07475466281175613,
           0,
           0,
           -0.03481588512659073,
           -0.002151339780539274,
           0.036613523960113525
          ],
          [
           0.011097903363406658,
           0.014433180913329124,
           -0.026654034852981567,
           0.0029473192989826202,
           -0.035182613879442215,
           -0.027790647000074387,
           0.004659207537770271,
           0.03498482704162598
          ],
          [
           0.024029158055782318,
           0.019883107393980026,
           -0.0001003490760922432,
           0.05692222714424133,
           -0.005580248311161995,
           0.003883142489939928,
           0.012590274214744568,
           0.032121267169713974
          ],
          [
           0.03269664943218231,
           0.034577369689941406,
           0.006705021485686302,
           0.00766780786216259,
           -0.0014050165191292763,
           0.03792935609817505,
           0.037584710866212845,
           0.029862727969884872
          ]
         ]
        },
        {
         "coloraxis": "coloraxis",
         "hovertemplate": "x: %{x}<br>y: %{y}<br>color: %{z}<extra></extra>",
         "name": "6",
         "type": "heatmap",
         "xaxis": "x7",
         "y": [
          "A",
          "B",
          "C",
          "D",
          "E",
          "F",
          "G",
          "H"
         ],
         "yaxis": "y7",
         "z": [
          [
           0.13036561012268066,
           0.020196685567498207,
           0.03203853219747543,
           -0.01348866056650877,
           0.025829758495092392,
           0.013908853754401207,
           0.018368637189269066,
           0.03639146685600281
          ],
          [
           -0.013027310371398926,
           -0.043935712426900864,
           -0.07253868877887726,
           0.028453834354877472,
           -0.004178760573267937,
           0.006114983931183815,
           0.032990217208862305,
           0.007744722068309784
          ],
          [
           0.12313185632228851,
           0.027545632794499397,
           -0.05595192685723305,
           -0.03684932738542557,
           -0.03565482422709465,
           0.031041136011481285,
           -0.001384170725941658,
           0.025275900959968567
          ],
          [
           0.41276466846466064,
           0.01667356863617897,
           -0.11019066721200943,
           0,
           0,
           -0.022406693547964096,
           0.0027744006365537643,
           0.0360221229493618
          ],
          [
           0.10090743005275726,
           -0.009883428923785686,
           -0.020356524735689163,
           0,
           0,
           -0.020635180175304413,
           0.024957185611128807,
           0.043491192162036896
          ],
          [
           0.08928090333938599,
           0.002689506858587265,
           -0.0035155005753040314,
           -0.040209122002124786,
           -0.02151140384376049,
           0.004120765253901482,
           -0.012462587095797062,
           0.008572438731789589
          ],
          [
           0.07144349813461304,
           -0.0006511323153972626,
           -0.00024187006056308746,
           0.02227858453989029,
           0.004357174038887024,
           -0.007710007950663567,
           0.042001232504844666,
           0.02470869943499565
          ],
          [
           0.0662052109837532,
           0.054342545568943024,
           0.015338461846113205,
           0.03670944646000862,
           0.01894361525774002,
           0.025551635771989822,
           0.030675794929265976,
           0.03233388811349869
          ]
         ]
        },
        {
         "coloraxis": "coloraxis",
         "hovertemplate": "x: %{x}<br>y: %{y}<br>color: %{z}<extra></extra>",
         "name": "7",
         "type": "heatmap",
         "xaxis": "x8",
         "y": [
          "A",
          "B",
          "C",
          "D",
          "E",
          "F",
          "G",
          "H"
         ],
         "yaxis": "y8",
         "z": [
          [
           0.006263659335672855,
           0.006922043859958649,
           0.03299442678689957,
           -0.0033082175068557262,
           0.02908116579055786,
           0.04307632893323898,
           0.015006800182163715,
           0.01686125434935093
          ],
          [
           0.04173196107149124,
           0.007660918869078159,
           -0.0026599206030368805,
           0.015305377542972565,
           0.006231172941625118,
           -0.012358501553535461,
           0.03268313780426979,
           0.0014471393078565598
          ],
          [
           0.060147546231746674,
           0.011512428522109985,
           -0.004122262820601463,
           -0.035313770174980164,
           -0.030405638739466667,
           0.002375365234911442,
           0.031908679753541946,
           0.028680026531219482
          ],
          [
           0.005412396043539047,
           -0.007263019680976868,
           0.0007660533301532269,
           0,
           0,
           0.0020487383008003235,
           0.012978739105165005,
           0.030748426914215088
          ],
          [
           0.03249480575323105,
           0.046551868319511414,
           -0.03527980297803879,
           0,
           0,
           -0.017385028302669525,
           0.026143915951251984,
           0.033164799213409424
          ],
          [
           0.059846557676792145,
           -0.030081260949373245,
           0.014172488823533058,
           -0.01724357157945633,
           -0.03188246488571167,
           -0.009240441024303436,
           0.03285610303282738,
           0.029645834118127823
          ],
          [
           0.0027505173347890377,
           0.010225670412182808,
           0.034820374101400375,
           0.027816224843263626,
           0.03746763989329338,
           0.0005967644974589348,
           -0.010545715689659119,
           0.03832446038722992
          ],
          [
           0.1809176355600357,
           0.07711564749479294,
           0.11102218925952911,
           0.3834487497806549,
           0.13312120735645294,
           0.12181119620800018,
           0.07003922760486603,
           0.028572505339980125
          ]
         ]
        },
        {
         "coloraxis": "coloraxis",
         "hovertemplate": "x: %{x}<br>y: %{y}<br>color: %{z}<extra></extra>",
         "name": "8",
         "type": "heatmap",
         "xaxis": "x9",
         "y": [
          "A",
          "B",
          "C",
          "D",
          "E",
          "F",
          "G",
          "H"
         ],
         "yaxis": "y9",
         "z": [
          [
           0.03158426284790039,
           0.0005717426538467407,
           0.012441929429769516,
           -0.005275624804198742,
           0.016538990661501884,
           0.015486868098378181,
           0.03815090283751488,
           0.12303557246923447
          ],
          [
           -0.008491499349474907,
           0.00967397540807724,
           -0.03940946236252785,
           -0.0026821400970220566,
           -0.007345905993133783,
           0.028265349566936493,
           0.040702152997255325,
           0.08460118621587753
          ],
          [
           0.025244958698749542,
           -0.009270351380109787,
           0.004114523530006409,
           -0.03099559247493744,
           -0.0025884201750159264,
           0.030082613229751587,
           0.02812812477350235,
           0.05909774452447891
          ],
          [
           0.013441395945847034,
           0.007587483152747154,
           -0.012391732074320316,
           0,
           0,
           -0.05855829268693924,
           0.023806437849998474,
           0.10932035744190216
          ],
          [
           0.02729315683245659,
           -0.03501356765627861,
           -0.004336375277489424,
           0,
           0,
           -0.07158147543668747,
           0.03618481755256653,
           0.20273174345493317
          ],
          [
           0.019076872617006302,
           -0.0006059971638023853,
           0.024579934775829315,
           0.008827047422528267,
           -0.009302200749516487,
           -0.0037216655910015106,
           -0.06370644271373749,
           0.049982067197561264
          ],
          [
           -0.010777268558740616,
           -0.029741916805505753,
           0.008062299340963364,
           -0.008684712462127209,
           0.003211796283721924,
           -0.008298984728753567,
           0.004239083267748356,
           -0.10301598906517029
          ],
          [
           0.008885812945663929,
           0.014478964731097221,
           0.018338050693273544,
           0.026900261640548706,
           0.03681737929582596,
           0.00382392480969429,
           0.05162947624921799,
           0.045309845358133316
          ]
         ]
        },
        {
         "coloraxis": "coloraxis",
         "hovertemplate": "x: %{x}<br>y: %{y}<br>color: %{z}<extra></extra>",
         "name": "9",
         "type": "heatmap",
         "xaxis": "x10",
         "y": [
          "A",
          "B",
          "C",
          "D",
          "E",
          "F",
          "G",
          "H"
         ],
         "yaxis": "y10",
         "z": [
          [
           0.022647622972726822,
           0.003061184659600258,
           -0.008407298475503922,
           -0.02506408840417862,
           0.03100411966443062,
           0.027835775166749954,
           0.027566874399781227,
           0.032950837165117264
          ],
          [
           0.01665278524160385,
           -0.0012506190687417984,
           -0.014735061675310135,
           -0.04709090292453766,
           0.0044284481555223465,
           0.039485055953264236,
           0.009488334879279137,
           0.033335380256175995
          ],
          [
           0.030147496610879898,
           -0.06603138148784637,
           -0.010839618742465973,
           -0.168654203414917,
           -0.015648093074560165,
           -0.12049610912799835,
           0.013594585470855236,
           0.00592200830578804
          ],
          [
           0.0409044548869133,
           0.002396652474999428,
           -0.015550830401480198,
           0,
           0,
           0.023759232833981514,
           0.013608027249574661,
           0.05946355313062668
          ],
          [
           0.0065461318008601665,
           -0.07828950136899948,
           -0.03893842548131943,
           0,
           0,
           -0.15556670725345612,
           -0.025141656398773193,
           -0.01384518202394247
          ],
          [
           0.01940271444618702,
           -0.006059714127331972,
           -0.05518292263150215,
           -0.12383809685707092,
           -0.007447117939591408,
           -0.054191477596759796,
           -0.08465588092803955,
           -0.004527888260781765
          ],
          [
           0.02494051866233349,
           0.0046564070507884026,
           -0.01944655179977417,
           -0.06064627319574356,
           0.016122013330459595,
           -0.035742685198783875,
           0.004766288213431835,
           -0.029423493891954422
          ],
          [
           0.04097592458128929,
           0.009131853468716145,
           0.016059866175055504,
           -0.0329575389623642,
           0.0174429789185524,
           0.02684931457042694,
           0.008521255105733871,
           0.019428422674536705
          ]
         ]
        }
       ],
       "layout": {
        "annotations": [
         {
          "font": {},
          "showarrow": false,
          "text": "L6N647",
          "x": 0.04100000000000001,
          "xanchor": "center",
          "xref": "paper",
          "y": 1,
          "yanchor": "bottom",
          "yref": "paper"
         },
         {
          "font": {},
          "showarrow": false,
          "text": "L6N942",
          "x": 0.14300000000000004,
          "xanchor": "center",
          "xref": "paper",
          "y": 1,
          "yanchor": "bottom",
          "yref": "paper"
         },
         {
          "font": {},
          "showarrow": false,
          "text": "L6N519",
          "x": 0.24500000000000005,
          "xanchor": "center",
          "xref": "paper",
          "y": 1,
          "yanchor": "bottom",
          "yref": "paper"
         },
         {
          "font": {},
          "showarrow": false,
          "text": "L6N610",
          "x": 0.3470000000000001,
          "xanchor": "center",
          "xref": "paper",
          "y": 1,
          "yanchor": "bottom",
          "yref": "paper"
         },
         {
          "font": {},
          "showarrow": false,
          "text": "L6N617",
          "x": 0.44900000000000007,
          "xanchor": "center",
          "xref": "paper",
          "y": 1,
          "yanchor": "bottom",
          "yref": "paper"
         },
         {
          "font": {},
          "showarrow": false,
          "text": "L6N1263",
          "x": 0.5510000000000002,
          "xanchor": "center",
          "xref": "paper",
          "y": 1,
          "yanchor": "bottom",
          "yref": "paper"
         },
         {
          "font": {},
          "showarrow": false,
          "text": "L6N1332",
          "x": 0.6530000000000001,
          "xanchor": "center",
          "xref": "paper",
          "y": 1,
          "yanchor": "bottom",
          "yref": "paper"
         },
         {
          "font": {},
          "showarrow": false,
          "text": "L6N1834",
          "x": 0.7550000000000001,
          "xanchor": "center",
          "xref": "paper",
          "y": 1,
          "yanchor": "bottom",
          "yref": "paper"
         },
         {
          "font": {},
          "showarrow": false,
          "text": "L6N31",
          "x": 0.8570000000000002,
          "xanchor": "center",
          "xref": "paper",
          "y": 1,
          "yanchor": "bottom",
          "yref": "paper"
         },
         {
          "font": {},
          "showarrow": false,
          "text": "L6N112",
          "x": 0.9590000000000002,
          "xanchor": "center",
          "xref": "paper",
          "y": 1,
          "yanchor": "bottom",
          "yref": "paper"
         }
        ],
        "coloraxis": {
         "cmax": 0.5,
         "cmid": 0,
         "cmin": -0.5,
         "colorscale": [
          [
           0,
           "rgb(103,0,31)"
          ],
          [
           0.1,
           "rgb(178,24,43)"
          ],
          [
           0.2,
           "rgb(214,96,77)"
          ],
          [
           0.3,
           "rgb(244,165,130)"
          ],
          [
           0.4,
           "rgb(253,219,199)"
          ],
          [
           0.5,
           "rgb(247,247,247)"
          ],
          [
           0.6,
           "rgb(209,229,240)"
          ],
          [
           0.7,
           "rgb(146,197,222)"
          ],
          [
           0.8,
           "rgb(67,147,195)"
          ],
          [
           0.9,
           "rgb(33,102,172)"
          ],
          [
           1,
           "rgb(5,48,97)"
          ]
         ]
        },
        "template": {
         "data": {
          "bar": [
           {
            "error_x": {
             "color": "#2a3f5f"
            },
            "error_y": {
             "color": "#2a3f5f"
            },
            "marker": {
             "line": {
              "color": "#E5ECF6",
              "width": 0.5
             },
             "pattern": {
              "fillmode": "overlay",
              "size": 10,
              "solidity": 0.2
             }
            },
            "type": "bar"
           }
          ],
          "barpolar": [
           {
            "marker": {
             "line": {
              "color": "#E5ECF6",
              "width": 0.5
             },
             "pattern": {
              "fillmode": "overlay",
              "size": 10,
              "solidity": 0.2
             }
            },
            "type": "barpolar"
           }
          ],
          "carpet": [
           {
            "aaxis": {
             "endlinecolor": "#2a3f5f",
             "gridcolor": "white",
             "linecolor": "white",
             "minorgridcolor": "white",
             "startlinecolor": "#2a3f5f"
            },
            "baxis": {
             "endlinecolor": "#2a3f5f",
             "gridcolor": "white",
             "linecolor": "white",
             "minorgridcolor": "white",
             "startlinecolor": "#2a3f5f"
            },
            "type": "carpet"
           }
          ],
          "choropleth": [
           {
            "colorbar": {
             "outlinewidth": 0,
             "ticks": ""
            },
            "type": "choropleth"
           }
          ],
          "contour": [
           {
            "colorbar": {
             "outlinewidth": 0,
             "ticks": ""
            },
            "colorscale": [
             [
              0,
              "#0d0887"
             ],
             [
              0.1111111111111111,
              "#46039f"
             ],
             [
              0.2222222222222222,
              "#7201a8"
             ],
             [
              0.3333333333333333,
              "#9c179e"
             ],
             [
              0.4444444444444444,
              "#bd3786"
             ],
             [
              0.5555555555555556,
              "#d8576b"
             ],
             [
              0.6666666666666666,
              "#ed7953"
             ],
             [
              0.7777777777777778,
              "#fb9f3a"
             ],
             [
              0.8888888888888888,
              "#fdca26"
             ],
             [
              1,
              "#f0f921"
             ]
            ],
            "type": "contour"
           }
          ],
          "contourcarpet": [
           {
            "colorbar": {
             "outlinewidth": 0,
             "ticks": ""
            },
            "type": "contourcarpet"
           }
          ],
          "heatmap": [
           {
            "colorbar": {
             "outlinewidth": 0,
             "ticks": ""
            },
            "colorscale": [
             [
              0,
              "#0d0887"
             ],
             [
              0.1111111111111111,
              "#46039f"
             ],
             [
              0.2222222222222222,
              "#7201a8"
             ],
             [
              0.3333333333333333,
              "#9c179e"
             ],
             [
              0.4444444444444444,
              "#bd3786"
             ],
             [
              0.5555555555555556,
              "#d8576b"
             ],
             [
              0.6666666666666666,
              "#ed7953"
             ],
             [
              0.7777777777777778,
              "#fb9f3a"
             ],
             [
              0.8888888888888888,
              "#fdca26"
             ],
             [
              1,
              "#f0f921"
             ]
            ],
            "type": "heatmap"
           }
          ],
          "heatmapgl": [
           {
            "colorbar": {
             "outlinewidth": 0,
             "ticks": ""
            },
            "colorscale": [
             [
              0,
              "#0d0887"
             ],
             [
              0.1111111111111111,
              "#46039f"
             ],
             [
              0.2222222222222222,
              "#7201a8"
             ],
             [
              0.3333333333333333,
              "#9c179e"
             ],
             [
              0.4444444444444444,
              "#bd3786"
             ],
             [
              0.5555555555555556,
              "#d8576b"
             ],
             [
              0.6666666666666666,
              "#ed7953"
             ],
             [
              0.7777777777777778,
              "#fb9f3a"
             ],
             [
              0.8888888888888888,
              "#fdca26"
             ],
             [
              1,
              "#f0f921"
             ]
            ],
            "type": "heatmapgl"
           }
          ],
          "histogram": [
           {
            "marker": {
             "pattern": {
              "fillmode": "overlay",
              "size": 10,
              "solidity": 0.2
             }
            },
            "type": "histogram"
           }
          ],
          "histogram2d": [
           {
            "colorbar": {
             "outlinewidth": 0,
             "ticks": ""
            },
            "colorscale": [
             [
              0,
              "#0d0887"
             ],
             [
              0.1111111111111111,
              "#46039f"
             ],
             [
              0.2222222222222222,
              "#7201a8"
             ],
             [
              0.3333333333333333,
              "#9c179e"
             ],
             [
              0.4444444444444444,
              "#bd3786"
             ],
             [
              0.5555555555555556,
              "#d8576b"
             ],
             [
              0.6666666666666666,
              "#ed7953"
             ],
             [
              0.7777777777777778,
              "#fb9f3a"
             ],
             [
              0.8888888888888888,
              "#fdca26"
             ],
             [
              1,
              "#f0f921"
             ]
            ],
            "type": "histogram2d"
           }
          ],
          "histogram2dcontour": [
           {
            "colorbar": {
             "outlinewidth": 0,
             "ticks": ""
            },
            "colorscale": [
             [
              0,
              "#0d0887"
             ],
             [
              0.1111111111111111,
              "#46039f"
             ],
             [
              0.2222222222222222,
              "#7201a8"
             ],
             [
              0.3333333333333333,
              "#9c179e"
             ],
             [
              0.4444444444444444,
              "#bd3786"
             ],
             [
              0.5555555555555556,
              "#d8576b"
             ],
             [
              0.6666666666666666,
              "#ed7953"
             ],
             [
              0.7777777777777778,
              "#fb9f3a"
             ],
             [
              0.8888888888888888,
              "#fdca26"
             ],
             [
              1,
              "#f0f921"
             ]
            ],
            "type": "histogram2dcontour"
           }
          ],
          "mesh3d": [
           {
            "colorbar": {
             "outlinewidth": 0,
             "ticks": ""
            },
            "type": "mesh3d"
           }
          ],
          "parcoords": [
           {
            "line": {
             "colorbar": {
              "outlinewidth": 0,
              "ticks": ""
             }
            },
            "type": "parcoords"
           }
          ],
          "pie": [
           {
            "automargin": true,
            "type": "pie"
           }
          ],
          "scatter": [
           {
            "fillpattern": {
             "fillmode": "overlay",
             "size": 10,
             "solidity": 0.2
            },
            "type": "scatter"
           }
          ],
          "scatter3d": [
           {
            "line": {
             "colorbar": {
              "outlinewidth": 0,
              "ticks": ""
             }
            },
            "marker": {
             "colorbar": {
              "outlinewidth": 0,
              "ticks": ""
             }
            },
            "type": "scatter3d"
           }
          ],
          "scattercarpet": [
           {
            "marker": {
             "colorbar": {
              "outlinewidth": 0,
              "ticks": ""
             }
            },
            "type": "scattercarpet"
           }
          ],
          "scattergeo": [
           {
            "marker": {
             "colorbar": {
              "outlinewidth": 0,
              "ticks": ""
             }
            },
            "type": "scattergeo"
           }
          ],
          "scattergl": [
           {
            "marker": {
             "colorbar": {
              "outlinewidth": 0,
              "ticks": ""
             }
            },
            "type": "scattergl"
           }
          ],
          "scattermapbox": [
           {
            "marker": {
             "colorbar": {
              "outlinewidth": 0,
              "ticks": ""
             }
            },
            "type": "scattermapbox"
           }
          ],
          "scatterpolar": [
           {
            "marker": {
             "colorbar": {
              "outlinewidth": 0,
              "ticks": ""
             }
            },
            "type": "scatterpolar"
           }
          ],
          "scatterpolargl": [
           {
            "marker": {
             "colorbar": {
              "outlinewidth": 0,
              "ticks": ""
             }
            },
            "type": "scatterpolargl"
           }
          ],
          "scatterternary": [
           {
            "marker": {
             "colorbar": {
              "outlinewidth": 0,
              "ticks": ""
             }
            },
            "type": "scatterternary"
           }
          ],
          "surface": [
           {
            "colorbar": {
             "outlinewidth": 0,
             "ticks": ""
            },
            "colorscale": [
             [
              0,
              "#0d0887"
             ],
             [
              0.1111111111111111,
              "#46039f"
             ],
             [
              0.2222222222222222,
              "#7201a8"
             ],
             [
              0.3333333333333333,
              "#9c179e"
             ],
             [
              0.4444444444444444,
              "#bd3786"
             ],
             [
              0.5555555555555556,
              "#d8576b"
             ],
             [
              0.6666666666666666,
              "#ed7953"
             ],
             [
              0.7777777777777778,
              "#fb9f3a"
             ],
             [
              0.8888888888888888,
              "#fdca26"
             ],
             [
              1,
              "#f0f921"
             ]
            ],
            "type": "surface"
           }
          ],
          "table": [
           {
            "cells": {
             "fill": {
              "color": "#EBF0F8"
             },
             "line": {
              "color": "white"
             }
            },
            "header": {
             "fill": {
              "color": "#C8D4E3"
             },
             "line": {
              "color": "white"
             }
            },
            "type": "table"
           }
          ]
         },
         "layout": {
          "annotationdefaults": {
           "arrowcolor": "#2a3f5f",
           "arrowhead": 0,
           "arrowwidth": 1
          },
          "autotypenumbers": "strict",
          "coloraxis": {
           "colorbar": {
            "outlinewidth": 0,
            "ticks": ""
           }
          },
          "colorscale": {
           "diverging": [
            [
             0,
             "#8e0152"
            ],
            [
             0.1,
             "#c51b7d"
            ],
            [
             0.2,
             "#de77ae"
            ],
            [
             0.3,
             "#f1b6da"
            ],
            [
             0.4,
             "#fde0ef"
            ],
            [
             0.5,
             "#f7f7f7"
            ],
            [
             0.6,
             "#e6f5d0"
            ],
            [
             0.7,
             "#b8e186"
            ],
            [
             0.8,
             "#7fbc41"
            ],
            [
             0.9,
             "#4d9221"
            ],
            [
             1,
             "#276419"
            ]
           ],
           "sequential": [
            [
             0,
             "#0d0887"
            ],
            [
             0.1111111111111111,
             "#46039f"
            ],
            [
             0.2222222222222222,
             "#7201a8"
            ],
            [
             0.3333333333333333,
             "#9c179e"
            ],
            [
             0.4444444444444444,
             "#bd3786"
            ],
            [
             0.5555555555555556,
             "#d8576b"
            ],
            [
             0.6666666666666666,
             "#ed7953"
            ],
            [
             0.7777777777777778,
             "#fb9f3a"
            ],
            [
             0.8888888888888888,
             "#fdca26"
            ],
            [
             1,
             "#f0f921"
            ]
           ],
           "sequentialminus": [
            [
             0,
             "#0d0887"
            ],
            [
             0.1111111111111111,
             "#46039f"
            ],
            [
             0.2222222222222222,
             "#7201a8"
            ],
            [
             0.3333333333333333,
             "#9c179e"
            ],
            [
             0.4444444444444444,
             "#bd3786"
            ],
            [
             0.5555555555555556,
             "#d8576b"
            ],
            [
             0.6666666666666666,
             "#ed7953"
            ],
            [
             0.7777777777777778,
             "#fb9f3a"
            ],
            [
             0.8888888888888888,
             "#fdca26"
            ],
            [
             1,
             "#f0f921"
            ]
           ]
          },
          "colorway": [
           "#636efa",
           "#EF553B",
           "#00cc96",
           "#ab63fa",
           "#FFA15A",
           "#19d3f3",
           "#FF6692",
           "#B6E880",
           "#FF97FF",
           "#FECB52"
          ],
          "font": {
           "color": "#2a3f5f"
          },
          "geo": {
           "bgcolor": "white",
           "lakecolor": "white",
           "landcolor": "#E5ECF6",
           "showlakes": true,
           "showland": true,
           "subunitcolor": "white"
          },
          "hoverlabel": {
           "align": "left"
          },
          "hovermode": "closest",
          "mapbox": {
           "style": "light"
          },
          "paper_bgcolor": "white",
          "plot_bgcolor": "#E5ECF6",
          "polar": {
           "angularaxis": {
            "gridcolor": "white",
            "linecolor": "white",
            "ticks": ""
           },
           "bgcolor": "#E5ECF6",
           "radialaxis": {
            "gridcolor": "white",
            "linecolor": "white",
            "ticks": ""
           }
          },
          "scene": {
           "xaxis": {
            "backgroundcolor": "#E5ECF6",
            "gridcolor": "white",
            "gridwidth": 2,
            "linecolor": "white",
            "showbackground": true,
            "ticks": "",
            "zerolinecolor": "white"
           },
           "yaxis": {
            "backgroundcolor": "#E5ECF6",
            "gridcolor": "white",
            "gridwidth": 2,
            "linecolor": "white",
            "showbackground": true,
            "ticks": "",
            "zerolinecolor": "white"
           },
           "zaxis": {
            "backgroundcolor": "#E5ECF6",
            "gridcolor": "white",
            "gridwidth": 2,
            "linecolor": "white",
            "showbackground": true,
            "ticks": "",
            "zerolinecolor": "white"
           }
          },
          "shapedefaults": {
           "line": {
            "color": "#2a3f5f"
           }
          },
          "ternary": {
           "aaxis": {
            "gridcolor": "white",
            "linecolor": "white",
            "ticks": ""
           },
           "baxis": {
            "gridcolor": "white",
            "linecolor": "white",
            "ticks": ""
           },
           "bgcolor": "#E5ECF6",
           "caxis": {
            "gridcolor": "white",
            "linecolor": "white",
            "ticks": ""
           }
          },
          "title": {
           "x": 0.05
          },
          "xaxis": {
           "automargin": true,
           "gridcolor": "white",
           "linecolor": "white",
           "ticks": "",
           "title": {
            "standoff": 15
           },
           "zerolinecolor": "white",
           "zerolinewidth": 2
          },
          "yaxis": {
           "automargin": true,
           "gridcolor": "white",
           "linecolor": "white",
           "ticks": "",
           "title": {
            "standoff": 15
           },
           "zerolinecolor": "white",
           "zerolinewidth": 2
          }
         }
        },
        "title": {
         "text": "Cosine sim of Input weights and the my color probe for top layer 6 neurons"
        },
        "xaxis": {
         "anchor": "y",
         "domain": [
          0,
          0.08200000000000002
         ],
         "title": {
          "text": "x"
         }
        },
        "xaxis10": {
         "anchor": "y10",
         "domain": [
          0.9180000000000001,
          1
         ],
         "matches": "x",
         "title": {
          "text": "x"
         }
        },
        "xaxis2": {
         "anchor": "y2",
         "domain": [
          0.10200000000000002,
          0.18400000000000005
         ],
         "matches": "x",
         "title": {
          "text": "x"
         }
        },
        "xaxis3": {
         "anchor": "y3",
         "domain": [
          0.20400000000000004,
          0.28600000000000003
         ],
         "matches": "x",
         "title": {
          "text": "x"
         }
        },
        "xaxis4": {
         "anchor": "y4",
         "domain": [
          0.30600000000000005,
          0.38800000000000007
         ],
         "matches": "x",
         "title": {
          "text": "x"
         }
        },
        "xaxis5": {
         "anchor": "y5",
         "domain": [
          0.4080000000000001,
          0.4900000000000001
         ],
         "matches": "x",
         "title": {
          "text": "x"
         }
        },
        "xaxis6": {
         "anchor": "y6",
         "domain": [
          0.5100000000000001,
          0.5920000000000001
         ],
         "matches": "x",
         "title": {
          "text": "x"
         }
        },
        "xaxis7": {
         "anchor": "y7",
         "domain": [
          0.6120000000000001,
          0.6940000000000002
         ],
         "matches": "x",
         "title": {
          "text": "x"
         }
        },
        "xaxis8": {
         "anchor": "y8",
         "domain": [
          0.7140000000000001,
          0.796
         ],
         "matches": "x",
         "title": {
          "text": "x"
         }
        },
        "xaxis9": {
         "anchor": "y9",
         "domain": [
          0.8160000000000002,
          0.8980000000000001
         ],
         "matches": "x",
         "title": {
          "text": "x"
         }
        },
        "yaxis": {
         "anchor": "x",
         "autorange": "reversed",
         "domain": [
          0,
          1
         ],
         "title": {
          "text": "y"
         }
        },
        "yaxis10": {
         "anchor": "x10",
         "domain": [
          0,
          1
         ],
         "matches": "y",
         "showticklabels": false
        },
        "yaxis2": {
         "anchor": "x2",
         "domain": [
          0,
          1
         ],
         "matches": "y",
         "showticklabels": false
        },
        "yaxis3": {
         "anchor": "x3",
         "domain": [
          0,
          1
         ],
         "matches": "y",
         "showticklabels": false
        },
        "yaxis4": {
         "anchor": "x4",
         "domain": [
          0,
          1
         ],
         "matches": "y",
         "showticklabels": false
        },
        "yaxis5": {
         "anchor": "x5",
         "domain": [
          0,
          1
         ],
         "matches": "y",
         "showticklabels": false
        },
        "yaxis6": {
         "anchor": "x6",
         "domain": [
          0,
          1
         ],
         "matches": "y",
         "showticklabels": false
        },
        "yaxis7": {
         "anchor": "x7",
         "domain": [
          0,
          1
         ],
         "matches": "y",
         "showticklabels": false
        },
        "yaxis8": {
         "anchor": "x8",
         "domain": [
          0,
          1
         ],
         "matches": "y",
         "showticklabels": false
        },
        "yaxis9": {
         "anchor": "x9",
         "domain": [
          0,
          1
         ],
         "matches": "y",
         "showticklabels": false
        }
       }
      }
     },
     "metadata": {},
     "output_type": "display_data"
    },
    {
     "data": {
      "application/vnd.plotly.v1+json": {
       "config": {
        "plotlyServerURL": "https://plot.ly"
       },
       "data": [
        {
         "coloraxis": "coloraxis",
         "hovertemplate": "x: %{x}<br>y: %{y}<br>color: %{z}<extra></extra>",
         "name": "0",
         "type": "heatmap",
         "xaxis": "x",
         "y": [
          "A",
          "B",
          "C",
          "D",
          "E",
          "F",
          "G",
          "H"
         ],
         "yaxis": "y",
         "z": [
          [
           0.04191263020038605,
           0.10871748626232147,
           0.04031575843691826,
           0.12163078039884567,
           0.10156755894422531,
           0.0891936644911766,
           0.031335651874542236,
           0.03513924777507782
          ],
          [
           0.06796562671661377,
           0.017178256064653397,
           0.044383980333805084,
           0.042494967579841614,
           0.02161424234509468,
           0.05121665447950363,
           0.04691651090979576,
           0.12107831239700317
          ],
          [
           0.036949239671230316,
           0.09396051615476608,
           -0.09173150360584259,
           0.01027451828122139,
           -0.12632040679454803,
           0.03510008007287979,
           0.06003314256668091,
           0.06035485863685608
          ],
          [
           0.028638040646910667,
           0.04900139570236206,
           0.019404275342822075,
           0,
           0,
           0.0872907042503357,
           0.07944384217262268,
           0.07412958145141602
          ],
          [
           0.0710478276014328,
           0.019096244126558304,
           -0.14923414587974548,
           0,
           0,
           -0.03608700633049011,
           0.03473150357604027,
           0.09364832937717438
          ],
          [
           0.05766298994421959,
           0.06066904962062836,
           0.014087170362472534,
           0.01844053715467453,
           -0.053153056651353836,
           0.05279247462749481,
           0.0020811762660741806,
           0.07754002511501312
          ],
          [
           -0.004851187579333782,
           0.0945969969034195,
           0.0519103966653347,
           0.07706964015960693,
           0.026715852320194244,
           0.0030790017917752266,
           0.1140589714050293,
           0.020752057433128357
          ],
          [
           0.03649229183793068,
           0.07706282287836075,
           0.09554454684257507,
           0.1259327083826065,
           0.03757229074835777,
           0.05686168000102043,
           0.0356752946972847,
           0.055950239300727844
          ]
         ]
        },
        {
         "coloraxis": "coloraxis",
         "hovertemplate": "x: %{x}<br>y: %{y}<br>color: %{z}<extra></extra>",
         "name": "1",
         "type": "heatmap",
         "xaxis": "x2",
         "y": [
          "A",
          "B",
          "C",
          "D",
          "E",
          "F",
          "G",
          "H"
         ],
         "yaxis": "y2",
         "z": [
          [
           0.04495418816804886,
           0.05733576416969299,
           0.10636195540428162,
           0.006052644923329353,
           0.03011835739016533,
           0.03820079192519188,
           0.0396881029009819,
           0.07279017567634583
          ],
          [
           0.07422256469726562,
           0.0728868767619133,
           0.009146397933363914,
           0.0008505135774612427,
           0.028805743902921677,
           0.025410350412130356,
           0.04158061742782593,
           0.03036053478717804
          ],
          [
           0.11017924547195435,
           0.077599436044693,
           0.038832616060972214,
           -0.04276040941476822,
           0.006969848647713661,
           0.0200362391769886,
           0.010446378961205482,
           0.03242954984307289
          ],
          [
           0.10818862915039062,
           -0.011098729446530342,
           -0.032300613820552826,
           0,
           0,
           -0.076274573802948,
           -0.03350520133972168,
           0.02381572499871254
          ],
          [
           0.07671011239290237,
           0.029846295714378357,
           0.031225256621837616,
           0,
           0,
           -0.011396653950214386,
           0.05014653503894806,
           0.06330782920122147
          ],
          [
           0.07080318033695221,
           0.02567801997065544,
           0.0025582732632756233,
           -0.09778483211994171,
           0.00586559996008873,
           -0.10129741579294205,
           0.013298437930643559,
           0.047415122389793396
          ],
          [
           0.1060209795832634,
           0.015160547569394112,
           0.036142073571681976,
           -0.013947528786957264,
           -0.0026802420616149902,
           0.007806782610714436,
           -0.015244025737047195,
           0.0638168603181839
          ],
          [
           0.10166873782873154,
           0.061548516154289246,
           0.06263275444507599,
           0.04879526048898697,
           0.08355129510164261,
           0.049911677837371826,
           0.08126606047153473,
           0.06404373794794083
          ]
         ]
        },
        {
         "coloraxis": "coloraxis",
         "hovertemplate": "x: %{x}<br>y: %{y}<br>color: %{z}<extra></extra>",
         "name": "2",
         "type": "heatmap",
         "xaxis": "x3",
         "y": [
          "A",
          "B",
          "C",
          "D",
          "E",
          "F",
          "G",
          "H"
         ],
         "yaxis": "y3",
         "z": [
          [
           0.03913450241088867,
           -0.03339659795165062,
           -0.017951175570487976,
           -0.03256779909133911,
           -0.007247938774526119,
           -0.02661195769906044,
           0.016913842409849167,
           0.013953127898275852
          ],
          [
           0.011710016056895256,
           0.021036483347415924,
           -0.008985204622149467,
           -0.052121780812740326,
           -0.01793961599469185,
           0.014573915861546993,
           0.03448347747325897,
           0.01877051219344139
          ],
          [
           0.0015748804435133934,
           -0.04864344000816345,
           0.02497508004307747,
           -0.10731042176485062,
           -0.014700065366923809,
           -0.14740891754627228,
           -0.012289660982787609,
           -0.02477078139781952
          ],
          [
           0.014227790758013725,
           0.024531565606594086,
           -0.011541400104761124,
           0,
           0,
           0.03568655997514725,
           0.025613777339458466,
           0.022228030487895012
          ],
          [
           -0.04950762540102005,
           -0.09263748675584793,
           -0.12976861000061035,
           0,
           0,
           -0.13297942280769348,
           -0.048897504806518555,
           -0.04659007862210274
          ],
          [
           -0.01189417764544487,
           0.01289878785610199,
           -0.007863271981477737,
           -0.05441486835479736,
           0.00722207548096776,
           -0.01512003131210804,
           0.0058431681245565414,
           -0.033432766795158386
          ],
          [
           -0.0014286278747022152,
           -0.0001980038359761238,
           0.01278345100581646,
           -0.1202850416302681,
           0.035859864205121994,
           -0.10414088517427444,
           0.01489319745451212,
           -0.0301740150898695
          ],
          [
           0.03571481630206108,
           0.014780644327402115,
           -0.02630796656012535,
           -0.03047741763293743,
           -0.011961337178945541,
           0.007526099681854248,
           -0.00036320649087429047,
           0.030502712354063988
          ]
         ]
        },
        {
         "coloraxis": "coloraxis",
         "hovertemplate": "x: %{x}<br>y: %{y}<br>color: %{z}<extra></extra>",
         "name": "3",
         "type": "heatmap",
         "xaxis": "x4",
         "y": [
          "A",
          "B",
          "C",
          "D",
          "E",
          "F",
          "G",
          "H"
         ],
         "yaxis": "y4",
         "z": [
          [
           0.003934420645236969,
           0.02106320858001709,
           0.007383549585938454,
           0.029102230444550514,
           0.01162760891020298,
           0.022128965705633163,
           0.00048129819333553314,
           0.010672826319932938
          ],
          [
           0.008877419866621494,
           -0.031744711101055145,
           -0.039116036146879196,
           0.01039278507232666,
           0.006863856688141823,
           -0.022970041260123253,
           0.020435506477952003,
           0.02684209682047367
          ],
          [
           -0.025218933820724487,
           -0.022887319326400757,
           -0.07497459650039673,
           0.013013575226068497,
           -0.10616140067577362,
           -0.03975722938776016,
           0.001699049025774002,
           0.012207470834255219
          ],
          [
           0.01166208554059267,
           -0.005968213081359863,
           0.0010083885863423347,
           0,
           0,
           0.005654875189065933,
           0.022529730573296547,
           0.01815817877650261
          ],
          [
           -0.007733124308288097,
           -0.023149019107222557,
           -0.11174623668193817,
           0,
           0,
           -0.06363360583782196,
           -0.04370078444480896,
           -0.003754178760573268
          ],
          [
           -0.02494143508374691,
           -0.048483751714229584,
           0.03627236932516098,
           -0.021330997347831726,
           -0.01634885184466839,
           -0.07056859135627747,
           -0.004313196986913681,
           -0.009207980707287788
          ],
          [
           -0.0030051665380597115,
           0.06289217621088028,
           0.2237364649772644,
           0.010890312492847443,
           -0.032079730182886124,
           0.008047839626669884,
           -0.0032583847641944885,
           0.013816284947097301
          ],
          [
           -0.01622791215777397,
           0.13033612072467804,
           0.12206805497407913,
           0.03580766171216965,
           0.00248153880238533,
           -0.004517864435911179,
           0.018673986196517944,
           0.02007855474948883
          ]
         ]
        },
        {
         "coloraxis": "coloraxis",
         "hovertemplate": "x: %{x}<br>y: %{y}<br>color: %{z}<extra></extra>",
         "name": "4",
         "type": "heatmap",
         "xaxis": "x5",
         "y": [
          "A",
          "B",
          "C",
          "D",
          "E",
          "F",
          "G",
          "H"
         ],
         "yaxis": "y5",
         "z": [
          [
           0.004344792105257511,
           0.017368435859680176,
           -0.007712880615144968,
           -0.02187051996588707,
           0.006308499723672867,
           -0.008052411489188671,
           0.009296419098973274,
           0.028600575402379036
          ],
          [
           0.009708861820399761,
           -0.0027932871598750353,
           -0.005536738783121109,
           -0.10718300193548203,
           0.023227065801620483,
           -0.04941575974225998,
           0.03898513317108154,
           -0.04715774953365326
          ],
          [
           0.005401485599577427,
           0.01381971687078476,
           -0.01932998187839985,
           -0.010795960202813148,
           -0.004780015908181667,
           -0.02589290775358677,
           -0.06102271005511284,
           -0.021517634391784668
          ],
          [
           0.04244186356663704,
           0.008466370403766632,
           0.020312706008553505,
           0,
           0,
           -0.1601526141166687,
           -0.018415724858641624,
           -0.03072715364396572
          ],
          [
           0.013240623287856579,
           0.021980196237564087,
           -0.035912733525037766,
           0,
           0,
           0.015035971067845821,
           -0.025253474712371826,
           -0.0032549314200878143
          ],
          [
           0.007101386319845915,
           0.005737696308642626,
           -0.016538608819246292,
           -0.21742546558380127,
           0.013183269649744034,
           -0.11051397770643234,
           0.01118062250316143,
           -0.05699802562594414
          ],
          [
           0.0272354856133461,
           0.01845744624733925,
           -0.1258436143398285,
           -0.020924018695950508,
           -0.006515310145914555,
           -0.0541592538356781,
           -0.012460811994969845,
           -0.016544707119464874
          ],
          [
           0.06438738107681274,
           -0.04147235304117203,
           -0.006456368137151003,
           -0.005757136270403862,
           0.019042033702135086,
           -0.04792473092675209,
           0.008459487929940224,
           0.02321399189531803
          ]
         ]
        },
        {
         "coloraxis": "coloraxis",
         "hovertemplate": "x: %{x}<br>y: %{y}<br>color: %{z}<extra></extra>",
         "name": "5",
         "type": "heatmap",
         "xaxis": "x6",
         "y": [
          "A",
          "B",
          "C",
          "D",
          "E",
          "F",
          "G",
          "H"
         ],
         "yaxis": "y6",
         "z": [
          [
           -0.027858879417181015,
           0.014434587210416794,
           0.031356390565633774,
           0.0023623984307050705,
           0.011728155426681042,
           0.008709002286195755,
           0.00879097729921341,
           0.02206142619252205
          ],
          [
           -0.006980936974287033,
           0.011673703789710999,
           -0.008779479190707207,
           -0.02015334740281105,
           -0.02209143340587616,
           0.004735815338790417,
           0.01533132791519165,
           0.023752976208925247
          ],
          [
           -0.04080672562122345,
           0.003924895077943802,
           0.0008441749960184097,
           -0.03449609875679016,
           -0.01234699971973896,
           -0.03192345052957535,
           -0.003078250214457512,
           0.02472294308245182
          ],
          [
           -0.05465107411146164,
           -0.006797888316214085,
           -0.06449608504772186,
           0,
           0,
           0.013814389705657959,
           -0.010494610294699669,
           0.0225230660289526
          ],
          [
           -0.003764096647500992,
           -0.018408700823783875,
           0.005260482430458069,
           0,
           0,
           0.013099544681608677,
           0.015021154657006264,
           0.009526161476969719
          ],
          [
           0.017722023651003838,
           0.026477636769413948,
           -0.0763377845287323,
           -0.03265802562236786,
           0.0506889708340168,
           -0.025052081793546677,
           0.0118583794683218,
           0.04141111671924591
          ],
          [
           -0.0037629064172506332,
           0.020379509776830673,
           0.05481987074017525,
           0.017211483791470528,
           -0.0011213216930627823,
           -0.009795334190130234,
           0.013875644654035568,
           0.02902284637093544
          ],
          [
           -0.06427140533924103,
           0.1322232186794281,
           0.47558313608169556,
           0.11560797691345215,
           0.10815103352069855,
           0.10908833891153336,
           0.029583750292658806,
           0.05286765098571777
          ]
         ]
        },
        {
         "coloraxis": "coloraxis",
         "hovertemplate": "x: %{x}<br>y: %{y}<br>color: %{z}<extra></extra>",
         "name": "6",
         "type": "heatmap",
         "xaxis": "x7",
         "y": [
          "A",
          "B",
          "C",
          "D",
          "E",
          "F",
          "G",
          "H"
         ],
         "yaxis": "y7",
         "z": [
          [
           -0.09634311497211456,
           0.026313541457057,
           0.016182325780391693,
           -0.004923020955175161,
           0.01637350395321846,
           0.029456639662384987,
           0.01422613114118576,
           0.020411767065525055
          ],
          [
           0.005107610486447811,
           -0.13585308194160461,
           0.02484891004860401,
           -0.00771613884717226,
           0.009484950453042984,
           0.004480388946831226,
           0.009432058781385422,
           -0.01718989387154579
          ],
          [
           0.024878855794668198,
           0.017270617187023163,
           -0.1162281259894371,
           -0.005935341585427523,
           -0.02498389221727848,
           0.04192260652780533,
           0.0007474292069673538,
           0.011765926145017147
          ],
          [
           0.020739305764436722,
           -0.026815446093678474,
           -0.015007147565484047,
           0,
           0,
           -0.004895878955721855,
           0.026891522109508514,
           0.00036311009898781776
          ],
          [
           -0.009648764505982399,
           0.010234839282929897,
           -0.03845052048563957,
           0,
           0,
           0.006156433839350939,
           0.0009349994361400604,
           0.0012848940677940845
          ],
          [
           0.006484679877758026,
           -0.01040193997323513,
           0.02768557332456112,
           -0.013935154303908348,
           0.004783032462000847,
           -0.15966631472110748,
           0.017624536529183388,
           -0.0032456880435347557
          ],
          [
           0.004818180575966835,
           0.01972091943025589,
           -0.030517250299453735,
           0.009333007968962193,
           -0.010802030563354492,
           0.010976139456033707,
           -0.15048198401927948,
           0.02411060780286789
          ],
          [
           0.01683044619858265,
           -0.0026674196124076843,
           0.023281410336494446,
           -0.0033126589842140675,
           0.025931254029273987,
           0.03270434960722923,
           0.01765955425798893,
           -0.10845538228750229
          ]
         ]
        },
        {
         "coloraxis": "coloraxis",
         "hovertemplate": "x: %{x}<br>y: %{y}<br>color: %{z}<extra></extra>",
         "name": "7",
         "type": "heatmap",
         "xaxis": "x8",
         "y": [
          "A",
          "B",
          "C",
          "D",
          "E",
          "F",
          "G",
          "H"
         ],
         "yaxis": "y8",
         "z": [
          [
           0.01372232474386692,
           -0.0345260351896286,
           -0.009432410821318626,
           -0.023347005248069763,
           0.004325473681092262,
           -0.006326369941234589,
           -0.003359296126291156,
           0.030209191143512726
          ],
          [
           -0.05345916748046875,
           -0.015788458287715912,
           -0.12291867285966873,
           0.00045694923028349876,
           -0.06288878619670868,
           -0.017793986946344376,
           0.010319648310542107,
           0.04369639977812767
          ],
          [
           -0.045363087207078934,
           -0.050991710275411606,
           0.006214149296283722,
           -0.012637869454920292,
           -0.027027390897274017,
           -0.014499586075544357,
           0.00699869729578495,
           0.0008823499083518982
          ],
          [
           -0.030514104291796684,
           -0.05367607623338699,
           -0.21752521395683289,
           0,
           0,
           -0.02423526719212532,
           -0.005760283675044775,
           0.02329178899526596
          ],
          [
           0.02871754951775074,
           -0.10875065624713898,
           -0.03329826146364212,
           0,
           0,
           -0.00821387767791748,
           0.016117285937070847,
           0.017042770981788635
          ],
          [
           -0.047318048775196075,
           0.006077623460441828,
           -0.10531553626060486,
           0.032999321818351746,
           -0.07405060529708862,
           -0.012982923537492752,
           0.017252117395401,
           0.02183978073298931
          ],
          [
           -0.0026375893503427505,
           -0.0226211566478014,
           -0.02525489218533039,
           -0.007964495569467545,
           -0.027351904660463333,
           -0.025703810155391693,
           -0.001309271901845932,
           0.019029106944799423
          ],
          [
           0.00029669608920812607,
           0.022166438400745392,
           -0.021569179370999336,
           0.012416398152709007,
           -0.02288902923464775,
           0.000046920496970415115,
           -0.023660145699977875,
           0.010144483298063278
          ]
         ]
        },
        {
         "coloraxis": "coloraxis",
         "hovertemplate": "x: %{x}<br>y: %{y}<br>color: %{z}<extra></extra>",
         "name": "8",
         "type": "heatmap",
         "xaxis": "x9",
         "y": [
          "A",
          "B",
          "C",
          "D",
          "E",
          "F",
          "G",
          "H"
         ],
         "yaxis": "y9",
         "z": [
          [
           0.013051969930529594,
           0.10429153591394424,
           0.03685469925403595,
           0.07859636843204498,
           0.07261908799409866,
           0.04900742322206497,
           0.04815498739480972,
           0.055463820695877075
          ],
          [
           0.09560419619083405,
           0.026599518954753876,
           0.05141706019639969,
           0.06154699623584747,
           0.02674959972500801,
           0.00244337460026145,
           0.07762916386127472,
           0.06170172244310379
          ],
          [
           0.053313691169023514,
           0.07793321460485458,
           -0.0911092460155487,
           0.010207340121269226,
           -0.0857434943318367,
           0.05214139074087143,
           0.025302384048700333,
           0.047507815062999725
          ],
          [
           0.043725330382585526,
           0.047352615743875504,
           -0.0019352491945028305,
           0,
           0,
           0.06437858939170837,
           0.04301917552947998,
           0.058755602687597275
          ],
          [
           0.05083237960934639,
           0.009883936494588852,
           -0.13509628176689148,
           0,
           0,
           -0.03529169037938118,
           -0.01283436268568039,
           0.04213452711701393
          ],
          [
           0.08502683788537979,
           0.022381959483027458,
           -0.0166213046759367,
           -0.00812777504324913,
           -0.04649288207292557,
           0.028297288343310356,
           0.006612205877900124,
           0.08134567737579346
          ],
          [
           0.01977282576262951,
           0.07320396602153778,
           0.013971880078315735,
           0.03279510512948036,
           -0.011050639674067497,
           0.011376543901860714,
           0.05994238704442978,
           0.029830429702997208
          ],
          [
           0.05034451186656952,
           0.06408854573965073,
           0.10365153849124908,
           0.10187861323356628,
           0.03659118711948395,
           0.037628840655088425,
           0.06551120430231094,
           0.06522145867347717
          ]
         ]
        },
        {
         "coloraxis": "coloraxis",
         "hovertemplate": "x: %{x}<br>y: %{y}<br>color: %{z}<extra></extra>",
         "name": "9",
         "type": "heatmap",
         "xaxis": "x10",
         "y": [
          "A",
          "B",
          "C",
          "D",
          "E",
          "F",
          "G",
          "H"
         ],
         "yaxis": "y10",
         "z": [
          [
           0.017438674345612526,
           0.029691506177186966,
           0.020875172689557076,
           0.011296018026769161,
           0.01606818661093712,
           0.006942540407180786,
           0.017992012202739716,
           0.034974727779626846
          ],
          [
           0.006763060111552477,
           0.022236287593841553,
           -0.011300625279545784,
           0.018463175743818283,
           -0.016650352627038956,
           -0.01736532896757126,
           0.0036967070773243904,
           -0.01037103496491909
          ],
          [
           0.018649432808160782,
           -0.01057031936943531,
           0.008476413786411285,
           0.003737824968993664,
           -0.037386566400527954,
           -0.0024042660370469093,
           -0.024655161425471306,
           -0.0997629314661026
          ],
          [
           0.013294288888573647,
           -0.0010943259112536907,
           -0.028725184500217438,
           0,
           0,
           -0.015675848349928856,
           -0.1015540137887001,
           -0.024237744510173798
          ],
          [
           0.017229987308382988,
           -0.016734518110752106,
           0.019772876054048538,
           0,
           0,
           -0.1524384319782257,
           -0.017805466428399086,
           -0.004970883950591087
          ],
          [
           0.006593603640794754,
           -0.0038633113726973534,
           -0.06625670194625854,
           -0.023035932332277298,
           -0.21862569451332092,
           -0.025478361174464226,
           -0.050199978053569794,
           -0.00551341287791729
          ],
          [
           0.007246563211083412,
           0.010762324556708336,
           -0.029966043308377266,
           0.023092225193977356,
           -0.058421652764081955,
           -0.03483499586582184,
           0.017942257225513458,
           -0.021324459463357925
          ],
          [
           0.007959749549627304,
           0.04448326677083969,
           -0.175373375415802,
           0.02412169799208641,
           -0.012735811062157154,
           0.04417368024587631,
           -0.01884152926504612,
           0.02496073767542839
          ]
         ]
        }
       ],
       "layout": {
        "annotations": [
         {
          "font": {},
          "showarrow": false,
          "text": "L7N86",
          "x": 0.04100000000000001,
          "xanchor": "center",
          "xref": "paper",
          "y": 1,
          "yanchor": "bottom",
          "yref": "paper"
         },
         {
          "font": {},
          "showarrow": false,
          "text": "L7N376",
          "x": 0.14300000000000004,
          "xanchor": "center",
          "xref": "paper",
          "y": 1,
          "yanchor": "bottom",
          "yref": "paper"
         },
         {
          "font": {},
          "showarrow": false,
          "text": "L7N991",
          "x": 0.24500000000000005,
          "xanchor": "center",
          "xref": "paper",
          "y": 1,
          "yanchor": "bottom",
          "yref": "paper"
         },
         {
          "font": {},
          "showarrow": false,
          "text": "L7N981",
          "x": 0.3470000000000001,
          "xanchor": "center",
          "xref": "paper",
          "y": 1,
          "yanchor": "bottom",
          "yref": "paper"
         },
         {
          "font": {},
          "showarrow": false,
          "text": "L7N1042",
          "x": 0.44900000000000007,
          "xanchor": "center",
          "xref": "paper",
          "y": 1,
          "yanchor": "bottom",
          "yref": "paper"
         },
         {
          "font": {},
          "showarrow": false,
          "text": "L7N1358",
          "x": 0.5510000000000002,
          "xanchor": "center",
          "xref": "paper",
          "y": 1,
          "yanchor": "bottom",
          "yref": "paper"
         },
         {
          "font": {},
          "showarrow": false,
          "text": "L7N2001",
          "x": 0.6530000000000001,
          "xanchor": "center",
          "xref": "paper",
          "y": 1,
          "yanchor": "bottom",
          "yref": "paper"
         },
         {
          "font": {},
          "showarrow": false,
          "text": "L7N23",
          "x": 0.7550000000000001,
          "xanchor": "center",
          "xref": "paper",
          "y": 1,
          "yanchor": "bottom",
          "yref": "paper"
         },
         {
          "font": {},
          "showarrow": false,
          "text": "L7N37",
          "x": 0.8570000000000002,
          "xanchor": "center",
          "xref": "paper",
          "y": 1,
          "yanchor": "bottom",
          "yref": "paper"
         },
         {
          "font": {},
          "showarrow": false,
          "text": "L7N56",
          "x": 0.9590000000000002,
          "xanchor": "center",
          "xref": "paper",
          "y": 1,
          "yanchor": "bottom",
          "yref": "paper"
         }
        ],
        "coloraxis": {
         "cmax": 0.5,
         "cmid": 0,
         "cmin": -0.5,
         "colorscale": [
          [
           0,
           "rgb(103,0,31)"
          ],
          [
           0.1,
           "rgb(178,24,43)"
          ],
          [
           0.2,
           "rgb(214,96,77)"
          ],
          [
           0.3,
           "rgb(244,165,130)"
          ],
          [
           0.4,
           "rgb(253,219,199)"
          ],
          [
           0.5,
           "rgb(247,247,247)"
          ],
          [
           0.6,
           "rgb(209,229,240)"
          ],
          [
           0.7,
           "rgb(146,197,222)"
          ],
          [
           0.8,
           "rgb(67,147,195)"
          ],
          [
           0.9,
           "rgb(33,102,172)"
          ],
          [
           1,
           "rgb(5,48,97)"
          ]
         ]
        },
        "template": {
         "data": {
          "bar": [
           {
            "error_x": {
             "color": "#2a3f5f"
            },
            "error_y": {
             "color": "#2a3f5f"
            },
            "marker": {
             "line": {
              "color": "#E5ECF6",
              "width": 0.5
             },
             "pattern": {
              "fillmode": "overlay",
              "size": 10,
              "solidity": 0.2
             }
            },
            "type": "bar"
           }
          ],
          "barpolar": [
           {
            "marker": {
             "line": {
              "color": "#E5ECF6",
              "width": 0.5
             },
             "pattern": {
              "fillmode": "overlay",
              "size": 10,
              "solidity": 0.2
             }
            },
            "type": "barpolar"
           }
          ],
          "carpet": [
           {
            "aaxis": {
             "endlinecolor": "#2a3f5f",
             "gridcolor": "white",
             "linecolor": "white",
             "minorgridcolor": "white",
             "startlinecolor": "#2a3f5f"
            },
            "baxis": {
             "endlinecolor": "#2a3f5f",
             "gridcolor": "white",
             "linecolor": "white",
             "minorgridcolor": "white",
             "startlinecolor": "#2a3f5f"
            },
            "type": "carpet"
           }
          ],
          "choropleth": [
           {
            "colorbar": {
             "outlinewidth": 0,
             "ticks": ""
            },
            "type": "choropleth"
           }
          ],
          "contour": [
           {
            "colorbar": {
             "outlinewidth": 0,
             "ticks": ""
            },
            "colorscale": [
             [
              0,
              "#0d0887"
             ],
             [
              0.1111111111111111,
              "#46039f"
             ],
             [
              0.2222222222222222,
              "#7201a8"
             ],
             [
              0.3333333333333333,
              "#9c179e"
             ],
             [
              0.4444444444444444,
              "#bd3786"
             ],
             [
              0.5555555555555556,
              "#d8576b"
             ],
             [
              0.6666666666666666,
              "#ed7953"
             ],
             [
              0.7777777777777778,
              "#fb9f3a"
             ],
             [
              0.8888888888888888,
              "#fdca26"
             ],
             [
              1,
              "#f0f921"
             ]
            ],
            "type": "contour"
           }
          ],
          "contourcarpet": [
           {
            "colorbar": {
             "outlinewidth": 0,
             "ticks": ""
            },
            "type": "contourcarpet"
           }
          ],
          "heatmap": [
           {
            "colorbar": {
             "outlinewidth": 0,
             "ticks": ""
            },
            "colorscale": [
             [
              0,
              "#0d0887"
             ],
             [
              0.1111111111111111,
              "#46039f"
             ],
             [
              0.2222222222222222,
              "#7201a8"
             ],
             [
              0.3333333333333333,
              "#9c179e"
             ],
             [
              0.4444444444444444,
              "#bd3786"
             ],
             [
              0.5555555555555556,
              "#d8576b"
             ],
             [
              0.6666666666666666,
              "#ed7953"
             ],
             [
              0.7777777777777778,
              "#fb9f3a"
             ],
             [
              0.8888888888888888,
              "#fdca26"
             ],
             [
              1,
              "#f0f921"
             ]
            ],
            "type": "heatmap"
           }
          ],
          "heatmapgl": [
           {
            "colorbar": {
             "outlinewidth": 0,
             "ticks": ""
            },
            "colorscale": [
             [
              0,
              "#0d0887"
             ],
             [
              0.1111111111111111,
              "#46039f"
             ],
             [
              0.2222222222222222,
              "#7201a8"
             ],
             [
              0.3333333333333333,
              "#9c179e"
             ],
             [
              0.4444444444444444,
              "#bd3786"
             ],
             [
              0.5555555555555556,
              "#d8576b"
             ],
             [
              0.6666666666666666,
              "#ed7953"
             ],
             [
              0.7777777777777778,
              "#fb9f3a"
             ],
             [
              0.8888888888888888,
              "#fdca26"
             ],
             [
              1,
              "#f0f921"
             ]
            ],
            "type": "heatmapgl"
           }
          ],
          "histogram": [
           {
            "marker": {
             "pattern": {
              "fillmode": "overlay",
              "size": 10,
              "solidity": 0.2
             }
            },
            "type": "histogram"
           }
          ],
          "histogram2d": [
           {
            "colorbar": {
             "outlinewidth": 0,
             "ticks": ""
            },
            "colorscale": [
             [
              0,
              "#0d0887"
             ],
             [
              0.1111111111111111,
              "#46039f"
             ],
             [
              0.2222222222222222,
              "#7201a8"
             ],
             [
              0.3333333333333333,
              "#9c179e"
             ],
             [
              0.4444444444444444,
              "#bd3786"
             ],
             [
              0.5555555555555556,
              "#d8576b"
             ],
             [
              0.6666666666666666,
              "#ed7953"
             ],
             [
              0.7777777777777778,
              "#fb9f3a"
             ],
             [
              0.8888888888888888,
              "#fdca26"
             ],
             [
              1,
              "#f0f921"
             ]
            ],
            "type": "histogram2d"
           }
          ],
          "histogram2dcontour": [
           {
            "colorbar": {
             "outlinewidth": 0,
             "ticks": ""
            },
            "colorscale": [
             [
              0,
              "#0d0887"
             ],
             [
              0.1111111111111111,
              "#46039f"
             ],
             [
              0.2222222222222222,
              "#7201a8"
             ],
             [
              0.3333333333333333,
              "#9c179e"
             ],
             [
              0.4444444444444444,
              "#bd3786"
             ],
             [
              0.5555555555555556,
              "#d8576b"
             ],
             [
              0.6666666666666666,
              "#ed7953"
             ],
             [
              0.7777777777777778,
              "#fb9f3a"
             ],
             [
              0.8888888888888888,
              "#fdca26"
             ],
             [
              1,
              "#f0f921"
             ]
            ],
            "type": "histogram2dcontour"
           }
          ],
          "mesh3d": [
           {
            "colorbar": {
             "outlinewidth": 0,
             "ticks": ""
            },
            "type": "mesh3d"
           }
          ],
          "parcoords": [
           {
            "line": {
             "colorbar": {
              "outlinewidth": 0,
              "ticks": ""
             }
            },
            "type": "parcoords"
           }
          ],
          "pie": [
           {
            "automargin": true,
            "type": "pie"
           }
          ],
          "scatter": [
           {
            "fillpattern": {
             "fillmode": "overlay",
             "size": 10,
             "solidity": 0.2
            },
            "type": "scatter"
           }
          ],
          "scatter3d": [
           {
            "line": {
             "colorbar": {
              "outlinewidth": 0,
              "ticks": ""
             }
            },
            "marker": {
             "colorbar": {
              "outlinewidth": 0,
              "ticks": ""
             }
            },
            "type": "scatter3d"
           }
          ],
          "scattercarpet": [
           {
            "marker": {
             "colorbar": {
              "outlinewidth": 0,
              "ticks": ""
             }
            },
            "type": "scattercarpet"
           }
          ],
          "scattergeo": [
           {
            "marker": {
             "colorbar": {
              "outlinewidth": 0,
              "ticks": ""
             }
            },
            "type": "scattergeo"
           }
          ],
          "scattergl": [
           {
            "marker": {
             "colorbar": {
              "outlinewidth": 0,
              "ticks": ""
             }
            },
            "type": "scattergl"
           }
          ],
          "scattermapbox": [
           {
            "marker": {
             "colorbar": {
              "outlinewidth": 0,
              "ticks": ""
             }
            },
            "type": "scattermapbox"
           }
          ],
          "scatterpolar": [
           {
            "marker": {
             "colorbar": {
              "outlinewidth": 0,
              "ticks": ""
             }
            },
            "type": "scatterpolar"
           }
          ],
          "scatterpolargl": [
           {
            "marker": {
             "colorbar": {
              "outlinewidth": 0,
              "ticks": ""
             }
            },
            "type": "scatterpolargl"
           }
          ],
          "scatterternary": [
           {
            "marker": {
             "colorbar": {
              "outlinewidth": 0,
              "ticks": ""
             }
            },
            "type": "scatterternary"
           }
          ],
          "surface": [
           {
            "colorbar": {
             "outlinewidth": 0,
             "ticks": ""
            },
            "colorscale": [
             [
              0,
              "#0d0887"
             ],
             [
              0.1111111111111111,
              "#46039f"
             ],
             [
              0.2222222222222222,
              "#7201a8"
             ],
             [
              0.3333333333333333,
              "#9c179e"
             ],
             [
              0.4444444444444444,
              "#bd3786"
             ],
             [
              0.5555555555555556,
              "#d8576b"
             ],
             [
              0.6666666666666666,
              "#ed7953"
             ],
             [
              0.7777777777777778,
              "#fb9f3a"
             ],
             [
              0.8888888888888888,
              "#fdca26"
             ],
             [
              1,
              "#f0f921"
             ]
            ],
            "type": "surface"
           }
          ],
          "table": [
           {
            "cells": {
             "fill": {
              "color": "#EBF0F8"
             },
             "line": {
              "color": "white"
             }
            },
            "header": {
             "fill": {
              "color": "#C8D4E3"
             },
             "line": {
              "color": "white"
             }
            },
            "type": "table"
           }
          ]
         },
         "layout": {
          "annotationdefaults": {
           "arrowcolor": "#2a3f5f",
           "arrowhead": 0,
           "arrowwidth": 1
          },
          "autotypenumbers": "strict",
          "coloraxis": {
           "colorbar": {
            "outlinewidth": 0,
            "ticks": ""
           }
          },
          "colorscale": {
           "diverging": [
            [
             0,
             "#8e0152"
            ],
            [
             0.1,
             "#c51b7d"
            ],
            [
             0.2,
             "#de77ae"
            ],
            [
             0.3,
             "#f1b6da"
            ],
            [
             0.4,
             "#fde0ef"
            ],
            [
             0.5,
             "#f7f7f7"
            ],
            [
             0.6,
             "#e6f5d0"
            ],
            [
             0.7,
             "#b8e186"
            ],
            [
             0.8,
             "#7fbc41"
            ],
            [
             0.9,
             "#4d9221"
            ],
            [
             1,
             "#276419"
            ]
           ],
           "sequential": [
            [
             0,
             "#0d0887"
            ],
            [
             0.1111111111111111,
             "#46039f"
            ],
            [
             0.2222222222222222,
             "#7201a8"
            ],
            [
             0.3333333333333333,
             "#9c179e"
            ],
            [
             0.4444444444444444,
             "#bd3786"
            ],
            [
             0.5555555555555556,
             "#d8576b"
            ],
            [
             0.6666666666666666,
             "#ed7953"
            ],
            [
             0.7777777777777778,
             "#fb9f3a"
            ],
            [
             0.8888888888888888,
             "#fdca26"
            ],
            [
             1,
             "#f0f921"
            ]
           ],
           "sequentialminus": [
            [
             0,
             "#0d0887"
            ],
            [
             0.1111111111111111,
             "#46039f"
            ],
            [
             0.2222222222222222,
             "#7201a8"
            ],
            [
             0.3333333333333333,
             "#9c179e"
            ],
            [
             0.4444444444444444,
             "#bd3786"
            ],
            [
             0.5555555555555556,
             "#d8576b"
            ],
            [
             0.6666666666666666,
             "#ed7953"
            ],
            [
             0.7777777777777778,
             "#fb9f3a"
            ],
            [
             0.8888888888888888,
             "#fdca26"
            ],
            [
             1,
             "#f0f921"
            ]
           ]
          },
          "colorway": [
           "#636efa",
           "#EF553B",
           "#00cc96",
           "#ab63fa",
           "#FFA15A",
           "#19d3f3",
           "#FF6692",
           "#B6E880",
           "#FF97FF",
           "#FECB52"
          ],
          "font": {
           "color": "#2a3f5f"
          },
          "geo": {
           "bgcolor": "white",
           "lakecolor": "white",
           "landcolor": "#E5ECF6",
           "showlakes": true,
           "showland": true,
           "subunitcolor": "white"
          },
          "hoverlabel": {
           "align": "left"
          },
          "hovermode": "closest",
          "mapbox": {
           "style": "light"
          },
          "paper_bgcolor": "white",
          "plot_bgcolor": "#E5ECF6",
          "polar": {
           "angularaxis": {
            "gridcolor": "white",
            "linecolor": "white",
            "ticks": ""
           },
           "bgcolor": "#E5ECF6",
           "radialaxis": {
            "gridcolor": "white",
            "linecolor": "white",
            "ticks": ""
           }
          },
          "scene": {
           "xaxis": {
            "backgroundcolor": "#E5ECF6",
            "gridcolor": "white",
            "gridwidth": 2,
            "linecolor": "white",
            "showbackground": true,
            "ticks": "",
            "zerolinecolor": "white"
           },
           "yaxis": {
            "backgroundcolor": "#E5ECF6",
            "gridcolor": "white",
            "gridwidth": 2,
            "linecolor": "white",
            "showbackground": true,
            "ticks": "",
            "zerolinecolor": "white"
           },
           "zaxis": {
            "backgroundcolor": "#E5ECF6",
            "gridcolor": "white",
            "gridwidth": 2,
            "linecolor": "white",
            "showbackground": true,
            "ticks": "",
            "zerolinecolor": "white"
           }
          },
          "shapedefaults": {
           "line": {
            "color": "#2a3f5f"
           }
          },
          "ternary": {
           "aaxis": {
            "gridcolor": "white",
            "linecolor": "white",
            "ticks": ""
           },
           "baxis": {
            "gridcolor": "white",
            "linecolor": "white",
            "ticks": ""
           },
           "bgcolor": "#E5ECF6",
           "caxis": {
            "gridcolor": "white",
            "linecolor": "white",
            "ticks": ""
           }
          },
          "title": {
           "x": 0.05
          },
          "xaxis": {
           "automargin": true,
           "gridcolor": "white",
           "linecolor": "white",
           "ticks": "",
           "title": {
            "standoff": 15
           },
           "zerolinecolor": "white",
           "zerolinewidth": 2
          },
          "yaxis": {
           "automargin": true,
           "gridcolor": "white",
           "linecolor": "white",
           "ticks": "",
           "title": {
            "standoff": 15
           },
           "zerolinecolor": "white",
           "zerolinewidth": 2
          }
         }
        },
        "title": {
         "text": "Cosine sim of Input weights and the my color probe for top layer 7 neurons"
        },
        "xaxis": {
         "anchor": "y",
         "domain": [
          0,
          0.08200000000000002
         ],
         "title": {
          "text": "x"
         }
        },
        "xaxis10": {
         "anchor": "y10",
         "domain": [
          0.9180000000000001,
          1
         ],
         "matches": "x",
         "title": {
          "text": "x"
         }
        },
        "xaxis2": {
         "anchor": "y2",
         "domain": [
          0.10200000000000002,
          0.18400000000000005
         ],
         "matches": "x",
         "title": {
          "text": "x"
         }
        },
        "xaxis3": {
         "anchor": "y3",
         "domain": [
          0.20400000000000004,
          0.28600000000000003
         ],
         "matches": "x",
         "title": {
          "text": "x"
         }
        },
        "xaxis4": {
         "anchor": "y4",
         "domain": [
          0.30600000000000005,
          0.38800000000000007
         ],
         "matches": "x",
         "title": {
          "text": "x"
         }
        },
        "xaxis5": {
         "anchor": "y5",
         "domain": [
          0.4080000000000001,
          0.4900000000000001
         ],
         "matches": "x",
         "title": {
          "text": "x"
         }
        },
        "xaxis6": {
         "anchor": "y6",
         "domain": [
          0.5100000000000001,
          0.5920000000000001
         ],
         "matches": "x",
         "title": {
          "text": "x"
         }
        },
        "xaxis7": {
         "anchor": "y7",
         "domain": [
          0.6120000000000001,
          0.6940000000000002
         ],
         "matches": "x",
         "title": {
          "text": "x"
         }
        },
        "xaxis8": {
         "anchor": "y8",
         "domain": [
          0.7140000000000001,
          0.796
         ],
         "matches": "x",
         "title": {
          "text": "x"
         }
        },
        "xaxis9": {
         "anchor": "y9",
         "domain": [
          0.8160000000000002,
          0.8980000000000001
         ],
         "matches": "x",
         "title": {
          "text": "x"
         }
        },
        "yaxis": {
         "anchor": "x",
         "autorange": "reversed",
         "domain": [
          0,
          1
         ],
         "title": {
          "text": "y"
         }
        },
        "yaxis10": {
         "anchor": "x10",
         "domain": [
          0,
          1
         ],
         "matches": "y",
         "showticklabels": false
        },
        "yaxis2": {
         "anchor": "x2",
         "domain": [
          0,
          1
         ],
         "matches": "y",
         "showticklabels": false
        },
        "yaxis3": {
         "anchor": "x3",
         "domain": [
          0,
          1
         ],
         "matches": "y",
         "showticklabels": false
        },
        "yaxis4": {
         "anchor": "x4",
         "domain": [
          0,
          1
         ],
         "matches": "y",
         "showticklabels": false
        },
        "yaxis5": {
         "anchor": "x5",
         "domain": [
          0,
          1
         ],
         "matches": "y",
         "showticklabels": false
        },
        "yaxis6": {
         "anchor": "x6",
         "domain": [
          0,
          1
         ],
         "matches": "y",
         "showticklabels": false
        },
        "yaxis7": {
         "anchor": "x7",
         "domain": [
          0,
          1
         ],
         "matches": "y",
         "showticklabels": false
        },
        "yaxis8": {
         "anchor": "x8",
         "domain": [
          0,
          1
         ],
         "matches": "y",
         "showticklabels": false
        },
        "yaxis9": {
         "anchor": "x9",
         "domain": [
          0,
          1
         ],
         "matches": "y",
         "showticklabels": false
        }
       }
      }
     },
     "metadata": {},
     "output_type": "display_data"
    },
    {
     "data": {
      "application/vnd.plotly.v1+json": {
       "config": {
        "plotlyServerURL": "https://plot.ly"
       },
       "data": [
        {
         "coloraxis": "coloraxis",
         "hovertemplate": "x: %{x}<br>y: %{y}<br>color: %{z}<extra></extra>",
         "name": "0",
         "type": "heatmap",
         "xaxis": "x",
         "y": [
          "A",
          "B",
          "C",
          "D",
          "E",
          "F",
          "G",
          "H"
         ],
         "yaxis": "y",
         "z": [
          [
           0.06104986369609833,
           0.05543234944343567,
           0.130459725856781,
           0.07236554473638535,
           0.06855268031358719,
           0.09436977654695511,
           0.054140616208314896,
           0.08781474828720093
          ],
          [
           0.0998539999127388,
           0.0816754624247551,
           0.04540763795375824,
           0.003024153411388397,
           0.05340227112174034,
           0.011133386753499508,
           0.055194105952978134,
           0.061229728162288666
          ],
          [
           0.16485866904258728,
           0.060121215879917145,
           0.10442344099283218,
           -0.06559956073760986,
           0.056426774710416794,
           -0.034733403474092484,
           0.043201107531785965,
           0.08499781787395477
          ],
          [
           0.07037379592657089,
           0.04659431055188179,
           -0.09607139974832535,
           0,
           0,
           -0.09393369406461716,
           0.03192886710166931,
           0.07587909698486328
          ],
          [
           0.06496639549732208,
           0.05200157314538956,
           0.10080384463071823,
           0,
           0,
           0.012317230924963951,
           0.07746971398591995,
           0.08733949810266495
          ],
          [
           0.10360844433307648,
           0.020940478891134262,
           -0.02750776708126068,
           -0.11452251672744751,
           0.0038093440234661102,
           -0.13624727725982666,
           0.06782595813274384,
           0.06673131883144379
          ],
          [
           0.10528108477592468,
           0.04854319617152214,
           0.009176921099424362,
           -0.024002764374017715,
           0.036051083356142044,
           0.013232911005616188,
           0.01211085170507431,
           0.1425713747739792
          ],
          [
           0.10907052457332611,
           0.06607384979724884,
           0.08860775828361511,
           0.07396266609430313,
           0.13333351910114288,
           0.0891478955745697,
           0.08422735333442688,
           0.07361693680286407
          ]
         ]
        },
        {
         "coloraxis": "coloraxis",
         "hovertemplate": "x: %{x}<br>y: %{y}<br>color: %{z}<extra></extra>",
         "name": "1",
         "type": "heatmap",
         "xaxis": "x2",
         "y": [
          "A",
          "B",
          "C",
          "D",
          "E",
          "F",
          "G",
          "H"
         ],
         "yaxis": "y2",
         "z": [
          [
           0.07783990353345871,
           0.07203249633312225,
           0.1411515325307846,
           0.06104409694671631,
           0.06287357211112976,
           0.09268176555633545,
           0.08653378486633301,
           0.09183137118816376
          ],
          [
           0.09870794415473938,
           0.050277914851903915,
           0.06974589824676514,
           0.047781363129615784,
           0.05598944425582886,
           0.06599190831184387,
           0.04729446768760681,
           0.06000630557537079
          ],
          [
           0.13974833488464355,
           0.03815325349569321,
           0.05628642812371254,
           -0.030701518058776855,
           0.0628572478890419,
           0.0032639987766742706,
           0.04730364680290222,
           0.07376398146152496
          ],
          [
           0.08320891112089157,
           0.07169228792190552,
           -0.06947216391563416,
           0,
           0,
           -0.08893589675426483,
           0.020096976310014725,
           0.04464837908744812
          ],
          [
           0.07302983105182648,
           0.06068986654281616,
           0.1025712788105011,
           0,
           0,
           -0.01467418484389782,
           0.0739239901304245,
           0.07475242018699646
          ],
          [
           0.0947948694229126,
           0.026983603835105896,
           0.06486954540014267,
           -0.10404512286186218,
           0.011087801307439804,
           -0.1646905541419983,
           0.06375251710414886,
           0.04439684748649597
          ],
          [
           0.10884474962949753,
           0.06009330227971077,
           0.04817454516887665,
           -0.006723754107952118,
           0.06000634282827377,
           -0.00380770955234766,
           0.008973143994808197,
           0.055489808320999146
          ],
          [
           0.12086369097232819,
           0.051381807774305344,
           0.08848530799150467,
           0.07522273063659668,
           0.13436327874660492,
           0.10476449877023697,
           0.07283154129981995,
           0.059360478073358536
          ]
         ]
        },
        {
         "coloraxis": "coloraxis",
         "hovertemplate": "x: %{x}<br>y: %{y}<br>color: %{z}<extra></extra>",
         "name": "2",
         "type": "heatmap",
         "xaxis": "x3",
         "y": [
          "A",
          "B",
          "C",
          "D",
          "E",
          "F",
          "G",
          "H"
         ],
         "yaxis": "y3",
         "z": [
          [
           0.08934890478849411,
           0.05485963821411133,
           0.14042870700359344,
           0.04677009582519531,
           0.0795486718416214,
           0.11242803931236267,
           0.07588183879852295,
           0.08247409760951996
          ],
          [
           0.06344851106405258,
           0.038029927760362625,
           0.041403353214263916,
           -0.004314698278903961,
           0.03388875722885132,
           0.04050552099943161,
           0.047006577253341675,
           0.0547025129199028
          ],
          [
           0.14431855082511902,
           0.03884321078658104,
           0.10038498044013977,
           -0.06450476497411728,
           0.012588171288371086,
           -0.024723030626773834,
           0.05743123218417168,
           0.07356858253479004
          ],
          [
           0.09226285666227341,
           0.030726972967386246,
           -0.08256659656763077,
           0,
           0,
           -0.09885550290346146,
           0.004559718072414398,
           0.04272777587175369
          ],
          [
           0.09149470925331116,
           0.0239325650036335,
           0.04882591590285301,
           0,
           0,
           -0.0308714397251606,
           0.03019164688885212,
           0.06456096470355988
          ],
          [
           0.08398602902889252,
           -0.005051948130130768,
           -0.006435047835111618,
           -0.14712002873420715,
           -0.032450996339321136,
           -0.13309034705162048,
           -0.005276925396174192,
           0.011252973228693008
          ],
          [
           0.07958158850669861,
           0.09476111084222794,
           0.09239964187145233,
           0.017568174749612808,
           0.03283413127064705,
           0.024481195956468582,
           -0.005231916904449463,
           0.04703536257147789
          ],
          [
           0.10393702238798141,
           0.08837020397186279,
           0.09305940568447113,
           0.09731407463550568,
           0.1085832417011261,
           0.06791669875383377,
           0.06625492125749588,
           0.05761004239320755
          ]
         ]
        },
        {
         "coloraxis": "coloraxis",
         "hovertemplate": "x: %{x}<br>y: %{y}<br>color: %{z}<extra></extra>",
         "name": "3",
         "type": "heatmap",
         "xaxis": "x4",
         "y": [
          "A",
          "B",
          "C",
          "D",
          "E",
          "F",
          "G",
          "H"
         ],
         "yaxis": "y4",
         "z": [
          [
           0.02436322346329689,
           0.13551224768161774,
           0.02451377548277378,
           0.13734975457191467,
           0.0972844809293747,
           0.06805002689361572,
           0.010035917162895203,
           0.04890383407473564
          ],
          [
           0.09810703992843628,
           -0.016794823110103607,
           0.0388050377368927,
           0.023688847199082375,
           0.04477104917168617,
           -0.0014531910419464111,
           0.04273933917284012,
           0.14933595061302185
          ],
          [
           0.05091720446944237,
           0.07157036662101746,
           -0.07616747915744781,
           -0.007489297538995743,
           -0.13576897978782654,
           0.042962342500686646,
           0.0632154569029808,
           0.08030553162097931
          ],
          [
           0.031242985278367996,
           0.02051503211259842,
           0.0009846016764640808,
           0,
           0,
           0.05638783425092697,
           0.03492491692304611,
           0.06298113614320755
          ],
          [
           0.09996885806322098,
           0.02007189765572548,
           -0.17282497882843018,
           0,
           0,
           -0.02065037377178669,
           -0.02681063860654831,
           0.04804597049951553
          ],
          [
           0.08164039254188538,
           -0.0019804202020168304,
           -0.043613240122795105,
           0.07028299570083618,
           -0.06959180533885956,
           0.014731023460626602,
           -0.07074211537837982,
           0.04876627027988434
          ],
          [
           0.0280611589550972,
           0.08294995874166489,
           0.06786902248859406,
           0.044090691953897476,
           -0.04709190875291824,
           -0.020653806626796722,
           0.06806529313325882,
           0.001546412706375122
          ],
          [
           0.05035964399576187,
           0.11573482304811478,
           0.1046157255768776,
           0.1310611367225647,
           0.030743712559342384,
           0.05557340011000633,
           0.030536532402038574,
           0.02784724347293377
          ]
         ]
        },
        {
         "coloraxis": "coloraxis",
         "hovertemplate": "x: %{x}<br>y: %{y}<br>color: %{z}<extra></extra>",
         "name": "4",
         "type": "heatmap",
         "xaxis": "x5",
         "y": [
          "A",
          "B",
          "C",
          "D",
          "E",
          "F",
          "G",
          "H"
         ],
         "yaxis": "y5",
         "z": [
          [
           0.030916526913642883,
           0.08393126726150513,
           0.028862765058875084,
           0.1052401214838028,
           0.08841832727193832,
           0.045626189559698105,
           0.044573817402124405,
           0.05983482673764229
          ],
          [
           0.07405160367488861,
           -0.03042924404144287,
           0.051103800535202026,
           0.04741065949201584,
           0.032309360802173615,
           -0.007560791447758675,
           0.061148859560489655,
           0.13127338886260986
          ],
          [
           0.019630981609225273,
           0.05013937130570412,
           -0.08121917396783829,
           -0.008296556770801544,
           -0.14439016580581665,
           0.029431886970996857,
           0.03982603922486305,
           0.07722299546003342
          ],
          [
           0.05187482759356499,
           0.0487055741250515,
           -0.012467475607991219,
           0,
           0,
           0.06490002572536469,
           0.05838398635387421,
           0.04276145249605179
          ],
          [
           0.07390046864748001,
           -0.0035063065588474274,
           -0.12900382280349731,
           0,
           0,
           -0.024801304563879967,
           -0.007813075557351112,
           0.06879402697086334
          ],
          [
           0.07795880734920502,
           -0.032396383583545685,
           -0.020709529519081116,
           0.04058394953608513,
           -0.02509940043091774,
           0.04102829098701477,
           -0.05422265827655792,
           0.05573344975709915
          ],
          [
           0.03738900646567345,
           0.03317110985517502,
           0.05341639369726181,
           0.021194936707615852,
           0.021266084164381027,
           -0.0006867991760373116,
           0.04096509516239166,
           0.003518381156027317
          ],
          [
           0.04026908800005913,
           0.10899326205253601,
           0.10571765899658203,
           0.1261378824710846,
           0.015861375257372856,
           0.04430326446890831,
           0.05804932489991188,
           0.049789875745773315
          ]
         ]
        },
        {
         "coloraxis": "coloraxis",
         "hovertemplate": "x: %{x}<br>y: %{y}<br>color: %{z}<extra></extra>",
         "name": "5",
         "type": "heatmap",
         "xaxis": "x6",
         "y": [
          "A",
          "B",
          "C",
          "D",
          "E",
          "F",
          "G",
          "H"
         ],
         "yaxis": "y6",
         "z": [
          [
           0.0671207383275032,
           0.07633504271507263,
           0.12803615629673004,
           0.037341926246881485,
           -0.002863388042896986,
           0.07658495754003525,
           0.07700183987617493,
           0.06379392743110657
          ],
          [
           0.09894374012947083,
           0.04829723387956619,
           0.04916508123278618,
           0.06749145686626434,
           0.04672627151012421,
           0.028239913284778595,
           0.04110094532370567,
           0.03493070602416992
          ],
          [
           0.11507469415664673,
           0.06488706171512604,
           0.06521448493003845,
           -0.08585008233785629,
           0.013754835352301598,
           -0.002788066864013672,
           0.007153719663619995,
           0.05982824042439461
          ],
          [
           0.06008204072713852,
           0.11986806988716125,
           -0.07508005946874619,
           0,
           0,
           -0.08589518070220947,
           0.0032041724771261215,
           0.0068791694939136505
          ],
          [
           0.10056255757808685,
           0.020801512524485588,
           0.02482638508081436,
           0,
           0,
           -0.011212745681405067,
           0.07552090287208557,
           0.06712456792593002
          ],
          [
           0.0632949098944664,
           -0.01886306144297123,
           -0.02095380797982216,
           -0.13409478962421417,
           0.00802653655409813,
           -0.16617751121520996,
           0.04516833275556564,
           0.03446406498551369
          ],
          [
           0.068174809217453,
           0.06790168583393097,
           0.01835700124502182,
           -0.012178095057606697,
           0.04559700936079025,
           0.019187748432159424,
           0.017263440415263176,
           0.07775136828422546
          ],
          [
           0.0727168470621109,
           0.06131481006741524,
           0.040286704897880554,
           0.0774514377117157,
           0.07925468683242798,
           0.1093355044722557,
           0.09133097529411316,
           0.05846123397350311
          ]
         ]
        },
        {
         "coloraxis": "coloraxis",
         "hovertemplate": "x: %{x}<br>y: %{y}<br>color: %{z}<extra></extra>",
         "name": "6",
         "type": "heatmap",
         "xaxis": "x7",
         "y": [
          "A",
          "B",
          "C",
          "D",
          "E",
          "F",
          "G",
          "H"
         ],
         "yaxis": "y7",
         "z": [
          [
           0.03258221969008446,
           0.07387030869722366,
           0.014661220833659172,
           0.04132939130067825,
           0.052570853382349014,
           0.056782592087984085,
           0.03904755413532257,
           0.045861728489398956
          ],
          [
           0.09690496325492859,
           -0.03602560982108116,
           0.021204106509685516,
           -0.0026367753744125366,
           0.023885587230324745,
           0.0024965303018689156,
           0.04153300076723099,
           0.08373352140188217
          ],
          [
           0.02745903842151165,
           0.051824308931827545,
           -0.11110110580921173,
           -0.05794874206185341,
           -0.11740989983081818,
           0.010605040937662125,
           0.003947284072637558,
           0.052372779697179794
          ],
          [
           0.1085466742515564,
           0.0332036018371582,
           -0.011613190174102783,
           0,
           0,
           0.06977447122335434,
           0.009806361049413681,
           0.0597236193716526
          ],
          [
           0.07599643617868423,
           0.0315096452832222,
           -0.1456063687801361,
           0,
           0,
           -0.03815292939543724,
           -0.022849053144454956,
           0.027060523629188538
          ],
          [
           0.07842270284891129,
           0.007610457018017769,
           0.019268140196800232,
           0.04998110979795456,
           -0.014407876878976822,
           0.028549108654260635,
           -0.0607694573700428,
           0.09262622892856598
          ],
          [
           0.027783438563346863,
           0.07077719271183014,
           0.08817578852176666,
           0.021754374727606773,
           0.04183204472064972,
           0.027457084506750107,
           0.056046754121780396,
           0.022674836218357086
          ],
          [
           0.04733577370643616,
           0.0632605254650116,
           0.11243900656700134,
           0.11789022386074066,
           0.04617946594953537,
           0.08710353076457977,
           0.08656979352235794,
           0.06637245416641235
          ]
         ]
        },
        {
         "coloraxis": "coloraxis",
         "hovertemplate": "x: %{x}<br>y: %{y}<br>color: %{z}<extra></extra>",
         "name": "7",
         "type": "heatmap",
         "xaxis": "x8",
         "y": [
          "A",
          "B",
          "C",
          "D",
          "E",
          "F",
          "G",
          "H"
         ],
         "yaxis": "y8",
         "z": [
          [
           0.039540041238069534,
           0.11632822453975677,
           0.04932917654514313,
           0.14868155121803284,
           0.07935409992933273,
           0.044769249856472015,
           0.05551109462976456,
           0.028670068830251694
          ],
          [
           0.08542183041572571,
           -0.022993668913841248,
           0.030668072402477264,
           0.059082239866256714,
           0.03807678818702698,
           0.028195705264806747,
           0.04491185396909714,
           0.10553194582462311
          ],
          [
           0.03839157521724701,
           0.09456310421228409,
           -0.08029205352067947,
           -0.01346590742468834,
           -0.11486618220806122,
           0.023637007921934128,
           0.047745950520038605,
           0.050749771296978
          ],
          [
           0.06734244525432587,
           0.015514632686972618,
           0.002625180408358574,
           0,
           0,
           0.07113506644964218,
           0.08363613486289978,
           0.05207002907991409
          ],
          [
           0.054917965084314346,
           -0.007893091067671776,
           -0.15788717567920685,
           0,
           0,
           -0.07530322670936584,
           0.03343150019645691,
           0.08295433223247528
          ],
          [
           0.06778068095445633,
           0.006960035301744938,
           -0.04514986276626587,
           0.031026732176542282,
           -0.040849439799785614,
           0.028719790279865265,
           -0.05128651484847069,
           0.07915174216032028
          ],
          [
           0.017334196716547012,
           0.06208479031920433,
           0.06416710466146469,
           0.04160116985440254,
           0.017411677166819572,
           -0.03072202019393444,
           0.06297159940004349,
           0.023142801597714424
          ],
          [
           0.037604186683893204,
           0.07636971026659012,
           0.1078418493270874,
           0.09964445233345032,
           0.050517477095127106,
           0.06502583622932434,
           0.0431705005466938,
           0.03957045078277588
          ]
         ]
        },
        {
         "coloraxis": "coloraxis",
         "hovertemplate": "x: %{x}<br>y: %{y}<br>color: %{z}<extra></extra>",
         "name": "8",
         "type": "heatmap",
         "xaxis": "x9",
         "y": [
          "A",
          "B",
          "C",
          "D",
          "E",
          "F",
          "G",
          "H"
         ],
         "yaxis": "y9",
         "z": [
          [
           0.061041370034217834,
           0.10320371389389038,
           0.020296022295951843,
           0.11536705493927002,
           0.09204497933387756,
           0.08095484226942062,
           0.08240751922130585,
           0.01872582919895649
          ],
          [
           0.05436687916517258,
           -0.017894499003887177,
           -0.006621135398745537,
           0.02335689216852188,
           0.0011394806206226349,
           0.04399540275335312,
           0.07983055710792542,
           0.10566490143537521
          ],
          [
           0.037850238382816315,
           0.05406182259321213,
           -0.0066072577610611916,
           0.0070288414135575294,
           -0.13089606165885925,
           0.05198848992586136,
           0.08534663915634155,
           0.08004380762577057
          ],
          [
           0.012941502034664154,
           0.04518071562051773,
           0.03113490715622902,
           0,
           0,
           0.06725408881902695,
           0.09898122400045395,
           0.07786475121974945
          ],
          [
           0.0988171398639679,
           0.005125809460878372,
           -0.1479441225528717,
           0,
           0,
           -0.05264463648200035,
           0.04787098616361618,
           -0.0008483342826366425
          ],
          [
           0.09468905627727509,
           0.03396270424127579,
           -0.018684696406126022,
           0.018097680062055588,
           -0.04536814987659454,
           -0.0666140764951706,
           -0.048325877636671066,
           0.10751619935035706
          ],
          [
           0.05756892263889313,
           0.06985421478748322,
           0.05281941220164299,
           0.008960748091340065,
           0.02405260130763054,
           -0.03559059277176857,
           0.0651521384716034,
           0.001416623592376709
          ],
          [
           0.03917580097913742,
           0.08097710460424423,
           0.0516437292098999,
           0.09588158130645752,
           -0.01828630641102791,
           0.05916749686002731,
           0.04124072939157486,
           0.014784090220928192
          ]
         ]
        },
        {
         "coloraxis": "coloraxis",
         "hovertemplate": "x: %{x}<br>y: %{y}<br>color: %{z}<extra></extra>",
         "name": "9",
         "type": "heatmap",
         "xaxis": "x10",
         "y": [
          "A",
          "B",
          "C",
          "D",
          "E",
          "F",
          "G",
          "H"
         ],
         "yaxis": "y10",
         "z": [
          [
           0.013985689729452133,
           0.10814599692821503,
           0.02766251377761364,
           0.07681514322757721,
           0.04763840138912201,
           0.07640731334686279,
           0.04778825491666794,
           0.06942296028137207
          ],
          [
           0.08171001076698303,
           -0.020991506054997444,
           0.09233580529689789,
           0.014796681702136993,
           0.015134377405047417,
           -0.022095341235399246,
           0.03796113282442093,
           0.08717543631792068
          ],
          [
           0.0026815608143806458,
           0.022188875824213028,
           -0.1119125634431839,
           -0.03149402141571045,
           -0.13273091614246368,
           0.0653536468744278,
           0.002713466063141823,
           0.07800415903329849
          ],
          [
           0.03494685888290405,
           0.008509837090969086,
           0.03779758885502815,
           0,
           0,
           0.04579901695251465,
           0.047968532890081406,
           0.0729728490114212
          ],
          [
           0.06400923430919647,
           0.014589917846024036,
           -0.14590296149253845,
           0,
           0,
           -0.018830174580216408,
           0.024924950674176216,
           0.06269586831331253
          ],
          [
           0.07923100143671036,
           -0.01159081794321537,
           -0.013468168675899506,
           0.05150512605905533,
           -0.04856426268815994,
           0.09055133163928986,
           -0.0031407158821821213,
           0.09138040244579315
          ],
          [
           0.033422764390707016,
           0.061762962490320206,
           0.06953315436840057,
           0.034801289439201355,
           -0.0051231603138148785,
           -0.01611754670739174,
           0.06630092859268188,
           0.011234799399971962
          ],
          [
           0.03394417464733124,
           0.10322458297014236,
           0.07501797378063202,
           0.10603067278862,
           0.00031647272408008575,
           0.05543738603591919,
           0.04723835736513138,
           0.06217943876981735
          ]
         ]
        }
       ],
       "layout": {
        "annotations": [
         {
          "font": {},
          "showarrow": false,
          "text": "L8N1423",
          "x": 0.04100000000000001,
          "xanchor": "center",
          "xref": "paper",
          "y": 1,
          "yanchor": "bottom",
          "yref": "paper"
         },
         {
          "font": {},
          "showarrow": false,
          "text": "L8N1548",
          "x": 0.14300000000000004,
          "xanchor": "center",
          "xref": "paper",
          "y": 1,
          "yanchor": "bottom",
          "yref": "paper"
         },
         {
          "font": {},
          "showarrow": false,
          "text": "L8N984",
          "x": 0.24500000000000005,
          "xanchor": "center",
          "xref": "paper",
          "y": 1,
          "yanchor": "bottom",
          "yref": "paper"
         },
         {
          "font": {},
          "showarrow": false,
          "text": "L8N1093",
          "x": 0.3470000000000001,
          "xanchor": "center",
          "xref": "paper",
          "y": 1,
          "yanchor": "bottom",
          "yref": "paper"
         },
         {
          "font": {},
          "showarrow": false,
          "text": "L8N244",
          "x": 0.44900000000000007,
          "xanchor": "center",
          "xref": "paper",
          "y": 1,
          "yanchor": "bottom",
          "yref": "paper"
         },
         {
          "font": {},
          "showarrow": false,
          "text": "L8N1287",
          "x": 0.5510000000000002,
          "xanchor": "center",
          "xref": "paper",
          "y": 1,
          "yanchor": "bottom",
          "yref": "paper"
         },
         {
          "font": {},
          "showarrow": false,
          "text": "L8N227",
          "x": 0.6530000000000001,
          "xanchor": "center",
          "xref": "paper",
          "y": 1,
          "yanchor": "bottom",
          "yref": "paper"
         },
         {
          "font": {},
          "showarrow": false,
          "text": "L8N1066",
          "x": 0.7550000000000001,
          "xanchor": "center",
          "xref": "paper",
          "y": 1,
          "yanchor": "bottom",
          "yref": "paper"
         },
         {
          "font": {},
          "showarrow": false,
          "text": "L8N1098",
          "x": 0.8570000000000002,
          "xanchor": "center",
          "xref": "paper",
          "y": 1,
          "yanchor": "bottom",
          "yref": "paper"
         },
         {
          "font": {},
          "showarrow": false,
          "text": "L8N1171",
          "x": 0.9590000000000002,
          "xanchor": "center",
          "xref": "paper",
          "y": 1,
          "yanchor": "bottom",
          "yref": "paper"
         }
        ],
        "coloraxis": {
         "cmax": 0.5,
         "cmid": 0,
         "cmin": -0.5,
         "colorscale": [
          [
           0,
           "rgb(103,0,31)"
          ],
          [
           0.1,
           "rgb(178,24,43)"
          ],
          [
           0.2,
           "rgb(214,96,77)"
          ],
          [
           0.3,
           "rgb(244,165,130)"
          ],
          [
           0.4,
           "rgb(253,219,199)"
          ],
          [
           0.5,
           "rgb(247,247,247)"
          ],
          [
           0.6,
           "rgb(209,229,240)"
          ],
          [
           0.7,
           "rgb(146,197,222)"
          ],
          [
           0.8,
           "rgb(67,147,195)"
          ],
          [
           0.9,
           "rgb(33,102,172)"
          ],
          [
           1,
           "rgb(5,48,97)"
          ]
         ]
        },
        "template": {
         "data": {
          "bar": [
           {
            "error_x": {
             "color": "#2a3f5f"
            },
            "error_y": {
             "color": "#2a3f5f"
            },
            "marker": {
             "line": {
              "color": "#E5ECF6",
              "width": 0.5
             },
             "pattern": {
              "fillmode": "overlay",
              "size": 10,
              "solidity": 0.2
             }
            },
            "type": "bar"
           }
          ],
          "barpolar": [
           {
            "marker": {
             "line": {
              "color": "#E5ECF6",
              "width": 0.5
             },
             "pattern": {
              "fillmode": "overlay",
              "size": 10,
              "solidity": 0.2
             }
            },
            "type": "barpolar"
           }
          ],
          "carpet": [
           {
            "aaxis": {
             "endlinecolor": "#2a3f5f",
             "gridcolor": "white",
             "linecolor": "white",
             "minorgridcolor": "white",
             "startlinecolor": "#2a3f5f"
            },
            "baxis": {
             "endlinecolor": "#2a3f5f",
             "gridcolor": "white",
             "linecolor": "white",
             "minorgridcolor": "white",
             "startlinecolor": "#2a3f5f"
            },
            "type": "carpet"
           }
          ],
          "choropleth": [
           {
            "colorbar": {
             "outlinewidth": 0,
             "ticks": ""
            },
            "type": "choropleth"
           }
          ],
          "contour": [
           {
            "colorbar": {
             "outlinewidth": 0,
             "ticks": ""
            },
            "colorscale": [
             [
              0,
              "#0d0887"
             ],
             [
              0.1111111111111111,
              "#46039f"
             ],
             [
              0.2222222222222222,
              "#7201a8"
             ],
             [
              0.3333333333333333,
              "#9c179e"
             ],
             [
              0.4444444444444444,
              "#bd3786"
             ],
             [
              0.5555555555555556,
              "#d8576b"
             ],
             [
              0.6666666666666666,
              "#ed7953"
             ],
             [
              0.7777777777777778,
              "#fb9f3a"
             ],
             [
              0.8888888888888888,
              "#fdca26"
             ],
             [
              1,
              "#f0f921"
             ]
            ],
            "type": "contour"
           }
          ],
          "contourcarpet": [
           {
            "colorbar": {
             "outlinewidth": 0,
             "ticks": ""
            },
            "type": "contourcarpet"
           }
          ],
          "heatmap": [
           {
            "colorbar": {
             "outlinewidth": 0,
             "ticks": ""
            },
            "colorscale": [
             [
              0,
              "#0d0887"
             ],
             [
              0.1111111111111111,
              "#46039f"
             ],
             [
              0.2222222222222222,
              "#7201a8"
             ],
             [
              0.3333333333333333,
              "#9c179e"
             ],
             [
              0.4444444444444444,
              "#bd3786"
             ],
             [
              0.5555555555555556,
              "#d8576b"
             ],
             [
              0.6666666666666666,
              "#ed7953"
             ],
             [
              0.7777777777777778,
              "#fb9f3a"
             ],
             [
              0.8888888888888888,
              "#fdca26"
             ],
             [
              1,
              "#f0f921"
             ]
            ],
            "type": "heatmap"
           }
          ],
          "heatmapgl": [
           {
            "colorbar": {
             "outlinewidth": 0,
             "ticks": ""
            },
            "colorscale": [
             [
              0,
              "#0d0887"
             ],
             [
              0.1111111111111111,
              "#46039f"
             ],
             [
              0.2222222222222222,
              "#7201a8"
             ],
             [
              0.3333333333333333,
              "#9c179e"
             ],
             [
              0.4444444444444444,
              "#bd3786"
             ],
             [
              0.5555555555555556,
              "#d8576b"
             ],
             [
              0.6666666666666666,
              "#ed7953"
             ],
             [
              0.7777777777777778,
              "#fb9f3a"
             ],
             [
              0.8888888888888888,
              "#fdca26"
             ],
             [
              1,
              "#f0f921"
             ]
            ],
            "type": "heatmapgl"
           }
          ],
          "histogram": [
           {
            "marker": {
             "pattern": {
              "fillmode": "overlay",
              "size": 10,
              "solidity": 0.2
             }
            },
            "type": "histogram"
           }
          ],
          "histogram2d": [
           {
            "colorbar": {
             "outlinewidth": 0,
             "ticks": ""
            },
            "colorscale": [
             [
              0,
              "#0d0887"
             ],
             [
              0.1111111111111111,
              "#46039f"
             ],
             [
              0.2222222222222222,
              "#7201a8"
             ],
             [
              0.3333333333333333,
              "#9c179e"
             ],
             [
              0.4444444444444444,
              "#bd3786"
             ],
             [
              0.5555555555555556,
              "#d8576b"
             ],
             [
              0.6666666666666666,
              "#ed7953"
             ],
             [
              0.7777777777777778,
              "#fb9f3a"
             ],
             [
              0.8888888888888888,
              "#fdca26"
             ],
             [
              1,
              "#f0f921"
             ]
            ],
            "type": "histogram2d"
           }
          ],
          "histogram2dcontour": [
           {
            "colorbar": {
             "outlinewidth": 0,
             "ticks": ""
            },
            "colorscale": [
             [
              0,
              "#0d0887"
             ],
             [
              0.1111111111111111,
              "#46039f"
             ],
             [
              0.2222222222222222,
              "#7201a8"
             ],
             [
              0.3333333333333333,
              "#9c179e"
             ],
             [
              0.4444444444444444,
              "#bd3786"
             ],
             [
              0.5555555555555556,
              "#d8576b"
             ],
             [
              0.6666666666666666,
              "#ed7953"
             ],
             [
              0.7777777777777778,
              "#fb9f3a"
             ],
             [
              0.8888888888888888,
              "#fdca26"
             ],
             [
              1,
              "#f0f921"
             ]
            ],
            "type": "histogram2dcontour"
           }
          ],
          "mesh3d": [
           {
            "colorbar": {
             "outlinewidth": 0,
             "ticks": ""
            },
            "type": "mesh3d"
           }
          ],
          "parcoords": [
           {
            "line": {
             "colorbar": {
              "outlinewidth": 0,
              "ticks": ""
             }
            },
            "type": "parcoords"
           }
          ],
          "pie": [
           {
            "automargin": true,
            "type": "pie"
           }
          ],
          "scatter": [
           {
            "fillpattern": {
             "fillmode": "overlay",
             "size": 10,
             "solidity": 0.2
            },
            "type": "scatter"
           }
          ],
          "scatter3d": [
           {
            "line": {
             "colorbar": {
              "outlinewidth": 0,
              "ticks": ""
             }
            },
            "marker": {
             "colorbar": {
              "outlinewidth": 0,
              "ticks": ""
             }
            },
            "type": "scatter3d"
           }
          ],
          "scattercarpet": [
           {
            "marker": {
             "colorbar": {
              "outlinewidth": 0,
              "ticks": ""
             }
            },
            "type": "scattercarpet"
           }
          ],
          "scattergeo": [
           {
            "marker": {
             "colorbar": {
              "outlinewidth": 0,
              "ticks": ""
             }
            },
            "type": "scattergeo"
           }
          ],
          "scattergl": [
           {
            "marker": {
             "colorbar": {
              "outlinewidth": 0,
              "ticks": ""
             }
            },
            "type": "scattergl"
           }
          ],
          "scattermapbox": [
           {
            "marker": {
             "colorbar": {
              "outlinewidth": 0,
              "ticks": ""
             }
            },
            "type": "scattermapbox"
           }
          ],
          "scatterpolar": [
           {
            "marker": {
             "colorbar": {
              "outlinewidth": 0,
              "ticks": ""
             }
            },
            "type": "scatterpolar"
           }
          ],
          "scatterpolargl": [
           {
            "marker": {
             "colorbar": {
              "outlinewidth": 0,
              "ticks": ""
             }
            },
            "type": "scatterpolargl"
           }
          ],
          "scatterternary": [
           {
            "marker": {
             "colorbar": {
              "outlinewidth": 0,
              "ticks": ""
             }
            },
            "type": "scatterternary"
           }
          ],
          "surface": [
           {
            "colorbar": {
             "outlinewidth": 0,
             "ticks": ""
            },
            "colorscale": [
             [
              0,
              "#0d0887"
             ],
             [
              0.1111111111111111,
              "#46039f"
             ],
             [
              0.2222222222222222,
              "#7201a8"
             ],
             [
              0.3333333333333333,
              "#9c179e"
             ],
             [
              0.4444444444444444,
              "#bd3786"
             ],
             [
              0.5555555555555556,
              "#d8576b"
             ],
             [
              0.6666666666666666,
              "#ed7953"
             ],
             [
              0.7777777777777778,
              "#fb9f3a"
             ],
             [
              0.8888888888888888,
              "#fdca26"
             ],
             [
              1,
              "#f0f921"
             ]
            ],
            "type": "surface"
           }
          ],
          "table": [
           {
            "cells": {
             "fill": {
              "color": "#EBF0F8"
             },
             "line": {
              "color": "white"
             }
            },
            "header": {
             "fill": {
              "color": "#C8D4E3"
             },
             "line": {
              "color": "white"
             }
            },
            "type": "table"
           }
          ]
         },
         "layout": {
          "annotationdefaults": {
           "arrowcolor": "#2a3f5f",
           "arrowhead": 0,
           "arrowwidth": 1
          },
          "autotypenumbers": "strict",
          "coloraxis": {
           "colorbar": {
            "outlinewidth": 0,
            "ticks": ""
           }
          },
          "colorscale": {
           "diverging": [
            [
             0,
             "#8e0152"
            ],
            [
             0.1,
             "#c51b7d"
            ],
            [
             0.2,
             "#de77ae"
            ],
            [
             0.3,
             "#f1b6da"
            ],
            [
             0.4,
             "#fde0ef"
            ],
            [
             0.5,
             "#f7f7f7"
            ],
            [
             0.6,
             "#e6f5d0"
            ],
            [
             0.7,
             "#b8e186"
            ],
            [
             0.8,
             "#7fbc41"
            ],
            [
             0.9,
             "#4d9221"
            ],
            [
             1,
             "#276419"
            ]
           ],
           "sequential": [
            [
             0,
             "#0d0887"
            ],
            [
             0.1111111111111111,
             "#46039f"
            ],
            [
             0.2222222222222222,
             "#7201a8"
            ],
            [
             0.3333333333333333,
             "#9c179e"
            ],
            [
             0.4444444444444444,
             "#bd3786"
            ],
            [
             0.5555555555555556,
             "#d8576b"
            ],
            [
             0.6666666666666666,
             "#ed7953"
            ],
            [
             0.7777777777777778,
             "#fb9f3a"
            ],
            [
             0.8888888888888888,
             "#fdca26"
            ],
            [
             1,
             "#f0f921"
            ]
           ],
           "sequentialminus": [
            [
             0,
             "#0d0887"
            ],
            [
             0.1111111111111111,
             "#46039f"
            ],
            [
             0.2222222222222222,
             "#7201a8"
            ],
            [
             0.3333333333333333,
             "#9c179e"
            ],
            [
             0.4444444444444444,
             "#bd3786"
            ],
            [
             0.5555555555555556,
             "#d8576b"
            ],
            [
             0.6666666666666666,
             "#ed7953"
            ],
            [
             0.7777777777777778,
             "#fb9f3a"
            ],
            [
             0.8888888888888888,
             "#fdca26"
            ],
            [
             1,
             "#f0f921"
            ]
           ]
          },
          "colorway": [
           "#636efa",
           "#EF553B",
           "#00cc96",
           "#ab63fa",
           "#FFA15A",
           "#19d3f3",
           "#FF6692",
           "#B6E880",
           "#FF97FF",
           "#FECB52"
          ],
          "font": {
           "color": "#2a3f5f"
          },
          "geo": {
           "bgcolor": "white",
           "lakecolor": "white",
           "landcolor": "#E5ECF6",
           "showlakes": true,
           "showland": true,
           "subunitcolor": "white"
          },
          "hoverlabel": {
           "align": "left"
          },
          "hovermode": "closest",
          "mapbox": {
           "style": "light"
          },
          "paper_bgcolor": "white",
          "plot_bgcolor": "#E5ECF6",
          "polar": {
           "angularaxis": {
            "gridcolor": "white",
            "linecolor": "white",
            "ticks": ""
           },
           "bgcolor": "#E5ECF6",
           "radialaxis": {
            "gridcolor": "white",
            "linecolor": "white",
            "ticks": ""
           }
          },
          "scene": {
           "xaxis": {
            "backgroundcolor": "#E5ECF6",
            "gridcolor": "white",
            "gridwidth": 2,
            "linecolor": "white",
            "showbackground": true,
            "ticks": "",
            "zerolinecolor": "white"
           },
           "yaxis": {
            "backgroundcolor": "#E5ECF6",
            "gridcolor": "white",
            "gridwidth": 2,
            "linecolor": "white",
            "showbackground": true,
            "ticks": "",
            "zerolinecolor": "white"
           },
           "zaxis": {
            "backgroundcolor": "#E5ECF6",
            "gridcolor": "white",
            "gridwidth": 2,
            "linecolor": "white",
            "showbackground": true,
            "ticks": "",
            "zerolinecolor": "white"
           }
          },
          "shapedefaults": {
           "line": {
            "color": "#2a3f5f"
           }
          },
          "ternary": {
           "aaxis": {
            "gridcolor": "white",
            "linecolor": "white",
            "ticks": ""
           },
           "baxis": {
            "gridcolor": "white",
            "linecolor": "white",
            "ticks": ""
           },
           "bgcolor": "#E5ECF6",
           "caxis": {
            "gridcolor": "white",
            "linecolor": "white",
            "ticks": ""
           }
          },
          "title": {
           "x": 0.05
          },
          "xaxis": {
           "automargin": true,
           "gridcolor": "white",
           "linecolor": "white",
           "ticks": "",
           "title": {
            "standoff": 15
           },
           "zerolinecolor": "white",
           "zerolinewidth": 2
          },
          "yaxis": {
           "automargin": true,
           "gridcolor": "white",
           "linecolor": "white",
           "ticks": "",
           "title": {
            "standoff": 15
           },
           "zerolinecolor": "white",
           "zerolinewidth": 2
          }
         }
        },
        "title": {
         "text": "Cosine sim of Input weights and the my color probe for top layer 8 neurons"
        },
        "xaxis": {
         "anchor": "y",
         "domain": [
          0,
          0.08200000000000002
         ],
         "title": {
          "text": "x"
         }
        },
        "xaxis10": {
         "anchor": "y10",
         "domain": [
          0.9180000000000001,
          1
         ],
         "matches": "x",
         "title": {
          "text": "x"
         }
        },
        "xaxis2": {
         "anchor": "y2",
         "domain": [
          0.10200000000000002,
          0.18400000000000005
         ],
         "matches": "x",
         "title": {
          "text": "x"
         }
        },
        "xaxis3": {
         "anchor": "y3",
         "domain": [
          0.20400000000000004,
          0.28600000000000003
         ],
         "matches": "x",
         "title": {
          "text": "x"
         }
        },
        "xaxis4": {
         "anchor": "y4",
         "domain": [
          0.30600000000000005,
          0.38800000000000007
         ],
         "matches": "x",
         "title": {
          "text": "x"
         }
        },
        "xaxis5": {
         "anchor": "y5",
         "domain": [
          0.4080000000000001,
          0.4900000000000001
         ],
         "matches": "x",
         "title": {
          "text": "x"
         }
        },
        "xaxis6": {
         "anchor": "y6",
         "domain": [
          0.5100000000000001,
          0.5920000000000001
         ],
         "matches": "x",
         "title": {
          "text": "x"
         }
        },
        "xaxis7": {
         "anchor": "y7",
         "domain": [
          0.6120000000000001,
          0.6940000000000002
         ],
         "matches": "x",
         "title": {
          "text": "x"
         }
        },
        "xaxis8": {
         "anchor": "y8",
         "domain": [
          0.7140000000000001,
          0.796
         ],
         "matches": "x",
         "title": {
          "text": "x"
         }
        },
        "xaxis9": {
         "anchor": "y9",
         "domain": [
          0.8160000000000002,
          0.8980000000000001
         ],
         "matches": "x",
         "title": {
          "text": "x"
         }
        },
        "yaxis": {
         "anchor": "x",
         "autorange": "reversed",
         "domain": [
          0,
          1
         ],
         "title": {
          "text": "y"
         }
        },
        "yaxis10": {
         "anchor": "x10",
         "domain": [
          0,
          1
         ],
         "matches": "y",
         "showticklabels": false
        },
        "yaxis2": {
         "anchor": "x2",
         "domain": [
          0,
          1
         ],
         "matches": "y",
         "showticklabels": false
        },
        "yaxis3": {
         "anchor": "x3",
         "domain": [
          0,
          1
         ],
         "matches": "y",
         "showticklabels": false
        },
        "yaxis4": {
         "anchor": "x4",
         "domain": [
          0,
          1
         ],
         "matches": "y",
         "showticklabels": false
        },
        "yaxis5": {
         "anchor": "x5",
         "domain": [
          0,
          1
         ],
         "matches": "y",
         "showticklabels": false
        },
        "yaxis6": {
         "anchor": "x6",
         "domain": [
          0,
          1
         ],
         "matches": "y",
         "showticklabels": false
        },
        "yaxis7": {
         "anchor": "x7",
         "domain": [
          0,
          1
         ],
         "matches": "y",
         "showticklabels": false
        },
        "yaxis8": {
         "anchor": "x8",
         "domain": [
          0,
          1
         ],
         "matches": "y",
         "showticklabels": false
        },
        "yaxis9": {
         "anchor": "x9",
         "domain": [
          0,
          1
         ],
         "matches": "y",
         "showticklabels": false
        }
       }
      }
     },
     "metadata": {},
     "output_type": "display_data"
    }
   ],
   "source": [
    "layers = list(range(0,8))\n",
    "mode = 2 # [\"empty\", \"own\", \"enemy\"]\n",
    "threshold = 0.1\n",
    "\n",
    "for layer in layers:\n",
    "    # Probe\n",
    "    probe_path = f\"probes/probe_layer_{layer}_trimmed.pkl\"\n",
    "    full_linear_probe = torch.load(probe_path)\n",
    "    my_probe_W = full_linear_probe[f'classifier.{mode}.weight'] # (64, 512)\n",
    "    my_probe_W = my_probe_W.t()\n",
    "    my_probe_W[:, [27, 28, 35, 36]] = 0.\n",
    "    my_probe_normalised = my_probe_W / my_probe_W.norm(dim=0, keepdim=True) # torch.Size([512, 64])\n",
    "    my_probe_normalised[my_probe_normalised.isnan()] = 0.\n",
    "\n",
    "    # Weight\n",
    "    weight_in_key = f\"blocks.{layer}.mlp_sublayer.encode.weight\"\n",
    "    \n",
    "    heatmaps_my = []\n",
    "    w_in = othello_gpt.state_dict()[weight_in_key] # torch.Size([512, 2048])\n",
    "    w_in /= w_in.norm(dim=0, keepdim=True)\n",
    "    for neuron in range(0, 2048):\n",
    "        neuron_weight = w_in[neuron, :]\n",
    "        heatmaps_my.append((neuron_weight[:, None] * my_probe_normalised).sum(dim=0))\n",
    "        \n",
    "    heatmaps_my = torch.stack(heatmaps_my)\n",
    "    heatmaps_my_id = (heatmaps_my.abs()>threshold).sum(dim=1).argsort(descending=True)[:10]\n",
    "    heatmaps_my = heatmaps_my.reshape(-1, 8, 8)\n",
    "    # print(heatmaps_my.shape)\n",
    "    heatmaps_my = heatmaps_my[heatmaps_my_id]\n",
    "\n",
    "    imshow(heatmaps_my,\n",
    "        facet_col=0,\n",
    "        y=[i for i in \"ABCDEFGH\"],\n",
    "        title=f\"Cosine sim of Input weights and the my color probe for top layer {layer+1} neurons\",\n",
    "        facet_labels=[f\"L{layer+1}N{n.item()}\" for n in heatmaps_my_id],\n",
    "        range_color=[-0.5, 0.5])"
   ]
  },
  {
   "cell_type": "markdown",
   "metadata": {},
   "source": [
    "#### Histogram"
   ]
  },
  {
   "cell_type": "code",
   "execution_count": 67,
   "metadata": {},
   "outputs": [
    {
     "name": "stdout",
     "output_type": "stream",
     "text": [
      "torch.Size([2048, 64])\n"
     ]
    },
    {
     "data": {
      "image/png": "[encoded data removed]",
      "text/plain": [
       "<Figure size 1000x600 with 1 Axes>"
      ]
     },
     "metadata": {},
     "output_type": "display_data"
    },
    {
     "name": "stdout",
     "output_type": "stream",
     "text": [
      "torch.Size([2048, 64])\n"
     ]
    },
    {
     "data": {
      "image/png": "[encoded data removed]",
      "text/plain": [
       "<Figure size 1000x600 with 1 Axes>"
      ]
     },
     "metadata": {},
     "output_type": "display_data"
    },
    {
     "name": "stdout",
     "output_type": "stream",
     "text": [
      "torch.Size([2048, 64])\n"
     ]
    },
    {
     "data": {
      "image/png": "[encoded data removed]",
      "text/plain": [
       "<Figure size 1000x600 with 1 Axes>"
      ]
     },
     "metadata": {},
     "output_type": "display_data"
    },
    {
     "name": "stdout",
     "output_type": "stream",
     "text": [
      "torch.Size([2048, 64])\n"
     ]
    },
    {
     "data": {
      "image/png": "[encoded data removed]",
      "text/plain": [
       "<Figure size 1000x600 with 1 Axes>"
      ]
     },
     "metadata": {},
     "output_type": "display_data"
    },
    {
     "name": "stdout",
     "output_type": "stream",
     "text": [
      "torch.Size([2048, 64])\n"
     ]
    },
    {
     "data": {
      "image/png": "[encoded data removed]",
      "text/plain": [
       "<Figure size 1000x600 with 1 Axes>"
      ]
     },
     "metadata": {},
     "output_type": "display_data"
    },
    {
     "name": "stdout",
     "output_type": "stream",
     "text": [
      "torch.Size([2048, 64])\n"
     ]
    },
    {
     "data": {
      "image/png": "[encoded data removed]",
      "text/plain": [
       "<Figure size 1000x600 with 1 Axes>"
      ]
     },
     "metadata": {},
     "output_type": "display_data"
    },
    {
     "name": "stdout",
     "output_type": "stream",
     "text": [
      "torch.Size([2048, 64])\n"
     ]
    },
    {
     "data": {
      "image/png": "[encoded data removed]",
      "text/plain": [
       "<Figure size 1000x600 with 1 Axes>"
      ]
     },
     "metadata": {},
     "output_type": "display_data"
    },
    {
     "name": "stdout",
     "output_type": "stream",
     "text": [
      "torch.Size([2048, 64])\n"
     ]
    },
    {
     "data": {
      "image/png": "[encoded data removed]",
      "text/plain": [
       "<Figure size 1000x600 with 1 Axes>"
      ]
     },
     "metadata": {},
     "output_type": "display_data"
    }
   ],
   "source": [
    "layers = list(range(0,8))\n",
    "mode = 2 # [\"empty\", \"own\", \"enemy\"]\n",
    "\n",
    "for layer in layers:\n",
    "    # Probe\n",
    "    probe_path = f\"probes/probe_layer_{layer}_trimmed.pkl\"\n",
    "    full_linear_probe = torch.load(probe_path)\n",
    "    my_probe_W = full_linear_probe[f'classifier.{mode}.weight'] # (64, 512)\n",
    "    my_probe_W = my_probe_W.t()\n",
    "    my_probe_W[:, [27, 28, 35, 36]] = 0.\n",
    "    my_probe_normalised = my_probe_W / my_probe_W.norm(dim=0, keepdim=True) # torch.Size([512, 64])\n",
    "    my_probe_normalised[my_probe_normalised.isnan()] = 0.\n",
    "    # Weight\n",
    "    weight_in_key = f\"blocks.{layer}.mlp_sublayer.encode.weight\"\n",
    "    \n",
    "    heatmaps_my = []\n",
    "    w_in = othello_gpt.state_dict()[weight_in_key] # torch.Size([512, 2048])\n",
    "    w_in /= w_in.norm(dim=0, keepdim=True)\n",
    "    for neuron in range(0, 2048):\n",
    "        neuron_weight = w_in[neuron, :]\n",
    "        heatmaps_my.append((neuron_weight[:, None] * my_probe_normalised).sum(dim=0))\n",
    "        \n",
    "        \n",
    "    heatmaps_my = torch.stack(heatmaps_my)\n",
    "    print(heatmaps_my.shape)\n",
    "    \n",
    "    if False:\n",
    "        heatmaps_blank_std = heatmaps_blank.std(dim=[1, 2])\n",
    "        mean_value = heatmaps_blank_std.mean().item()\n",
    "\n",
    "        plt.figure(figsize=(10, 6))\n",
    "        plt.hist(heatmaps_blank_std.detach().cpu().numpy(), bins=50, edgecolor='black')\n",
    "        plt.axvline(mean_value, color='red', linestyle='dashed', linewidth=2, label=f'Mean = {mean_value:.4f}')\n",
    "        plt.title(f\"Input Histogram of Heatmaps Blank Standard Deviation in Layer {layer+1}\")\n",
    "        plt.xlabel(\"Standard Deviation\")\n",
    "        plt.ylabel(\"Frequency\")\n",
    "        plt.legend()\n",
    "        plt.show()\n",
    "    else:\n",
    "        heatmaps_my_std = (heatmaps_my.abs()>threshold).sum(dim=1).float()\n",
    "\n",
    "        mean_value = heatmaps_my_std.mean().item()\n",
    "        plt.figure(figsize=(10, 6))\n",
    "        plt.hist(heatmaps_my_std.detach().cpu().numpy(), bins=50, edgecolor='black')\n",
    "        plt.axvline(mean_value, color='red', linestyle='dashed', linewidth=2, label=f'Mean = {mean_value:.6f}')\n",
    "        plt.title(f\"Input Histogram of Heatmaps My Standard Deviation in Layer {layer+1}\")\n",
    "        plt.xlabel(\"Standard Deviation\")\n",
    "        plt.ylabel(\"Frequency\")\n",
    "        plt.legend()\n",
    "        plt.show()"
   ]
  }
 ],
 "metadata": {
  "kernelspec": {
   "display_name": "cs194",
   "language": "python",
   "name": "python3"
  },
  "language_info": {
   "codemirror_mode": {
    "name": "ipython",
    "version": 3
   },
   "file_extension": ".py",
   "mimetype": "text/x-python",
   "name": "python",
   "nbconvert_exporter": "python",
   "pygments_lexer": "ipython3",
   "version": "3.10.15"
  }
 },
 "nbformat": 4,
 "nbformat_minor": 2
}
