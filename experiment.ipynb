{
 "cells": [
  {
   "cell_type": "markdown",
   "metadata": {},
   "source": [
    "#### This is the experiment and graph code of OthelloGPT using SAE."
   ]
  },
  {
   "cell_type": "code",
   "execution_count": 2,
   "metadata": {},
   "outputs": [
    {
     "name": "stderr",
     "output_type": "stream",
     "text": [
      "c:\\Users\\ALTjasonspeed\\.conda\\envs\\othellogpt\\lib\\site-packages\\tqdm\\auto.py:21: TqdmWarning: IProgress not found. Please update jupyter and ipywidgets. See https://ipywidgets.readthedocs.io/en/stable/user_install.html\n",
      "  from .autonotebook import tqdm as notebook_tqdm\n",
      "c:\\Users\\ALTjasonspeed\\.conda\\envs\\othellogpt\\lib\\site-packages\\torchaudio\\backend\\utils.py:62: UserWarning: No audio backend is available.\n",
      "  warnings.warn(\"No audio backend is available.\")\n"
     ]
    }
   ],
   "source": [
    "%load_ext autoreload\n",
    "%autoreload 2\n",
    "%reload_ext autoreload\n",
    "# Imports\n",
    "import torch\n",
    "import matplotlib.pyplot as plt\n",
    "from utils.dataloaders import get_dataloader\n",
    "import utils.dataloaders\n",
    "from tqdm import tqdm\n",
    "from utils.game_engine import history_to_legal_moves\n",
    "import utils.game_engine\n",
    "from torcheval.metrics import BinaryAUROC\n",
    "import pickle as pkl\n",
    "import os\n",
    "import sys\n",
    "import numpy as np\n",
    "import seaborn as sns\n",
    "import analysis\n",
    "from neel_plotly import line, scatter, imshow, histogram\n"
   ]
  },
  {
   "cell_type": "code",
   "execution_count": 6,
   "metadata": {},
   "outputs": [
    {
     "name": "stdout",
     "output_type": "stream",
     "text": [
      "cuda\n"
     ]
    }
   ],
   "source": [
    "# GPU acceleration\n",
    "device='cuda' if torch.cuda.is_available() else 'cpu'\n",
    "print(device)"
   ]
  },
  {
   "cell_type": "code",
   "execution_count": 14,
   "metadata": {},
   "outputs": [],
   "source": [
    "class Tee:\n",
    "    def __init__(self, filepath):\n",
    "        self.file = open(filepath, \"w\")\n",
    "        self.stdout = sys.stdout\n",
    "\n",
    "    def write(self, message):\n",
    "        self.file.write(message)\n",
    "        self.stdout.write(message)\n",
    "\n",
    "    def flush(self):\n",
    "        self.file.flush()\n",
    "        self.stdout.flush()\n",
    "\n",
    "    def close(self):\n",
    "        self.file.close()\n",
    "\n",
    "\n",
    "# tee = Tee(\"output.log\")\n",
    "# sys.stdout = tee\n",
    "# ...\n",
    "# sys.stdout = sys.__stdout__\n",
    "# tee.close()"
   ]
  },
  {
   "cell_type": "markdown",
   "metadata": {},
   "source": [
    "#### Train linear_probe on all layers"
   ]
  },
  {
   "cell_type": "code",
   "execution_count": 15,
   "metadata": {},
   "outputs": [
    {
     "name": "stdout",
     "output_type": "stream",
     "text": [
      "Beginning model training on cuda!\n",
      "Beginning epoch 1/1. Epoch duration is 1563 steps, will evaluate every 100 steps.\n"
     ]
    },
    {
     "name": "stderr",
     "output_type": "stream",
     "text": [
      "  6%|▋         | 101/1563 [00:08<07:54,  3.08it/s]"
     ]
    },
    {
     "name": "stdout",
     "output_type": "stream",
     "text": [
      "Train loss and test accuracy after 100 steps: 0.7729, 62.0000%\n"
     ]
    },
    {
     "name": "stderr",
     "output_type": "stream",
     "text": [
      " 13%|█▎        | 201/1563 [00:16<07:36,  2.99it/s]"
     ]
    },
    {
     "name": "stdout",
     "output_type": "stream",
     "text": [
      "Train loss and test accuracy after 200 steps: 0.7655, 61.9790%\n"
     ]
    },
    {
     "name": "stderr",
     "output_type": "stream",
     "text": [
      " 19%|█▉        | 301/1563 [00:24<07:09,  2.94it/s]"
     ]
    },
    {
     "name": "stdout",
     "output_type": "stream",
     "text": [
      "Train loss and test accuracy after 300 steps: 0.7689, 62.0044%\n"
     ]
    },
    {
     "name": "stderr",
     "output_type": "stream",
     "text": [
      " 26%|██▌       | 401/1563 [00:33<06:36,  2.93it/s]"
     ]
    },
    {
     "name": "stdout",
     "output_type": "stream",
     "text": [
      "Train loss and test accuracy after 400 steps: 0.7655, 62.0121%\n"
     ]
    },
    {
     "name": "stderr",
     "output_type": "stream",
     "text": [
      " 32%|███▏      | 501/1563 [00:41<05:50,  3.03it/s]"
     ]
    },
    {
     "name": "stdout",
     "output_type": "stream",
     "text": [
      "Train loss and test accuracy after 500 steps: 0.7615, 62.0016%\n"
     ]
    },
    {
     "name": "stderr",
     "output_type": "stream",
     "text": [
      " 38%|███▊      | 601/1563 [00:49<05:17,  3.03it/s]"
     ]
    },
    {
     "name": "stdout",
     "output_type": "stream",
     "text": [
      "Train loss and test accuracy after 600 steps: 0.7607, 61.9762%\n"
     ]
    },
    {
     "name": "stderr",
     "output_type": "stream",
     "text": [
      " 45%|████▍     | 701/1563 [00:57<04:44,  3.03it/s]"
     ]
    },
    {
     "name": "stdout",
     "output_type": "stream",
     "text": [
      "Train loss and test accuracy after 700 steps: 0.7710, 62.0181%\n"
     ]
    },
    {
     "name": "stderr",
     "output_type": "stream",
     "text": [
      " 51%|█████     | 801/1563 [01:05<04:13,  3.00it/s]"
     ]
    },
    {
     "name": "stdout",
     "output_type": "stream",
     "text": [
      "Train loss and test accuracy after 800 steps: 0.7621, 62.0416%\n"
     ]
    },
    {
     "name": "stderr",
     "output_type": "stream",
     "text": [
      " 58%|█████▊    | 901/1563 [01:13<03:33,  3.11it/s]"
     ]
    },
    {
     "name": "stdout",
     "output_type": "stream",
     "text": [
      "Train loss and test accuracy after 900 steps: 0.7629, 62.0688%\n"
     ]
    },
    {
     "name": "stderr",
     "output_type": "stream",
     "text": [
      " 64%|██████▍   | 1001/1563 [01:21<03:06,  3.02it/s]"
     ]
    },
    {
     "name": "stdout",
     "output_type": "stream",
     "text": [
      "Train loss and test accuracy after 1000 steps: 0.7588, 62.0635%\n"
     ]
    },
    {
     "name": "stderr",
     "output_type": "stream",
     "text": [
      " 70%|███████   | 1101/1563 [01:29<02:30,  3.08it/s]"
     ]
    },
    {
     "name": "stdout",
     "output_type": "stream",
     "text": [
      "Train loss and test accuracy after 1100 steps: 0.7594, 62.0354%\n"
     ]
    },
    {
     "name": "stderr",
     "output_type": "stream",
     "text": [
      " 77%|███████▋  | 1201/1563 [01:38<01:59,  3.03it/s]"
     ]
    },
    {
     "name": "stdout",
     "output_type": "stream",
     "text": [
      "Train loss and test accuracy after 1200 steps: 0.7635, 62.0574%\n"
     ]
    },
    {
     "name": "stderr",
     "output_type": "stream",
     "text": [
      " 83%|████████▎ | 1301/1563 [01:46<01:24,  3.09it/s]"
     ]
    },
    {
     "name": "stdout",
     "output_type": "stream",
     "text": [
      "Train loss and test accuracy after 1300 steps: 0.7605, 62.0772%\n"
     ]
    },
    {
     "name": "stderr",
     "output_type": "stream",
     "text": [
      " 90%|████████▉ | 1401/1563 [01:54<00:55,  2.90it/s]"
     ]
    },
    {
     "name": "stdout",
     "output_type": "stream",
     "text": [
      "Train loss and test accuracy after 1400 steps: 0.7563, 62.0938%\n"
     ]
    },
    {
     "name": "stderr",
     "output_type": "stream",
     "text": [
      " 96%|█████████▌| 1501/1563 [02:02<00:21,  2.94it/s]"
     ]
    },
    {
     "name": "stdout",
     "output_type": "stream",
     "text": [
      "Train loss and test accuracy after 1500 steps: 0.7627, 62.0970%\n"
     ]
    },
    {
     "name": "stderr",
     "output_type": "stream",
     "text": [
      "100%|██████████| 1563/1563 [02:06<00:00, 12.34it/s]\n"
     ]
    },
    {
     "name": "stdout",
     "output_type": "stream",
     "text": [
      "Train loss and test accuracy after Omega steps: 0.7553, 62.1308%\n",
      "Beginning model training on cuda!\n",
      "Beginning epoch 1/1. Epoch duration is 1563 steps, will evaluate every 100 steps.\n"
     ]
    },
    {
     "name": "stderr",
     "output_type": "stream",
     "text": [
      "  7%|▋         | 102/1563 [00:11<10:24,  2.34it/s]"
     ]
    },
    {
     "name": "stdout",
     "output_type": "stream",
     "text": [
      "Train loss and test accuracy after 100 steps: 0.5801, 73.8602%\n"
     ]
    },
    {
     "name": "stderr",
     "output_type": "stream",
     "text": [
      " 13%|█▎        | 201/1563 [00:22<13:16,  1.71it/s]"
     ]
    },
    {
     "name": "stdout",
     "output_type": "stream",
     "text": [
      "Train loss and test accuracy after 200 steps: 0.5142, 76.5684%\n"
     ]
    },
    {
     "name": "stderr",
     "output_type": "stream",
     "text": [
      " 19%|█▉        | 301/1563 [00:33<11:48,  1.78it/s]"
     ]
    },
    {
     "name": "stdout",
     "output_type": "stream",
     "text": [
      "Train loss and test accuracy after 300 steps: 0.4882, 77.4759%\n"
     ]
    },
    {
     "name": "stderr",
     "output_type": "stream",
     "text": [
      " 26%|██▌       | 401/1563 [00:43<10:27,  1.85it/s]"
     ]
    },
    {
     "name": "stdout",
     "output_type": "stream",
     "text": [
      "Train loss and test accuracy after 400 steps: 0.4728, 77.9136%\n"
     ]
    },
    {
     "name": "stderr",
     "output_type": "stream",
     "text": [
      " 32%|███▏      | 501/1563 [00:54<09:32,  1.86it/s]"
     ]
    },
    {
     "name": "stdout",
     "output_type": "stream",
     "text": [
      "Train loss and test accuracy after 500 steps: 0.4639, 78.1567%\n"
     ]
    },
    {
     "name": "stderr",
     "output_type": "stream",
     "text": [
      " 39%|███▊      | 603/1563 [01:05<06:38,  2.41it/s]"
     ]
    },
    {
     "name": "stdout",
     "output_type": "stream",
     "text": [
      "Train loss and test accuracy after 600 steps: 0.4572, 78.3046%\n"
     ]
    },
    {
     "name": "stderr",
     "output_type": "stream",
     "text": [
      " 45%|████▍     | 703/1563 [01:16<05:39,  2.54it/s]"
     ]
    },
    {
     "name": "stdout",
     "output_type": "stream",
     "text": [
      "Train loss and test accuracy after 700 steps: 0.4618, 78.3909%\n"
     ]
    },
    {
     "name": "stderr",
     "output_type": "stream",
     "text": [
      " 51%|█████     | 801/1563 [01:27<06:55,  1.83it/s]"
     ]
    },
    {
     "name": "stdout",
     "output_type": "stream",
     "text": [
      "Train loss and test accuracy after 800 steps: 0.4545, 78.4765%\n"
     ]
    },
    {
     "name": "stderr",
     "output_type": "stream",
     "text": [
      " 58%|█████▊    | 901/1563 [01:38<06:29,  1.70it/s]"
     ]
    },
    {
     "name": "stdout",
     "output_type": "stream",
     "text": [
      "Train loss and test accuracy after 900 steps: 0.4456, 78.5472%\n"
     ]
    },
    {
     "name": "stderr",
     "output_type": "stream",
     "text": [
      " 64%|██████▍   | 1002/1563 [01:49<04:42,  1.99it/s]"
     ]
    },
    {
     "name": "stdout",
     "output_type": "stream",
     "text": [
      "Train loss and test accuracy after 1000 steps: 0.4482, 78.5598%\n"
     ]
    },
    {
     "name": "stderr",
     "output_type": "stream",
     "text": [
      " 71%|███████   | 1102/1563 [02:00<03:24,  2.26it/s]"
     ]
    },
    {
     "name": "stdout",
     "output_type": "stream",
     "text": [
      "Train loss and test accuracy after 1100 steps: 0.4488, 78.6263%\n"
     ]
    },
    {
     "name": "stderr",
     "output_type": "stream",
     "text": [
      " 77%|███████▋  | 1202/1563 [02:11<02:38,  2.28it/s]"
     ]
    },
    {
     "name": "stdout",
     "output_type": "stream",
     "text": [
      "Train loss and test accuracy after 1200 steps: 0.4444, 78.6252%\n"
     ]
    },
    {
     "name": "stderr",
     "output_type": "stream",
     "text": [
      " 83%|████████▎ | 1302/1563 [02:22<01:57,  2.22it/s]"
     ]
    },
    {
     "name": "stdout",
     "output_type": "stream",
     "text": [
      "Train loss and test accuracy after 1300 steps: 0.4491, 78.6242%\n"
     ]
    },
    {
     "name": "stderr",
     "output_type": "stream",
     "text": [
      " 90%|████████▉ | 1402/1563 [02:33<01:08,  2.35it/s]"
     ]
    },
    {
     "name": "stdout",
     "output_type": "stream",
     "text": [
      "Train loss and test accuracy after 1400 steps: 0.4422, 78.6455%\n"
     ]
    },
    {
     "name": "stderr",
     "output_type": "stream",
     "text": [
      " 96%|█████████▌| 1502/1563 [02:44<00:30,  2.01it/s]"
     ]
    },
    {
     "name": "stdout",
     "output_type": "stream",
     "text": [
      "Train loss and test accuracy after 1500 steps: 0.4462, 78.6620%\n"
     ]
    },
    {
     "name": "stderr",
     "output_type": "stream",
     "text": [
      "100%|██████████| 1563/1563 [02:48<00:00,  9.27it/s]\n"
     ]
    },
    {
     "name": "stdout",
     "output_type": "stream",
     "text": [
      "Train loss and test accuracy after Omega steps: 0.4491, 78.6898%\n",
      "Beginning model training on cuda!\n",
      "Beginning epoch 1/1. Epoch duration is 1563 steps, will evaluate every 100 steps.\n"
     ]
    },
    {
     "name": "stderr",
     "output_type": "stream",
     "text": [
      "  6%|▋         | 100/1563 [00:13<18:11,  1.34it/s]"
     ]
    },
    {
     "name": "stdout",
     "output_type": "stream",
     "text": [
      "Train loss and test accuracy after 100 steps: 0.4258, 82.1919%\n"
     ]
    },
    {
     "name": "stderr",
     "output_type": "stream",
     "text": [
      " 13%|█▎        | 201/1563 [00:25<15:54,  1.43it/s]"
     ]
    },
    {
     "name": "stdout",
     "output_type": "stream",
     "text": [
      "Train loss and test accuracy after 200 steps: 0.3567, 84.2911%\n"
     ]
    },
    {
     "name": "stderr",
     "output_type": "stream",
     "text": [
      " 19%|█▉        | 301/1563 [00:39<16:01,  1.31it/s]"
     ]
    },
    {
     "name": "stdout",
     "output_type": "stream",
     "text": [
      "Train loss and test accuracy after 300 steps: 0.3287, 84.9357%\n"
     ]
    },
    {
     "name": "stderr",
     "output_type": "stream",
     "text": [
      " 26%|██▌       | 401/1563 [00:52<15:28,  1.25it/s]"
     ]
    },
    {
     "name": "stdout",
     "output_type": "stream",
     "text": [
      "Train loss and test accuracy after 400 steps: 0.3169, 85.2457%\n"
     ]
    },
    {
     "name": "stderr",
     "output_type": "stream",
     "text": [
      " 32%|███▏      | 501/1563 [01:05<12:55,  1.37it/s]"
     ]
    },
    {
     "name": "stdout",
     "output_type": "stream",
     "text": [
      "Train loss and test accuracy after 500 steps: 0.3084, 85.4256%\n"
     ]
    },
    {
     "name": "stderr",
     "output_type": "stream",
     "text": [
      " 38%|███▊      | 600/1563 [01:19<12:45,  1.26it/s]"
     ]
    },
    {
     "name": "stdout",
     "output_type": "stream",
     "text": [
      "Train loss and test accuracy after 600 steps: 0.3044, 85.5144%\n"
     ]
    },
    {
     "name": "stderr",
     "output_type": "stream",
     "text": [
      " 45%|████▍     | 701/1563 [01:32<12:01,  1.19it/s]"
     ]
    },
    {
     "name": "stdout",
     "output_type": "stream",
     "text": [
      "Train loss and test accuracy after 700 steps: 0.3071, 85.5966%\n"
     ]
    },
    {
     "name": "stderr",
     "output_type": "stream",
     "text": [
      " 51%|█████▏    | 802/1563 [01:45<07:07,  1.78it/s]"
     ]
    },
    {
     "name": "stdout",
     "output_type": "stream",
     "text": [
      "Train loss and test accuracy after 800 steps: 0.3004, 85.6431%\n"
     ]
    },
    {
     "name": "stderr",
     "output_type": "stream",
     "text": [
      " 58%|█████▊    | 902/1563 [01:58<05:47,  1.90it/s]"
     ]
    },
    {
     "name": "stdout",
     "output_type": "stream",
     "text": [
      "Train loss and test accuracy after 900 steps: 0.2951, 85.7179%\n"
     ]
    },
    {
     "name": "stderr",
     "output_type": "stream",
     "text": [
      " 64%|██████▍   | 1001/1563 [02:12<06:08,  1.53it/s]"
     ]
    },
    {
     "name": "stdout",
     "output_type": "stream",
     "text": [
      "Train loss and test accuracy after 1000 steps: 0.2947, 85.7468%\n"
     ]
    },
    {
     "name": "stderr",
     "output_type": "stream",
     "text": [
      " 71%|███████   | 1102/1563 [02:25<04:23,  1.75it/s]"
     ]
    },
    {
     "name": "stdout",
     "output_type": "stream",
     "text": [
      "Train loss and test accuracy after 1100 steps: 0.2926, 85.7682%\n"
     ]
    },
    {
     "name": "stderr",
     "output_type": "stream",
     "text": [
      " 77%|███████▋  | 1202/1563 [02:38<03:18,  1.82it/s]"
     ]
    },
    {
     "name": "stdout",
     "output_type": "stream",
     "text": [
      "Train loss and test accuracy after 1200 steps: 0.2927, 85.7656%\n"
     ]
    },
    {
     "name": "stderr",
     "output_type": "stream",
     "text": [
      " 83%|████████▎ | 1301/1563 [02:51<03:28,  1.26it/s]"
     ]
    },
    {
     "name": "stdout",
     "output_type": "stream",
     "text": [
      "Train loss and test accuracy after 1300 steps: 0.2972, 85.7755%\n"
     ]
    },
    {
     "name": "stderr",
     "output_type": "stream",
     "text": [
      " 90%|████████▉ | 1400/1563 [03:05<02:19,  1.16it/s]"
     ]
    },
    {
     "name": "stdout",
     "output_type": "stream",
     "text": [
      "Train loss and test accuracy after 1400 steps: 0.2897, 85.7948%\n"
     ]
    },
    {
     "name": "stderr",
     "output_type": "stream",
     "text": [
      " 96%|█████████▌| 1502/1563 [03:19<00:36,  1.68it/s]"
     ]
    },
    {
     "name": "stdout",
     "output_type": "stream",
     "text": [
      "Train loss and test accuracy after 1500 steps: 0.2931, 85.7854%\n"
     ]
    },
    {
     "name": "stderr",
     "output_type": "stream",
     "text": [
      "100%|██████████| 1563/1563 [03:24<00:00,  7.64it/s]\n"
     ]
    },
    {
     "name": "stdout",
     "output_type": "stream",
     "text": [
      "Train loss and test accuracy after Omega steps: 0.2952, 85.7912%\n",
      "Beginning model training on cuda!\n",
      "Beginning epoch 1/1. Epoch duration is 1563 steps, will evaluate every 100 steps.\n"
     ]
    },
    {
     "name": "stderr",
     "output_type": "stream",
     "text": [
      "  7%|▋         | 102/1563 [00:16<19:53,  1.22it/s]"
     ]
    },
    {
     "name": "stdout",
     "output_type": "stream",
     "text": [
      "Train loss and test accuracy after 100 steps: 0.3588, 85.7446%\n"
     ]
    },
    {
     "name": "stderr",
     "output_type": "stream",
     "text": [
      " 13%|█▎        | 202/1563 [00:31<23:12,  1.02s/it]"
     ]
    },
    {
     "name": "stdout",
     "output_type": "stream",
     "text": [
      "Train loss and test accuracy after 200 steps: 0.2952, 87.3657%\n"
     ]
    },
    {
     "name": "stderr",
     "output_type": "stream",
     "text": [
      " 19%|█▉        | 301/1563 [00:47<25:05,  1.19s/it]"
     ]
    },
    {
     "name": "stdout",
     "output_type": "stream",
     "text": [
      "Train loss and test accuracy after 300 steps: 0.2696, 87.8741%\n"
     ]
    },
    {
     "name": "stderr",
     "output_type": "stream",
     "text": [
      " 26%|██▌       | 402/1563 [01:03<18:00,  1.07it/s]"
     ]
    },
    {
     "name": "stdout",
     "output_type": "stream",
     "text": [
      "Train loss and test accuracy after 400 steps: 0.2613, 88.0779%\n"
     ]
    },
    {
     "name": "stderr",
     "output_type": "stream",
     "text": [
      " 32%|███▏      | 502/1563 [01:19<17:12,  1.03it/s]"
     ]
    },
    {
     "name": "stdout",
     "output_type": "stream",
     "text": [
      "Train loss and test accuracy after 500 steps: 0.2542, 88.1846%\n"
     ]
    },
    {
     "name": "stderr",
     "output_type": "stream",
     "text": [
      " 38%|███▊      | 601/1563 [01:35<14:30,  1.10it/s]"
     ]
    },
    {
     "name": "stdout",
     "output_type": "stream",
     "text": [
      "Train loss and test accuracy after 600 steps: 0.2531, 88.2684%\n"
     ]
    },
    {
     "name": "stderr",
     "output_type": "stream",
     "text": [
      " 45%|████▍     | 702/1563 [01:51<11:55,  1.20it/s]"
     ]
    },
    {
     "name": "stdout",
     "output_type": "stream",
     "text": [
      "Train loss and test accuracy after 700 steps: 0.2529, 88.3014%\n"
     ]
    },
    {
     "name": "stderr",
     "output_type": "stream",
     "text": [
      " 51%|█████▏    | 802/1563 [02:07<09:25,  1.35it/s]"
     ]
    },
    {
     "name": "stdout",
     "output_type": "stream",
     "text": [
      "Train loss and test accuracy after 800 steps: 0.2483, 88.3537%\n"
     ]
    },
    {
     "name": "stderr",
     "output_type": "stream",
     "text": [
      " 58%|█████▊    | 902/1563 [02:22<08:48,  1.25it/s]"
     ]
    },
    {
     "name": "stdout",
     "output_type": "stream",
     "text": [
      "Train loss and test accuracy after 900 steps: 0.2432, 88.4018%\n"
     ]
    },
    {
     "name": "stderr",
     "output_type": "stream",
     "text": [
      " 64%|██████▍   | 1001/1563 [02:38<09:42,  1.04s/it]"
     ]
    },
    {
     "name": "stdout",
     "output_type": "stream",
     "text": [
      "Train loss and test accuracy after 1000 steps: 0.2428, 88.4057%\n"
     ]
    },
    {
     "name": "stderr",
     "output_type": "stream",
     "text": [
      " 70%|███████   | 1101/1563 [02:53<07:21,  1.05it/s]"
     ]
    },
    {
     "name": "stdout",
     "output_type": "stream",
     "text": [
      "Train loss and test accuracy after 1100 steps: 0.2400, 88.4318%\n"
     ]
    },
    {
     "name": "stderr",
     "output_type": "stream",
     "text": [
      " 77%|███████▋  | 1201/1563 [03:08<05:27,  1.10it/s]"
     ]
    },
    {
     "name": "stdout",
     "output_type": "stream",
     "text": [
      "Train loss and test accuracy after 1200 steps: 0.2439, 88.4132%\n"
     ]
    },
    {
     "name": "stderr",
     "output_type": "stream",
     "text": [
      " 83%|████████▎ | 1301/1563 [03:24<05:34,  1.28s/it]"
     ]
    },
    {
     "name": "stdout",
     "output_type": "stream",
     "text": [
      "Train loss and test accuracy after 1300 steps: 0.2477, 88.4542%\n"
     ]
    },
    {
     "name": "stderr",
     "output_type": "stream",
     "text": [
      " 90%|████████▉ | 1402/1563 [03:40<02:17,  1.17it/s]"
     ]
    },
    {
     "name": "stdout",
     "output_type": "stream",
     "text": [
      "Train loss and test accuracy after 1400 steps: 0.2386, 88.4658%\n"
     ]
    },
    {
     "name": "stderr",
     "output_type": "stream",
     "text": [
      " 96%|█████████▌| 1501/1563 [03:55<01:01,  1.00it/s]"
     ]
    },
    {
     "name": "stdout",
     "output_type": "stream",
     "text": [
      "Train loss and test accuracy after 1500 steps: 0.2456, 88.4693%\n"
     ]
    },
    {
     "name": "stderr",
     "output_type": "stream",
     "text": [
      "100%|██████████| 1563/1563 [04:01<00:00,  6.47it/s]\n"
     ]
    },
    {
     "name": "stdout",
     "output_type": "stream",
     "text": [
      "Train loss and test accuracy after Omega steps: 0.2477, 88.4749%\n",
      "Beginning model training on cuda!\n",
      "Beginning epoch 1/1. Epoch duration is 1563 steps, will evaluate every 100 steps.\n"
     ]
    },
    {
     "name": "stderr",
     "output_type": "stream",
     "text": [
      "  6%|▋         | 101/1563 [00:18<37:35,  1.54s/it]"
     ]
    },
    {
     "name": "stdout",
     "output_type": "stream",
     "text": [
      "Train loss and test accuracy after 100 steps: 0.3272, 87.2857%\n"
     ]
    },
    {
     "name": "stderr",
     "output_type": "stream",
     "text": [
      " 13%|█▎        | 202/1563 [00:35<27:57,  1.23s/it]"
     ]
    },
    {
     "name": "stdout",
     "output_type": "stream",
     "text": [
      "Train loss and test accuracy after 200 steps: 0.2668, 88.7226%\n"
     ]
    },
    {
     "name": "stderr",
     "output_type": "stream",
     "text": [
      " 19%|█▉        | 300/1563 [00:53<49:35,  2.36s/it]"
     ]
    },
    {
     "name": "stdout",
     "output_type": "stream",
     "text": [
      "Train loss and test accuracy after 300 steps: 0.2445, 89.1789%\n"
     ]
    },
    {
     "name": "stderr",
     "output_type": "stream",
     "text": [
      " 26%|██▌       | 400/1563 [01:11<38:05,  1.96s/it]"
     ]
    },
    {
     "name": "stdout",
     "output_type": "stream",
     "text": [
      "Train loss and test accuracy after 400 steps: 0.2384, 89.3729%\n"
     ]
    },
    {
     "name": "stderr",
     "output_type": "stream",
     "text": [
      " 32%|███▏      | 500/1563 [01:29<31:44,  1.79s/it]"
     ]
    },
    {
     "name": "stdout",
     "output_type": "stream",
     "text": [
      "Train loss and test accuracy after 500 steps: 0.2327, 89.4413%\n"
     ]
    },
    {
     "name": "stderr",
     "output_type": "stream",
     "text": [
      " 38%|███▊      | 600/1563 [01:47<37:05,  2.31s/it]"
     ]
    },
    {
     "name": "stdout",
     "output_type": "stream",
     "text": [
      "Train loss and test accuracy after 600 steps: 0.2296, 89.5430%\n"
     ]
    },
    {
     "name": "stderr",
     "output_type": "stream",
     "text": [
      " 45%|████▍     | 701/1563 [02:06<23:45,  1.65s/it]"
     ]
    },
    {
     "name": "stdout",
     "output_type": "stream",
     "text": [
      "Train loss and test accuracy after 700 steps: 0.2298, 89.5716%\n"
     ]
    },
    {
     "name": "stderr",
     "output_type": "stream",
     "text": [
      " 51%|█████▏    | 802/1563 [02:23<14:00,  1.11s/it]"
     ]
    },
    {
     "name": "stdout",
     "output_type": "stream",
     "text": [
      "Train loss and test accuracy after 800 steps: 0.2249, 89.6101%\n"
     ]
    },
    {
     "name": "stderr",
     "output_type": "stream",
     "text": [
      " 58%|█████▊    | 902/1563 [02:41<12:49,  1.16s/it]"
     ]
    },
    {
     "name": "stdout",
     "output_type": "stream",
     "text": [
      "Train loss and test accuracy after 900 steps: 0.2196, 89.6339%\n"
     ]
    },
    {
     "name": "stderr",
     "output_type": "stream",
     "text": [
      " 64%|██████▍   | 1000/1563 [02:59<21:30,  2.29s/it]"
     ]
    },
    {
     "name": "stdout",
     "output_type": "stream",
     "text": [
      "Train loss and test accuracy after 1000 steps: 0.2217, 89.6637%\n"
     ]
    },
    {
     "name": "stderr",
     "output_type": "stream",
     "text": [
      " 70%|███████   | 1101/1563 [03:17<11:39,  1.51s/it]"
     ]
    },
    {
     "name": "stdout",
     "output_type": "stream",
     "text": [
      "Train loss and test accuracy after 1100 steps: 0.2163, 89.6542%\n"
     ]
    },
    {
     "name": "stderr",
     "output_type": "stream",
     "text": [
      " 77%|███████▋  | 1201/1563 [03:35<09:05,  1.51s/it]"
     ]
    },
    {
     "name": "stdout",
     "output_type": "stream",
     "text": [
      "Train loss and test accuracy after 1200 steps: 0.2197, 89.6914%\n"
     ]
    },
    {
     "name": "stderr",
     "output_type": "stream",
     "text": [
      " 83%|████████▎ | 1302/1563 [03:53<05:00,  1.15s/it]"
     ]
    },
    {
     "name": "stdout",
     "output_type": "stream",
     "text": [
      "Train loss and test accuracy after 1300 steps: 0.2249, 89.7033%\n"
     ]
    },
    {
     "name": "stderr",
     "output_type": "stream",
     "text": [
      " 90%|████████▉ | 1401/1563 [04:11<04:05,  1.51s/it]"
     ]
    },
    {
     "name": "stdout",
     "output_type": "stream",
     "text": [
      "Train loss and test accuracy after 1400 steps: 0.2147, 89.7099%\n"
     ]
    },
    {
     "name": "stderr",
     "output_type": "stream",
     "text": [
      " 96%|█████████▌| 1500/1563 [04:28<01:55,  1.83s/it]"
     ]
    },
    {
     "name": "stdout",
     "output_type": "stream",
     "text": [
      "Train loss and test accuracy after 1500 steps: 0.2248, 89.7124%\n"
     ]
    },
    {
     "name": "stderr",
     "output_type": "stream",
     "text": [
      "100%|██████████| 1563/1563 [04:35<00:00,  5.67it/s]\n"
     ]
    },
    {
     "name": "stdout",
     "output_type": "stream",
     "text": [
      "Train loss and test accuracy after Omega steps: 0.2240, 89.7207%\n",
      "Beginning model training on cuda!\n",
      "Beginning epoch 1/1. Epoch duration is 1563 steps, will evaluate every 100 steps.\n"
     ]
    },
    {
     "name": "stderr",
     "output_type": "stream",
     "text": [
      "  6%|▋         | 101/1563 [00:19<43:23,  1.78s/it]"
     ]
    },
    {
     "name": "stdout",
     "output_type": "stream",
     "text": [
      "Train loss and test accuracy after 100 steps: 0.3205, 87.5650%\n"
     ]
    },
    {
     "name": "stderr",
     "output_type": "stream",
     "text": [
      " 13%|█▎        | 201/1563 [00:38<40:47,  1.80s/it]"
     ]
    },
    {
     "name": "stdout",
     "output_type": "stream",
     "text": [
      "Train loss and test accuracy after 200 steps: 0.2593, 89.0646%\n"
     ]
    },
    {
     "name": "stderr",
     "output_type": "stream",
     "text": [
      " 19%|█▉        | 301/1563 [00:58<39:19,  1.87s/it]"
     ]
    },
    {
     "name": "stdout",
     "output_type": "stream",
     "text": [
      "Train loss and test accuracy after 300 steps: 0.2398, 89.5638%\n"
     ]
    },
    {
     "name": "stderr",
     "output_type": "stream",
     "text": [
      " 26%|██▌       | 401/1563 [01:18<37:18,  1.93s/it]"
     ]
    },
    {
     "name": "stdout",
     "output_type": "stream",
     "text": [
      "Train loss and test accuracy after 400 steps: 0.2322, 89.7915%\n"
     ]
    },
    {
     "name": "stderr",
     "output_type": "stream",
     "text": [
      " 32%|███▏      | 501/1563 [01:38<33:41,  1.90s/it]"
     ]
    },
    {
     "name": "stdout",
     "output_type": "stream",
     "text": [
      "Train loss and test accuracy after 500 steps: 0.2250, 89.9256%\n"
     ]
    },
    {
     "name": "stderr",
     "output_type": "stream",
     "text": [
      " 38%|███▊      | 601/1563 [01:58<30:44,  1.92s/it]"
     ]
    },
    {
     "name": "stdout",
     "output_type": "stream",
     "text": [
      "Train loss and test accuracy after 600 steps: 0.2239, 89.9891%\n"
     ]
    },
    {
     "name": "stderr",
     "output_type": "stream",
     "text": [
      " 45%|████▍     | 701/1563 [02:18<25:52,  1.80s/it]"
     ]
    },
    {
     "name": "stdout",
     "output_type": "stream",
     "text": [
      "Train loss and test accuracy after 700 steps: 0.2230, 90.0367%\n"
     ]
    },
    {
     "name": "stderr",
     "output_type": "stream",
     "text": [
      " 51%|█████     | 801/1563 [02:37<23:26,  1.85s/it]"
     ]
    },
    {
     "name": "stdout",
     "output_type": "stream",
     "text": [
      "Train loss and test accuracy after 800 steps: 0.2181, 90.0908%\n"
     ]
    },
    {
     "name": "stderr",
     "output_type": "stream",
     "text": [
      " 58%|█████▊    | 901/1563 [02:57<20:36,  1.87s/it]"
     ]
    },
    {
     "name": "stdout",
     "output_type": "stream",
     "text": [
      "Train loss and test accuracy after 900 steps: 0.2146, 90.1207%\n"
     ]
    },
    {
     "name": "stderr",
     "output_type": "stream",
     "text": [
      " 64%|██████▍   | 1001/1563 [03:17<17:28,  1.87s/it]"
     ]
    },
    {
     "name": "stdout",
     "output_type": "stream",
     "text": [
      "Train loss and test accuracy after 1000 steps: 0.2122, 90.1575%\n"
     ]
    },
    {
     "name": "stderr",
     "output_type": "stream",
     "text": [
      " 70%|███████   | 1101/1563 [03:36<14:05,  1.83s/it]"
     ]
    },
    {
     "name": "stdout",
     "output_type": "stream",
     "text": [
      "Train loss and test accuracy after 1100 steps: 0.2102, 90.1478%\n"
     ]
    },
    {
     "name": "stderr",
     "output_type": "stream",
     "text": [
      " 77%|███████▋  | 1201/1563 [03:56<11:10,  1.85s/it]"
     ]
    },
    {
     "name": "stdout",
     "output_type": "stream",
     "text": [
      "Train loss and test accuracy after 1200 steps: 0.2145, 90.1385%\n"
     ]
    },
    {
     "name": "stderr",
     "output_type": "stream",
     "text": [
      " 83%|████████▎ | 1301/1563 [04:16<08:10,  1.87s/it]"
     ]
    },
    {
     "name": "stdout",
     "output_type": "stream",
     "text": [
      "Train loss and test accuracy after 1300 steps: 0.2161, 90.1915%\n"
     ]
    },
    {
     "name": "stderr",
     "output_type": "stream",
     "text": [
      " 90%|████████▉ | 1401/1563 [04:36<04:49,  1.79s/it]"
     ]
    },
    {
     "name": "stdout",
     "output_type": "stream",
     "text": [
      "Train loss and test accuracy after 1400 steps: 0.2095, 90.1899%\n"
     ]
    },
    {
     "name": "stderr",
     "output_type": "stream",
     "text": [
      " 96%|█████████▌| 1501/1563 [04:55<01:48,  1.75s/it]"
     ]
    },
    {
     "name": "stdout",
     "output_type": "stream",
     "text": [
      "Train loss and test accuracy after 1500 steps: 0.2152, 90.1871%\n"
     ]
    },
    {
     "name": "stderr",
     "output_type": "stream",
     "text": [
      "100%|██████████| 1563/1563 [05:02<00:00,  5.17it/s]\n"
     ]
    },
    {
     "name": "stdout",
     "output_type": "stream",
     "text": [
      "Train loss and test accuracy after Omega steps: 0.2158, 90.2147%\n",
      "Beginning model training on cuda!\n",
      "Beginning epoch 1/1. Epoch duration is 1563 steps, will evaluate every 100 steps.\n"
     ]
    },
    {
     "name": "stderr",
     "output_type": "stream",
     "text": [
      "  6%|▋         | 101/1563 [00:22<52:52,  2.17s/it]  "
     ]
    },
    {
     "name": "stdout",
     "output_type": "stream",
     "text": [
      "Train loss and test accuracy after 100 steps: 0.3286, 87.4249%\n"
     ]
    },
    {
     "name": "stderr",
     "output_type": "stream",
     "text": [
      " 13%|█▎        | 201/1563 [00:43<45:54,  2.02s/it]  "
     ]
    },
    {
     "name": "stdout",
     "output_type": "stream",
     "text": [
      "Train loss and test accuracy after 200 steps: 0.2656, 89.0004%\n"
     ]
    },
    {
     "name": "stderr",
     "output_type": "stream",
     "text": [
      " 19%|█▉        | 301/1563 [01:04<41:53,  1.99s/it]"
     ]
    },
    {
     "name": "stdout",
     "output_type": "stream",
     "text": [
      "Train loss and test accuracy after 300 steps: 0.2452, 89.5892%\n"
     ]
    },
    {
     "name": "stderr",
     "output_type": "stream",
     "text": [
      " 26%|██▌       | 401/1563 [01:26<42:18,  2.18s/it]"
     ]
    },
    {
     "name": "stdout",
     "output_type": "stream",
     "text": [
      "Train loss and test accuracy after 400 steps: 0.2359, 89.8705%\n"
     ]
    },
    {
     "name": "stderr",
     "output_type": "stream",
     "text": [
      " 32%|███▏      | 501/1563 [01:48<39:07,  2.21s/it]"
     ]
    },
    {
     "name": "stdout",
     "output_type": "stream",
     "text": [
      "Train loss and test accuracy after 500 steps: 0.2278, 90.0171%\n"
     ]
    },
    {
     "name": "stderr",
     "output_type": "stream",
     "text": [
      " 38%|███▊      | 600/1563 [02:10<47:53,  2.98s/it]"
     ]
    },
    {
     "name": "stdout",
     "output_type": "stream",
     "text": [
      "Train loss and test accuracy after 600 steps: 0.2262, 90.1267%\n"
     ]
    },
    {
     "name": "stderr",
     "output_type": "stream",
     "text": [
      " 45%|████▍     | 701/1563 [02:32<31:29,  2.19s/it]"
     ]
    },
    {
     "name": "stdout",
     "output_type": "stream",
     "text": [
      "Train loss and test accuracy after 700 steps: 0.2264, 90.1901%\n"
     ]
    },
    {
     "name": "stderr",
     "output_type": "stream",
     "text": [
      " 51%|█████     | 801/1563 [02:54<27:01,  2.13s/it]"
     ]
    },
    {
     "name": "stdout",
     "output_type": "stream",
     "text": [
      "Train loss and test accuracy after 800 steps: 0.2205, 90.1951%\n"
     ]
    },
    {
     "name": "stderr",
     "output_type": "stream",
     "text": [
      " 58%|█████▊    | 901/1563 [03:16<22:35,  2.05s/it]"
     ]
    },
    {
     "name": "stdout",
     "output_type": "stream",
     "text": [
      "Train loss and test accuracy after 900 steps: 0.2147, 90.2725%\n"
     ]
    },
    {
     "name": "stderr",
     "output_type": "stream",
     "text": [
      " 64%|██████▍   | 1001/1563 [03:37<19:33,  2.09s/it]"
     ]
    },
    {
     "name": "stdout",
     "output_type": "stream",
     "text": [
      "Train loss and test accuracy after 1000 steps: 0.2146, 90.3060%\n"
     ]
    },
    {
     "name": "stderr",
     "output_type": "stream",
     "text": [
      " 70%|███████   | 1101/1563 [03:59<15:32,  2.02s/it]"
     ]
    },
    {
     "name": "stdout",
     "output_type": "stream",
     "text": [
      "Train loss and test accuracy after 1100 steps: 0.2094, 90.2939%\n"
     ]
    },
    {
     "name": "stderr",
     "output_type": "stream",
     "text": [
      " 77%|███████▋  | 1200/1563 [04:20<17:51,  2.95s/it]"
     ]
    },
    {
     "name": "stdout",
     "output_type": "stream",
     "text": [
      "Train loss and test accuracy after 1200 steps: 0.2157, 90.3281%\n"
     ]
    },
    {
     "name": "stderr",
     "output_type": "stream",
     "text": [
      " 83%|████████▎ | 1301/1563 [04:42<09:29,  2.17s/it]"
     ]
    },
    {
     "name": "stdout",
     "output_type": "stream",
     "text": [
      "Train loss and test accuracy after 1300 steps: 0.2190, 90.3419%\n"
     ]
    },
    {
     "name": "stderr",
     "output_type": "stream",
     "text": [
      " 90%|████████▉ | 1401/1563 [05:04<05:46,  2.14s/it]"
     ]
    },
    {
     "name": "stdout",
     "output_type": "stream",
     "text": [
      "Train loss and test accuracy after 1400 steps: 0.2094, 90.3525%\n"
     ]
    },
    {
     "name": "stderr",
     "output_type": "stream",
     "text": [
      " 96%|█████████▌| 1501/1563 [05:26<02:10,  2.11s/it]"
     ]
    },
    {
     "name": "stdout",
     "output_type": "stream",
     "text": [
      "Train loss and test accuracy after 1500 steps: 0.2141, 90.3638%\n"
     ]
    },
    {
     "name": "stderr",
     "output_type": "stream",
     "text": [
      "100%|██████████| 1563/1563 [05:34<00:00,  4.68it/s]\n"
     ]
    },
    {
     "name": "stdout",
     "output_type": "stream",
     "text": [
      "Train loss and test accuracy after Omega steps: 0.2176, 90.3796%\n",
      "Beginning model training on cuda!\n",
      "Beginning epoch 1/1. Epoch duration is 1563 steps, will evaluate every 100 steps.\n"
     ]
    },
    {
     "name": "stderr",
     "output_type": "stream",
     "text": [
      "  6%|▋         | 101/1563 [00:24<57:40,  2.37s/it]  "
     ]
    },
    {
     "name": "stdout",
     "output_type": "stream",
     "text": [
      "Train loss and test accuracy after 100 steps: 0.3373, 87.2570%\n"
     ]
    },
    {
     "name": "stderr",
     "output_type": "stream",
     "text": [
      " 13%|█▎        | 201/1563 [00:48<54:59,  2.42s/it]  "
     ]
    },
    {
     "name": "stdout",
     "output_type": "stream",
     "text": [
      "Train loss and test accuracy after 200 steps: 0.2693, 88.9184%\n"
     ]
    },
    {
     "name": "stderr",
     "output_type": "stream",
     "text": [
      " 19%|█▉        | 301/1563 [01:12<51:17,  2.44s/it]  "
     ]
    },
    {
     "name": "stdout",
     "output_type": "stream",
     "text": [
      "Train loss and test accuracy after 300 steps: 0.2497, 89.4998%\n"
     ]
    },
    {
     "name": "stderr",
     "output_type": "stream",
     "text": [
      " 26%|██▌       | 401/1563 [01:37<49:57,  2.58s/it]  "
     ]
    },
    {
     "name": "stdout",
     "output_type": "stream",
     "text": [
      "Train loss and test accuracy after 400 steps: 0.2391, 89.8267%\n"
     ]
    },
    {
     "name": "stderr",
     "output_type": "stream",
     "text": [
      " 32%|███▏      | 501/1563 [02:02<44:09,  2.49s/it]  "
     ]
    },
    {
     "name": "stdout",
     "output_type": "stream",
     "text": [
      "Train loss and test accuracy after 500 steps: 0.2303, 89.9867%\n"
     ]
    },
    {
     "name": "stderr",
     "output_type": "stream",
     "text": [
      " 38%|███▊      | 601/1563 [02:27<38:58,  2.43s/it]"
     ]
    },
    {
     "name": "stdout",
     "output_type": "stream",
     "text": [
      "Train loss and test accuracy after 600 steps: 0.2299, 90.0970%\n"
     ]
    },
    {
     "name": "stderr",
     "output_type": "stream",
     "text": [
      " 45%|████▍     | 701/1563 [02:50<31:58,  2.23s/it]"
     ]
    },
    {
     "name": "stdout",
     "output_type": "stream",
     "text": [
      "Train loss and test accuracy after 700 steps: 0.2291, 90.1585%\n"
     ]
    },
    {
     "name": "stderr",
     "output_type": "stream",
     "text": [
      " 51%|█████     | 801/1563 [03:14<29:58,  2.36s/it]"
     ]
    },
    {
     "name": "stdout",
     "output_type": "stream",
     "text": [
      "Train loss and test accuracy after 800 steps: 0.2216, 90.2027%\n"
     ]
    },
    {
     "name": "stderr",
     "output_type": "stream",
     "text": [
      " 58%|█████▊    | 901/1563 [03:38<26:53,  2.44s/it]"
     ]
    },
    {
     "name": "stdout",
     "output_type": "stream",
     "text": [
      "Train loss and test accuracy after 900 steps: 0.2164, 90.2627%\n"
     ]
    },
    {
     "name": "stderr",
     "output_type": "stream",
     "text": [
      " 64%|██████▍   | 1001/1563 [04:03<23:39,  2.53s/it]"
     ]
    },
    {
     "name": "stdout",
     "output_type": "stream",
     "text": [
      "Train loss and test accuracy after 1000 steps: 0.2188, 90.2771%\n"
     ]
    },
    {
     "name": "stderr",
     "output_type": "stream",
     "text": [
      " 70%|███████   | 1101/1563 [04:27<18:35,  2.41s/it]"
     ]
    },
    {
     "name": "stdout",
     "output_type": "stream",
     "text": [
      "Train loss and test accuracy after 1100 steps: 0.2128, 90.3105%\n"
     ]
    },
    {
     "name": "stderr",
     "output_type": "stream",
     "text": [
      " 77%|███████▋  | 1201/1563 [04:52<14:27,  2.40s/it]"
     ]
    },
    {
     "name": "stdout",
     "output_type": "stream",
     "text": [
      "Train loss and test accuracy after 1200 steps: 0.2178, 90.3291%\n"
     ]
    },
    {
     "name": "stderr",
     "output_type": "stream",
     "text": [
      " 83%|████████▎ | 1301/1563 [05:16<10:12,  2.34s/it]"
     ]
    },
    {
     "name": "stdout",
     "output_type": "stream",
     "text": [
      "Train loss and test accuracy after 1300 steps: 0.2220, 90.3291%\n"
     ]
    },
    {
     "name": "stderr",
     "output_type": "stream",
     "text": [
      " 90%|████████▉ | 1401/1563 [05:39<06:06,  2.26s/it]"
     ]
    },
    {
     "name": "stdout",
     "output_type": "stream",
     "text": [
      "Train loss and test accuracy after 1400 steps: 0.2136, 90.3342%\n"
     ]
    },
    {
     "name": "stderr",
     "output_type": "stream",
     "text": [
      " 96%|█████████▌| 1501/1563 [06:04<02:27,  2.38s/it]"
     ]
    },
    {
     "name": "stdout",
     "output_type": "stream",
     "text": [
      "Train loss and test accuracy after 1500 steps: 0.2178, 90.3565%\n"
     ]
    },
    {
     "name": "stderr",
     "output_type": "stream",
     "text": [
      "100%|██████████| 1563/1563 [06:12<00:00,  4.20it/s]\n"
     ]
    },
    {
     "name": "stdout",
     "output_type": "stream",
     "text": [
      "Train loss and test accuracy after Omega steps: 0.2189, 90.3661%\n"
     ]
    }
   ],
   "source": [
    "from model_training import full_probe_run\n",
    "\n",
    "tee = Tee(\"output.log\")\n",
    "sys.stdout = tee\n",
    "\n",
    "layers = list(range(0, 8))\n",
    "for layer in layers:\n",
    "    full_probe_run(layer)\n",
    "\n",
    "sys.stdout = sys.__stdout__\n",
    "tee.close()"
   ]
  },
  {
   "cell_type": "code",
   "execution_count": 4,
   "metadata": {},
   "outputs": [
    {
     "data": {
      "image/png": "[encoded data removed]",
      "text/plain": [
       "<Figure size 1000x600 with 1 Axes>"
      ]
     },
     "metadata": {},
     "output_type": "display_data"
    }
   ],
   "source": [
    "# Plot probe training acc\n",
    "import re\n",
    "\n",
    "log_file_path = \"probe_train_output.log\"\n",
    "layer_pattern = re.compile(r\"Train loss and test accuracy after Omega steps: .*?, (\\d+\\.\\d+)%\")\n",
    "with open(log_file_path, 'r') as f:\n",
    "    log_content = f.read()\n",
    "accuracies = [float(match) for match in layer_pattern.findall(log_content)]\n",
    "layers = list(range(len(accuracies)))\n",
    "\n",
    "plt.figure(figsize=(10, 6))\n",
    "plt.plot(layers, accuracies, marker='o', linestyle='-', label=\"Accuracy over Layers\")\n",
    "# Annotate each point with its accuracy value\n",
    "for i, acc in enumerate(accuracies):\n",
    "    plt.text(layers[i], acc, f\"{acc:.2f}%\", fontsize=9, ha='center', va='bottom')\n",
    "plt.title(\"Linear Probe Accuracy Across Layers\")\n",
    "plt.xlabel(\"Layer\")\n",
    "plt.ylabel(\"Test Accuracy (%)\")\n",
    "plt.grid(True, linestyle='--', alpha=0.6)\n",
    "plt.xticks(range(len(layers)), [f\"Layer {i}\" for i in layers])\n",
    "plt.legend()\n",
    "plt.show()"
   ]
  },
  {
   "cell_type": "code",
   "execution_count": 7,
   "metadata": {},
   "outputs": [],
   "source": [
    "model_location = \"trained_model_full.pkl\"\n",
    "with open(model_location, 'rb') as f:\n",
    "    othello_gpt=torch.load(f, map_location=device)"
   ]
  },
  {
   "cell_type": "code",
   "execution_count": 10,
   "metadata": {},
   "outputs": [
    {
     "data": {
      "application/vnd.plotly.v1+json": {
       "config": {
        "plotlyServerURL": "https://plot.ly"
       },
       "data": [
        {
         "coloraxis": "coloraxis",
         "hovertemplate": "x: %{x}<br>y: %{y}<br>color: %{z}<extra></extra>",
         "name": "0",
         "type": "heatmap",
         "xaxis": "x",
         "y": [
          "A",
          "B",
          "C",
          "D",
          "E",
          "F",
          "G",
          "H"
         ],
         "yaxis": "y",
         "z": [
          [
           -0.15314723551273346,
           -0.12362515181303024,
           -0.10054764151573181,
           -0.10665108263492584,
           -0.004030119627714157,
           -0.058042772114276886,
           -0.08640742301940918,
           -0.15819013118743896
          ],
          [
           -0.151056170463562,
           0.008984357118606567,
           0.04559989273548126,
           0.04118971526622772,
           0.035435497760772705,
           0.052295371890068054,
           -0.06460652500391006,
           -0.1039978489279747
          ],
          [
           -0.032416269183158875,
           0.010114050470292568,
           0.21790312230587006,
           0.2024042308330536,
           0.26213014125823975,
           0.18087714910507202,
           0.020925961434841156,
           -0.10582403093576431
          ],
          [
           -0.0675647109746933,
           0.11724679172039032,
           0.156110942363739,
           0,
           0,
           0.19886134564876556,
           0.030376145616173744,
           -0.07555316388607025
          ],
          [
           -0.06187523156404495,
           0.06552425026893616,
           0.17555752396583557,
           0,
           0,
           0.2786504030227661,
           0.09191936254501343,
           -0.040368542075157166
          ],
          [
           -0.08316580951213837,
           0.06646403670310974,
           0.15046581625938416,
           0.19140201807022095,
           0.24179881811141968,
           0.1871758997440338,
           0.053033292293548584,
           -0.0906331017613411
          ],
          [
           -0.08134521543979645,
           -0.04317328333854675,
           0.050519172102212906,
           0.10702810436487198,
           0.07416853308677673,
           0.08449671417474747,
           0.022999651730060577,
           -0.1245976909995079
          ],
          [
           -0.19013702869415283,
           -0.1094297468662262,
           -0.0606948658823967,
           0.000984150916337967,
           -0.06798245012760162,
           -0.06142351031303406,
           -0.07570016384124756,
           -0.1291901171207428
          ]
         ]
        },
        {
         "coloraxis": "coloraxis",
         "hovertemplate": "x: %{x}<br>y: %{y}<br>color: %{z}<extra></extra>",
         "name": "1",
         "type": "heatmap",
         "xaxis": "x2",
         "y": [
          "A",
          "B",
          "C",
          "D",
          "E",
          "F",
          "G",
          "H"
         ],
         "yaxis": "y2",
         "z": [
          [
           0.1797248125076294,
           0.1968957632780075,
           0.11789032071828842,
           0.113690085709095,
           0.08426309376955032,
           0.12250865995883942,
           0.11303825676441193,
           0.15435534715652466
          ],
          [
           0.13459204137325287,
           0.0225059874355793,
           0.04599439352750778,
           0.01641443744301796,
           0.13560497760772705,
           -0.0038731032982468605,
           0.10306387394666672,
           0.1764092892408371
          ],
          [
           0.172389954328537,
           0.07707683742046356,
           -0.08020146191120148,
           -0.091901496052742,
           0.005280118435621262,
           -0.021168434992432594,
           0.06114877760410309,
           0.055756546556949615
          ],
          [
           0.04568503424525261,
           0.06299448013305664,
           -0.05804776772856712,
           0,
           0,
           -0.08606308698654175,
           0.0492967925965786,
           0.09473422169685364
          ],
          [
           0.16376900672912598,
           0.04931432753801346,
           -0.08934037387371063,
           0,
           0,
           -0.12813809514045715,
           0.03391070291399956,
           0.11878205835819244
          ],
          [
           0.1636028289794922,
           0.0036575691774487495,
           -0.010068495757877827,
           -0.11091121286153793,
           -0.09681473672389984,
           -0.05938670411705971,
           -0.047858357429504395,
           0.1879335194826126
          ],
          [
           0.1307467520236969,
           0.07447000592947006,
           0.07342061400413513,
           -0.03183098882436752,
           -0.007737941108644009,
           -0.00619068369269371,
           -0.03843136131763458,
           0.10906586050987244
          ],
          [
           0.2057565152645111,
           0.1604020595550537,
           0.12537620961666107,
           0.06512727588415146,
           0.04315878078341484,
           0.1737358570098877,
           0.1252409666776657,
           0.11970612406730652
          ]
         ]
        },
        {
         "coloraxis": "coloraxis",
         "hovertemplate": "x: %{x}<br>y: %{y}<br>color: %{z}<extra></extra>",
         "name": "2",
         "type": "heatmap",
         "xaxis": "x3",
         "y": [
          "A",
          "B",
          "C",
          "D",
          "E",
          "F",
          "G",
          "H"
         ],
         "yaxis": "y3",
         "z": [
          [
           0.2519603371620178,
           0.2339371144771576,
           0.1517358124256134,
           0.16252408921718597,
           0.16942733526229858,
           0.15016710758209229,
           0.1277151256799698,
           0.15759114921092987
          ],
          [
           0.21869993209838867,
           0.04715273156762123,
           0.1004151999950409,
           0.012009050697088242,
           0.08584911376237869,
           0.05561795458197594,
           0.1505768895149231,
           0.16776543855667114
          ],
          [
           0.1993650645017624,
           0.052453313022851944,
           0.0028523486107587814,
           -0.0954679474234581,
           -0.014507731422781944,
           0.0616828128695488,
           0.0924706682562828,
           0.1163303554058075
          ],
          [
           0.10451900959014893,
           0.0832318365573883,
           -0.04795666038990021,
           0,
           0,
           0.014158845879137516,
           0.08337999880313873,
           0.15013793110847473
          ],
          [
           0.13637235760688782,
           0.02786753699183464,
           -0.07841786742210388,
           0,
           0,
           -0.019796933978796005,
           0.06402434408664703,
           0.11726222932338715
          ],
          [
           0.18623539805412292,
           0.07134062796831131,
           0.03528553247451782,
           0.003546377643942833,
           -0.12363085150718689,
           -0.04195035248994827,
           0.056941792368888855,
           0.17536284029483795
          ],
          [
           0.16500788927078247,
           0.09128901362419128,
           0.06843426823616028,
           -0.008418343961238861,
           0.03787342458963394,
           0.06729160249233246,
           0.08551992475986481,
           0.1787656843662262
          ],
          [
           0.2076425850391388,
           0.21893654763698578,
           0.17107994854450226,
           0.18779155611991882,
           0.1321147084236145,
           0.23498030006885529,
           0.18773958086967468,
           0.13266175985336304
          ]
         ]
        },
        {
         "coloraxis": "coloraxis",
         "hovertemplate": "x: %{x}<br>y: %{y}<br>color: %{z}<extra></extra>",
         "name": "3",
         "type": "heatmap",
         "xaxis": "x4",
         "y": [
          "A",
          "B",
          "C",
          "D",
          "E",
          "F",
          "G",
          "H"
         ],
         "yaxis": "y4",
         "z": [
          [
           0.24319110810756683,
           0.16772906482219696,
           0.11021348834037781,
           0.08026997745037079,
           0.09254327416419983,
           0.1200055330991745,
           0.10300413519144058,
           0.13789494335651398
          ],
          [
           0.1498609483242035,
           0.028896257281303406,
           0.002970995381474495,
           -0.04403282701969147,
           0.09370626509189606,
           0.03393125534057617,
           0.1498045176267624,
           0.2325156331062317
          ],
          [
           0.12722253799438477,
           0.01916910707950592,
           -0.05212586373090744,
           -0.07643353939056396,
           0.03352072089910507,
           0.014541152864694595,
           0.0625247061252594,
           0.128243550658226
          ],
          [
           0.07940039783716202,
           0.07264074683189392,
           -0.04684188961982727,
           0,
           0,
           -0.00941590778529644,
           0.030011730268597603,
           0.058571528643369675
          ],
          [
           0.14566650986671448,
           0.059229034930467606,
           -0.0906936377286911,
           0,
           0,
           -0.023964595049619675,
           -0.014758188277482986,
           0.04005759209394455
          ],
          [
           0.15212032198905945,
           0.02950688637793064,
           0.029054734855890274,
           -0.08309544622898102,
           -0.10168642550706863,
           -0.10064153373241425,
           -0.0032968465238809586,
           0.2298586517572403
          ],
          [
           0.15656715631484985,
           0.07368845492601395,
           0.04200367256999016,
           0.019615307450294495,
           0.023238245397806168,
           0.06904205679893494,
           0.008883355185389519,
           0.1423761248588562
          ],
          [
           0.23705288767814636,
           0.17909367382526398,
           0.09330123662948608,
           0.07798414677381516,
           0.07739926874637604,
           0.17477555572986603,
           0.16953116655349731,
           0.11928056925535202
          ]
         ]
        },
        {
         "coloraxis": "coloraxis",
         "hovertemplate": "x: %{x}<br>y: %{y}<br>color: %{z}<extra></extra>",
         "name": "4",
         "type": "heatmap",
         "xaxis": "x5",
         "y": [
          "A",
          "B",
          "C",
          "D",
          "E",
          "F",
          "G",
          "H"
         ],
         "yaxis": "y5",
         "z": [
          [
           0.1421017050743103,
           0.13653622567653656,
           0.06954528391361237,
           0.04189416393637657,
           0.05166047066450119,
           0.11463571339845657,
           0.07354046404361725,
           0.10768947005271912
          ],
          [
           0.13414481282234192,
           0.009040199220180511,
           0.02801516465842724,
           0.027506256476044655,
           -0.0009332979097962379,
           -0.08887457847595215,
           0.08748140186071396,
           0.15315818786621094
          ],
          [
           0.11293014883995056,
           -0.0421958789229393,
           -0.14996033906936646,
           -0.07432017475366592,
           -0.1356102079153061,
           -0.10738679021596909,
           -0.02528410777449608,
           0.12032905966043472
          ],
          [
           0.11264945566654205,
           0.009272417984902859,
           -0.08630269765853882,
           0,
           0,
           -0.07316577434539795,
           0.015506496652960777,
           0.05333694815635681
          ],
          [
           0.10167069733142853,
           -0.003338851500302553,
           -0.10548432916402817,
           0,
           0,
           -0.09600108116865158,
           -0.00199864711612463,
           0.055654749274253845
          ],
          [
           0.10654253512620926,
           0.07988201081752777,
           0.014770305715501308,
           -0.08066216111183167,
           -0.08350230753421783,
           -0.09445641189813614,
           -0.014144152402877808,
           0.08020144701004028
          ],
          [
           0.16998103260993958,
           0.05423615500330925,
           0.07692639529705048,
           -0.023080546408891678,
           0.01293101254850626,
           0.01996896043419838,
           0.04803822189569473,
           0.08327427506446838
          ],
          [
           0.21551769971847534,
           0.12933708727359772,
           0.07881957292556763,
           0.012880301102995872,
           0.07985156029462814,
           0.10304565727710724,
           0.08263705670833588,
           0.13556824624538422
          ]
         ]
        },
        {
         "coloraxis": "coloraxis",
         "hovertemplate": "x: %{x}<br>y: %{y}<br>color: %{z}<extra></extra>",
         "name": "5",
         "type": "heatmap",
         "xaxis": "x6",
         "y": [
          "A",
          "B",
          "C",
          "D",
          "E",
          "F",
          "G",
          "H"
         ],
         "yaxis": "y6",
         "z": [
          [
           0.18090301752090454,
           0.23709945380687714,
           0.1261046677827835,
           0.1061580553650856,
           0.11519868671894073,
           0.10146582871675491,
           0.18690547347068787,
           0.17266273498535156
          ],
          [
           0.16819170117378235,
           0.026516808196902275,
           0.045808106660842896,
           -0.04082795977592468,
           0.12809181213378906,
           0.04836667329072952,
           0.153604194521904,
           0.18466180562973022
          ],
          [
           0.1564452350139618,
           0.08531762659549713,
           -0.06207383796572685,
           0.008028136566281319,
           0.033144962042570114,
           0.05022154003381729,
           0.07883210480213165,
           0.13064706325531006
          ],
          [
           0.030802445486187935,
           0.13004937767982483,
           -0.06552939116954803,
           0,
           0,
           -0.010906022042036057,
           0.06388628482818604,
           0.07652758061885834
          ],
          [
           0.11708931624889374,
           0.045194827020168304,
           -0.11190997064113617,
           0,
           0,
           -0.07561609148979187,
           0.012311487458646297,
           0.0828552097082138
          ],
          [
           0.16099192202091217,
           0.08357127010822296,
           -0.005217720754444599,
           -0.03935728594660759,
           -0.051095206290483475,
           -0.0022017378360033035,
           0.09112279117107391,
           0.12019342929124832
          ],
          [
           0.16560184955596924,
           -0.049623385071754456,
           0.041353434324264526,
           -0.04421687498688698,
           -0.0015027821063995361,
           0.07478317618370056,
           0.04196576029062271,
           0.101618193089962
          ],
          [
           0.18081627786159515,
           0.2178851068019867,
           0.14974907040596008,
           0.0641050934791565,
           0.09275384247303009,
           0.1492680311203003,
           0.137844055891037,
           0.1572279930114746
          ]
         ]
        },
        {
         "coloraxis": "coloraxis",
         "hovertemplate": "x: %{x}<br>y: %{y}<br>color: %{z}<extra></extra>",
         "name": "6",
         "type": "heatmap",
         "xaxis": "x7",
         "y": [
          "A",
          "B",
          "C",
          "D",
          "E",
          "F",
          "G",
          "H"
         ],
         "yaxis": "y7",
         "z": [
          [
           0.18317236006259918,
           0.19306257367134094,
           0.060192130506038666,
           0.10575447976589203,
           0.13887450098991394,
           0.08524228632450104,
           0.09005279839038849,
           0.1330871284008026
          ],
          [
           0.1890135556459427,
           -0.010921981185674667,
           0.04546237736940384,
           0.009297909215092659,
           0.1364559680223465,
           -0.05339035391807556,
           0.0983893871307373,
           0.10509732365608215
          ],
          [
           0.16374705731868744,
           0.08392708748579025,
           -0.02497738227248192,
           -0.04775823652744293,
           0.0019094320014119148,
           0.027990614995360374,
           0.04657386988401413,
           0.06400130689144135
          ],
          [
           0.05938614159822464,
           0.11390407383441925,
           -0.09781874716281891,
           0,
           0,
           -0.021007433533668518,
           -0.014423450455069542,
           0.11106996238231659
          ],
          [
           0.11675578355789185,
           0.006843358278274536,
           -0.05653135105967522,
           0,
           0,
           -0.12193090468645096,
           0.001142231747508049,
           0.062153540551662445
          ],
          [
           0.12442705035209656,
           0.017242293804883957,
           -0.011064146645367146,
           -0.06971365958452225,
           -0.1284066140651703,
           -0.11762619763612747,
           -0.04796344041824341,
           0.11382472515106201
          ],
          [
           0.12367862462997437,
           0.044051188975572586,
           0.00006092246621847153,
           -0.034247130155563354,
           0.0422210618853569,
           0.01409816648811102,
           -0.02299470081925392,
           0.06646700203418732
          ],
          [
           0.17324349284172058,
           0.144858255982399,
           0.09674461930990219,
           0.04946764558553696,
           0.03722688928246498,
           0.15495750308036804,
           0.12000361829996109,
           0.10707886517047882
          ]
         ]
        },
        {
         "coloraxis": "coloraxis",
         "hovertemplate": "x: %{x}<br>y: %{y}<br>color: %{z}<extra></extra>",
         "name": "7",
         "type": "heatmap",
         "xaxis": "x8",
         "y": [
          "A",
          "B",
          "C",
          "D",
          "E",
          "F",
          "G",
          "H"
         ],
         "yaxis": "y8",
         "z": [
          [
           0.17273473739624023,
           0.18846020102500916,
           0.11366590857505798,
           0.13544952869415283,
           0.07165014743804932,
           0.1450313776731491,
           0.11052627116441727,
           0.200105220079422
          ],
          [
           0.20850491523742676,
           0.006338830105960369,
           0.05151199549436569,
           0.0002142973244190216,
           0.17997276782989502,
           0.0283129271119833,
           0.13378959894180298,
           0.1745019257068634
          ],
          [
           0.14107555150985718,
           0.0807989314198494,
           -0.01979687437415123,
           -0.07034584879875183,
           0.08421362936496735,
           0.056800372898578644,
           0.06218961998820305,
           0.12064623087644577
          ],
          [
           0.08517579734325409,
           0.02865082584321499,
           0.005598968360573053,
           0,
           0,
           -0.011591983027756214,
           0.12823627889156342,
           0.13061124086380005
          ],
          [
           0.17616789042949677,
           0.09421591460704803,
           -0.039409246295690536,
           0,
           0,
           0.0021806973963975906,
           0.09256690740585327,
           0.1322479546070099
          ],
          [
           0.13146361708641052,
           0.0896076187491417,
           0.011344105005264282,
           -0.008922893553972244,
           -0.07294958829879761,
           -0.011361883953213692,
           0.0836976170539856,
           0.1794535219669342
          ],
          [
           0.173324316740036,
           0.04870011657476425,
           0.10881996154785156,
           0.0117820855230093,
           0.044725727289915085,
           0.04432365670800209,
           0.06642793118953705,
           0.18197470903396606
          ],
          [
           0.275339812040329,
           0.16739273071289062,
           0.059617429971694946,
           0.10138121247291565,
           0.14111781120300293,
           0.20704516768455505,
           0.1896243542432785,
           0.17595411837100983
          ]
         ]
        },
        {
         "coloraxis": "coloraxis",
         "hovertemplate": "x: %{x}<br>y: %{y}<br>color: %{z}<extra></extra>",
         "name": "8",
         "type": "heatmap",
         "xaxis": "x9",
         "y": [
          "A",
          "B",
          "C",
          "D",
          "E",
          "F",
          "G",
          "H"
         ],
         "yaxis": "y9",
         "z": [
          [
           0.20802757143974304,
           0.2180129587650299,
           0.10864719748497009,
           0.20269125699996948,
           0.08276711404323578,
           0.13313816487789154,
           0.06012510508298874,
           0.1798505187034607
          ],
          [
           0.20570039749145508,
           0.07520316541194916,
           0.06038893759250641,
           0.021746959537267685,
           0.19757327437400818,
           0.03682579845190048,
           0.14484772086143494,
           0.15052200853824615
          ],
          [
           0.13490043580532074,
           0.09277172386646271,
           -0.009365832433104515,
           -0.045019447803497314,
           0.07958046346902847,
           0.11857493221759796,
           0.09332376718521118,
           0.11560122668743134
          ],
          [
           0.11532924324274063,
           -0.0028228536248207092,
           -0.029540760442614555,
           0,
           0,
           -0.026435980573296547,
           0.11991965770721436,
           0.12367561459541321
          ],
          [
           0.1417093276977539,
           0.06902061402797699,
           -0.07347424328327179,
           0,
           0,
           -0.005711924750357866,
           0.04609968885779381,
           0.13218151032924652
          ],
          [
           0.1371058225631714,
           0.042669981718063354,
           0.01279432512819767,
           -0.018750641494989395,
           -0.07553793489933014,
           -0.03702784329652786,
           0.10019714385271072,
           0.14009544253349304
          ],
          [
           0.13263589143753052,
           0.015747562050819397,
           0.052943456918001175,
           -0.028905082494020462,
           0.026335252448916435,
           0.0646703839302063,
           0.022284947335720062,
           0.16019143164157867
          ],
          [
           0.22948160767555237,
           0.12888047099113464,
           0.09966979175806046,
           0.05531858652830124,
           0.13201719522476196,
           0.16865558922290802,
           0.1790919303894043,
           0.1603533923625946
          ]
         ]
        },
        {
         "coloraxis": "coloraxis",
         "hovertemplate": "x: %{x}<br>y: %{y}<br>color: %{z}<extra></extra>",
         "name": "9",
         "type": "heatmap",
         "xaxis": "x10",
         "y": [
          "A",
          "B",
          "C",
          "D",
          "E",
          "F",
          "G",
          "H"
         ],
         "yaxis": "y10",
         "z": [
          [
           0.10695615410804749,
           0.1510593295097351,
           0.14848487079143524,
           0.05412842333316803,
           0.12103936076164246,
           0.06642943620681763,
           0.06966976821422577,
           0.1179581880569458
          ],
          [
           0.11133885383605957,
           0.05595366284251213,
           0.007789410650730133,
           0.05250341072678566,
           0.049365416169166565,
           0.06853081285953522,
           0.11116408556699753,
           0.1298847645521164
          ],
          [
           0.15644873678684235,
           0.0628221184015274,
           -0.061852771788835526,
           -0.05906020477414131,
           0.012950623407959938,
           -0.04063178226351738,
           -0.0025123455561697483,
           0.11142786592245102
          ],
          [
           0.034469544887542725,
           0.07861606031656265,
           -0.05386112257838249,
           0,
           0,
           -0.08669797331094742,
           -0.02009502984583378,
           0.07931414246559143
          ],
          [
           0.07761639356613159,
           0.01358061097562313,
           -0.031877413392066956,
           0,
           0,
           -0.11663950234651566,
           -0.05124013125896454,
           0.10322888940572739
          ],
          [
           0.09926390647888184,
           0.0243024080991745,
           0.004519274458289146,
           -0.025975752621889114,
           -0.06953427940607071,
           -0.057996511459350586,
           -0.04069026559591293,
           0.0968777984380722
          ],
          [
           0.13223324716091156,
           0.10595932602882385,
           0.06249362230300903,
           -0.06517636775970459,
           -0.02053103595972061,
           -0.001900162547826767,
           -0.05441315472126007,
           0.10116089135408401
          ],
          [
           0.1379745900630951,
           0.23408859968185425,
           0.12416882812976837,
           0.1028805673122406,
           0.06944716721773148,
           0.14942669868469238,
           0.13298486173152924,
           0.1585138589143753
          ]
         ]
        }
       ],
       "layout": {
        "annotations": [
         {
          "font": {},
          "showarrow": false,
          "text": "L1N1298",
          "x": 0.04100000000000001,
          "xanchor": "center",
          "xref": "paper",
          "y": 1,
          "yanchor": "bottom",
          "yref": "paper"
         },
         {
          "font": {},
          "showarrow": false,
          "text": "L1N278",
          "x": 0.14300000000000004,
          "xanchor": "center",
          "xref": "paper",
          "y": 1,
          "yanchor": "bottom",
          "yref": "paper"
         },
         {
          "font": {},
          "showarrow": false,
          "text": "L1N2040",
          "x": 0.24500000000000005,
          "xanchor": "center",
          "xref": "paper",
          "y": 1,
          "yanchor": "bottom",
          "yref": "paper"
         },
         {
          "font": {},
          "showarrow": false,
          "text": "L1N253",
          "x": 0.3470000000000001,
          "xanchor": "center",
          "xref": "paper",
          "y": 1,
          "yanchor": "bottom",
          "yref": "paper"
         },
         {
          "font": {},
          "showarrow": false,
          "text": "L1N398",
          "x": 0.44900000000000007,
          "xanchor": "center",
          "xref": "paper",
          "y": 1,
          "yanchor": "bottom",
          "yref": "paper"
         },
         {
          "font": {},
          "showarrow": false,
          "text": "L1N1017",
          "x": 0.5510000000000002,
          "xanchor": "center",
          "xref": "paper",
          "y": 1,
          "yanchor": "bottom",
          "yref": "paper"
         },
         {
          "font": {},
          "showarrow": false,
          "text": "L1N315",
          "x": 0.6530000000000001,
          "xanchor": "center",
          "xref": "paper",
          "y": 1,
          "yanchor": "bottom",
          "yref": "paper"
         },
         {
          "font": {},
          "showarrow": false,
          "text": "L1N342",
          "x": 0.7550000000000001,
          "xanchor": "center",
          "xref": "paper",
          "y": 1,
          "yanchor": "bottom",
          "yref": "paper"
         },
         {
          "font": {},
          "showarrow": false,
          "text": "L1N1674",
          "x": 0.8570000000000002,
          "xanchor": "center",
          "xref": "paper",
          "y": 1,
          "yanchor": "bottom",
          "yref": "paper"
         },
         {
          "font": {},
          "showarrow": false,
          "text": "L1N1024",
          "x": 0.9590000000000002,
          "xanchor": "center",
          "xref": "paper",
          "y": 1,
          "yanchor": "bottom",
          "yref": "paper"
         }
        ],
        "coloraxis": {
         "cmid": 0,
         "colorscale": [
          [
           0,
           "rgb(103,0,31)"
          ],
          [
           0.1,
           "rgb(178,24,43)"
          ],
          [
           0.2,
           "rgb(214,96,77)"
          ],
          [
           0.3,
           "rgb(244,165,130)"
          ],
          [
           0.4,
           "rgb(253,219,199)"
          ],
          [
           0.5,
           "rgb(247,247,247)"
          ],
          [
           0.6,
           "rgb(209,229,240)"
          ],
          [
           0.7,
           "rgb(146,197,222)"
          ],
          [
           0.8,
           "rgb(67,147,195)"
          ],
          [
           0.9,
           "rgb(33,102,172)"
          ],
          [
           1,
           "rgb(5,48,97)"
          ]
         ]
        },
        "template": {
         "data": {
          "bar": [
           {
            "error_x": {
             "color": "#2a3f5f"
            },
            "error_y": {
             "color": "#2a3f5f"
            },
            "marker": {
             "line": {
              "color": "#E5ECF6",
              "width": 0.5
             },
             "pattern": {
              "fillmode": "overlay",
              "size": 10,
              "solidity": 0.2
             }
            },
            "type": "bar"
           }
          ],
          "barpolar": [
           {
            "marker": {
             "line": {
              "color": "#E5ECF6",
              "width": 0.5
             },
             "pattern": {
              "fillmode": "overlay",
              "size": 10,
              "solidity": 0.2
             }
            },
            "type": "barpolar"
           }
          ],
          "carpet": [
           {
            "aaxis": {
             "endlinecolor": "#2a3f5f",
             "gridcolor": "white",
             "linecolor": "white",
             "minorgridcolor": "white",
             "startlinecolor": "#2a3f5f"
            },
            "baxis": {
             "endlinecolor": "#2a3f5f",
             "gridcolor": "white",
             "linecolor": "white",
             "minorgridcolor": "white",
             "startlinecolor": "#2a3f5f"
            },
            "type": "carpet"
           }
          ],
          "choropleth": [
           {
            "colorbar": {
             "outlinewidth": 0,
             "ticks": ""
            },
            "type": "choropleth"
           }
          ],
          "contour": [
           {
            "colorbar": {
             "outlinewidth": 0,
             "ticks": ""
            },
            "colorscale": [
             [
              0,
              "#0d0887"
             ],
             [
              0.1111111111111111,
              "#46039f"
             ],
             [
              0.2222222222222222,
              "#7201a8"
             ],
             [
              0.3333333333333333,
              "#9c179e"
             ],
             [
              0.4444444444444444,
              "#bd3786"
             ],
             [
              0.5555555555555556,
              "#d8576b"
             ],
             [
              0.6666666666666666,
              "#ed7953"
             ],
             [
              0.7777777777777778,
              "#fb9f3a"
             ],
             [
              0.8888888888888888,
              "#fdca26"
             ],
             [
              1,
              "#f0f921"
             ]
            ],
            "type": "contour"
           }
          ],
          "contourcarpet": [
           {
            "colorbar": {
             "outlinewidth": 0,
             "ticks": ""
            },
            "type": "contourcarpet"
           }
          ],
          "heatmap": [
           {
            "colorbar": {
             "outlinewidth": 0,
             "ticks": ""
            },
            "colorscale": [
             [
              0,
              "#0d0887"
             ],
             [
              0.1111111111111111,
              "#46039f"
             ],
             [
              0.2222222222222222,
              "#7201a8"
             ],
             [
              0.3333333333333333,
              "#9c179e"
             ],
             [
              0.4444444444444444,
              "#bd3786"
             ],
             [
              0.5555555555555556,
              "#d8576b"
             ],
             [
              0.6666666666666666,
              "#ed7953"
             ],
             [
              0.7777777777777778,
              "#fb9f3a"
             ],
             [
              0.8888888888888888,
              "#fdca26"
             ],
             [
              1,
              "#f0f921"
             ]
            ],
            "type": "heatmap"
           }
          ],
          "heatmapgl": [
           {
            "colorbar": {
             "outlinewidth": 0,
             "ticks": ""
            },
            "colorscale": [
             [
              0,
              "#0d0887"
             ],
             [
              0.1111111111111111,
              "#46039f"
             ],
             [
              0.2222222222222222,
              "#7201a8"
             ],
             [
              0.3333333333333333,
              "#9c179e"
             ],
             [
              0.4444444444444444,
              "#bd3786"
             ],
             [
              0.5555555555555556,
              "#d8576b"
             ],
             [
              0.6666666666666666,
              "#ed7953"
             ],
             [
              0.7777777777777778,
              "#fb9f3a"
             ],
             [
              0.8888888888888888,
              "#fdca26"
             ],
             [
              1,
              "#f0f921"
             ]
            ],
            "type": "heatmapgl"
           }
          ],
          "histogram": [
           {
            "marker": {
             "pattern": {
              "fillmode": "overlay",
              "size": 10,
              "solidity": 0.2
             }
            },
            "type": "histogram"
           }
          ],
          "histogram2d": [
           {
            "colorbar": {
             "outlinewidth": 0,
             "ticks": ""
            },
            "colorscale": [
             [
              0,
              "#0d0887"
             ],
             [
              0.1111111111111111,
              "#46039f"
             ],
             [
              0.2222222222222222,
              "#7201a8"
             ],
             [
              0.3333333333333333,
              "#9c179e"
             ],
             [
              0.4444444444444444,
              "#bd3786"
             ],
             [
              0.5555555555555556,
              "#d8576b"
             ],
             [
              0.6666666666666666,
              "#ed7953"
             ],
             [
              0.7777777777777778,
              "#fb9f3a"
             ],
             [
              0.8888888888888888,
              "#fdca26"
             ],
             [
              1,
              "#f0f921"
             ]
            ],
            "type": "histogram2d"
           }
          ],
          "histogram2dcontour": [
           {
            "colorbar": {
             "outlinewidth": 0,
             "ticks": ""
            },
            "colorscale": [
             [
              0,
              "#0d0887"
             ],
             [
              0.1111111111111111,
              "#46039f"
             ],
             [
              0.2222222222222222,
              "#7201a8"
             ],
             [
              0.3333333333333333,
              "#9c179e"
             ],
             [
              0.4444444444444444,
              "#bd3786"
             ],
             [
              0.5555555555555556,
              "#d8576b"
             ],
             [
              0.6666666666666666,
              "#ed7953"
             ],
             [
              0.7777777777777778,
              "#fb9f3a"
             ],
             [
              0.8888888888888888,
              "#fdca26"
             ],
             [
              1,
              "#f0f921"
             ]
            ],
            "type": "histogram2dcontour"
           }
          ],
          "mesh3d": [
           {
            "colorbar": {
             "outlinewidth": 0,
             "ticks": ""
            },
            "type": "mesh3d"
           }
          ],
          "parcoords": [
           {
            "line": {
             "colorbar": {
              "outlinewidth": 0,
              "ticks": ""
             }
            },
            "type": "parcoords"
           }
          ],
          "pie": [
           {
            "automargin": true,
            "type": "pie"
           }
          ],
          "scatter": [
           {
            "fillpattern": {
             "fillmode": "overlay",
             "size": 10,
             "solidity": 0.2
            },
            "type": "scatter"
           }
          ],
          "scatter3d": [
           {
            "line": {
             "colorbar": {
              "outlinewidth": 0,
              "ticks": ""
             }
            },
            "marker": {
             "colorbar": {
              "outlinewidth": 0,
              "ticks": ""
             }
            },
            "type": "scatter3d"
           }
          ],
          "scattercarpet": [
           {
            "marker": {
             "colorbar": {
              "outlinewidth": 0,
              "ticks": ""
             }
            },
            "type": "scattercarpet"
           }
          ],
          "scattergeo": [
           {
            "marker": {
             "colorbar": {
              "outlinewidth": 0,
              "ticks": ""
             }
            },
            "type": "scattergeo"
           }
          ],
          "scattergl": [
           {
            "marker": {
             "colorbar": {
              "outlinewidth": 0,
              "ticks": ""
             }
            },
            "type": "scattergl"
           }
          ],
          "scattermapbox": [
           {
            "marker": {
             "colorbar": {
              "outlinewidth": 0,
              "ticks": ""
             }
            },
            "type": "scattermapbox"
           }
          ],
          "scatterpolar": [
           {
            "marker": {
             "colorbar": {
              "outlinewidth": 0,
              "ticks": ""
             }
            },
            "type": "scatterpolar"
           }
          ],
          "scatterpolargl": [
           {
            "marker": {
             "colorbar": {
              "outlinewidth": 0,
              "ticks": ""
             }
            },
            "type": "scatterpolargl"
           }
          ],
          "scatterternary": [
           {
            "marker": {
             "colorbar": {
              "outlinewidth": 0,
              "ticks": ""
             }
            },
            "type": "scatterternary"
           }
          ],
          "surface": [
           {
            "colorbar": {
             "outlinewidth": 0,
             "ticks": ""
            },
            "colorscale": [
             [
              0,
              "#0d0887"
             ],
             [
              0.1111111111111111,
              "#46039f"
             ],
             [
              0.2222222222222222,
              "#7201a8"
             ],
             [
              0.3333333333333333,
              "#9c179e"
             ],
             [
              0.4444444444444444,
              "#bd3786"
             ],
             [
              0.5555555555555556,
              "#d8576b"
             ],
             [
              0.6666666666666666,
              "#ed7953"
             ],
             [
              0.7777777777777778,
              "#fb9f3a"
             ],
             [
              0.8888888888888888,
              "#fdca26"
             ],
             [
              1,
              "#f0f921"
             ]
            ],
            "type": "surface"
           }
          ],
          "table": [
           {
            "cells": {
             "fill": {
              "color": "#EBF0F8"
             },
             "line": {
              "color": "white"
             }
            },
            "header": {
             "fill": {
              "color": "#C8D4E3"
             },
             "line": {
              "color": "white"
             }
            },
            "type": "table"
           }
          ]
         },
         "layout": {
          "annotationdefaults": {
           "arrowcolor": "#2a3f5f",
           "arrowhead": 0,
           "arrowwidth": 1
          },
          "autotypenumbers": "strict",
          "coloraxis": {
           "colorbar": {
            "outlinewidth": 0,
            "ticks": ""
           }
          },
          "colorscale": {
           "diverging": [
            [
             0,
             "#8e0152"
            ],
            [
             0.1,
             "#c51b7d"
            ],
            [
             0.2,
             "#de77ae"
            ],
            [
             0.3,
             "#f1b6da"
            ],
            [
             0.4,
             "#fde0ef"
            ],
            [
             0.5,
             "#f7f7f7"
            ],
            [
             0.6,
             "#e6f5d0"
            ],
            [
             0.7,
             "#b8e186"
            ],
            [
             0.8,
             "#7fbc41"
            ],
            [
             0.9,
             "#4d9221"
            ],
            [
             1,
             "#276419"
            ]
           ],
           "sequential": [
            [
             0,
             "#0d0887"
            ],
            [
             0.1111111111111111,
             "#46039f"
            ],
            [
             0.2222222222222222,
             "#7201a8"
            ],
            [
             0.3333333333333333,
             "#9c179e"
            ],
            [
             0.4444444444444444,
             "#bd3786"
            ],
            [
             0.5555555555555556,
             "#d8576b"
            ],
            [
             0.6666666666666666,
             "#ed7953"
            ],
            [
             0.7777777777777778,
             "#fb9f3a"
            ],
            [
             0.8888888888888888,
             "#fdca26"
            ],
            [
             1,
             "#f0f921"
            ]
           ],
           "sequentialminus": [
            [
             0,
             "#0d0887"
            ],
            [
             0.1111111111111111,
             "#46039f"
            ],
            [
             0.2222222222222222,
             "#7201a8"
            ],
            [
             0.3333333333333333,
             "#9c179e"
            ],
            [
             0.4444444444444444,
             "#bd3786"
            ],
            [
             0.5555555555555556,
             "#d8576b"
            ],
            [
             0.6666666666666666,
             "#ed7953"
            ],
            [
             0.7777777777777778,
             "#fb9f3a"
            ],
            [
             0.8888888888888888,
             "#fdca26"
            ],
            [
             1,
             "#f0f921"
            ]
           ]
          },
          "colorway": [
           "#636efa",
           "#EF553B",
           "#00cc96",
           "#ab63fa",
           "#FFA15A",
           "#19d3f3",
           "#FF6692",
           "#B6E880",
           "#FF97FF",
           "#FECB52"
          ],
          "font": {
           "color": "#2a3f5f"
          },
          "geo": {
           "bgcolor": "white",
           "lakecolor": "white",
           "landcolor": "#E5ECF6",
           "showlakes": true,
           "showland": true,
           "subunitcolor": "white"
          },
          "hoverlabel": {
           "align": "left"
          },
          "hovermode": "closest",
          "mapbox": {
           "style": "light"
          },
          "paper_bgcolor": "white",
          "plot_bgcolor": "#E5ECF6",
          "polar": {
           "angularaxis": {
            "gridcolor": "white",
            "linecolor": "white",
            "ticks": ""
           },
           "bgcolor": "#E5ECF6",
           "radialaxis": {
            "gridcolor": "white",
            "linecolor": "white",
            "ticks": ""
           }
          },
          "scene": {
           "xaxis": {
            "backgroundcolor": "#E5ECF6",
            "gridcolor": "white",
            "gridwidth": 2,
            "linecolor": "white",
            "showbackground": true,
            "ticks": "",
            "zerolinecolor": "white"
           },
           "yaxis": {
            "backgroundcolor": "#E5ECF6",
            "gridcolor": "white",
            "gridwidth": 2,
            "linecolor": "white",
            "showbackground": true,
            "ticks": "",
            "zerolinecolor": "white"
           },
           "zaxis": {
            "backgroundcolor": "#E5ECF6",
            "gridcolor": "white",
            "gridwidth": 2,
            "linecolor": "white",
            "showbackground": true,
            "ticks": "",
            "zerolinecolor": "white"
           }
          },
          "shapedefaults": {
           "line": {
            "color": "#2a3f5f"
           }
          },
          "ternary": {
           "aaxis": {
            "gridcolor": "white",
            "linecolor": "white",
            "ticks": ""
           },
           "baxis": {
            "gridcolor": "white",
            "linecolor": "white",
            "ticks": ""
           },
           "bgcolor": "#E5ECF6",
           "caxis": {
            "gridcolor": "white",
            "linecolor": "white",
            "ticks": ""
           }
          },
          "title": {
           "x": 0.05
          },
          "xaxis": {
           "automargin": true,
           "gridcolor": "white",
           "linecolor": "white",
           "ticks": "",
           "title": {
            "standoff": 15
           },
           "zerolinecolor": "white",
           "zerolinewidth": 2
          },
          "yaxis": {
           "automargin": true,
           "gridcolor": "white",
           "linecolor": "white",
           "ticks": "",
           "title": {
            "standoff": 15
           },
           "zerolinecolor": "white",
           "zerolinewidth": 2
          }
         }
        },
        "title": {
         "text": "Cosine sim of Input weights and the my color probe for top layer 1 neurons"
        },
        "xaxis": {
         "anchor": "y",
         "domain": [
          0,
          0.08200000000000002
         ],
         "title": {
          "text": "x"
         }
        },
        "xaxis10": {
         "anchor": "y10",
         "domain": [
          0.9180000000000001,
          1
         ],
         "matches": "x",
         "title": {
          "text": "x"
         }
        },
        "xaxis2": {
         "anchor": "y2",
         "domain": [
          0.10200000000000002,
          0.18400000000000005
         ],
         "matches": "x",
         "title": {
          "text": "x"
         }
        },
        "xaxis3": {
         "anchor": "y3",
         "domain": [
          0.20400000000000004,
          0.28600000000000003
         ],
         "matches": "x",
         "title": {
          "text": "x"
         }
        },
        "xaxis4": {
         "anchor": "y4",
         "domain": [
          0.30600000000000005,
          0.38800000000000007
         ],
         "matches": "x",
         "title": {
          "text": "x"
         }
        },
        "xaxis5": {
         "anchor": "y5",
         "domain": [
          0.4080000000000001,
          0.4900000000000001
         ],
         "matches": "x",
         "title": {
          "text": "x"
         }
        },
        "xaxis6": {
         "anchor": "y6",
         "domain": [
          0.5100000000000001,
          0.5920000000000001
         ],
         "matches": "x",
         "title": {
          "text": "x"
         }
        },
        "xaxis7": {
         "anchor": "y7",
         "domain": [
          0.6120000000000001,
          0.6940000000000002
         ],
         "matches": "x",
         "title": {
          "text": "x"
         }
        },
        "xaxis8": {
         "anchor": "y8",
         "domain": [
          0.7140000000000001,
          0.796
         ],
         "matches": "x",
         "title": {
          "text": "x"
         }
        },
        "xaxis9": {
         "anchor": "y9",
         "domain": [
          0.8160000000000002,
          0.8980000000000001
         ],
         "matches": "x",
         "title": {
          "text": "x"
         }
        },
        "yaxis": {
         "anchor": "x",
         "autorange": "reversed",
         "domain": [
          0,
          1
         ],
         "title": {
          "text": "y"
         }
        },
        "yaxis10": {
         "anchor": "x10",
         "domain": [
          0,
          1
         ],
         "matches": "y",
         "showticklabels": false
        },
        "yaxis2": {
         "anchor": "x2",
         "domain": [
          0,
          1
         ],
         "matches": "y",
         "showticklabels": false
        },
        "yaxis3": {
         "anchor": "x3",
         "domain": [
          0,
          1
         ],
         "matches": "y",
         "showticklabels": false
        },
        "yaxis4": {
         "anchor": "x4",
         "domain": [
          0,
          1
         ],
         "matches": "y",
         "showticklabels": false
        },
        "yaxis5": {
         "anchor": "x5",
         "domain": [
          0,
          1
         ],
         "matches": "y",
         "showticklabels": false
        },
        "yaxis6": {
         "anchor": "x6",
         "domain": [
          0,
          1
         ],
         "matches": "y",
         "showticklabels": false
        },
        "yaxis7": {
         "anchor": "x7",
         "domain": [
          0,
          1
         ],
         "matches": "y",
         "showticklabels": false
        },
        "yaxis8": {
         "anchor": "x8",
         "domain": [
          0,
          1
         ],
         "matches": "y",
         "showticklabels": false
        },
        "yaxis9": {
         "anchor": "x9",
         "domain": [
          0,
          1
         ],
         "matches": "y",
         "showticklabels": false
        }
       }
      }
     },
     "metadata": {},
     "output_type": "display_data"
    },
    {
     "data": {
      "application/vnd.plotly.v1+json": {
       "config": {
        "plotlyServerURL": "https://plot.ly"
       },
       "data": [
        {
         "coloraxis": "coloraxis",
         "hovertemplate": "x: %{x}<br>y: %{y}<br>color: %{z}<extra></extra>",
         "name": "0",
         "type": "heatmap",
         "xaxis": "x",
         "y": [
          "A",
          "B",
          "C",
          "D",
          "E",
          "F",
          "G",
          "H"
         ],
         "yaxis": "y",
         "z": [
          [
           0.060311831533908844,
           0.048468999564647675,
           -0.015059243887662888,
           -0.04641861468553543,
           0.03142423555254936,
           0.053068071603775024,
           0.04224807024002075,
           -0.004289545118808746
          ],
          [
           0.04589393362402916,
           -0.0234040766954422,
           0.027594033628702164,
           0.01706210896372795,
           0.0611661896109581,
           0.030396834015846252,
           -0.0393071249127388,
           -0.05449634790420532
          ],
          [
           -0.5031704902648926,
           -0.10884176194667816,
           -0.007265347987413406,
           -0.006982970982789993,
           0.030712664127349854,
           -0.008248593658208847,
           0.009706635028123856,
           -0.019309556111693382
          ],
          [
           0.008947182446718216,
           -0.004154405556619167,
           0.08669361472129822,
           0,
           0,
           -0.024967193603515625,
           -0.02776314504444599,
           -0.056881409138441086
          ],
          [
           0.05947510898113251,
           0.027416691184043884,
           -0.02830636128783226,
           0,
           0,
           0.008776474744081497,
           0.04716397821903229,
           0.002738194540143013
          ],
          [
           0.02888430282473564,
           -0.01706462725996971,
           0.02720906399190426,
           -0.029131822288036346,
           0.04777836054563522,
           -0.024468552321195602,
           -0.030004402622580528,
           0.007782040163874626
          ],
          [
           0.03231792896986008,
           -0.021497461944818497,
           -0.06338362395763397,
           -0.05496040731668472,
           0.055467236787080765,
           -0.03201894089579582,
           0.010311849415302277,
           0.01915149576961994
          ],
          [
           -0.032510560005903244,
           0.00013674143701791763,
           -0.03386804834008217,
           -0.0032781148329377174,
           0.021578216925263405,
           -0.0036403751000761986,
           0.0008081095293164253,
           -0.012485850602388382
          ]
         ]
        },
        {
         "coloraxis": "coloraxis",
         "hovertemplate": "x: %{x}<br>y: %{y}<br>color: %{z}<extra></extra>",
         "name": "1",
         "type": "heatmap",
         "xaxis": "x2",
         "y": [
          "A",
          "B",
          "C",
          "D",
          "E",
          "F",
          "G",
          "H"
         ],
         "yaxis": "y2",
         "z": [
          [
           -0.07907795906066895,
           0.01117774099111557,
           -0.08272577822208405,
           -0.017595140263438225,
           0.005545658990740776,
           0.04922087490558624,
           0.05487675592303276,
           0.12279018759727478
          ],
          [
           -0.013865973800420761,
           -0.12121755629777908,
           0.00540805421769619,
           -0.055203258991241455,
           -0.10901017487049103,
           -0.07546176016330719,
           -0.08468311280012131,
           0.03173771873116493
          ],
          [
           -0.0603099949657917,
           0.07428343594074249,
           -0.012813117355108261,
           -0.043472521007061005,
           -0.12334533780813217,
           -0.04870898276567459,
           -0.17389518022537231,
           0.0571061335504055
          ],
          [
           -0.055456072092056274,
           -0.07212384045124054,
           -0.009251244366168976,
           0,
           0,
           -0.08028567582368851,
           -0.05085468292236328,
           0.057688646018505096
          ],
          [
           0.0451139360666275,
           -0.009744163602590561,
           -0.0008211685344576836,
           0,
           0,
           -0.010218076407909393,
           -0.039916396141052246,
           0.12546241283416748
          ],
          [
           0.03134710341691971,
           0.06764520704746246,
           0.041605349630117416,
           0.007081168703734875,
           -0.07745739817619324,
           0.0003052540123462677,
           -0.09228774905204773,
           0.052312642335891724
          ],
          [
           0.06888003647327423,
           0.06961743533611298,
           0.13881391286849976,
           0.08970571309328079,
           0.03354247659444809,
           0.10222462564706802,
           0.05937827378511429,
           0.07448431849479675
          ],
          [
           0.056945931166410446,
           0.13517741858959198,
           0.0791119635105133,
           0.049829475581645966,
           -0.006448422558605671,
           -0.07277266681194305,
           0.017810536548495293,
           0.013939243741333485
          ]
         ]
        },
        {
         "coloraxis": "coloraxis",
         "hovertemplate": "x: %{x}<br>y: %{y}<br>color: %{z}<extra></extra>",
         "name": "2",
         "type": "heatmap",
         "xaxis": "x3",
         "y": [
          "A",
          "B",
          "C",
          "D",
          "E",
          "F",
          "G",
          "H"
         ],
         "yaxis": "y3",
         "z": [
          [
           0.11391408741474152,
           0.016171101480722427,
           0.024770664051175117,
           0.028185464441776276,
           0.03297800198197365,
           0.019966814666986465,
           -0.018132375553250313,
           -0.10351324826478958
          ],
          [
           0.021052535623311996,
           0.09976720064878464,
           0.07225918024778366,
           0.035577405244112015,
           -0.1619993895292282,
           0.029882196336984634,
           -0.06787730008363724,
           -0.07248958945274353
          ],
          [
           -0.08812716603279114,
           -0.05078103765845299,
           0.14837412536144257,
           -0.019206933677196503,
           -0.056861795485019684,
           -0.15554851293563843,
           -0.15852320194244385,
           -0.04390932247042656
          ],
          [
           0.04975003004074097,
           -0.05275857076048851,
           -0.015121523290872574,
           0,
           0,
           -0.021783698350191116,
           -0.06551860272884369,
           0.030511043965816498
          ],
          [
           0.05438461899757385,
           -0.06770306825637817,
           -0.020483076572418213,
           0,
           0,
           -0.053963303565979004,
           0.11864832043647766,
           0.04230700433254242
          ],
          [
           -0.08743221312761307,
           -0.13596196472644806,
           -0.023613732308149338,
           0.07950844615697861,
           -0.06766918301582336,
           0.10209182649850845,
           -0.04657644033432007,
           0.047217026352882385
          ],
          [
           -0.05580013990402222,
           -0.10053061693906784,
           0.007174946367740631,
           -0.08321574330329895,
           -0.008768267929553986,
           -0.10947741568088531,
           0.03667977824807167,
           0.026616744697093964
          ],
          [
           -0.06288266181945801,
           0.005692953243851662,
           -0.029990311712026596,
           0.01971413567662239,
           -0.027600407600402832,
           -0.025102291256189346,
           0.008540593087673187,
           0.04573753476142883
          ]
         ]
        },
        {
         "coloraxis": "coloraxis",
         "hovertemplate": "x: %{x}<br>y: %{y}<br>color: %{z}<extra></extra>",
         "name": "3",
         "type": "heatmap",
         "xaxis": "x4",
         "y": [
          "A",
          "B",
          "C",
          "D",
          "E",
          "F",
          "G",
          "H"
         ],
         "yaxis": "y4",
         "z": [
          [
           -0.028595425188541412,
           0.03670555353164673,
           -0.003504764288663864,
           0.050888825207948685,
           -0.007575473748147488,
           -0.019051242619752884,
           -0.020558346062898636,
           0.0181973185390234
          ],
          [
           0.031033817678689957,
           -0.01477910578250885,
           -0.014505157247185707,
           0.013681210577487946,
           0.02534063160419464,
           0.03273813799023628,
           0.07616430521011353,
           0.0321560800075531
          ],
          [
           0.010659927502274513,
           -0.06169597804546356,
           -0.05892734229564667,
           0.09207262098789215,
           0.00001994892954826355,
           -0.03759968653321266,
           -0.013976018875837326,
           -0.01639680564403534
          ],
          [
           -0.01779354363679886,
           -0.017680754885077477,
           -0.055236928164958954,
           0,
           0,
           0.12682652473449707,
           0.03447394818067551,
           0.0390864796936512
          ],
          [
           -0.07628941535949707,
           -0.06007914990186691,
           -0.15045438706874847,
           0,
           0,
           0.08318688720464706,
           0.09193458408117294,
           0.03198906406760216
          ],
          [
           -0.10820363461971283,
           -0.12559469044208527,
           -0.09373194724321365,
           0.017850114032626152,
           0.14303234219551086,
           -0.10055164992809296,
           -0.02669014222919941,
           0.08745430409908295
          ],
          [
           -0.14829076826572418,
           -0.11195920407772064,
           -0.03452008217573166,
           0.012636200524866581,
           -0.16451120376586914,
           -0.09926153719425201,
           0.0871206521987915,
           -0.040605489164590836
          ],
          [
           -0.02257108874619007,
           -0.030864432454109192,
           -0.08331116288900375,
           -0.058971770107746124,
           0.016771484166383743,
           -0.10560879111289978,
           0.06199727952480316,
           0.06275153160095215
          ]
         ]
        },
        {
         "coloraxis": "coloraxis",
         "hovertemplate": "x: %{x}<br>y: %{y}<br>color: %{z}<extra></extra>",
         "name": "4",
         "type": "heatmap",
         "xaxis": "x5",
         "y": [
          "A",
          "B",
          "C",
          "D",
          "E",
          "F",
          "G",
          "H"
         ],
         "yaxis": "y5",
         "z": [
          [
           -0.038745444267988205,
           0.08276285976171494,
           0.01412338949739933,
           0.010674127377569675,
           -0.03005126118659973,
           -0.021067963913083076,
           0.0041101593524217606,
           -0.049946129322052
          ],
          [
           0.04930119961500168,
           0.0037896186113357544,
           0.07828157395124435,
           0.051085297018289566,
           -0.007472452707588673,
           0.021303489804267883,
           -0.03741372004151344,
           0.018220793455839157
          ],
          [
           0.08131187409162521,
           0.14859254658222198,
           0.04807563126087189,
           0.018581338226795197,
           -0.10726116597652435,
           -0.012377526611089706,
           0.06182212382555008,
           0.04601527377963066
          ],
          [
           0.1186872348189354,
           0.17267286777496338,
           0.14738409221172333,
           0,
           0,
           -0.041233036667108536,
           -0.005018358118832111,
           0.026514826342463493
          ],
          [
           0.09306894242763519,
           0.08758749067783356,
           0.11814762651920319,
           0,
           0,
           -0.052953384816646576,
           -0.18956725299358368,
           -0.01690787263214588
          ],
          [
           0.07582448422908783,
           0.03564959764480591,
           0.051234737038612366,
           -0.016882210969924927,
           -0.005528552457690239,
           0.019912809133529663,
           0.029706913977861404,
           -0.019292891025543213
          ],
          [
           0.11471278965473175,
           -0.012262703850865364,
           0.035486191511154175,
           -0.04943184554576874,
           -0.03228188678622246,
           0.03374069184064865,
           0.04643213003873825,
           0.09803241491317749
          ],
          [
           -0.0076513998210430145,
           0.015856046229600906,
           0.05688193440437317,
           -0.106177419424057,
           -0.12567782402038574,
           -0.032223522663116455,
           0.03900212422013283,
           0.015416616573929787
          ]
         ]
        },
        {
         "coloraxis": "coloraxis",
         "hovertemplate": "x: %{x}<br>y: %{y}<br>color: %{z}<extra></extra>",
         "name": "5",
         "type": "heatmap",
         "xaxis": "x6",
         "y": [
          "A",
          "B",
          "C",
          "D",
          "E",
          "F",
          "G",
          "H"
         ],
         "yaxis": "y6",
         "z": [
          [
           0.09531795978546143,
           0.10963049530982971,
           0.09581276774406433,
           0.0418308861553669,
           -0.0008293092250823975,
           -0.014789006672799587,
           0.03483051061630249,
           0.012836585752665997
          ],
          [
           0.06400765478610992,
           0.0814659595489502,
           0.07782567292451859,
           -0.039847467094659805,
           -0.030381785705685616,
           0.025403568521142006,
           -0.051897648721933365,
           -0.0165928453207016
          ],
          [
           0.04713466390967369,
           0.08980970084667206,
           0.07001295685768127,
           0.05677143484354019,
           0.012043148279190063,
           -0.036764614284038544,
           -0.16384831070899963,
           -0.07084765285253525
          ],
          [
           0.0730319693684578,
           0.045911431312561035,
           0.0694768950343132,
           0,
           0,
           -0.1127840206027031,
           0.0026085712015628815,
           0.030512742698192596
          ],
          [
           -0.07069768011569977,
           -0.007706284523010254,
           -0.02261287532746792,
           0,
           0,
           -0.06039322540163994,
           -0.07394961267709732,
           0.0160357728600502
          ],
          [
           0.012764368206262589,
           0.029741846024990082,
           0.005823526531457901,
           -0.08477556705474854,
           -0.16033126413822174,
           -0.087013378739357,
           -0.04131880775094032,
           -0.06355208158493042
          ],
          [
           0.012007965706288815,
           0.03896386921405792,
           -0.07444867491722107,
           -0.05025939643383026,
           -0.13250622153282166,
           -0.1608845293521881,
           -0.05635710060596466,
           0.01746346801519394
          ],
          [
           0.026127081364393234,
           0.03136029094457626,
           0.06614156812429428,
           -0.030021611601114273,
           0.031773194670677185,
           -0.018483564257621765,
           -0.05478009954094887,
           0.032910220324993134
          ]
         ]
        },
        {
         "coloraxis": "coloraxis",
         "hovertemplate": "x: %{x}<br>y: %{y}<br>color: %{z}<extra></extra>",
         "name": "6",
         "type": "heatmap",
         "xaxis": "x7",
         "y": [
          "A",
          "B",
          "C",
          "D",
          "E",
          "F",
          "G",
          "H"
         ],
         "yaxis": "y7",
         "z": [
          [
           0.026753084734082222,
           -0.03956811502575874,
           0.022299200296401978,
           0.022329088300466537,
           0.021030977368354797,
           -0.03362768143415451,
           -0.04417549818754196,
           -0.02601773478090763
          ],
          [
           -0.006209280341863632,
           0.037234753370285034,
           0.024877406656742096,
           0.0056491512805223465,
           -0.03424954414367676,
           -0.09445837885141373,
           -0.01003206241875887,
           0.03668076545000076
          ],
          [
           0.03514552488923073,
           -0.07685520499944687,
           0.0016216235235333443,
           -0.044072892516851425,
           -0.05945040285587311,
           -0.0610225573182106,
           -0.0968758687376976,
           0.05633585900068283
          ],
          [
           0.04937175288796425,
           -0.05206698179244995,
           -0.07216787338256836,
           0,
           0,
           -0.0526394248008728,
           0.03921802341938019,
           0.10843127965927124
          ],
          [
           0.0152085330337286,
           0.0735776424407959,
           -0.08100362122058868,
           0,
           0,
           -0.09474565088748932,
           0.007854625582695007,
           0.10114432126283646
          ],
          [
           0.05848358944058418,
           -0.0049882857128977776,
           0.242643803358078,
           0.04117769002914429,
           0.015186391770839691,
           0.006999026983976364,
           -0.02080501988530159,
           0.020476937294006348
          ],
          [
           -0.01916966214776039,
           0.09049607813358307,
           0.0592021606862545,
           0.10184988379478455,
           0.09171517193317413,
           0.026339344680309296,
           0.06979737430810928,
           0.015415787696838379
          ],
          [
           0.07470105588436127,
           0.03157120943069458,
           0.1640315055847168,
           0.07361827790737152,
           0.13809984922409058,
           0.022866729646921158,
           0.1136612519621849,
           0.05528807267546654
          ]
         ]
        },
        {
         "coloraxis": "coloraxis",
         "hovertemplate": "x: %{x}<br>y: %{y}<br>color: %{z}<extra></extra>",
         "name": "7",
         "type": "heatmap",
         "xaxis": "x8",
         "y": [
          "A",
          "B",
          "C",
          "D",
          "E",
          "F",
          "G",
          "H"
         ],
         "yaxis": "y8",
         "z": [
          [
           0.00585379172116518,
           0.05921771004796028,
           0.015926748514175415,
           -0.015971241518855095,
           0.016450421884655952,
           0.09275365620851517,
           0.024300361052155495,
           -0.011464960873126984
          ],
          [
           0.03375948965549469,
           0.026147665455937386,
           -0.0008832849562168121,
           -0.03274901211261749,
           -0.035069242119789124,
           0.018131203949451447,
           0.06714284420013428,
           -0.046539630740880966
          ],
          [
           0.028010107576847076,
           0.044272713363170624,
           -0.028988374397158623,
           -0.002373531460762024,
           0.02370448410511017,
           0.004022452048957348,
           -0.029708966612815857,
           0.0019404944032430649
          ],
          [
           0.019535424187779427,
           0.0828620046377182,
           -0.019102148711681366,
           0,
           0,
           -0.09927715361118317,
           0.06275907903909683,
           -0.014714954420924187
          ],
          [
           -0.04610607028007507,
           0.05618395283818245,
           -0.1099042221903801,
           0,
           0,
           -0.193267822265625,
           -0.08495936542749405,
           -0.004424253478646278
          ],
          [
           0.0653722882270813,
           -0.0015506334602832794,
           -0.032838087528944016,
           -0.057105012238025665,
           -0.05321062356233597,
           -0.22372061014175415,
           0.009915802627801895,
           -0.05443190783262253
          ],
          [
           0.04169625788927078,
           0.035578273236751556,
           -0.03128891438245773,
           0.0035882331430912018,
           -0.034396808594465256,
           -0.06916027516126633,
           -0.2443675994873047,
           -0.032187413424253464
          ],
          [
           0.0776536613702774,
           0.05983864888548851,
           0.044108062982559204,
           -0.011088799685239792,
           -0.0016490425914525986,
           -0.09107694774866104,
           -0.03862617909908295,
           -0.0025771968066692352
          ]
         ]
        },
        {
         "coloraxis": "coloraxis",
         "hovertemplate": "x: %{x}<br>y: %{y}<br>color: %{z}<extra></extra>",
         "name": "8",
         "type": "heatmap",
         "xaxis": "x9",
         "y": [
          "A",
          "B",
          "C",
          "D",
          "E",
          "F",
          "G",
          "H"
         ],
         "yaxis": "y9",
         "z": [
          [
           -0.015397613868117332,
           0.013495156541466713,
           -0.015328424051404,
           0.009960929863154888,
           0.06394585967063904,
           -0.03501163050532341,
           0.06126974895596504,
           -0.11557180434465408
          ],
          [
           -0.018338937312364578,
           -0.05159521847963333,
           0.14079654216766357,
           0.16240079700946808,
           0.043456416577100754,
           0.014593812637031078,
           0.03538164868950844,
           -0.054758116602897644
          ],
          [
           0.04957892373204231,
           -0.09749484807252884,
           -0.009583072736859322,
           0.08889296650886536,
           0.004534905310720205,
           -0.10093239694833755,
           -0.018633166328072548,
           -0.0199508648365736
          ],
          [
           -0.046756811439991,
           -0.05730116739869118,
           -0.11928018927574158,
           0,
           0,
           -0.05260337516665459,
           -0.04371523857116699,
           -0.0486631914973259
          ],
          [
           0.13160516321659088,
           0.07683230936527252,
           0.13513240218162537,
           0,
           0,
           -0.015010830014944077,
           0.0043121688067913055,
           -0.017644867300987244
          ],
          [
           0.001544071827083826,
           0.042041465640068054,
           0.04504398629069328,
           -0.025234583765268326,
           0.028222521767020226,
           0.06703045219182968,
           0.004372825846076012,
           -0.029218275099992752
          ],
          [
           0.012406963855028152,
           -0.047099657356739044,
           0.009260854683816433,
           -0.060674119740724564,
           0.09135115146636963,
           0.06940959393978119,
           -0.14324894547462463,
           -0.07635308057069778
          ],
          [
           -0.07978849858045578,
           -0.0694182738661766,
           -0.04449861869215965,
           -0.0515553317964077,
           -0.002267833799123764,
           0.05503132939338684,
           -0.021021775901317596,
           -0.0784657672047615
          ]
         ]
        },
        {
         "coloraxis": "coloraxis",
         "hovertemplate": "x: %{x}<br>y: %{y}<br>color: %{z}<extra></extra>",
         "name": "9",
         "type": "heatmap",
         "xaxis": "x10",
         "y": [
          "A",
          "B",
          "C",
          "D",
          "E",
          "F",
          "G",
          "H"
         ],
         "yaxis": "y10",
         "z": [
          [
           -0.011700287461280823,
           -0.03555450588464737,
           0.022906143218278885,
           -0.11166172474622726,
           -0.01379734743386507,
           -0.021988291293382645,
           0.046099789440631866,
           -0.15465408563613892
          ],
          [
           -0.021669864654541016,
           -0.04165326803922653,
           0.04388751834630966,
           0.08732793480157852,
           -0.07421386241912842,
           0.1345449686050415,
           -0.15786734223365784,
           -0.031227698549628258
          ],
          [
           0.022921046242117882,
           0.046892713755369186,
           0.08120208978652954,
           0.0007135528139770031,
           0.005097046494483948,
           -0.14471136033535004,
           0.04688459634780884,
           0.02739279344677925
          ],
          [
           0.04878045618534088,
           0.015648815780878067,
           0.008395988494157791,
           0,
           0,
           -0.12820830941200256,
           -0.09646377712488174,
           0.04484985023736954
          ],
          [
           0.04211091995239258,
           0.041255343705415726,
           0.06326870620250702,
           0,
           0,
           -0.02612951025366783,
           0.055384520441293716,
           -0.01000213623046875
          ],
          [
           0.015637829899787903,
           -0.05813558027148247,
           -0.10841776430606842,
           -0.08536022901535034,
           0.02104034274816513,
           0.049683183431625366,
           0.07360261678695679,
           0.067864790558815
          ],
          [
           -0.049922436475753784,
           -0.08427891880273819,
           -0.08112024515867233,
           -0.09934595227241516,
           -0.02215375006198883,
           -0.03212267905473709,
           0.00888386182487011,
           0.07066003233194351
          ],
          [
           0.016372565180063248,
           -0.014464505016803741,
           -0.011897309683263302,
           -0.09771331399679184,
           -0.027081536129117012,
           -0.04233120009303093,
           -0.06649705022573471,
           0.041478656232357025
          ]
         ]
        }
       ],
       "layout": {
        "annotations": [
         {
          "font": {},
          "showarrow": false,
          "text": "L2N2029",
          "x": 0.04100000000000001,
          "xanchor": "center",
          "xref": "paper",
          "y": 1,
          "yanchor": "bottom",
          "yref": "paper"
         },
         {
          "font": {},
          "showarrow": false,
          "text": "L2N1142",
          "x": 0.14300000000000004,
          "xanchor": "center",
          "xref": "paper",
          "y": 1,
          "yanchor": "bottom",
          "yref": "paper"
         },
         {
          "font": {},
          "showarrow": false,
          "text": "L2N49",
          "x": 0.24500000000000005,
          "xanchor": "center",
          "xref": "paper",
          "y": 1,
          "yanchor": "bottom",
          "yref": "paper"
         },
         {
          "font": {},
          "showarrow": false,
          "text": "L2N706",
          "x": 0.3470000000000001,
          "xanchor": "center",
          "xref": "paper",
          "y": 1,
          "yanchor": "bottom",
          "yref": "paper"
         },
         {
          "font": {},
          "showarrow": false,
          "text": "L2N1267",
          "x": 0.44900000000000007,
          "xanchor": "center",
          "xref": "paper",
          "y": 1,
          "yanchor": "bottom",
          "yref": "paper"
         },
         {
          "font": {},
          "showarrow": false,
          "text": "L2N838",
          "x": 0.5510000000000002,
          "xanchor": "center",
          "xref": "paper",
          "y": 1,
          "yanchor": "bottom",
          "yref": "paper"
         },
         {
          "font": {},
          "showarrow": false,
          "text": "L2N1755",
          "x": 0.6530000000000001,
          "xanchor": "center",
          "xref": "paper",
          "y": 1,
          "yanchor": "bottom",
          "yref": "paper"
         },
         {
          "font": {},
          "showarrow": false,
          "text": "L2N1737",
          "x": 0.7550000000000001,
          "xanchor": "center",
          "xref": "paper",
          "y": 1,
          "yanchor": "bottom",
          "yref": "paper"
         },
         {
          "font": {},
          "showarrow": false,
          "text": "L2N789",
          "x": 0.8570000000000002,
          "xanchor": "center",
          "xref": "paper",
          "y": 1,
          "yanchor": "bottom",
          "yref": "paper"
         },
         {
          "font": {},
          "showarrow": false,
          "text": "L2N1585",
          "x": 0.9590000000000002,
          "xanchor": "center",
          "xref": "paper",
          "y": 1,
          "yanchor": "bottom",
          "yref": "paper"
         }
        ],
        "coloraxis": {
         "cmid": 0,
         "colorscale": [
          [
           0,
           "rgb(103,0,31)"
          ],
          [
           0.1,
           "rgb(178,24,43)"
          ],
          [
           0.2,
           "rgb(214,96,77)"
          ],
          [
           0.3,
           "rgb(244,165,130)"
          ],
          [
           0.4,
           "rgb(253,219,199)"
          ],
          [
           0.5,
           "rgb(247,247,247)"
          ],
          [
           0.6,
           "rgb(209,229,240)"
          ],
          [
           0.7,
           "rgb(146,197,222)"
          ],
          [
           0.8,
           "rgb(67,147,195)"
          ],
          [
           0.9,
           "rgb(33,102,172)"
          ],
          [
           1,
           "rgb(5,48,97)"
          ]
         ]
        },
        "template": {
         "data": {
          "bar": [
           {
            "error_x": {
             "color": "#2a3f5f"
            },
            "error_y": {
             "color": "#2a3f5f"
            },
            "marker": {
             "line": {
              "color": "#E5ECF6",
              "width": 0.5
             },
             "pattern": {
              "fillmode": "overlay",
              "size": 10,
              "solidity": 0.2
             }
            },
            "type": "bar"
           }
          ],
          "barpolar": [
           {
            "marker": {
             "line": {
              "color": "#E5ECF6",
              "width": 0.5
             },
             "pattern": {
              "fillmode": "overlay",
              "size": 10,
              "solidity": 0.2
             }
            },
            "type": "barpolar"
           }
          ],
          "carpet": [
           {
            "aaxis": {
             "endlinecolor": "#2a3f5f",
             "gridcolor": "white",
             "linecolor": "white",
             "minorgridcolor": "white",
             "startlinecolor": "#2a3f5f"
            },
            "baxis": {
             "endlinecolor": "#2a3f5f",
             "gridcolor": "white",
             "linecolor": "white",
             "minorgridcolor": "white",
             "startlinecolor": "#2a3f5f"
            },
            "type": "carpet"
           }
          ],
          "choropleth": [
           {
            "colorbar": {
             "outlinewidth": 0,
             "ticks": ""
            },
            "type": "choropleth"
           }
          ],
          "contour": [
           {
            "colorbar": {
             "outlinewidth": 0,
             "ticks": ""
            },
            "colorscale": [
             [
              0,
              "#0d0887"
             ],
             [
              0.1111111111111111,
              "#46039f"
             ],
             [
              0.2222222222222222,
              "#7201a8"
             ],
             [
              0.3333333333333333,
              "#9c179e"
             ],
             [
              0.4444444444444444,
              "#bd3786"
             ],
             [
              0.5555555555555556,
              "#d8576b"
             ],
             [
              0.6666666666666666,
              "#ed7953"
             ],
             [
              0.7777777777777778,
              "#fb9f3a"
             ],
             [
              0.8888888888888888,
              "#fdca26"
             ],
             [
              1,
              "#f0f921"
             ]
            ],
            "type": "contour"
           }
          ],
          "contourcarpet": [
           {
            "colorbar": {
             "outlinewidth": 0,
             "ticks": ""
            },
            "type": "contourcarpet"
           }
          ],
          "heatmap": [
           {
            "colorbar": {
             "outlinewidth": 0,
             "ticks": ""
            },
            "colorscale": [
             [
              0,
              "#0d0887"
             ],
             [
              0.1111111111111111,
              "#46039f"
             ],
             [
              0.2222222222222222,
              "#7201a8"
             ],
             [
              0.3333333333333333,
              "#9c179e"
             ],
             [
              0.4444444444444444,
              "#bd3786"
             ],
             [
              0.5555555555555556,
              "#d8576b"
             ],
             [
              0.6666666666666666,
              "#ed7953"
             ],
             [
              0.7777777777777778,
              "#fb9f3a"
             ],
             [
              0.8888888888888888,
              "#fdca26"
             ],
             [
              1,
              "#f0f921"
             ]
            ],
            "type": "heatmap"
           }
          ],
          "heatmapgl": [
           {
            "colorbar": {
             "outlinewidth": 0,
             "ticks": ""
            },
            "colorscale": [
             [
              0,
              "#0d0887"
             ],
             [
              0.1111111111111111,
              "#46039f"
             ],
             [
              0.2222222222222222,
              "#7201a8"
             ],
             [
              0.3333333333333333,
              "#9c179e"
             ],
             [
              0.4444444444444444,
              "#bd3786"
             ],
             [
              0.5555555555555556,
              "#d8576b"
             ],
             [
              0.6666666666666666,
              "#ed7953"
             ],
             [
              0.7777777777777778,
              "#fb9f3a"
             ],
             [
              0.8888888888888888,
              "#fdca26"
             ],
             [
              1,
              "#f0f921"
             ]
            ],
            "type": "heatmapgl"
           }
          ],
          "histogram": [
           {
            "marker": {
             "pattern": {
              "fillmode": "overlay",
              "size": 10,
              "solidity": 0.2
             }
            },
            "type": "histogram"
           }
          ],
          "histogram2d": [
           {
            "colorbar": {
             "outlinewidth": 0,
             "ticks": ""
            },
            "colorscale": [
             [
              0,
              "#0d0887"
             ],
             [
              0.1111111111111111,
              "#46039f"
             ],
             [
              0.2222222222222222,
              "#7201a8"
             ],
             [
              0.3333333333333333,
              "#9c179e"
             ],
             [
              0.4444444444444444,
              "#bd3786"
             ],
             [
              0.5555555555555556,
              "#d8576b"
             ],
             [
              0.6666666666666666,
              "#ed7953"
             ],
             [
              0.7777777777777778,
              "#fb9f3a"
             ],
             [
              0.8888888888888888,
              "#fdca26"
             ],
             [
              1,
              "#f0f921"
             ]
            ],
            "type": "histogram2d"
           }
          ],
          "histogram2dcontour": [
           {
            "colorbar": {
             "outlinewidth": 0,
             "ticks": ""
            },
            "colorscale": [
             [
              0,
              "#0d0887"
             ],
             [
              0.1111111111111111,
              "#46039f"
             ],
             [
              0.2222222222222222,
              "#7201a8"
             ],
             [
              0.3333333333333333,
              "#9c179e"
             ],
             [
              0.4444444444444444,
              "#bd3786"
             ],
             [
              0.5555555555555556,
              "#d8576b"
             ],
             [
              0.6666666666666666,
              "#ed7953"
             ],
             [
              0.7777777777777778,
              "#fb9f3a"
             ],
             [
              0.8888888888888888,
              "#fdca26"
             ],
             [
              1,
              "#f0f921"
             ]
            ],
            "type": "histogram2dcontour"
           }
          ],
          "mesh3d": [
           {
            "colorbar": {
             "outlinewidth": 0,
             "ticks": ""
            },
            "type": "mesh3d"
           }
          ],
          "parcoords": [
           {
            "line": {
             "colorbar": {
              "outlinewidth": 0,
              "ticks": ""
             }
            },
            "type": "parcoords"
           }
          ],
          "pie": [
           {
            "automargin": true,
            "type": "pie"
           }
          ],
          "scatter": [
           {
            "fillpattern": {
             "fillmode": "overlay",
             "size": 10,
             "solidity": 0.2
            },
            "type": "scatter"
           }
          ],
          "scatter3d": [
           {
            "line": {
             "colorbar": {
              "outlinewidth": 0,
              "ticks": ""
             }
            },
            "marker": {
             "colorbar": {
              "outlinewidth": 0,
              "ticks": ""
             }
            },
            "type": "scatter3d"
           }
          ],
          "scattercarpet": [
           {
            "marker": {
             "colorbar": {
              "outlinewidth": 0,
              "ticks": ""
             }
            },
            "type": "scattercarpet"
           }
          ],
          "scattergeo": [
           {
            "marker": {
             "colorbar": {
              "outlinewidth": 0,
              "ticks": ""
             }
            },
            "type": "scattergeo"
           }
          ],
          "scattergl": [
           {
            "marker": {
             "colorbar": {
              "outlinewidth": 0,
              "ticks": ""
             }
            },
            "type": "scattergl"
           }
          ],
          "scattermapbox": [
           {
            "marker": {
             "colorbar": {
              "outlinewidth": 0,
              "ticks": ""
             }
            },
            "type": "scattermapbox"
           }
          ],
          "scatterpolar": [
           {
            "marker": {
             "colorbar": {
              "outlinewidth": 0,
              "ticks": ""
             }
            },
            "type": "scatterpolar"
           }
          ],
          "scatterpolargl": [
           {
            "marker": {
             "colorbar": {
              "outlinewidth": 0,
              "ticks": ""
             }
            },
            "type": "scatterpolargl"
           }
          ],
          "scatterternary": [
           {
            "marker": {
             "colorbar": {
              "outlinewidth": 0,
              "ticks": ""
             }
            },
            "type": "scatterternary"
           }
          ],
          "surface": [
           {
            "colorbar": {
             "outlinewidth": 0,
             "ticks": ""
            },
            "colorscale": [
             [
              0,
              "#0d0887"
             ],
             [
              0.1111111111111111,
              "#46039f"
             ],
             [
              0.2222222222222222,
              "#7201a8"
             ],
             [
              0.3333333333333333,
              "#9c179e"
             ],
             [
              0.4444444444444444,
              "#bd3786"
             ],
             [
              0.5555555555555556,
              "#d8576b"
             ],
             [
              0.6666666666666666,
              "#ed7953"
             ],
             [
              0.7777777777777778,
              "#fb9f3a"
             ],
             [
              0.8888888888888888,
              "#fdca26"
             ],
             [
              1,
              "#f0f921"
             ]
            ],
            "type": "surface"
           }
          ],
          "table": [
           {
            "cells": {
             "fill": {
              "color": "#EBF0F8"
             },
             "line": {
              "color": "white"
             }
            },
            "header": {
             "fill": {
              "color": "#C8D4E3"
             },
             "line": {
              "color": "white"
             }
            },
            "type": "table"
           }
          ]
         },
         "layout": {
          "annotationdefaults": {
           "arrowcolor": "#2a3f5f",
           "arrowhead": 0,
           "arrowwidth": 1
          },
          "autotypenumbers": "strict",
          "coloraxis": {
           "colorbar": {
            "outlinewidth": 0,
            "ticks": ""
           }
          },
          "colorscale": {
           "diverging": [
            [
             0,
             "#8e0152"
            ],
            [
             0.1,
             "#c51b7d"
            ],
            [
             0.2,
             "#de77ae"
            ],
            [
             0.3,
             "#f1b6da"
            ],
            [
             0.4,
             "#fde0ef"
            ],
            [
             0.5,
             "#f7f7f7"
            ],
            [
             0.6,
             "#e6f5d0"
            ],
            [
             0.7,
             "#b8e186"
            ],
            [
             0.8,
             "#7fbc41"
            ],
            [
             0.9,
             "#4d9221"
            ],
            [
             1,
             "#276419"
            ]
           ],
           "sequential": [
            [
             0,
             "#0d0887"
            ],
            [
             0.1111111111111111,
             "#46039f"
            ],
            [
             0.2222222222222222,
             "#7201a8"
            ],
            [
             0.3333333333333333,
             "#9c179e"
            ],
            [
             0.4444444444444444,
             "#bd3786"
            ],
            [
             0.5555555555555556,
             "#d8576b"
            ],
            [
             0.6666666666666666,
             "#ed7953"
            ],
            [
             0.7777777777777778,
             "#fb9f3a"
            ],
            [
             0.8888888888888888,
             "#fdca26"
            ],
            [
             1,
             "#f0f921"
            ]
           ],
           "sequentialminus": [
            [
             0,
             "#0d0887"
            ],
            [
             0.1111111111111111,
             "#46039f"
            ],
            [
             0.2222222222222222,
             "#7201a8"
            ],
            [
             0.3333333333333333,
             "#9c179e"
            ],
            [
             0.4444444444444444,
             "#bd3786"
            ],
            [
             0.5555555555555556,
             "#d8576b"
            ],
            [
             0.6666666666666666,
             "#ed7953"
            ],
            [
             0.7777777777777778,
             "#fb9f3a"
            ],
            [
             0.8888888888888888,
             "#fdca26"
            ],
            [
             1,
             "#f0f921"
            ]
           ]
          },
          "colorway": [
           "#636efa",
           "#EF553B",
           "#00cc96",
           "#ab63fa",
           "#FFA15A",
           "#19d3f3",
           "#FF6692",
           "#B6E880",
           "#FF97FF",
           "#FECB52"
          ],
          "font": {
           "color": "#2a3f5f"
          },
          "geo": {
           "bgcolor": "white",
           "lakecolor": "white",
           "landcolor": "#E5ECF6",
           "showlakes": true,
           "showland": true,
           "subunitcolor": "white"
          },
          "hoverlabel": {
           "align": "left"
          },
          "hovermode": "closest",
          "mapbox": {
           "style": "light"
          },
          "paper_bgcolor": "white",
          "plot_bgcolor": "#E5ECF6",
          "polar": {
           "angularaxis": {
            "gridcolor": "white",
            "linecolor": "white",
            "ticks": ""
           },
           "bgcolor": "#E5ECF6",
           "radialaxis": {
            "gridcolor": "white",
            "linecolor": "white",
            "ticks": ""
           }
          },
          "scene": {
           "xaxis": {
            "backgroundcolor": "#E5ECF6",
            "gridcolor": "white",
            "gridwidth": 2,
            "linecolor": "white",
            "showbackground": true,
            "ticks": "",
            "zerolinecolor": "white"
           },
           "yaxis": {
            "backgroundcolor": "#E5ECF6",
            "gridcolor": "white",
            "gridwidth": 2,
            "linecolor": "white",
            "showbackground": true,
            "ticks": "",
            "zerolinecolor": "white"
           },
           "zaxis": {
            "backgroundcolor": "#E5ECF6",
            "gridcolor": "white",
            "gridwidth": 2,
            "linecolor": "white",
            "showbackground": true,
            "ticks": "",
            "zerolinecolor": "white"
           }
          },
          "shapedefaults": {
           "line": {
            "color": "#2a3f5f"
           }
          },
          "ternary": {
           "aaxis": {
            "gridcolor": "white",
            "linecolor": "white",
            "ticks": ""
           },
           "baxis": {
            "gridcolor": "white",
            "linecolor": "white",
            "ticks": ""
           },
           "bgcolor": "#E5ECF6",
           "caxis": {
            "gridcolor": "white",
            "linecolor": "white",
            "ticks": ""
           }
          },
          "title": {
           "x": 0.05
          },
          "xaxis": {
           "automargin": true,
           "gridcolor": "white",
           "linecolor": "white",
           "ticks": "",
           "title": {
            "standoff": 15
           },
           "zerolinecolor": "white",
           "zerolinewidth": 2
          },
          "yaxis": {
           "automargin": true,
           "gridcolor": "white",
           "linecolor": "white",
           "ticks": "",
           "title": {
            "standoff": 15
           },
           "zerolinecolor": "white",
           "zerolinewidth": 2
          }
         }
        },
        "title": {
         "text": "Cosine sim of Input weights and the my color probe for top layer 2 neurons"
        },
        "xaxis": {
         "anchor": "y",
         "domain": [
          0,
          0.08200000000000002
         ],
         "title": {
          "text": "x"
         }
        },
        "xaxis10": {
         "anchor": "y10",
         "domain": [
          0.9180000000000001,
          1
         ],
         "matches": "x",
         "title": {
          "text": "x"
         }
        },
        "xaxis2": {
         "anchor": "y2",
         "domain": [
          0.10200000000000002,
          0.18400000000000005
         ],
         "matches": "x",
         "title": {
          "text": "x"
         }
        },
        "xaxis3": {
         "anchor": "y3",
         "domain": [
          0.20400000000000004,
          0.28600000000000003
         ],
         "matches": "x",
         "title": {
          "text": "x"
         }
        },
        "xaxis4": {
         "anchor": "y4",
         "domain": [
          0.30600000000000005,
          0.38800000000000007
         ],
         "matches": "x",
         "title": {
          "text": "x"
         }
        },
        "xaxis5": {
         "anchor": "y5",
         "domain": [
          0.4080000000000001,
          0.4900000000000001
         ],
         "matches": "x",
         "title": {
          "text": "x"
         }
        },
        "xaxis6": {
         "anchor": "y6",
         "domain": [
          0.5100000000000001,
          0.5920000000000001
         ],
         "matches": "x",
         "title": {
          "text": "x"
         }
        },
        "xaxis7": {
         "anchor": "y7",
         "domain": [
          0.6120000000000001,
          0.6940000000000002
         ],
         "matches": "x",
         "title": {
          "text": "x"
         }
        },
        "xaxis8": {
         "anchor": "y8",
         "domain": [
          0.7140000000000001,
          0.796
         ],
         "matches": "x",
         "title": {
          "text": "x"
         }
        },
        "xaxis9": {
         "anchor": "y9",
         "domain": [
          0.8160000000000002,
          0.8980000000000001
         ],
         "matches": "x",
         "title": {
          "text": "x"
         }
        },
        "yaxis": {
         "anchor": "x",
         "autorange": "reversed",
         "domain": [
          0,
          1
         ],
         "title": {
          "text": "y"
         }
        },
        "yaxis10": {
         "anchor": "x10",
         "domain": [
          0,
          1
         ],
         "matches": "y",
         "showticklabels": false
        },
        "yaxis2": {
         "anchor": "x2",
         "domain": [
          0,
          1
         ],
         "matches": "y",
         "showticklabels": false
        },
        "yaxis3": {
         "anchor": "x3",
         "domain": [
          0,
          1
         ],
         "matches": "y",
         "showticklabels": false
        },
        "yaxis4": {
         "anchor": "x4",
         "domain": [
          0,
          1
         ],
         "matches": "y",
         "showticklabels": false
        },
        "yaxis5": {
         "anchor": "x5",
         "domain": [
          0,
          1
         ],
         "matches": "y",
         "showticklabels": false
        },
        "yaxis6": {
         "anchor": "x6",
         "domain": [
          0,
          1
         ],
         "matches": "y",
         "showticklabels": false
        },
        "yaxis7": {
         "anchor": "x7",
         "domain": [
          0,
          1
         ],
         "matches": "y",
         "showticklabels": false
        },
        "yaxis8": {
         "anchor": "x8",
         "domain": [
          0,
          1
         ],
         "matches": "y",
         "showticklabels": false
        },
        "yaxis9": {
         "anchor": "x9",
         "domain": [
          0,
          1
         ],
         "matches": "y",
         "showticklabels": false
        }
       }
      }
     },
     "metadata": {},
     "output_type": "display_data"
    },
    {
     "data": {
      "application/vnd.plotly.v1+json": {
       "config": {
        "plotlyServerURL": "https://plot.ly"
       },
       "data": [
        {
         "coloraxis": "coloraxis",
         "hovertemplate": "x: %{x}<br>y: %{y}<br>color: %{z}<extra></extra>",
         "name": "0",
         "type": "heatmap",
         "xaxis": "x",
         "y": [
          "A",
          "B",
          "C",
          "D",
          "E",
          "F",
          "G",
          "H"
         ],
         "yaxis": "y",
         "z": [
          [
           0.01130690611898899,
           -0.017618438228964806,
           -0.03761132061481476,
           -0.08872096240520477,
           -0.0038245301693677902,
           -0.059878990054130554,
           -0.045656464993953705,
           -0.0616450309753418
          ],
          [
           -0.031740084290504456,
           -0.0437227264046669,
           0.009709451347589493,
           -0.02673708088696003,
           0.09934920072555542,
           -0.0031376639381051064,
           -0.030837345868349075,
           -0.01083048339933157
          ],
          [
           0.03192773461341858,
           -0.028823411092162132,
           0.0024679284542798996,
           0.01271732710301876,
           0.05211704969406128,
           0.031214911490678787,
           -0.010393938049674034,
           0.007128112018108368
          ],
          [
           -0.00227157399058342,
           -0.08314815163612366,
           0.029469480738043785,
           0,
           0,
           0.059393808245658875,
           -0.008884357288479805,
           -0.03896626830101013
          ],
          [
           -0.037101760506629944,
           -0.06333480030298233,
           0.012506749480962753,
           0,
           0,
           0.010372014716267586,
           0.022663088515400887,
           0.023402869701385498
          ],
          [
           0.04211033880710602,
           0.02234608307480812,
           0.00936419703066349,
           -0.08327701687812805,
           -0.001979552209377289,
           -0.042990271002054214,
           0.0016189422458410263,
           0.004227869212627411
          ],
          [
           0.008731435984373093,
           -0.06816014647483826,
           -0.05921537056565285,
           -0.17175506055355072,
           0.01786915212869644,
           -0.031556494534015656,
           -0.008844522759318352,
           -0.11278141289949417
          ],
          [
           -0.038441289216279984,
           -0.045636750757694244,
           -0.1148591861128807,
           -0.49215686321258545,
           -0.08759275823831558,
           -0.06763416528701782,
           -0.13503338396549225,
           -0.1866123229265213
          ]
         ]
        },
        {
         "coloraxis": "coloraxis",
         "hovertemplate": "x: %{x}<br>y: %{y}<br>color: %{z}<extra></extra>",
         "name": "1",
         "type": "heatmap",
         "xaxis": "x2",
         "y": [
          "A",
          "B",
          "C",
          "D",
          "E",
          "F",
          "G",
          "H"
         ],
         "yaxis": "y2",
         "z": [
          [
           -0.255830854177475,
           -0.15205374360084534,
           -0.03149721771478653,
           -0.0837148129940033,
           -0.04076964408159256,
           0.011975320056080818,
           -0.042725272476673126,
           -0.05118400231003761
          ],
          [
           -0.08615067601203918,
           -0.4585457444190979,
           -0.13021856546401978,
           -0.04610508680343628,
           0.033118024468421936,
           0.019265934824943542,
           -0.04559163376688957,
           0.0025951899588108063
          ],
          [
           -0.0805617943406105,
           -0.07834400236606598,
           -0.09925170987844467,
           0.026182787492871284,
           0.009819719940423965,
           0.029638143256306648,
           -0.04007596895098686,
           0.02585996687412262
          ],
          [
           -0.06502661108970642,
           -0.04630359262228012,
           0.02311260811984539,
           0,
           0,
           0.014809532091021538,
           -0.016445618122816086,
           0.05115998908877373
          ],
          [
           -0.05688691884279251,
           -0.01495850458741188,
           0.02293131873011589,
           0,
           0,
           0.021032370626926422,
           0.04282565787434578,
           0.010300066322088242
          ],
          [
           -0.05391138792037964,
           -0.006648479960858822,
           0.024367094039916992,
           0.08450527489185333,
           0.0033118706196546555,
           -0.02926517464220524,
           0.0008670762181282043,
           0.008893942460417747
          ],
          [
           0.009967342019081116,
           0.00330413319170475,
           0.04510767385363579,
           0.04294002056121826,
           0.020925743505358696,
           0.010321838781237602,
           0.039010003209114075,
           0.018103424459695816
          ],
          [
           -0.03628704696893692,
           -0.027993392199277878,
           0.0033073797821998596,
           -0.012212462723255157,
           -0.015357602387666702,
           0.050405409187078476,
           0.011890647932887077,
           -0.02843359112739563
          ]
         ]
        },
        {
         "coloraxis": "coloraxis",
         "hovertemplate": "x: %{x}<br>y: %{y}<br>color: %{z}<extra></extra>",
         "name": "2",
         "type": "heatmap",
         "xaxis": "x3",
         "y": [
          "A",
          "B",
          "C",
          "D",
          "E",
          "F",
          "G",
          "H"
         ],
         "yaxis": "y3",
         "z": [
          [
           -0.12955889105796814,
           -0.039649251848459244,
           -0.03205989673733711,
           -0.01746130734682083,
           -0.04392608255147934,
           -0.01707875356078148,
           -0.025686055421829224,
           -0.005421949550509453
          ],
          [
           0.0265610683709383,
           -0.13923825323581696,
           -0.0456087663769722,
           -0.05173364654183388,
           0.047292232513427734,
           -0.015567302703857422,
           -0.003947503864765167,
           0.014139214530587196
          ],
          [
           -0.0007510948926210403,
           -0.04911557212471962,
           -0.5707752704620361,
           -0.03377710282802582,
           -0.013410937041044235,
           -0.023975536227226257,
           0.0023105856962502003,
           0.02717924304306507
          ],
          [
           0.006086126901209354,
           -0.050901107490062714,
           -0.0586455874145031,
           0,
           0,
           0.01444496214389801,
           0.020882491022348404,
           0.0068576522171497345
          ],
          [
           -0.00961211882531643,
           -0.001554572954773903,
           -0.014792963862419128,
           0,
           0,
           -0.004664413630962372,
           -0.036210380494594574,
           -0.011150673031806946
          ],
          [
           -0.03624735400080681,
           0.010551579296588898,
           -0.0021046847105026245,
           -0.0041442010551691055,
           0.03793582320213318,
           -0.037159599363803864,
           -0.034929558634757996,
           -0.004463819321244955
          ],
          [
           0.0404525101184845,
           0.00971133727580309,
           0.022073369473218918,
           0.022767260670661926,
           0.005786903202533722,
           -0.014981449581682682,
           -0.002242402173578739,
           -0.006111046299338341
          ],
          [
           -0.012327022850513458,
           0.02324077859520912,
           0.03726785629987717,
           0.0009392872452735901,
           0.026253703981637955,
           -0.013947870582342148,
           -0.024743227288126945,
           0.015376117080450058
          ]
         ]
        },
        {
         "coloraxis": "coloraxis",
         "hovertemplate": "x: %{x}<br>y: %{y}<br>color: %{z}<extra></extra>",
         "name": "3",
         "type": "heatmap",
         "xaxis": "x4",
         "y": [
          "A",
          "B",
          "C",
          "D",
          "E",
          "F",
          "G",
          "H"
         ],
         "yaxis": "y4",
         "z": [
          [
           0.0015887077897787094,
           0.11024607717990875,
           0.00879567302763462,
           0.06844311207532883,
           0.06248754635453224,
           -0.010073911398649216,
           -0.015297356992959976,
           0.10562500357627869
          ],
          [
           0.11252374202013016,
           -0.11721861362457275,
           0.02722001075744629,
           -0.04667817801237106,
           -0.15447717905044556,
           -0.059001125395298004,
           0.1951543688774109,
           0.02811015583574772
          ],
          [
           0.06310362368822098,
           -0.040335532277822495,
           -0.14132897555828094,
           -0.10139699280261993,
           -0.09363110363483429,
           -0.06514254212379456,
           0.027659758925437927,
           0.08268897235393524
          ],
          [
           0.056611478328704834,
           -0.06196817010641098,
           -0.06668801605701447,
           0,
           0,
           -0.04652117192745209,
           -0.057087454944849014,
           0.0062737734988331795
          ],
          [
           0.03792969137430191,
           0.04227232187986374,
           -0.0409441739320755,
           0,
           0,
           -0.003908423241227865,
           0.0935433954000473,
           0.11076444387435913
          ],
          [
           0.07015904784202576,
           0.04682372510433197,
           -0.055122748017311096,
           -0.07611511647701263,
           -0.05124247446656227,
           -0.1887907087802887,
           -0.04292844980955124,
           0.07895950973033905
          ],
          [
           0.028570624068379402,
           -0.007844503968954086,
           -0.09661698341369629,
           -0.10445752739906311,
           0.013333342969417572,
           0.004419043660163879,
           -0.017211440950632095,
           0.12802843749523163
          ],
          [
           0.07212173938751221,
           0.00012016203254461288,
           0.009271927177906036,
           0.02399461716413498,
           0.07162921130657196,
           0.12388989329338074,
           0.07166136801242828,
           0.07848034054040909
          ]
         ]
        },
        {
         "coloraxis": "coloraxis",
         "hovertemplate": "x: %{x}<br>y: %{y}<br>color: %{z}<extra></extra>",
         "name": "4",
         "type": "heatmap",
         "xaxis": "x5",
         "y": [
          "A",
          "B",
          "C",
          "D",
          "E",
          "F",
          "G",
          "H"
         ],
         "yaxis": "y5",
         "z": [
          [
           0.029918234795331955,
           -0.04135751724243164,
           -0.031366705894470215,
           0.0032655876129865646,
           -0.040677666664123535,
           0.014384868554770947,
           -0.026345063000917435,
           0.018422067165374756
          ],
          [
           -0.008783760480582714,
           0.03211405500769615,
           -0.05499017983675003,
           -0.03975483030080795,
           0.05185569077730179,
           0.03508848324418068,
           -0.02375458925962448,
           -0.07461719214916229
          ],
          [
           0.00960414856672287,
           0.008894042111933231,
           0.07416234910488129,
           -0.02956084907054901,
           0.07620561122894287,
           0.02428305894136429,
           -0.020253196358680725,
           0.01413587387651205
          ],
          [
           -0.03768610954284668,
           0.004175286740064621,
           0.04840541630983353,
           0,
           0,
           -0.007885925471782684,
           0.0713123232126236,
           0.023308590054512024
          ],
          [
           0.056777454912662506,
           0.03372121974825859,
           -0.0059155048802495,
           0,
           0,
           0.10306969285011292,
           0.050123102962970734,
           0.01009312178939581
          ],
          [
           0.056185007095336914,
           0.031248347833752632,
           -0.016368871554732323,
           -0.47470712661743164,
           -0.035163380205631256,
           0.058154284954071045,
           0.033013809472322464,
           0.0009304624982178211
          ],
          [
           0.009597940370440483,
           -0.06485964357852936,
           -0.1640607714653015,
           -0.1179913580417633,
           0.03890450298786163,
           0.025966256856918335,
           0.07926110923290253,
           0.001255970448255539
          ],
          [
           -0.0027838069945573807,
           -0.09946882724761963,
           -0.024121906608343124,
           -0.055915944278240204,
           -0.010279434733092785,
           -0.008434463292360306,
           -0.025874216109514236,
           -0.012982025742530823
          ]
         ]
        },
        {
         "coloraxis": "coloraxis",
         "hovertemplate": "x: %{x}<br>y: %{y}<br>color: %{z}<extra></extra>",
         "name": "5",
         "type": "heatmap",
         "xaxis": "x6",
         "y": [
          "A",
          "B",
          "C",
          "D",
          "E",
          "F",
          "G",
          "H"
         ],
         "yaxis": "y6",
         "z": [
          [
           -0.0488593652844429,
           -0.031663890928030014,
           -0.04245434328913689,
           -0.04123643785715103,
           0.023823589086532593,
           -0.017368754372000694,
           -0.0523265078663826,
           -0.04348108544945717
          ],
          [
           -0.21287068724632263,
           -0.039827171713113785,
           0.0026672547683119774,
           -0.06507463753223419,
           0.05484108626842499,
           -0.02672383561730385,
           -0.01489802822470665,
           -0.007563743740320206
          ],
          [
           -0.4356001615524292,
           -0.24461904168128967,
           0.011650820262730122,
           0.015803515911102295,
           0.037393976002931595,
           -0.02397753670811653,
           -0.1017388254404068,
           -0.008599274791777134
          ],
          [
           -0.011115754023194313,
           -0.09650921821594238,
           -0.05625835061073303,
           0,
           0,
           0.008972106501460075,
           -0.037121981382369995,
           -0.01636456698179245
          ],
          [
           0.06522636860609055,
           0.030125336721539497,
           0.02660456858575344,
           0,
           0,
           0.022536668926477432,
           0.00860779732465744,
           -0.025488657876849174
          ],
          [
           -0.08840218186378479,
           0.07312732934951782,
           0.03948531299829483,
           0.006539205089211464,
           0.026871919631958008,
           0.05827171355485916,
           0.03740479424595833,
           0.009613830596208572
          ],
          [
           -0.0451287105679512,
           -0.03510507196187973,
           0.023534193634986877,
           -0.008076600730419159,
           -0.008284272626042366,
           -0.01190945878624916,
           0.016350094228982925,
           0.007702093571424484
          ],
          [
           -0.06806083023548126,
           -0.003055790439248085,
           0.02297043800354004,
           -0.06450857222080231,
           -0.005930977873504162,
           0.030602196231484413,
           -0.05362826585769653,
           -0.05005110055208206
          ]
         ]
        },
        {
         "coloraxis": "coloraxis",
         "hovertemplate": "x: %{x}<br>y: %{y}<br>color: %{z}<extra></extra>",
         "name": "6",
         "type": "heatmap",
         "xaxis": "x7",
         "y": [
          "A",
          "B",
          "C",
          "D",
          "E",
          "F",
          "G",
          "H"
         ],
         "yaxis": "y7",
         "z": [
          [
           0.004357526078820229,
           0.0005432097241282463,
           0.01509828306734562,
           -0.04205263406038284,
           -0.022061079740524292,
           -0.03875502571463585,
           0.0019082976505160332,
           0.004112407565116882
          ],
          [
           -0.048863485455513,
           0.004799065180122852,
           -0.023672807961702347,
           0.0091751329600811,
           -0.009068198502063751,
           -0.026992924511432648,
           -0.012493308633565903,
           -0.005202664062380791
          ],
          [
           0.031372085213661194,
           -0.06451870501041412,
           0.009090520441532135,
           0.022225283086299896,
           -0.045255906879901886,
           -0.021211516112089157,
           -0.009207304567098618,
           0.0015760622918605804
          ],
          [
           -0.0783998891711235,
           -0.060471028089523315,
           -0.5714993476867676,
           0,
           0,
           -0.005708429962396622,
           0.005626317113637924,
           -0.025745026767253876
          ],
          [
           0.045112233608961105,
           0.011960163712501526,
           0.0013928539119660854,
           0,
           0,
           0.027303926646709442,
           0.007565043866634369,
           -0.0020748749375343323
          ],
          [
           -0.03484366089105606,
           0.025510430335998535,
           0.013995429500937462,
           0.04179581627249718,
           0.01238940842449665,
           -0.015373471193015575,
           0.037471700459718704,
           -0.014485076069831848
          ],
          [
           0.04100308194756508,
           -0.012736346572637558,
           0.005126848816871643,
           0.0023811794817447662,
           -0.0034144632518291473,
           -0.017622847110033035,
           -0.0148710235953331,
           -0.011694557964801788
          ],
          [
           -0.010420886799693108,
           0.009927968494594097,
           0.020241763442754745,
           -0.008834334090352058,
           -0.013261489570140839,
           0.008775859139859676,
           -0.01788819208741188,
           -0.013694299384951591
          ]
         ]
        },
        {
         "coloraxis": "coloraxis",
         "hovertemplate": "x: %{x}<br>y: %{y}<br>color: %{z}<extra></extra>",
         "name": "7",
         "type": "heatmap",
         "xaxis": "x8",
         "y": [
          "A",
          "B",
          "C",
          "D",
          "E",
          "F",
          "G",
          "H"
         ],
         "yaxis": "y8",
         "z": [
          [
           -0.1409798264503479,
           -0.02629753015935421,
           -0.034506604075431824,
           -0.015775319188833237,
           0.004393251612782478,
           -0.004605141002684832,
           0.02154025249183178,
           0.023941632360219955
          ],
          [
           -0.11328896880149841,
           -0.0010413024574518204,
           0.002723556011915207,
           -0.017393412068486214,
           0.08323871344327927,
           0.024994466453790665,
           0.030721642076969147,
           0.007136123720556498
          ],
          [
           -0.4641633927822113,
           -0.1134871393442154,
           -0.01852867193520069,
           0.028103478252887726,
           0.013628353364765644,
           -0.006770421750843525,
           0.01761765033006668,
           -0.028850842267274857
          ],
          [
           -0.1683339774608612,
           -0.008311562240123749,
           0.06088438630104065,
           0,
           0,
           0.042026884853839874,
           -0.012608849443495274,
           0.0002663172781467438
          ],
          [
           -0.05903106927871704,
           -0.02675919234752655,
           0.011796830222010612,
           0,
           0,
           -0.04371136426925659,
           -0.023474976420402527,
           -0.014019911177456379
          ],
          [
           -0.10794798284769058,
           -0.05055948346853256,
           0.01051199808716774,
           0.05220162868499756,
           0.04468079283833504,
           -0.0016177408397197723,
           -0.03850282356142998,
           -0.03207925334572792
          ],
          [
           0.06973545253276825,
           0.037919797003269196,
           0.0466950498521328,
           -0.00846736691892147,
           -0.021289099007844925,
           0.01215166226029396,
           0.004345817491412163,
           0.006266659125685692
          ],
          [
           -0.028788208961486816,
           -0.02340799570083618,
           0.00591675192117691,
           0.06629831343889236,
           0.00019221194088459015,
           -0.017550714313983917,
           0.005546171218156815,
           0.104777492582798
          ]
         ]
        },
        {
         "coloraxis": "coloraxis",
         "hovertemplate": "x: %{x}<br>y: %{y}<br>color: %{z}<extra></extra>",
         "name": "8",
         "type": "heatmap",
         "xaxis": "x9",
         "y": [
          "A",
          "B",
          "C",
          "D",
          "E",
          "F",
          "G",
          "H"
         ],
         "yaxis": "y9",
         "z": [
          [
           -0.12932488322257996,
           0.018069814890623093,
           0.04342987760901451,
           -0.03197009488940239,
           -0.013579769060015678,
           -0.01053371001034975,
           -0.02756842039525509,
           -0.006807461380958557
          ],
          [
           -0.06898774206638336,
           -0.0076326169073581696,
           0.02731657400727272,
           0.0010732151567935944,
           0.00980052724480629,
           0.008110210299491882,
           0.018162885680794716,
           -0.00635954923927784
          ],
          [
           -0.03927264362573624,
           0.06493739038705826,
           -0.038975853472948074,
           -0.04260293394327164,
           0.014705287292599678,
           -0.027560539543628693,
           -0.021635880693793297,
           -0.03999234363436699
          ],
          [
           -0.003328891471028328,
           0.010535500943660736,
           0.04222634807229042,
           0,
           0,
           -0.049786195158958435,
           0.0068792905658483505,
           -0.010671467520296574
          ],
          [
           -0.4066293239593506,
           -0.10873229801654816,
           0.059445977210998535,
           0,
           0,
           0.057769253849983215,
           0.010132458060979843,
           0.02192678302526474
          ],
          [
           -0.13160718977451324,
           0.05534584820270538,
           0.06733766943216324,
           -0.03648514300584793,
           0.10612273961305618,
           0.027391891926527023,
           -0.02548341080546379,
           0.0036170384846627712
          ],
          [
           0.21036644279956818,
           0.03053242899477482,
           -0.004320723935961723,
           0.03158063441514969,
           0.018880093470215797,
           0.04361215978860855,
           0.027632977813482285,
           0.021133819594979286
          ],
          [
           0.04869499057531357,
           -0.1035921722650528,
           0.06701263785362244,
           0.01841515302658081,
           -0.032083380967378616,
           -0.012065357528626919,
           0.040177151560783386,
           0.057964712381362915
          ]
         ]
        },
        {
         "coloraxis": "coloraxis",
         "hovertemplate": "x: %{x}<br>y: %{y}<br>color: %{z}<extra></extra>",
         "name": "9",
         "type": "heatmap",
         "xaxis": "x10",
         "y": [
          "A",
          "B",
          "C",
          "D",
          "E",
          "F",
          "G",
          "H"
         ],
         "yaxis": "y10",
         "z": [
          [
           -0.03908659517765045,
           -0.046293191611766815,
           0.003936891444027424,
           0.0006060916930437088,
           -0.042421359568834305,
           -0.005913976579904556,
           0.01233401894569397,
           -0.0014205574989318848
          ],
          [
           -0.00399496965110302,
           -0.0006742887198925018,
           -0.030929353088140488,
           -0.012946097180247307,
           -0.017725668847560883,
           0.0019117183983325958,
           -0.013118959963321686,
           -0.0044411905109882355
          ],
          [
           -0.017886806279420853,
           -0.02208111248910427,
           0.02328091487288475,
           -0.01486862450838089,
           0.01156693510711193,
           0.026733191683888435,
           -0.026800256222486496,
           -0.0011714063584804535
          ],
          [
           0.009527862071990967,
           0.0076360031962394714,
           -0.002245938405394554,
           0,
           0,
           0.016217472031712532,
           0.014321615919470787,
           -0.013674874790012836
          ],
          [
           -0.044966451823711395,
           -0.0028980281203985214,
           0.04148038476705551,
           0,
           0,
           -0.0009808894246816635,
           -0.01579219102859497,
           -0.014703626744449139
          ],
          [
           -0.04678378626704216,
           0.009138381108641624,
           -0.00583246722817421,
           0.0132022425532341,
           -0.05550234764814377,
           -0.03595482558012009,
           -0.020661011338233948,
           0.0076673682779073715
          ],
          [
           -0.012351812794804573,
           0.009779088199138641,
           0.04198898375034332,
           -0.0012037921696901321,
           -0.001378050073981285,
           -0.5514607429504395,
           -0.054309651255607605,
           -0.026628799736499786
          ],
          [
           -0.009582523256540298,
           -0.02360433340072632,
           -0.004673123359680176,
           0.021908793598413467,
           -0.05099102854728699,
           -0.02333816885948181,
           -0.14007532596588135,
           -0.012873440980911255
          ]
         ]
        }
       ],
       "layout": {
        "annotations": [
         {
          "font": {},
          "showarrow": false,
          "text": "L3N359",
          "x": 0.04100000000000001,
          "xanchor": "center",
          "xref": "paper",
          "y": 1,
          "yanchor": "bottom",
          "yref": "paper"
         },
         {
          "font": {},
          "showarrow": false,
          "text": "L3N45",
          "x": 0.14300000000000004,
          "xanchor": "center",
          "xref": "paper",
          "y": 1,
          "yanchor": "bottom",
          "yref": "paper"
         },
         {
          "font": {},
          "showarrow": false,
          "text": "L3N506",
          "x": 0.24500000000000005,
          "xanchor": "center",
          "xref": "paper",
          "y": 1,
          "yanchor": "bottom",
          "yref": "paper"
         },
         {
          "font": {},
          "showarrow": false,
          "text": "L3N2023",
          "x": 0.3470000000000001,
          "xanchor": "center",
          "xref": "paper",
          "y": 1,
          "yanchor": "bottom",
          "yref": "paper"
         },
         {
          "font": {},
          "showarrow": false,
          "text": "L3N1350",
          "x": 0.44900000000000007,
          "xanchor": "center",
          "xref": "paper",
          "y": 1,
          "yanchor": "bottom",
          "yref": "paper"
         },
         {
          "font": {},
          "showarrow": false,
          "text": "L3N1404",
          "x": 0.5510000000000002,
          "xanchor": "center",
          "xref": "paper",
          "y": 1,
          "yanchor": "bottom",
          "yref": "paper"
         },
         {
          "font": {},
          "showarrow": false,
          "text": "L3N342",
          "x": 0.6530000000000001,
          "xanchor": "center",
          "xref": "paper",
          "y": 1,
          "yanchor": "bottom",
          "yref": "paper"
         },
         {
          "font": {},
          "showarrow": false,
          "text": "L3N1219",
          "x": 0.7550000000000001,
          "xanchor": "center",
          "xref": "paper",
          "y": 1,
          "yanchor": "bottom",
          "yref": "paper"
         },
         {
          "font": {},
          "showarrow": false,
          "text": "L3N1451",
          "x": 0.8570000000000002,
          "xanchor": "center",
          "xref": "paper",
          "y": 1,
          "yanchor": "bottom",
          "yref": "paper"
         },
         {
          "font": {},
          "showarrow": false,
          "text": "L3N1002",
          "x": 0.9590000000000002,
          "xanchor": "center",
          "xref": "paper",
          "y": 1,
          "yanchor": "bottom",
          "yref": "paper"
         }
        ],
        "coloraxis": {
         "cmid": 0,
         "colorscale": [
          [
           0,
           "rgb(103,0,31)"
          ],
          [
           0.1,
           "rgb(178,24,43)"
          ],
          [
           0.2,
           "rgb(214,96,77)"
          ],
          [
           0.3,
           "rgb(244,165,130)"
          ],
          [
           0.4,
           "rgb(253,219,199)"
          ],
          [
           0.5,
           "rgb(247,247,247)"
          ],
          [
           0.6,
           "rgb(209,229,240)"
          ],
          [
           0.7,
           "rgb(146,197,222)"
          ],
          [
           0.8,
           "rgb(67,147,195)"
          ],
          [
           0.9,
           "rgb(33,102,172)"
          ],
          [
           1,
           "rgb(5,48,97)"
          ]
         ]
        },
        "template": {
         "data": {
          "bar": [
           {
            "error_x": {
             "color": "#2a3f5f"
            },
            "error_y": {
             "color": "#2a3f5f"
            },
            "marker": {
             "line": {
              "color": "#E5ECF6",
              "width": 0.5
             },
             "pattern": {
              "fillmode": "overlay",
              "size": 10,
              "solidity": 0.2
             }
            },
            "type": "bar"
           }
          ],
          "barpolar": [
           {
            "marker": {
             "line": {
              "color": "#E5ECF6",
              "width": 0.5
             },
             "pattern": {
              "fillmode": "overlay",
              "size": 10,
              "solidity": 0.2
             }
            },
            "type": "barpolar"
           }
          ],
          "carpet": [
           {
            "aaxis": {
             "endlinecolor": "#2a3f5f",
             "gridcolor": "white",
             "linecolor": "white",
             "minorgridcolor": "white",
             "startlinecolor": "#2a3f5f"
            },
            "baxis": {
             "endlinecolor": "#2a3f5f",
             "gridcolor": "white",
             "linecolor": "white",
             "minorgridcolor": "white",
             "startlinecolor": "#2a3f5f"
            },
            "type": "carpet"
           }
          ],
          "choropleth": [
           {
            "colorbar": {
             "outlinewidth": 0,
             "ticks": ""
            },
            "type": "choropleth"
           }
          ],
          "contour": [
           {
            "colorbar": {
             "outlinewidth": 0,
             "ticks": ""
            },
            "colorscale": [
             [
              0,
              "#0d0887"
             ],
             [
              0.1111111111111111,
              "#46039f"
             ],
             [
              0.2222222222222222,
              "#7201a8"
             ],
             [
              0.3333333333333333,
              "#9c179e"
             ],
             [
              0.4444444444444444,
              "#bd3786"
             ],
             [
              0.5555555555555556,
              "#d8576b"
             ],
             [
              0.6666666666666666,
              "#ed7953"
             ],
             [
              0.7777777777777778,
              "#fb9f3a"
             ],
             [
              0.8888888888888888,
              "#fdca26"
             ],
             [
              1,
              "#f0f921"
             ]
            ],
            "type": "contour"
           }
          ],
          "contourcarpet": [
           {
            "colorbar": {
             "outlinewidth": 0,
             "ticks": ""
            },
            "type": "contourcarpet"
           }
          ],
          "heatmap": [
           {
            "colorbar": {
             "outlinewidth": 0,
             "ticks": ""
            },
            "colorscale": [
             [
              0,
              "#0d0887"
             ],
             [
              0.1111111111111111,
              "#46039f"
             ],
             [
              0.2222222222222222,
              "#7201a8"
             ],
             [
              0.3333333333333333,
              "#9c179e"
             ],
             [
              0.4444444444444444,
              "#bd3786"
             ],
             [
              0.5555555555555556,
              "#d8576b"
             ],
             [
              0.6666666666666666,
              "#ed7953"
             ],
             [
              0.7777777777777778,
              "#fb9f3a"
             ],
             [
              0.8888888888888888,
              "#fdca26"
             ],
             [
              1,
              "#f0f921"
             ]
            ],
            "type": "heatmap"
           }
          ],
          "heatmapgl": [
           {
            "colorbar": {
             "outlinewidth": 0,
             "ticks": ""
            },
            "colorscale": [
             [
              0,
              "#0d0887"
             ],
             [
              0.1111111111111111,
              "#46039f"
             ],
             [
              0.2222222222222222,
              "#7201a8"
             ],
             [
              0.3333333333333333,
              "#9c179e"
             ],
             [
              0.4444444444444444,
              "#bd3786"
             ],
             [
              0.5555555555555556,
              "#d8576b"
             ],
             [
              0.6666666666666666,
              "#ed7953"
             ],
             [
              0.7777777777777778,
              "#fb9f3a"
             ],
             [
              0.8888888888888888,
              "#fdca26"
             ],
             [
              1,
              "#f0f921"
             ]
            ],
            "type": "heatmapgl"
           }
          ],
          "histogram": [
           {
            "marker": {
             "pattern": {
              "fillmode": "overlay",
              "size": 10,
              "solidity": 0.2
             }
            },
            "type": "histogram"
           }
          ],
          "histogram2d": [
           {
            "colorbar": {
             "outlinewidth": 0,
             "ticks": ""
            },
            "colorscale": [
             [
              0,
              "#0d0887"
             ],
             [
              0.1111111111111111,
              "#46039f"
             ],
             [
              0.2222222222222222,
              "#7201a8"
             ],
             [
              0.3333333333333333,
              "#9c179e"
             ],
             [
              0.4444444444444444,
              "#bd3786"
             ],
             [
              0.5555555555555556,
              "#d8576b"
             ],
             [
              0.6666666666666666,
              "#ed7953"
             ],
             [
              0.7777777777777778,
              "#fb9f3a"
             ],
             [
              0.8888888888888888,
              "#fdca26"
             ],
             [
              1,
              "#f0f921"
             ]
            ],
            "type": "histogram2d"
           }
          ],
          "histogram2dcontour": [
           {
            "colorbar": {
             "outlinewidth": 0,
             "ticks": ""
            },
            "colorscale": [
             [
              0,
              "#0d0887"
             ],
             [
              0.1111111111111111,
              "#46039f"
             ],
             [
              0.2222222222222222,
              "#7201a8"
             ],
             [
              0.3333333333333333,
              "#9c179e"
             ],
             [
              0.4444444444444444,
              "#bd3786"
             ],
             [
              0.5555555555555556,
              "#d8576b"
             ],
             [
              0.6666666666666666,
              "#ed7953"
             ],
             [
              0.7777777777777778,
              "#fb9f3a"
             ],
             [
              0.8888888888888888,
              "#fdca26"
             ],
             [
              1,
              "#f0f921"
             ]
            ],
            "type": "histogram2dcontour"
           }
          ],
          "mesh3d": [
           {
            "colorbar": {
             "outlinewidth": 0,
             "ticks": ""
            },
            "type": "mesh3d"
           }
          ],
          "parcoords": [
           {
            "line": {
             "colorbar": {
              "outlinewidth": 0,
              "ticks": ""
             }
            },
            "type": "parcoords"
           }
          ],
          "pie": [
           {
            "automargin": true,
            "type": "pie"
           }
          ],
          "scatter": [
           {
            "fillpattern": {
             "fillmode": "overlay",
             "size": 10,
             "solidity": 0.2
            },
            "type": "scatter"
           }
          ],
          "scatter3d": [
           {
            "line": {
             "colorbar": {
              "outlinewidth": 0,
              "ticks": ""
             }
            },
            "marker": {
             "colorbar": {
              "outlinewidth": 0,
              "ticks": ""
             }
            },
            "type": "scatter3d"
           }
          ],
          "scattercarpet": [
           {
            "marker": {
             "colorbar": {
              "outlinewidth": 0,
              "ticks": ""
             }
            },
            "type": "scattercarpet"
           }
          ],
          "scattergeo": [
           {
            "marker": {
             "colorbar": {
              "outlinewidth": 0,
              "ticks": ""
             }
            },
            "type": "scattergeo"
           }
          ],
          "scattergl": [
           {
            "marker": {
             "colorbar": {
              "outlinewidth": 0,
              "ticks": ""
             }
            },
            "type": "scattergl"
           }
          ],
          "scattermapbox": [
           {
            "marker": {
             "colorbar": {
              "outlinewidth": 0,
              "ticks": ""
             }
            },
            "type": "scattermapbox"
           }
          ],
          "scatterpolar": [
           {
            "marker": {
             "colorbar": {
              "outlinewidth": 0,
              "ticks": ""
             }
            },
            "type": "scatterpolar"
           }
          ],
          "scatterpolargl": [
           {
            "marker": {
             "colorbar": {
              "outlinewidth": 0,
              "ticks": ""
             }
            },
            "type": "scatterpolargl"
           }
          ],
          "scatterternary": [
           {
            "marker": {
             "colorbar": {
              "outlinewidth": 0,
              "ticks": ""
             }
            },
            "type": "scatterternary"
           }
          ],
          "surface": [
           {
            "colorbar": {
             "outlinewidth": 0,
             "ticks": ""
            },
            "colorscale": [
             [
              0,
              "#0d0887"
             ],
             [
              0.1111111111111111,
              "#46039f"
             ],
             [
              0.2222222222222222,
              "#7201a8"
             ],
             [
              0.3333333333333333,
              "#9c179e"
             ],
             [
              0.4444444444444444,
              "#bd3786"
             ],
             [
              0.5555555555555556,
              "#d8576b"
             ],
             [
              0.6666666666666666,
              "#ed7953"
             ],
             [
              0.7777777777777778,
              "#fb9f3a"
             ],
             [
              0.8888888888888888,
              "#fdca26"
             ],
             [
              1,
              "#f0f921"
             ]
            ],
            "type": "surface"
           }
          ],
          "table": [
           {
            "cells": {
             "fill": {
              "color": "#EBF0F8"
             },
             "line": {
              "color": "white"
             }
            },
            "header": {
             "fill": {
              "color": "#C8D4E3"
             },
             "line": {
              "color": "white"
             }
            },
            "type": "table"
           }
          ]
         },
         "layout": {
          "annotationdefaults": {
           "arrowcolor": "#2a3f5f",
           "arrowhead": 0,
           "arrowwidth": 1
          },
          "autotypenumbers": "strict",
          "coloraxis": {
           "colorbar": {
            "outlinewidth": 0,
            "ticks": ""
           }
          },
          "colorscale": {
           "diverging": [
            [
             0,
             "#8e0152"
            ],
            [
             0.1,
             "#c51b7d"
            ],
            [
             0.2,
             "#de77ae"
            ],
            [
             0.3,
             "#f1b6da"
            ],
            [
             0.4,
             "#fde0ef"
            ],
            [
             0.5,
             "#f7f7f7"
            ],
            [
             0.6,
             "#e6f5d0"
            ],
            [
             0.7,
             "#b8e186"
            ],
            [
             0.8,
             "#7fbc41"
            ],
            [
             0.9,
             "#4d9221"
            ],
            [
             1,
             "#276419"
            ]
           ],
           "sequential": [
            [
             0,
             "#0d0887"
            ],
            [
             0.1111111111111111,
             "#46039f"
            ],
            [
             0.2222222222222222,
             "#7201a8"
            ],
            [
             0.3333333333333333,
             "#9c179e"
            ],
            [
             0.4444444444444444,
             "#bd3786"
            ],
            [
             0.5555555555555556,
             "#d8576b"
            ],
            [
             0.6666666666666666,
             "#ed7953"
            ],
            [
             0.7777777777777778,
             "#fb9f3a"
            ],
            [
             0.8888888888888888,
             "#fdca26"
            ],
            [
             1,
             "#f0f921"
            ]
           ],
           "sequentialminus": [
            [
             0,
             "#0d0887"
            ],
            [
             0.1111111111111111,
             "#46039f"
            ],
            [
             0.2222222222222222,
             "#7201a8"
            ],
            [
             0.3333333333333333,
             "#9c179e"
            ],
            [
             0.4444444444444444,
             "#bd3786"
            ],
            [
             0.5555555555555556,
             "#d8576b"
            ],
            [
             0.6666666666666666,
             "#ed7953"
            ],
            [
             0.7777777777777778,
             "#fb9f3a"
            ],
            [
             0.8888888888888888,
             "#fdca26"
            ],
            [
             1,
             "#f0f921"
            ]
           ]
          },
          "colorway": [
           "#636efa",
           "#EF553B",
           "#00cc96",
           "#ab63fa",
           "#FFA15A",
           "#19d3f3",
           "#FF6692",
           "#B6E880",
           "#FF97FF",
           "#FECB52"
          ],
          "font": {
           "color": "#2a3f5f"
          },
          "geo": {
           "bgcolor": "white",
           "lakecolor": "white",
           "landcolor": "#E5ECF6",
           "showlakes": true,
           "showland": true,
           "subunitcolor": "white"
          },
          "hoverlabel": {
           "align": "left"
          },
          "hovermode": "closest",
          "mapbox": {
           "style": "light"
          },
          "paper_bgcolor": "white",
          "plot_bgcolor": "#E5ECF6",
          "polar": {
           "angularaxis": {
            "gridcolor": "white",
            "linecolor": "white",
            "ticks": ""
           },
           "bgcolor": "#E5ECF6",
           "radialaxis": {
            "gridcolor": "white",
            "linecolor": "white",
            "ticks": ""
           }
          },
          "scene": {
           "xaxis": {
            "backgroundcolor": "#E5ECF6",
            "gridcolor": "white",
            "gridwidth": 2,
            "linecolor": "white",
            "showbackground": true,
            "ticks": "",
            "zerolinecolor": "white"
           },
           "yaxis": {
            "backgroundcolor": "#E5ECF6",
            "gridcolor": "white",
            "gridwidth": 2,
            "linecolor": "white",
            "showbackground": true,
            "ticks": "",
            "zerolinecolor": "white"
           },
           "zaxis": {
            "backgroundcolor": "#E5ECF6",
            "gridcolor": "white",
            "gridwidth": 2,
            "linecolor": "white",
            "showbackground": true,
            "ticks": "",
            "zerolinecolor": "white"
           }
          },
          "shapedefaults": {
           "line": {
            "color": "#2a3f5f"
           }
          },
          "ternary": {
           "aaxis": {
            "gridcolor": "white",
            "linecolor": "white",
            "ticks": ""
           },
           "baxis": {
            "gridcolor": "white",
            "linecolor": "white",
            "ticks": ""
           },
           "bgcolor": "#E5ECF6",
           "caxis": {
            "gridcolor": "white",
            "linecolor": "white",
            "ticks": ""
           }
          },
          "title": {
           "x": 0.05
          },
          "xaxis": {
           "automargin": true,
           "gridcolor": "white",
           "linecolor": "white",
           "ticks": "",
           "title": {
            "standoff": 15
           },
           "zerolinecolor": "white",
           "zerolinewidth": 2
          },
          "yaxis": {
           "automargin": true,
           "gridcolor": "white",
           "linecolor": "white",
           "ticks": "",
           "title": {
            "standoff": 15
           },
           "zerolinecolor": "white",
           "zerolinewidth": 2
          }
         }
        },
        "title": {
         "text": "Cosine sim of Input weights and the my color probe for top layer 3 neurons"
        },
        "xaxis": {
         "anchor": "y",
         "domain": [
          0,
          0.08200000000000002
         ],
         "title": {
          "text": "x"
         }
        },
        "xaxis10": {
         "anchor": "y10",
         "domain": [
          0.9180000000000001,
          1
         ],
         "matches": "x",
         "title": {
          "text": "x"
         }
        },
        "xaxis2": {
         "anchor": "y2",
         "domain": [
          0.10200000000000002,
          0.18400000000000005
         ],
         "matches": "x",
         "title": {
          "text": "x"
         }
        },
        "xaxis3": {
         "anchor": "y3",
         "domain": [
          0.20400000000000004,
          0.28600000000000003
         ],
         "matches": "x",
         "title": {
          "text": "x"
         }
        },
        "xaxis4": {
         "anchor": "y4",
         "domain": [
          0.30600000000000005,
          0.38800000000000007
         ],
         "matches": "x",
         "title": {
          "text": "x"
         }
        },
        "xaxis5": {
         "anchor": "y5",
         "domain": [
          0.4080000000000001,
          0.4900000000000001
         ],
         "matches": "x",
         "title": {
          "text": "x"
         }
        },
        "xaxis6": {
         "anchor": "y6",
         "domain": [
          0.5100000000000001,
          0.5920000000000001
         ],
         "matches": "x",
         "title": {
          "text": "x"
         }
        },
        "xaxis7": {
         "anchor": "y7",
         "domain": [
          0.6120000000000001,
          0.6940000000000002
         ],
         "matches": "x",
         "title": {
          "text": "x"
         }
        },
        "xaxis8": {
         "anchor": "y8",
         "domain": [
          0.7140000000000001,
          0.796
         ],
         "matches": "x",
         "title": {
          "text": "x"
         }
        },
        "xaxis9": {
         "anchor": "y9",
         "domain": [
          0.8160000000000002,
          0.8980000000000001
         ],
         "matches": "x",
         "title": {
          "text": "x"
         }
        },
        "yaxis": {
         "anchor": "x",
         "autorange": "reversed",
         "domain": [
          0,
          1
         ],
         "title": {
          "text": "y"
         }
        },
        "yaxis10": {
         "anchor": "x10",
         "domain": [
          0,
          1
         ],
         "matches": "y",
         "showticklabels": false
        },
        "yaxis2": {
         "anchor": "x2",
         "domain": [
          0,
          1
         ],
         "matches": "y",
         "showticklabels": false
        },
        "yaxis3": {
         "anchor": "x3",
         "domain": [
          0,
          1
         ],
         "matches": "y",
         "showticklabels": false
        },
        "yaxis4": {
         "anchor": "x4",
         "domain": [
          0,
          1
         ],
         "matches": "y",
         "showticklabels": false
        },
        "yaxis5": {
         "anchor": "x5",
         "domain": [
          0,
          1
         ],
         "matches": "y",
         "showticklabels": false
        },
        "yaxis6": {
         "anchor": "x6",
         "domain": [
          0,
          1
         ],
         "matches": "y",
         "showticklabels": false
        },
        "yaxis7": {
         "anchor": "x7",
         "domain": [
          0,
          1
         ],
         "matches": "y",
         "showticklabels": false
        },
        "yaxis8": {
         "anchor": "x8",
         "domain": [
          0,
          1
         ],
         "matches": "y",
         "showticklabels": false
        },
        "yaxis9": {
         "anchor": "x9",
         "domain": [
          0,
          1
         ],
         "matches": "y",
         "showticklabels": false
        }
       }
      }
     },
     "metadata": {},
     "output_type": "display_data"
    },
    {
     "data": {
      "application/vnd.plotly.v1+json": {
       "config": {
        "plotlyServerURL": "https://plot.ly"
       },
       "data": [
        {
         "coloraxis": "coloraxis",
         "hovertemplate": "x: %{x}<br>y: %{y}<br>color: %{z}<extra></extra>",
         "name": "0",
         "type": "heatmap",
         "xaxis": "x",
         "y": [
          "A",
          "B",
          "C",
          "D",
          "E",
          "F",
          "G",
          "H"
         ],
         "yaxis": "y",
         "z": [
          [
           -0.0460098534822464,
           -0.015111371874809265,
           -0.05237731710076332,
           0.03430302068591118,
           0.08819124847650528,
           0.027398891746997833,
           0.014026711694896221,
           -0.016687698662281036
          ],
          [
           0.05238233134150505,
           -0.00007383618503808975,
           -0.007655644789338112,
           -0.038419224321842194,
           0.06163644790649414,
           0.0369110144674778,
           -0.02231699787080288,
           0.018271610140800476
          ],
          [
           -0.08971135318279266,
           -0.10893169045448303,
           -0.0712132379412651,
           -0.03351662680506706,
           -0.0067816972732543945,
           0.018485944718122482,
           -0.010732844471931458,
           0.03763832151889801
          ],
          [
           -0.2522253692150116,
           -0.5593530535697937,
           -0.1793554723262787,
           0,
           0,
           -0.01447131484746933,
           0.04865124821662903,
           -0.008674107491970062
          ],
          [
           -0.1119324266910553,
           -0.09633176773786545,
           -0.026531364768743515,
           0,
           0,
           0.007386568933725357,
           0.01900451071560383,
           0.04579151049256325
          ],
          [
           -0.08112959563732147,
           -0.004547348245978355,
           -0.014060355722904205,
           -0.01250902097672224,
           -0.003223785199224949,
           -0.04521217569708824,
           0.0027219965122640133,
           -0.005782497115433216
          ],
          [
           0.0213506817817688,
           -0.028327763080596924,
           -0.04684813320636749,
           -0.029152024537324905,
           0.06611113250255585,
           0.008554816246032715,
           -0.013835318386554718,
           -0.014431008137762547
          ],
          [
           0.016451533883810043,
           -0.03586943447589874,
           -0.047531306743621826,
           0.05067101866006851,
           0.05804304778575897,
           0.05090209096670151,
           0.11123530566692352,
           -0.048623062670230865
          ]
         ]
        },
        {
         "coloraxis": "coloraxis",
         "hovertemplate": "x: %{x}<br>y: %{y}<br>color: %{z}<extra></extra>",
         "name": "1",
         "type": "heatmap",
         "xaxis": "x2",
         "y": [
          "A",
          "B",
          "C",
          "D",
          "E",
          "F",
          "G",
          "H"
         ],
         "yaxis": "y2",
         "z": [
          [
           -0.001670156605541706,
           -0.06953711807727814,
           -0.024902191013097763,
           -0.015912260860204697,
           0.020517634227871895,
           -0.05938110500574112,
           0.032139942049980164,
           -0.00728285126388073
          ],
          [
           -0.03494279086589813,
           -0.045122623443603516,
           0.009806475602090359,
           0.026098493486642838,
           0.060921333730220795,
           0.017859071493148804,
           0.013362172991037369,
           0.005533325951546431
          ],
          [
           -0.040059395134449005,
           -0.17479288578033447,
           -0.007611028850078583,
           -0.01895047351717949,
           -0.03478018939495087,
           -0.0003837738186120987,
           -0.01648978516459465,
           -0.008849226869642735
          ],
          [
           -0.2388676106929779,
           -0.4148394465446472,
           -0.11842440813779831,
           0,
           0,
           0.028801631182432175,
           0.017149703577160835,
           -0.03444737195968628
          ],
          [
           -0.11339344829320908,
           -0.37920111417770386,
           -0.1319386065006256,
           0,
           0,
           -0.008097624406218529,
           -0.03814515843987465,
           -0.013157407753169537
          ],
          [
           -0.04483446851372719,
           -0.14404083788394928,
           -0.014307761564850807,
           0.0030128825455904007,
           0.07379113137722015,
           0.019429761916399002,
           0.06368552148342133,
           0.05742417275905609
          ],
          [
           0.0009837709367275238,
           -0.09839430451393127,
           -0.03858007490634918,
           -0.012102851644158363,
           0.04409809410572052,
           0.027419406920671463,
           -0.05350576341152191,
           0.0000928826630115509
          ],
          [
           0.004299020394682884,
           -0.08375237137079239,
           -0.025962350890040398,
           -0.0009073354303836823,
           0.04601962864398956,
           0.024513039737939835,
           0.021715197712183,
           0.023820066824555397
          ]
         ]
        },
        {
         "coloraxis": "coloraxis",
         "hovertemplate": "x: %{x}<br>y: %{y}<br>color: %{z}<extra></extra>",
         "name": "2",
         "type": "heatmap",
         "xaxis": "x3",
         "y": [
          "A",
          "B",
          "C",
          "D",
          "E",
          "F",
          "G",
          "H"
         ],
         "yaxis": "y3",
         "z": [
          [
           -0.17563503980636597,
           -0.0678512305021286,
           -0.15697716176509857,
           -0.2304505705833435,
           -0.4551745057106018,
           -0.05941447988152504,
           0.03851427882909775,
           -0.1675843894481659
          ],
          [
           -0.05744963884353638,
           -0.05565328523516655,
           -0.05614832788705826,
           -0.051975008100271225,
           -0.1552433967590332,
           -0.03661290556192398,
           -0.12623846530914307,
           -0.044047772884368896
          ],
          [
           -0.06570178270339966,
           -0.010496152564883232,
           -0.002981852740049362,
           0.07962000370025635,
           -0.014436053112149239,
           -0.01953478902578354,
           -0.037674400955438614,
           0.013913667760789394
          ],
          [
           -0.012545101344585419,
           0.019193697720766068,
           0.09758879244327545,
           0,
           0,
           0.0621408149600029,
           0.008493666537106037,
           -0.00861821137368679
          ],
          [
           0.005027669481933117,
           -0.03936178237199783,
           -0.06580128520727158,
           0,
           0,
           0.10995118319988251,
           0.01966381072998047,
           -0.01978696882724762
          ],
          [
           -0.030058659613132477,
           -0.04981338232755661,
           -0.026922710239887238,
           -0.019969988614320755,
           0.05501679703593254,
           0.0633571520447731,
           0.028048764914274216,
           -0.009187011048197746
          ],
          [
           -0.05354353412985802,
           -0.04089886695146561,
           0.015728173777461052,
           -0.03245464339852333,
           -0.014189772307872772,
           0.00252565648406744,
           -0.03276628255844116,
           -0.028172800317406654
          ],
          [
           -0.0022775745019316673,
           -0.023496683686971664,
           -0.031205568462610245,
           -0.08087320625782013,
           -0.030872419476509094,
           -0.0536099448800087,
           -0.027593597769737244,
           0.01876642182469368
          ]
         ]
        },
        {
         "coloraxis": "coloraxis",
         "hovertemplate": "x: %{x}<br>y: %{y}<br>color: %{z}<extra></extra>",
         "name": "3",
         "type": "heatmap",
         "xaxis": "x4",
         "y": [
          "A",
          "B",
          "C",
          "D",
          "E",
          "F",
          "G",
          "H"
         ],
         "yaxis": "y4",
         "z": [
          [
           -0.017900217324495316,
           -0.004377511329948902,
           -0.029257293790578842,
           -0.013185026124119759,
           -0.010594421997666359,
           -0.06391514092683792,
           -0.016157444566488266,
           -0.019364021718502045
          ],
          [
           0.0014478610828518867,
           -0.026169516146183014,
           -0.01737077534198761,
           -0.0025281719863414764,
           -0.032373663038015366,
           -0.0807444378733635,
           -0.0057813506573438644,
           -0.01721145585179329
          ],
          [
           -0.04957221448421478,
           0.026716003194451332,
           0.0036357222124934196,
           -0.0006195679306983948,
           0.01318955048918724,
           -0.01678556203842163,
           0.005876189097762108,
           -0.02031099982559681
          ],
          [
           -0.04259411245584488,
           -0.03317677602171898,
           0.02536066621541977,
           0,
           0,
           -0.019761275500059128,
           0.006551784463226795,
           -0.06953547894954681
          ],
          [
           -0.008808797225356102,
           -0.0011205226182937622,
           0.02649456262588501,
           0,
           0,
           0.07638122886419296,
           0.037613965570926666,
           0.00046403612941503525
          ],
          [
           -0.006962122395634651,
           -0.013482359237968922,
           0.04894081503152847,
           0.02722061239182949,
           0.019431862980127335,
           0.5550774335861206,
           0.10896821320056915,
           0.07641088217496872
          ],
          [
           -0.0691073089838028,
           0.0067459587007761,
           -0.024788863956928253,
           -0.03646720200777054,
           0.0019488725811243057,
           0.1497792899608612,
           0.15214940905570984,
           0.0011771628633141518
          ],
          [
           0.03221528232097626,
           0.04327556490898132,
           0.01655629649758339,
           0.01218775287270546,
           -0.011827444657683372,
           0.05576440691947937,
           0.011487578973174095,
           0.031785376369953156
          ]
         ]
        },
        {
         "coloraxis": "coloraxis",
         "hovertemplate": "x: %{x}<br>y: %{y}<br>color: %{z}<extra></extra>",
         "name": "4",
         "type": "heatmap",
         "xaxis": "x5",
         "y": [
          "A",
          "B",
          "C",
          "D",
          "E",
          "F",
          "G",
          "H"
         ],
         "yaxis": "y5",
         "z": [
          [
           -0.1461065709590912,
           -0.011775907129049301,
           -0.037814993411302567,
           -0.008921066299080849,
           -0.020745521411299706,
           0.000734575092792511,
           -0.017574075609445572,
           0.015542782843112946
          ],
          [
           -0.0049019623547792435,
           -0.04430409520864487,
           0.024954209104180336,
           -0.01018877886235714,
           0.0468890517950058,
           0.02507208101451397,
           -0.0018497249111533165,
           0.012938413769006729
          ],
          [
           -0.03340347483754158,
           -0.008703358471393585,
           -0.032298967242240906,
           0.031547077000141144,
           0.006305044516921043,
           -0.0016008615493774414,
           0.012317310087382793,
           -0.015089383348822594
          ],
          [
           -0.23434370756149292,
           -0.08584978431463242,
           0.04298975318670273,
           0,
           0,
           0.04898551106452942,
           0.041159115731716156,
           -0.0027131326496601105
          ],
          [
           -0.4916141629219055,
           -0.171485036611557,
           -0.07110925018787384,
           0,
           0,
           0.02036929875612259,
           -0.0480419360101223,
           0.007698487490415573
          ],
          [
           -0.12257862836122513,
           0.010174348950386047,
           0.005551828071475029,
           0.00203736312687397,
           0.012963059358298779,
           0.0137033611536026,
           0.01919286698102951,
           0.027705715969204903
          ],
          [
           0.09843643009662628,
           0.015026851557195187,
           -0.036585479974746704,
           -0.04164845496416092,
           0.0061760470271110535,
           -0.04086684063076973,
           0.024441108107566833,
           0.01651935651898384
          ],
          [
           -0.11406129598617554,
           -0.10096654295921326,
           -0.05139853060245514,
           -0.006185740232467651,
           -0.03416116163134575,
           -0.0485556423664093,
           0.014873811975121498,
           0.012940993532538414
          ]
         ]
        },
        {
         "coloraxis": "coloraxis",
         "hovertemplate": "x: %{x}<br>y: %{y}<br>color: %{z}<extra></extra>",
         "name": "5",
         "type": "heatmap",
         "xaxis": "x6",
         "y": [
          "A",
          "B",
          "C",
          "D",
          "E",
          "F",
          "G",
          "H"
         ],
         "yaxis": "y6",
         "z": [
          [
           -0.053047455847263336,
           0.0013845134526491165,
           -0.0452408567070961,
           -0.04322655871510506,
           -0.019488457590341568,
           0.006232534535229206,
           0.021238327026367188,
           0.009965892881155014
          ],
          [
           -0.03324459493160248,
           0.016937602311372757,
           0.0040701404213905334,
           -0.04552114009857178,
           0.011270662769675255,
           0.01936577633023262,
           0.008857393637299538,
           -0.013796327635645866
          ],
          [
           -0.046352360397577286,
           -0.0017483700066804886,
           0.0052153076976537704,
           0.01778610423207283,
           -0.021472083404660225,
           -0.005467601120471954,
           -0.030144037678837776,
           -0.008005909621715546
          ],
          [
           0.0009567160159349442,
           -0.07929065078496933,
           0.0012804828584194183,
           0,
           0,
           0.018395327031612396,
           -0.020832259207963943,
           0.0004921993240714073
          ],
          [
           -0.08093302696943283,
           -0.14647546410560608,
           -0.08651584386825562,
           0,
           0,
           0.022204715758562088,
           0.012152484618127346,
           0.02855890430510044
          ],
          [
           -0.15999773144721985,
           -0.5742994546890259,
           -0.1113683432340622,
           -0.05291842669248581,
           0.02393733710050583,
           0.016515592113137245,
           0.016767941415309906,
           0.01991620473563671
          ],
          [
           -0.010094940662384033,
           -0.059130728244781494,
           -0.03661827743053436,
           -0.007457196246832609,
           -0.034443821758031845,
           0.0014079771935939789,
           0.0034976843744516373,
           0.041696153581142426
          ],
          [
           -0.05409890040755272,
           -0.07180428504943848,
           -0.05660145729780197,
           -0.022860269993543625,
           0.012868572026491165,
           -0.03832709789276123,
           0.00959240086376667,
           -0.011963299475610256
          ]
         ]
        },
        {
         "coloraxis": "coloraxis",
         "hovertemplate": "x: %{x}<br>y: %{y}<br>color: %{z}<extra></extra>",
         "name": "6",
         "type": "heatmap",
         "xaxis": "x7",
         "y": [
          "A",
          "B",
          "C",
          "D",
          "E",
          "F",
          "G",
          "H"
         ],
         "yaxis": "y7",
         "z": [
          [
           -0.0038042478263378143,
           -0.00048765167593955994,
           0.0668606162071228,
           0.011267801746726036,
           -0.00170830637216568,
           -0.0013648821040987968,
           -0.0006546042859554291,
           -0.005866340361535549
          ],
          [
           0.1523836851119995,
           0.0823681429028511,
           0.08767907321453094,
           0.01931789517402649,
           0.024814505130052567,
           0.011541694402694702,
           0.017474448308348656,
           -0.006642014719545841
          ],
          [
           0.04275792837142944,
           0.5746846199035645,
           0.09647750854492188,
           0.08050508052110672,
           0.03742710500955582,
           0.031140832230448723,
           -0.004029061645269394,
           0.02082733064889908
          ],
          [
           0.04095107689499855,
           0.0676802545785904,
           0.09593701362609863,
           0,
           0,
           0.004201881587505341,
           0.03609922155737877,
           0.0030795633792877197
          ],
          [
           -0.0040159206837415695,
           0.02211478166282177,
           0.04430580139160156,
           0,
           0,
           -0.015277039259672165,
           -0.018592922016978264,
           0.011063594371080399
          ],
          [
           0.019876625388860703,
           -0.0044552478939294815,
           0.0003144852817058563,
           -0.019419435411691666,
           0.004596793092787266,
           0.05953890085220337,
           -0.058761365711688995,
           -0.017838172614574432
          ],
          [
           -0.01970509998500347,
           0.019193246960639954,
           0.001470259390771389,
           0.000005517154932022095,
           -0.026316948235034943,
           -0.004959309473633766,
           -0.026614703238010406,
           -0.007934339344501495
          ],
          [
           -0.029616136103868484,
           -0.05391606688499451,
           -0.01064398605376482,
           -0.01430235430598259,
           -0.025812631472945213,
           -0.013434251770377159,
           -0.016494568437337875,
           0.03394271433353424
          ]
         ]
        },
        {
         "coloraxis": "coloraxis",
         "hovertemplate": "x: %{x}<br>y: %{y}<br>color: %{z}<extra></extra>",
         "name": "7",
         "type": "heatmap",
         "xaxis": "x8",
         "y": [
          "A",
          "B",
          "C",
          "D",
          "E",
          "F",
          "G",
          "H"
         ],
         "yaxis": "y8",
         "z": [
          [
           0.023547353222966194,
           -0.023202380165457726,
           0.0443979911506176,
           0.028170008212327957,
           0.010918756946921349,
           0.010134809650480747,
           0.009247032925486565,
           0.030637424439191818
          ],
          [
           0.019794907420873642,
           0.005358892492949963,
           0.015673160552978516,
           -0.003707621246576309,
           0.06392700970172882,
           -0.01363241858780384,
           -0.03502139821648598,
           0.026260823011398315
          ],
          [
           0.004502083174884319,
           0.016157865524291992,
           0.036514587700366974,
           -0.04871607571840286,
           0.0047309864312410355,
           -0.023706205189228058,
           -0.021172232925891876,
           0.011705726385116577
          ],
          [
           0.02524641528725624,
           0.02511400729417801,
           -0.061897870153188705,
           0,
           0,
           -0.04006943851709366,
           -0.15351657569408417,
           0.024050738662481308
          ],
          [
           0.016907915472984314,
           -0.009681396186351776,
           -0.015763046219944954,
           0,
           0,
           -0.2002600133419037,
           -0.29803532361984253,
           -0.23808637261390686
          ],
          [
           0.0689694955945015,
           0.027004767209291458,
           -0.06550926715135574,
           0.055386148393154144,
           -0.0549548976123333,
           -0.09011714160442352,
           -0.34411224722862244,
           -0.07391626387834549
          ],
          [
           0.04381169006228447,
           -0.023410703986883163,
           0.017897021025419235,
           0.014294696971774101,
           0.006920186802744865,
           0.002482376992702484,
           -0.14423364400863647,
           -0.043590839952230453
          ],
          [
           -0.02593148872256279,
           -0.041043128818273544,
           -0.05090981349349022,
           0.02541695535182953,
           0.0197841115295887,
           -0.016628097742795944,
           -0.06787686049938202,
           0.01638869382441044
          ]
         ]
        },
        {
         "coloraxis": "coloraxis",
         "hovertemplate": "x: %{x}<br>y: %{y}<br>color: %{z}<extra></extra>",
         "name": "8",
         "type": "heatmap",
         "xaxis": "x9",
         "y": [
          "A",
          "B",
          "C",
          "D",
          "E",
          "F",
          "G",
          "H"
         ],
         "yaxis": "y9",
         "z": [
          [
           -0.08871015161275864,
           -0.042665451765060425,
           0.0036796145141124725,
           0.020546825602650642,
           0.002726396545767784,
           0.042632095515728,
           0.05278383567929268,
           0.03814820200204849
          ],
          [
           0.002603796310722828,
           0.02054651454091072,
           0.016008049249649048,
           0.061020705848932266,
           -0.004530787467956543,
           0.0459001399576664,
           0.011255371384322643,
           0.02236779034137726
          ],
          [
           -0.08074051141738892,
           0.05685395747423172,
           0.03931310772895813,
           0.029395410791039467,
           0.057619430124759674,
           0.0013577938079833984,
           0.05193692073225975,
           0.0267482940107584
          ],
          [
           -0.17201511561870575,
           0.021449849009513855,
           -0.009647838771343231,
           0,
           0,
           0.057857412844896317,
           0.00326591357588768,
           0.03050929680466652
          ],
          [
           -0.11296818405389786,
           -0.019501514732837677,
           -0.004346729256212711,
           0,
           0,
           0.0405375212430954,
           0.04191005229949951,
           0.006690084934234619
          ],
          [
           -0.27036967873573303,
           -0.12737055122852325,
           -0.07030510902404785,
           0.004545677453279495,
           0.054049525409936905,
           -0.001595684327185154,
           0.004416340962052345,
           -0.028437897562980652
          ],
          [
           -0.39617085456848145,
           -0.11125437915325165,
           0.008571198210120201,
           0.030790241435170174,
           0.03399285301566124,
           0.02608494646847248,
           -0.011759378015995026,
           -0.022204579785466194
          ],
          [
           -0.14411896467208862,
           -0.0352255254983902,
           -0.02795412391424179,
           -0.030324984341859818,
           0.004859432578086853,
           0.00298110768198967,
           0.007989545352756977,
           -0.06046861410140991
          ]
         ]
        },
        {
         "coloraxis": "coloraxis",
         "hovertemplate": "x: %{x}<br>y: %{y}<br>color: %{z}<extra></extra>",
         "name": "9",
         "type": "heatmap",
         "xaxis": "x10",
         "y": [
          "A",
          "B",
          "C",
          "D",
          "E",
          "F",
          "G",
          "H"
         ],
         "yaxis": "y10",
         "z": [
          [
           -0.05848105251789093,
           -0.07793362438678741,
           -0.1554306149482727,
           -0.19643381237983704,
           -0.1022082269191742,
           -0.07885663211345673,
           -0.053413815796375275,
           -0.014774846844375134
          ],
          [
           -0.06742061674594879,
           -0.09760745614767075,
           -0.17057472467422485,
           -0.31685030460357666,
           -0.20111681520938873,
           -0.13529089093208313,
           0.0060718487948179245,
           0.002094011753797531
          ],
          [
           0.0027709919959306717,
           -0.010722186416387558,
           -0.051164232194423676,
           -0.21338339149951935,
           -0.16344234347343445,
           -0.06293618679046631,
           0.00249568372964859,
           0.043783433735370636
          ],
          [
           0.0075276680290699005,
           -0.02954251691699028,
           0.010261079296469688,
           0,
           0,
           -0.014475170522928238,
           0.0069930050522089005,
           0.008261051960289478
          ],
          [
           0.025837011635303497,
           0.06737065315246582,
           -0.009107844904065132,
           0,
           0,
           0.05776897072792053,
           0.025859583169221878,
           0.0043654292821884155
          ],
          [
           0.05684320628643036,
           -0.07486549019813538,
           -0.018728377297520638,
           0.014378968626260757,
           0.020679805427789688,
           0.06547781080007553,
           0.10877962410449982,
           0.004538644105195999
          ],
          [
           -0.02729794941842556,
           0.007570238783955574,
           -0.006864050403237343,
           0.028809405863285065,
           0.034082405269145966,
           0.012063654139637947,
           0.03236183151602745,
           0.017441917210817337
          ],
          [
           0.03744415193796158,
           0.027362868189811707,
           0.005218157544732094,
           -0.003038349561393261,
           0.01666110008955002,
           -0.00181589275598526,
           0.005324577912688255,
           0.023878775537014008
          ]
         ]
        }
       ],
       "layout": {
        "annotations": [
         {
          "font": {},
          "showarrow": false,
          "text": "L4N477",
          "x": 0.04100000000000001,
          "xanchor": "center",
          "xref": "paper",
          "y": 1,
          "yanchor": "bottom",
          "yref": "paper"
         },
         {
          "font": {},
          "showarrow": false,
          "text": "L4N1012",
          "x": 0.14300000000000004,
          "xanchor": "center",
          "xref": "paper",
          "y": 1,
          "yanchor": "bottom",
          "yref": "paper"
         },
         {
          "font": {},
          "showarrow": false,
          "text": "L4N286",
          "x": 0.24500000000000005,
          "xanchor": "center",
          "xref": "paper",
          "y": 1,
          "yanchor": "bottom",
          "yref": "paper"
         },
         {
          "font": {},
          "showarrow": false,
          "text": "L4N1760",
          "x": 0.3470000000000001,
          "xanchor": "center",
          "xref": "paper",
          "y": 1,
          "yanchor": "bottom",
          "yref": "paper"
         },
         {
          "font": {},
          "showarrow": false,
          "text": "L4N1040",
          "x": 0.44900000000000007,
          "xanchor": "center",
          "xref": "paper",
          "y": 1,
          "yanchor": "bottom",
          "yref": "paper"
         },
         {
          "font": {},
          "showarrow": false,
          "text": "L4N842",
          "x": 0.5510000000000002,
          "xanchor": "center",
          "xref": "paper",
          "y": 1,
          "yanchor": "bottom",
          "yref": "paper"
         },
         {
          "font": {},
          "showarrow": false,
          "text": "L4N539",
          "x": 0.6530000000000001,
          "xanchor": "center",
          "xref": "paper",
          "y": 1,
          "yanchor": "bottom",
          "yref": "paper"
         },
         {
          "font": {},
          "showarrow": false,
          "text": "L4N512",
          "x": 0.7550000000000001,
          "xanchor": "center",
          "xref": "paper",
          "y": 1,
          "yanchor": "bottom",
          "yref": "paper"
         },
         {
          "font": {},
          "showarrow": false,
          "text": "L4N402",
          "x": 0.8570000000000002,
          "xanchor": "center",
          "xref": "paper",
          "y": 1,
          "yanchor": "bottom",
          "yref": "paper"
         },
         {
          "font": {},
          "showarrow": false,
          "text": "L4N578",
          "x": 0.9590000000000002,
          "xanchor": "center",
          "xref": "paper",
          "y": 1,
          "yanchor": "bottom",
          "yref": "paper"
         }
        ],
        "coloraxis": {
         "cmid": 0,
         "colorscale": [
          [
           0,
           "rgb(103,0,31)"
          ],
          [
           0.1,
           "rgb(178,24,43)"
          ],
          [
           0.2,
           "rgb(214,96,77)"
          ],
          [
           0.3,
           "rgb(244,165,130)"
          ],
          [
           0.4,
           "rgb(253,219,199)"
          ],
          [
           0.5,
           "rgb(247,247,247)"
          ],
          [
           0.6,
           "rgb(209,229,240)"
          ],
          [
           0.7,
           "rgb(146,197,222)"
          ],
          [
           0.8,
           "rgb(67,147,195)"
          ],
          [
           0.9,
           "rgb(33,102,172)"
          ],
          [
           1,
           "rgb(5,48,97)"
          ]
         ]
        },
        "template": {
         "data": {
          "bar": [
           {
            "error_x": {
             "color": "#2a3f5f"
            },
            "error_y": {
             "color": "#2a3f5f"
            },
            "marker": {
             "line": {
              "color": "#E5ECF6",
              "width": 0.5
             },
             "pattern": {
              "fillmode": "overlay",
              "size": 10,
              "solidity": 0.2
             }
            },
            "type": "bar"
           }
          ],
          "barpolar": [
           {
            "marker": {
             "line": {
              "color": "#E5ECF6",
              "width": 0.5
             },
             "pattern": {
              "fillmode": "overlay",
              "size": 10,
              "solidity": 0.2
             }
            },
            "type": "barpolar"
           }
          ],
          "carpet": [
           {
            "aaxis": {
             "endlinecolor": "#2a3f5f",
             "gridcolor": "white",
             "linecolor": "white",
             "minorgridcolor": "white",
             "startlinecolor": "#2a3f5f"
            },
            "baxis": {
             "endlinecolor": "#2a3f5f",
             "gridcolor": "white",
             "linecolor": "white",
             "minorgridcolor": "white",
             "startlinecolor": "#2a3f5f"
            },
            "type": "carpet"
           }
          ],
          "choropleth": [
           {
            "colorbar": {
             "outlinewidth": 0,
             "ticks": ""
            },
            "type": "choropleth"
           }
          ],
          "contour": [
           {
            "colorbar": {
             "outlinewidth": 0,
             "ticks": ""
            },
            "colorscale": [
             [
              0,
              "#0d0887"
             ],
             [
              0.1111111111111111,
              "#46039f"
             ],
             [
              0.2222222222222222,
              "#7201a8"
             ],
             [
              0.3333333333333333,
              "#9c179e"
             ],
             [
              0.4444444444444444,
              "#bd3786"
             ],
             [
              0.5555555555555556,
              "#d8576b"
             ],
             [
              0.6666666666666666,
              "#ed7953"
             ],
             [
              0.7777777777777778,
              "#fb9f3a"
             ],
             [
              0.8888888888888888,
              "#fdca26"
             ],
             [
              1,
              "#f0f921"
             ]
            ],
            "type": "contour"
           }
          ],
          "contourcarpet": [
           {
            "colorbar": {
             "outlinewidth": 0,
             "ticks": ""
            },
            "type": "contourcarpet"
           }
          ],
          "heatmap": [
           {
            "colorbar": {
             "outlinewidth": 0,
             "ticks": ""
            },
            "colorscale": [
             [
              0,
              "#0d0887"
             ],
             [
              0.1111111111111111,
              "#46039f"
             ],
             [
              0.2222222222222222,
              "#7201a8"
             ],
             [
              0.3333333333333333,
              "#9c179e"
             ],
             [
              0.4444444444444444,
              "#bd3786"
             ],
             [
              0.5555555555555556,
              "#d8576b"
             ],
             [
              0.6666666666666666,
              "#ed7953"
             ],
             [
              0.7777777777777778,
              "#fb9f3a"
             ],
             [
              0.8888888888888888,
              "#fdca26"
             ],
             [
              1,
              "#f0f921"
             ]
            ],
            "type": "heatmap"
           }
          ],
          "heatmapgl": [
           {
            "colorbar": {
             "outlinewidth": 0,
             "ticks": ""
            },
            "colorscale": [
             [
              0,
              "#0d0887"
             ],
             [
              0.1111111111111111,
              "#46039f"
             ],
             [
              0.2222222222222222,
              "#7201a8"
             ],
             [
              0.3333333333333333,
              "#9c179e"
             ],
             [
              0.4444444444444444,
              "#bd3786"
             ],
             [
              0.5555555555555556,
              "#d8576b"
             ],
             [
              0.6666666666666666,
              "#ed7953"
             ],
             [
              0.7777777777777778,
              "#fb9f3a"
             ],
             [
              0.8888888888888888,
              "#fdca26"
             ],
             [
              1,
              "#f0f921"
             ]
            ],
            "type": "heatmapgl"
           }
          ],
          "histogram": [
           {
            "marker": {
             "pattern": {
              "fillmode": "overlay",
              "size": 10,
              "solidity": 0.2
             }
            },
            "type": "histogram"
           }
          ],
          "histogram2d": [
           {
            "colorbar": {
             "outlinewidth": 0,
             "ticks": ""
            },
            "colorscale": [
             [
              0,
              "#0d0887"
             ],
             [
              0.1111111111111111,
              "#46039f"
             ],
             [
              0.2222222222222222,
              "#7201a8"
             ],
             [
              0.3333333333333333,
              "#9c179e"
             ],
             [
              0.4444444444444444,
              "#bd3786"
             ],
             [
              0.5555555555555556,
              "#d8576b"
             ],
             [
              0.6666666666666666,
              "#ed7953"
             ],
             [
              0.7777777777777778,
              "#fb9f3a"
             ],
             [
              0.8888888888888888,
              "#fdca26"
             ],
             [
              1,
              "#f0f921"
             ]
            ],
            "type": "histogram2d"
           }
          ],
          "histogram2dcontour": [
           {
            "colorbar": {
             "outlinewidth": 0,
             "ticks": ""
            },
            "colorscale": [
             [
              0,
              "#0d0887"
             ],
             [
              0.1111111111111111,
              "#46039f"
             ],
             [
              0.2222222222222222,
              "#7201a8"
             ],
             [
              0.3333333333333333,
              "#9c179e"
             ],
             [
              0.4444444444444444,
              "#bd3786"
             ],
             [
              0.5555555555555556,
              "#d8576b"
             ],
             [
              0.6666666666666666,
              "#ed7953"
             ],
             [
              0.7777777777777778,
              "#fb9f3a"
             ],
             [
              0.8888888888888888,
              "#fdca26"
             ],
             [
              1,
              "#f0f921"
             ]
            ],
            "type": "histogram2dcontour"
           }
          ],
          "mesh3d": [
           {
            "colorbar": {
             "outlinewidth": 0,
             "ticks": ""
            },
            "type": "mesh3d"
           }
          ],
          "parcoords": [
           {
            "line": {
             "colorbar": {
              "outlinewidth": 0,
              "ticks": ""
             }
            },
            "type": "parcoords"
           }
          ],
          "pie": [
           {
            "automargin": true,
            "type": "pie"
           }
          ],
          "scatter": [
           {
            "fillpattern": {
             "fillmode": "overlay",
             "size": 10,
             "solidity": 0.2
            },
            "type": "scatter"
           }
          ],
          "scatter3d": [
           {
            "line": {
             "colorbar": {
              "outlinewidth": 0,
              "ticks": ""
             }
            },
            "marker": {
             "colorbar": {
              "outlinewidth": 0,
              "ticks": ""
             }
            },
            "type": "scatter3d"
           }
          ],
          "scattercarpet": [
           {
            "marker": {
             "colorbar": {
              "outlinewidth": 0,
              "ticks": ""
             }
            },
            "type": "scattercarpet"
           }
          ],
          "scattergeo": [
           {
            "marker": {
             "colorbar": {
              "outlinewidth": 0,
              "ticks": ""
             }
            },
            "type": "scattergeo"
           }
          ],
          "scattergl": [
           {
            "marker": {
             "colorbar": {
              "outlinewidth": 0,
              "ticks": ""
             }
            },
            "type": "scattergl"
           }
          ],
          "scattermapbox": [
           {
            "marker": {
             "colorbar": {
              "outlinewidth": 0,
              "ticks": ""
             }
            },
            "type": "scattermapbox"
           }
          ],
          "scatterpolar": [
           {
            "marker": {
             "colorbar": {
              "outlinewidth": 0,
              "ticks": ""
             }
            },
            "type": "scatterpolar"
           }
          ],
          "scatterpolargl": [
           {
            "marker": {
             "colorbar": {
              "outlinewidth": 0,
              "ticks": ""
             }
            },
            "type": "scatterpolargl"
           }
          ],
          "scatterternary": [
           {
            "marker": {
             "colorbar": {
              "outlinewidth": 0,
              "ticks": ""
             }
            },
            "type": "scatterternary"
           }
          ],
          "surface": [
           {
            "colorbar": {
             "outlinewidth": 0,
             "ticks": ""
            },
            "colorscale": [
             [
              0,
              "#0d0887"
             ],
             [
              0.1111111111111111,
              "#46039f"
             ],
             [
              0.2222222222222222,
              "#7201a8"
             ],
             [
              0.3333333333333333,
              "#9c179e"
             ],
             [
              0.4444444444444444,
              "#bd3786"
             ],
             [
              0.5555555555555556,
              "#d8576b"
             ],
             [
              0.6666666666666666,
              "#ed7953"
             ],
             [
              0.7777777777777778,
              "#fb9f3a"
             ],
             [
              0.8888888888888888,
              "#fdca26"
             ],
             [
              1,
              "#f0f921"
             ]
            ],
            "type": "surface"
           }
          ],
          "table": [
           {
            "cells": {
             "fill": {
              "color": "#EBF0F8"
             },
             "line": {
              "color": "white"
             }
            },
            "header": {
             "fill": {
              "color": "#C8D4E3"
             },
             "line": {
              "color": "white"
             }
            },
            "type": "table"
           }
          ]
         },
         "layout": {
          "annotationdefaults": {
           "arrowcolor": "#2a3f5f",
           "arrowhead": 0,
           "arrowwidth": 1
          },
          "autotypenumbers": "strict",
          "coloraxis": {
           "colorbar": {
            "outlinewidth": 0,
            "ticks": ""
           }
          },
          "colorscale": {
           "diverging": [
            [
             0,
             "#8e0152"
            ],
            [
             0.1,
             "#c51b7d"
            ],
            [
             0.2,
             "#de77ae"
            ],
            [
             0.3,
             "#f1b6da"
            ],
            [
             0.4,
             "#fde0ef"
            ],
            [
             0.5,
             "#f7f7f7"
            ],
            [
             0.6,
             "#e6f5d0"
            ],
            [
             0.7,
             "#b8e186"
            ],
            [
             0.8,
             "#7fbc41"
            ],
            [
             0.9,
             "#4d9221"
            ],
            [
             1,
             "#276419"
            ]
           ],
           "sequential": [
            [
             0,
             "#0d0887"
            ],
            [
             0.1111111111111111,
             "#46039f"
            ],
            [
             0.2222222222222222,
             "#7201a8"
            ],
            [
             0.3333333333333333,
             "#9c179e"
            ],
            [
             0.4444444444444444,
             "#bd3786"
            ],
            [
             0.5555555555555556,
             "#d8576b"
            ],
            [
             0.6666666666666666,
             "#ed7953"
            ],
            [
             0.7777777777777778,
             "#fb9f3a"
            ],
            [
             0.8888888888888888,
             "#fdca26"
            ],
            [
             1,
             "#f0f921"
            ]
           ],
           "sequentialminus": [
            [
             0,
             "#0d0887"
            ],
            [
             0.1111111111111111,
             "#46039f"
            ],
            [
             0.2222222222222222,
             "#7201a8"
            ],
            [
             0.3333333333333333,
             "#9c179e"
            ],
            [
             0.4444444444444444,
             "#bd3786"
            ],
            [
             0.5555555555555556,
             "#d8576b"
            ],
            [
             0.6666666666666666,
             "#ed7953"
            ],
            [
             0.7777777777777778,
             "#fb9f3a"
            ],
            [
             0.8888888888888888,
             "#fdca26"
            ],
            [
             1,
             "#f0f921"
            ]
           ]
          },
          "colorway": [
           "#636efa",
           "#EF553B",
           "#00cc96",
           "#ab63fa",
           "#FFA15A",
           "#19d3f3",
           "#FF6692",
           "#B6E880",
           "#FF97FF",
           "#FECB52"
          ],
          "font": {
           "color": "#2a3f5f"
          },
          "geo": {
           "bgcolor": "white",
           "lakecolor": "white",
           "landcolor": "#E5ECF6",
           "showlakes": true,
           "showland": true,
           "subunitcolor": "white"
          },
          "hoverlabel": {
           "align": "left"
          },
          "hovermode": "closest",
          "mapbox": {
           "style": "light"
          },
          "paper_bgcolor": "white",
          "plot_bgcolor": "#E5ECF6",
          "polar": {
           "angularaxis": {
            "gridcolor": "white",
            "linecolor": "white",
            "ticks": ""
           },
           "bgcolor": "#E5ECF6",
           "radialaxis": {
            "gridcolor": "white",
            "linecolor": "white",
            "ticks": ""
           }
          },
          "scene": {
           "xaxis": {
            "backgroundcolor": "#E5ECF6",
            "gridcolor": "white",
            "gridwidth": 2,
            "linecolor": "white",
            "showbackground": true,
            "ticks": "",
            "zerolinecolor": "white"
           },
           "yaxis": {
            "backgroundcolor": "#E5ECF6",
            "gridcolor": "white",
            "gridwidth": 2,
            "linecolor": "white",
            "showbackground": true,
            "ticks": "",
            "zerolinecolor": "white"
           },
           "zaxis": {
            "backgroundcolor": "#E5ECF6",
            "gridcolor": "white",
            "gridwidth": 2,
            "linecolor": "white",
            "showbackground": true,
            "ticks": "",
            "zerolinecolor": "white"
           }
          },
          "shapedefaults": {
           "line": {
            "color": "#2a3f5f"
           }
          },
          "ternary": {
           "aaxis": {
            "gridcolor": "white",
            "linecolor": "white",
            "ticks": ""
           },
           "baxis": {
            "gridcolor": "white",
            "linecolor": "white",
            "ticks": ""
           },
           "bgcolor": "#E5ECF6",
           "caxis": {
            "gridcolor": "white",
            "linecolor": "white",
            "ticks": ""
           }
          },
          "title": {
           "x": 0.05
          },
          "xaxis": {
           "automargin": true,
           "gridcolor": "white",
           "linecolor": "white",
           "ticks": "",
           "title": {
            "standoff": 15
           },
           "zerolinecolor": "white",
           "zerolinewidth": 2
          },
          "yaxis": {
           "automargin": true,
           "gridcolor": "white",
           "linecolor": "white",
           "ticks": "",
           "title": {
            "standoff": 15
           },
           "zerolinecolor": "white",
           "zerolinewidth": 2
          }
         }
        },
        "title": {
         "text": "Cosine sim of Input weights and the my color probe for top layer 4 neurons"
        },
        "xaxis": {
         "anchor": "y",
         "domain": [
          0,
          0.08200000000000002
         ],
         "title": {
          "text": "x"
         }
        },
        "xaxis10": {
         "anchor": "y10",
         "domain": [
          0.9180000000000001,
          1
         ],
         "matches": "x",
         "title": {
          "text": "x"
         }
        },
        "xaxis2": {
         "anchor": "y2",
         "domain": [
          0.10200000000000002,
          0.18400000000000005
         ],
         "matches": "x",
         "title": {
          "text": "x"
         }
        },
        "xaxis3": {
         "anchor": "y3",
         "domain": [
          0.20400000000000004,
          0.28600000000000003
         ],
         "matches": "x",
         "title": {
          "text": "x"
         }
        },
        "xaxis4": {
         "anchor": "y4",
         "domain": [
          0.30600000000000005,
          0.38800000000000007
         ],
         "matches": "x",
         "title": {
          "text": "x"
         }
        },
        "xaxis5": {
         "anchor": "y5",
         "domain": [
          0.4080000000000001,
          0.4900000000000001
         ],
         "matches": "x",
         "title": {
          "text": "x"
         }
        },
        "xaxis6": {
         "anchor": "y6",
         "domain": [
          0.5100000000000001,
          0.5920000000000001
         ],
         "matches": "x",
         "title": {
          "text": "x"
         }
        },
        "xaxis7": {
         "anchor": "y7",
         "domain": [
          0.6120000000000001,
          0.6940000000000002
         ],
         "matches": "x",
         "title": {
          "text": "x"
         }
        },
        "xaxis8": {
         "anchor": "y8",
         "domain": [
          0.7140000000000001,
          0.796
         ],
         "matches": "x",
         "title": {
          "text": "x"
         }
        },
        "xaxis9": {
         "anchor": "y9",
         "domain": [
          0.8160000000000002,
          0.8980000000000001
         ],
         "matches": "x",
         "title": {
          "text": "x"
         }
        },
        "yaxis": {
         "anchor": "x",
         "autorange": "reversed",
         "domain": [
          0,
          1
         ],
         "title": {
          "text": "y"
         }
        },
        "yaxis10": {
         "anchor": "x10",
         "domain": [
          0,
          1
         ],
         "matches": "y",
         "showticklabels": false
        },
        "yaxis2": {
         "anchor": "x2",
         "domain": [
          0,
          1
         ],
         "matches": "y",
         "showticklabels": false
        },
        "yaxis3": {
         "anchor": "x3",
         "domain": [
          0,
          1
         ],
         "matches": "y",
         "showticklabels": false
        },
        "yaxis4": {
         "anchor": "x4",
         "domain": [
          0,
          1
         ],
         "matches": "y",
         "showticklabels": false
        },
        "yaxis5": {
         "anchor": "x5",
         "domain": [
          0,
          1
         ],
         "matches": "y",
         "showticklabels": false
        },
        "yaxis6": {
         "anchor": "x6",
         "domain": [
          0,
          1
         ],
         "matches": "y",
         "showticklabels": false
        },
        "yaxis7": {
         "anchor": "x7",
         "domain": [
          0,
          1
         ],
         "matches": "y",
         "showticklabels": false
        },
        "yaxis8": {
         "anchor": "x8",
         "domain": [
          0,
          1
         ],
         "matches": "y",
         "showticklabels": false
        },
        "yaxis9": {
         "anchor": "x9",
         "domain": [
          0,
          1
         ],
         "matches": "y",
         "showticklabels": false
        }
       }
      }
     },
     "metadata": {},
     "output_type": "display_data"
    },
    {
     "data": {
      "application/vnd.plotly.v1+json": {
       "config": {
        "plotlyServerURL": "https://plot.ly"
       },
       "data": [
        {
         "coloraxis": "coloraxis",
         "hovertemplate": "x: %{x}<br>y: %{y}<br>color: %{z}<extra></extra>",
         "name": "0",
         "type": "heatmap",
         "xaxis": "x",
         "y": [
          "A",
          "B",
          "C",
          "D",
          "E",
          "F",
          "G",
          "H"
         ],
         "yaxis": "y",
         "z": [
          [
           -0.022974364459514618,
           0.021474573761224747,
           0.03930731117725372,
           -0.03660087659955025,
           0.004888225346803665,
           -0.01599746197462082,
           -0.034237541258335114,
           0.010176364332437515
          ],
          [
           0.02057197317481041,
           0.030139541253447533,
           0.03831489756703377,
           -0.0030380766838788986,
           -0.010032130405306816,
           -0.010345002636313438,
           -0.019395332783460617,
           -0.020467516034841537
          ],
          [
           0.0335710346698761,
           -0.0031759534031152725,
           0.01888050138950348,
           -0.029134921729564667,
           0.04053543508052826,
           0.041068196296691895,
           0.003429912030696869,
           -0.014975851401686668
          ],
          [
           -0.05899320915341377,
           -0.01743282563984394,
           0.05636044591665268,
           0,
           0,
           0.004382520914077759,
           -0.019951460883021355,
           -0.0013554263859987259
          ],
          [
           -0.016644548624753952,
           0.027128227055072784,
           0.5917327404022217,
           0,
           0,
           0.039825063198804855,
           -0.025820370763540268,
           -0.0007941927760839462
          ],
          [
           -0.03560532629489899,
           0.21671009063720703,
           -0.01714370958507061,
           0.05427710339426994,
           -0.0026535391807556152,
           -0.029857223853468895,
           0.04250014200806618,
           -0.005861449055373669
          ],
          [
           0.1470545381307602,
           -0.016216125339269638,
           0.010220400989055634,
           -0.010060423985123634,
           0.03026009164750576,
           -0.000955488532781601,
           0.01446362491697073,
           -0.06131759285926819
          ],
          [
           -0.03292020410299301,
           -0.007576938718557358,
           0.006739350035786629,
           0.015679998323321342,
           -0.0035384618677198887,
           0.0009882189333438873,
           -0.02880297601222992,
           -0.04091615974903107
          ]
         ]
        },
        {
         "coloraxis": "coloraxis",
         "hovertemplate": "x: %{x}<br>y: %{y}<br>color: %{z}<extra></extra>",
         "name": "1",
         "type": "heatmap",
         "xaxis": "x2",
         "y": [
          "A",
          "B",
          "C",
          "D",
          "E",
          "F",
          "G",
          "H"
         ],
         "yaxis": "y2",
         "z": [
          [
           -0.016585152596235275,
           0.01573740318417549,
           -0.010423114523291588,
           -0.0023172833025455475,
           -0.028388813138008118,
           -0.07623855024576187,
           -0.007574526593089104,
           0.002185290679335594
          ],
          [
           -0.06773451715707779,
           -0.03557630628347397,
           -0.055389225482940674,
           0.001345071941614151,
           -0.03587069362401962,
           -0.1044478565454483,
           -0.051228806376457214,
           -0.013512234203517437
          ],
          [
           -0.015605190768837929,
           -0.008657936006784439,
           -0.026371274143457413,
           0.05540994554758072,
           0.01771833375096321,
           -0.060728177428245544,
           -0.009389623999595642,
           -0.030920183286070824
          ],
          [
           -0.03344365581870079,
           -0.02261345088481903,
           0.05898645520210266,
           0,
           0,
           -0.016442980617284775,
           -0.025229722261428833,
           -0.055281560868024826
          ],
          [
           -0.02727501466870308,
           -0.007990939542651176,
           -0.0011961106210947037,
           0,
           0,
           0.006707318127155304,
           -0.03799797222018242,
           -0.015038687735795975
          ],
          [
           -0.014937970787286758,
           -0.0661592036485672,
           0.020736558362841606,
           0.013846391811966896,
           0.028441980481147766,
           0.3736993670463562,
           0.1753198653459549,
           0.021395167335867882
          ],
          [
           -0.0401175357401371,
           -0.03570541739463806,
           -0.05055926740169525,
           -0.08609100431203842,
           0.06969694793224335,
           0.3128202557563782,
           0.27238643169403076,
           0.024544205516576767
          ],
          [
           0.07070329785346985,
           -0.006204303354024887,
           -0.004988064989447594,
           -0.01714923232793808,
           0.04553218185901642,
           0.03768838942050934,
           0.07464033365249634,
           0.09258639067411423
          ]
         ]
        },
        {
         "coloraxis": "coloraxis",
         "hovertemplate": "x: %{x}<br>y: %{y}<br>color: %{z}<extra></extra>",
         "name": "2",
         "type": "heatmap",
         "xaxis": "x3",
         "y": [
          "A",
          "B",
          "C",
          "D",
          "E",
          "F",
          "G",
          "H"
         ],
         "yaxis": "y3",
         "z": [
          [
           -0.029134690761566162,
           0.00008117780089378357,
           0.0011454205960035324,
           -0.019887814298272133,
           -0.0011652763932943344,
           0.003233550116419792,
           0.012687691487371922,
           0.06955643743276596
          ],
          [
           0.004062335938215256,
           0.0030705388635396957,
           -0.0047308094799518585,
           -0.052205707877874374,
           0.03294135630130768,
           -0.002667231485247612,
           0.13985076546669006,
           0.0011580856516957283
          ],
          [
           -0.006712457165122032,
           0.009101198986172676,
           -0.02346624620258808,
           0.0005145296454429626,
           0.021313361823558807,
           0.6314870715141296,
           0.040236663073301315,
           -0.025380870327353477
          ],
          [
           -0.029751412570476532,
           -0.022701391950249672,
           0.008391532115638256,
           0,
           0,
           -0.003193936310708523,
           0.005660809576511383,
           -0.0069723911583423615
          ],
          [
           -0.006839318200945854,
           0.011174662038683891,
           0.0321459136903286,
           0,
           0,
           0.026645805686712265,
           0.03174038976430893,
           0.016653623431921005
          ],
          [
           -0.007286211475729942,
           0.005702974274754524,
           -0.008546285331249237,
           0.03800796717405319,
           0.01825307123363018,
           0.023803982883691788,
           0.04467000067234039,
           -0.0058633070439100266
          ],
          [
           0.011719834059476852,
           -0.029740504920482635,
           -0.038812294602394104,
           0.003637639805674553,
           0.0018172673881053925,
           -0.01316802203655243,
           0.0017246156930923462,
           -0.011615119874477386
          ],
          [
           0.011771738529205322,
           0.016184024512767792,
           0.002404182218015194,
           0.02547719143331051,
           -0.010211185552179813,
           -0.009350301697850227,
           -0.01935557834804058,
           -0.021220222115516663
          ]
         ]
        },
        {
         "coloraxis": "coloraxis",
         "hovertemplate": "x: %{x}<br>y: %{y}<br>color: %{z}<extra></extra>",
         "name": "3",
         "type": "heatmap",
         "xaxis": "x4",
         "y": [
          "A",
          "B",
          "C",
          "D",
          "E",
          "F",
          "G",
          "H"
         ],
         "yaxis": "y4",
         "z": [
          [
           -0.037002213299274445,
           0.018742650747299194,
           -0.054568976163864136,
           0.005508690141141415,
           -0.029407449066638947,
           -0.014695455320179462,
           -0.015748977661132812,
           -0.00792807899415493
          ],
          [
           0.04304679483175278,
           -0.010873236693441868,
           0.005050100386142731,
           0.018948648124933243,
           0.004584620241075754,
           0.009053461253643036,
           -0.020525380969047546,
           -0.022735800594091415
          ],
          [
           -0.017607087269425392,
           0.052586525678634644,
           -0.008137368597090244,
           0.05562170594930649,
           0.04198775440454483,
           0.03212971240282059,
           0.0022379104048013687,
           0.02610565349459648
          ],
          [
           0.04411263391375542,
           0.08168242126703262,
           0.603380560874939,
           0,
           0,
           0.022974655032157898,
           -0.0015733018517494202,
           -0.02214612439274788
          ],
          [
           -0.02688860334455967,
           0.0015485836192965508,
           0.033080797642469406,
           0,
           0,
           0.010968953371047974,
           -0.014981020241975784,
           0.0024701347574591637
          ],
          [
           0.041519589722156525,
           -0.022489670664072037,
           0.024776404723525047,
           0.007077882066369057,
           0.0443294532597065,
           -0.0014902865514159203,
           -0.030373433604836464,
           -0.039168208837509155
          ],
          [
           0.012747541069984436,
           0.04179093986749649,
           -0.019745757803320885,
           0.00631742924451828,
           -0.020063381642103195,
           -0.0252109095454216,
           -0.016177749261260033,
           -0.012874055653810501
          ],
          [
           -0.01564629375934601,
           -0.04200471192598343,
           -0.01230054721236229,
           -0.025641392916440964,
           -0.014121785759925842,
           -0.07218816131353378,
           -0.0478387176990509,
           -0.04063739627599716
          ]
         ]
        },
        {
         "coloraxis": "coloraxis",
         "hovertemplate": "x: %{x}<br>y: %{y}<br>color: %{z}<extra></extra>",
         "name": "4",
         "type": "heatmap",
         "xaxis": "x5",
         "y": [
          "A",
          "B",
          "C",
          "D",
          "E",
          "F",
          "G",
          "H"
         ],
         "yaxis": "y5",
         "z": [
          [
           -0.004367462359368801,
           -0.04072953760623932,
           -0.03398372232913971,
           0.002723338082432747,
           0.012923091650009155,
           -0.014178624376654625,
           -0.013941071927547455,
           -0.009019885212182999
          ],
          [
           -0.010042877867817879,
           0.013761728070676327,
           -0.0500711090862751,
           0.011946778744459152,
           -0.00032736919820308685,
           -0.03109510987997055,
           -0.018981069326400757,
           -0.03381695970892906
          ],
          [
           -0.00423765555024147,
           -0.009771079756319523,
           -0.009935751557350159,
           0.009346035309135914,
           0.0026389583945274353,
           0.038559697568416595,
           -0.008335971273481846,
           -0.029626458883285522
          ],
          [
           -0.027749711647629738,
           -0.027659058570861816,
           -0.005313682835549116,
           0,
           0,
           0.028474964201450348,
           0.06555429100990295,
           -0.048626407980918884
          ],
          [
           -0.011639239266514778,
           -0.03090052865445614,
           0.012214531190693378,
           0,
           0,
           0.5979279279708862,
           0.056549325585365295,
           -0.01273132860660553
          ],
          [
           -0.04075729101896286,
           -0.010400267317891121,
           0.005702299997210503,
           0.00941039714962244,
           0.006050454452633858,
           0.06744587421417236,
           0.021513624116778374,
           -0.03076166659593582
          ],
          [
           -0.03691340237855911,
           0.028042830526828766,
           -0.016662156209349632,
           0.037585508078336716,
           0.021877184510231018,
           0.07365299761295319,
           0.02418406307697296,
           -0.026200201362371445
          ],
          [
           -0.030131040140986443,
           -0.017691586166620255,
           0.01573576219379902,
           0.013479020446538925,
           0.005463543348014355,
           -0.01955462247133255,
           -0.0359194278717041,
           -0.011726215481758118
          ]
         ]
        },
        {
         "coloraxis": "coloraxis",
         "hovertemplate": "x: %{x}<br>y: %{y}<br>color: %{z}<extra></extra>",
         "name": "5",
         "type": "heatmap",
         "xaxis": "x6",
         "y": [
          "A",
          "B",
          "C",
          "D",
          "E",
          "F",
          "G",
          "H"
         ],
         "yaxis": "y6",
         "z": [
          [
           -0.05027400329709053,
           0.10110132396221161,
           0.1065814271569252,
           0.0660463497042656,
           -0.03158268705010414,
           0.02087138220667839,
           0.028185002505779266,
           0.04878998547792435
          ],
          [
           0.004989175125956535,
           0.017859548330307007,
           0.6041138172149658,
           0.10368140786886215,
           0.03904399275779724,
           0.021780800074338913,
           0.026873905211687088,
           -0.0013761185109615326
          ],
          [
           0.03481428697705269,
           0.010931055061519146,
           0.05853767693042755,
           0.08692922443151474,
           0.053776174783706665,
           0.024563385173678398,
           0.02562841773033142,
           0.0015670321881771088
          ],
          [
           0.02962934412062168,
           0.02379346638917923,
           0.07756835967302322,
           0,
           0,
           0.036191411316394806,
           0.016363218426704407,
           0.010843846946954727
          ],
          [
           0.03189121186733246,
           0.022830307483673096,
           0.018221376463770866,
           0,
           0,
           -0.014833841472864151,
           -0.013334418646991253,
           0.011730918660759926
          ],
          [
           0.03648834675550461,
           0.02950167842209339,
           -0.005750139243900776,
           0.0181136354804039,
           0.009598134085536003,
           -0.006086532957851887,
           -0.03263497352600098,
           0.00001256447285413742
          ],
          [
           0.03294117748737335,
           -0.014835275709629059,
           -0.02287350222468376,
           0.01777161844074726,
           -0.014788646250963211,
           0.01801382750272751,
           0.0034301429986953735,
           -0.017944538965821266
          ],
          [
           0.009312480688095093,
           -0.009341072291135788,
           0.005074125714600086,
           -0.012756864540278912,
           0.008089694194495678,
           -0.00570252351462841,
           0.02575574815273285,
           -0.010427683591842651
          ]
         ]
        },
        {
         "coloraxis": "coloraxis",
         "hovertemplate": "x: %{x}<br>y: %{y}<br>color: %{z}<extra></extra>",
         "name": "6",
         "type": "heatmap",
         "xaxis": "x7",
         "y": [
          "A",
          "B",
          "C",
          "D",
          "E",
          "F",
          "G",
          "H"
         ],
         "yaxis": "y7",
         "z": [
          [
           -0.00717554148286581,
           -0.002013884484767914,
           -0.011017797514796257,
           -0.01645975559949875,
           -0.05306299775838852,
           -0.025301042944192886,
           -0.023774180561304092,
           -0.006131144240498543
          ],
          [
           -0.012692729942500591,
           0.03683389723300934,
           0.0166935957968235,
           0.008301399648189545,
           0.004553804639726877,
           0.029162198305130005,
           0.04640998691320419,
           -0.04164053499698639
          ],
          [
           -0.020864073187112808,
           -0.048846445977687836,
           0.04227829352021217,
           -0.00001524016261100769,
           0.005527999252080917,
           0.01226009614765644,
           0.005384726449847221,
           -0.039941027760505676
          ],
          [
           -0.01896277815103531,
           0.031118083745241165,
           0.002339143306016922,
           0,
           0,
           0.01994788832962513,
           0.017189662903547287,
           -0.03236900642514229
          ],
          [
           -0.02524014376103878,
           -0.02043403871357441,
           0.010049439035356045,
           0,
           0,
           -0.0688965767621994,
           -0.05706880986690521,
           0.01139491144567728
          ],
          [
           -0.006433749571442604,
           -0.004557511769235134,
           -0.00240187905728817,
           0.028924476355314255,
           0.005644835531711578,
           -0.4341675043106079,
           -0.04755300655961037,
           0.12561169266700745
          ],
          [
           -0.0361773818731308,
           -0.01801982894539833,
           -0.0004735812544822693,
           0.009050745517015457,
           0.04225708171725273,
           0.00662805512547493,
           -0.3646963834762573,
           -0.1000729650259018
          ],
          [
           -0.010221071541309357,
           -0.007582732476294041,
           -0.04338671267032623,
           -0.046198561787605286,
           0.05647553876042366,
           -0.03615491837263107,
           -0.05016043782234192,
           -0.18295228481292725
          ]
         ]
        },
        {
         "coloraxis": "coloraxis",
         "hovertemplate": "x: %{x}<br>y: %{y}<br>color: %{z}<extra></extra>",
         "name": "7",
         "type": "heatmap",
         "xaxis": "x8",
         "y": [
          "A",
          "B",
          "C",
          "D",
          "E",
          "F",
          "G",
          "H"
         ],
         "yaxis": "y8",
         "z": [
          [
           -0.03195162117481232,
           -0.01730327308177948,
           -0.025300737470388412,
           -0.0065210722386837006,
           0.02417355589568615,
           0.03242770954966545,
           -0.014756079763174057,
           -0.026180395856499672
          ],
          [
           -0.060485873371362686,
           -0.007342495024204254,
           -0.02256952039897442,
           -0.018015550449490547,
           0.01942451484501362,
           0.09858628362417221,
           -0.007285760715603828,
           0.0805908590555191
          ],
          [
           -0.01770150475203991,
           0.03343530744314194,
           -0.0745171308517456,
           -0.02835821360349655,
           0.07043714821338654,
           0.06170091778039932,
           0.5321793556213379,
           0.05030215159058571
          ],
          [
           -0.04424656182527542,
           0.007378321141004562,
           -0.0010079219937324524,
           0,
           0,
           0.1827734410762787,
           0.1398942619562149,
           -0.020639965310692787
          ],
          [
           -0.017327815294265747,
           0.008111674338579178,
           0.034295566380023956,
           0,
           0,
           -0.017229098826646805,
           0.06933315098285675,
           -0.027950607240200043
          ],
          [
           -0.01596710830926895,
           0.0034311171621084213,
           -0.01751764863729477,
           -0.017112981528043747,
           0.020176755264401436,
           -0.030536163598299026,
           -0.015698174014687538,
           -0.03850593790411949
          ],
          [
           0.02771172672510147,
           0.02456623874604702,
           0.00883089192211628,
           -0.020182041451334953,
           -0.03613152354955673,
           0.018402796238660812,
           0.01006323378533125,
           -0.04183213412761688
          ],
          [
           -0.009505089372396469,
           -0.021598434075713158,
           0.016260487958788872,
           -0.040306247770786285,
           0.057392120361328125,
           -0.0009704157710075378,
           0.02243284322321415,
           -0.05901589244604111
          ]
         ]
        },
        {
         "coloraxis": "coloraxis",
         "hovertemplate": "x: %{x}<br>y: %{y}<br>color: %{z}<extra></extra>",
         "name": "8",
         "type": "heatmap",
         "xaxis": "x9",
         "y": [
          "A",
          "B",
          "C",
          "D",
          "E",
          "F",
          "G",
          "H"
         ],
         "yaxis": "y9",
         "z": [
          [
           -0.02559540793299675,
           -0.016766440123319626,
           -0.022232111543416977,
           -0.035783275961875916,
           -0.000565042719244957,
           0.014639654196798801,
           0.0018056053668260574,
           -0.02175329253077507
          ],
          [
           -0.05022285878658295,
           -0.008411644957959652,
           -0.017015330493450165,
           0.01881270855665207,
           0.006289640441536903,
           0.015327289700508118,
           -0.03325265273451805,
           -0.007184257730841637
          ],
          [
           -0.011517968960106373,
           -0.05199035257101059,
           0.03218939155340195,
           -0.015500417910516262,
           0.0014520836994051933,
           -0.03621944412589073,
           -0.027267951518297195,
           -0.046617500483989716
          ],
          [
           0.00744914636015892,
           0.013671974651515484,
           0.014204700477421284,
           0,
           0,
           -0.0003273952752351761,
           -0.0139630027115345,
           -0.01447272952646017
          ],
          [
           0.010262396186590195,
           0.0457804836332798,
           0.0028125206008553505,
           0,
           0,
           0.006408664397895336,
           0.008520055562257767,
           0.0064385198056697845
          ],
          [
           0.007114555686712265,
           -0.020575985312461853,
           0.0813772901892662,
           -0.017040414735674858,
           0.5732396245002747,
           -0.026956643909215927,
           0.1302379071712494,
           0.03787706047296524
          ],
          [
           0.01964576542377472,
           0.021839655935764313,
           -0.011858213692903519,
           0.051388636231422424,
           0.0415174625813961,
           0.11302940547466278,
           -0.0387544222176075,
           0.01804478093981743
          ],
          [
           0.018302634358406067,
           -0.0023263003677129745,
           -0.04191999137401581,
           0.024561351165175438,
           -0.005763990804553032,
           -0.002388361841440201,
           0.10822732001543045,
           -0.020825084298849106
          ]
         ]
        },
        {
         "coloraxis": "coloraxis",
         "hovertemplate": "x: %{x}<br>y: %{y}<br>color: %{z}<extra></extra>",
         "name": "9",
         "type": "heatmap",
         "xaxis": "x10",
         "y": [
          "A",
          "B",
          "C",
          "D",
          "E",
          "F",
          "G",
          "H"
         ],
         "yaxis": "y10",
         "z": [
          [
           -0.004858686588704586,
           -0.06638743728399277,
           -0.001324344426393509,
           -0.0007582046091556549,
           -0.03750905394554138,
           -0.06651940941810608,
           -0.005912395194172859,
           0.01152188889682293
          ],
          [
           -0.05786243453621864,
           -0.03474138677120209,
           -0.03742729499936104,
           0.011501769535243511,
           -0.008611165918409824,
           -0.05069843679666519,
           -0.08574952185153961,
           -0.013945722952485085
          ],
          [
           -0.013773132115602493,
           -0.04872811585664749,
           -0.027419738471508026,
           -0.01349018607288599,
           -0.025112079456448555,
           -0.006070934236049652,
           0.013076554983854294,
           -0.025917645543813705
          ],
          [
           -0.04289399832487106,
           -0.020386550575494766,
           0.010641500353813171,
           0,
           0,
           0.018548643216490746,
           -0.0188671313226223,
           -0.003859046846628189
          ],
          [
           -0.030936051160097122,
           0.04893939942121506,
           0.16148805618286133,
           0,
           0,
           -0.005550718866288662,
           0.008651766926050186,
           -0.027319349348545074
          ],
          [
           -0.02150530368089676,
           -0.03760385513305664,
           0.08453401923179626,
           0.1549709439277649,
           -0.044260624796152115,
           -0.03127084672451019,
           -0.062128838151693344,
           -0.07414747774600983
          ],
          [
           -0.07329627871513367,
           -0.02274208888411522,
           0.47712451219558716,
           0.1244291365146637,
           0.0017873896285891533,
           -0.0012760069221258163,
           -0.013892414048314095,
           -0.037076059728860855
          ],
          [
           -0.01867639273405075,
           0.17349101603031158,
           -0.009027702733874321,
           0.014780787751078606,
           -0.033267222344875336,
           0.013152247294783592,
           -0.03606025129556656,
           -0.028408028185367584
          ]
         ]
        }
       ],
       "layout": {
        "annotations": [
         {
          "font": {},
          "showarrow": false,
          "text": "L5N1922",
          "x": 0.04100000000000001,
          "xanchor": "center",
          "xref": "paper",
          "y": 1,
          "yanchor": "bottom",
          "yref": "paper"
         },
         {
          "font": {},
          "showarrow": false,
          "text": "L5N544",
          "x": 0.14300000000000004,
          "xanchor": "center",
          "xref": "paper",
          "y": 1,
          "yanchor": "bottom",
          "yref": "paper"
         },
         {
          "font": {},
          "showarrow": false,
          "text": "L5N346",
          "x": 0.24500000000000005,
          "xanchor": "center",
          "xref": "paper",
          "y": 1,
          "yanchor": "bottom",
          "yref": "paper"
         },
         {
          "font": {},
          "showarrow": false,
          "text": "L5N211",
          "x": 0.3470000000000001,
          "xanchor": "center",
          "xref": "paper",
          "y": 1,
          "yanchor": "bottom",
          "yref": "paper"
         },
         {
          "font": {},
          "showarrow": false,
          "text": "L5N1611",
          "x": 0.44900000000000007,
          "xanchor": "center",
          "xref": "paper",
          "y": 1,
          "yanchor": "bottom",
          "yref": "paper"
         },
         {
          "font": {},
          "showarrow": false,
          "text": "L5N1219",
          "x": 0.5510000000000002,
          "xanchor": "center",
          "xref": "paper",
          "y": 1,
          "yanchor": "bottom",
          "yref": "paper"
         },
         {
          "font": {},
          "showarrow": false,
          "text": "L5N992",
          "x": 0.6530000000000001,
          "xanchor": "center",
          "xref": "paper",
          "y": 1,
          "yanchor": "bottom",
          "yref": "paper"
         },
         {
          "font": {},
          "showarrow": false,
          "text": "L5N170",
          "x": 0.7550000000000001,
          "xanchor": "center",
          "xref": "paper",
          "y": 1,
          "yanchor": "bottom",
          "yref": "paper"
         },
         {
          "font": {},
          "showarrow": false,
          "text": "L5N2004",
          "x": 0.8570000000000002,
          "xanchor": "center",
          "xref": "paper",
          "y": 1,
          "yanchor": "bottom",
          "yref": "paper"
         },
         {
          "font": {},
          "showarrow": false,
          "text": "L5N56",
          "x": 0.9590000000000002,
          "xanchor": "center",
          "xref": "paper",
          "y": 1,
          "yanchor": "bottom",
          "yref": "paper"
         }
        ],
        "coloraxis": {
         "cmid": 0,
         "colorscale": [
          [
           0,
           "rgb(103,0,31)"
          ],
          [
           0.1,
           "rgb(178,24,43)"
          ],
          [
           0.2,
           "rgb(214,96,77)"
          ],
          [
           0.3,
           "rgb(244,165,130)"
          ],
          [
           0.4,
           "rgb(253,219,199)"
          ],
          [
           0.5,
           "rgb(247,247,247)"
          ],
          [
           0.6,
           "rgb(209,229,240)"
          ],
          [
           0.7,
           "rgb(146,197,222)"
          ],
          [
           0.8,
           "rgb(67,147,195)"
          ],
          [
           0.9,
           "rgb(33,102,172)"
          ],
          [
           1,
           "rgb(5,48,97)"
          ]
         ]
        },
        "template": {
         "data": {
          "bar": [
           {
            "error_x": {
             "color": "#2a3f5f"
            },
            "error_y": {
             "color": "#2a3f5f"
            },
            "marker": {
             "line": {
              "color": "#E5ECF6",
              "width": 0.5
             },
             "pattern": {
              "fillmode": "overlay",
              "size": 10,
              "solidity": 0.2
             }
            },
            "type": "bar"
           }
          ],
          "barpolar": [
           {
            "marker": {
             "line": {
              "color": "#E5ECF6",
              "width": 0.5
             },
             "pattern": {
              "fillmode": "overlay",
              "size": 10,
              "solidity": 0.2
             }
            },
            "type": "barpolar"
           }
          ],
          "carpet": [
           {
            "aaxis": {
             "endlinecolor": "#2a3f5f",
             "gridcolor": "white",
             "linecolor": "white",
             "minorgridcolor": "white",
             "startlinecolor": "#2a3f5f"
            },
            "baxis": {
             "endlinecolor": "#2a3f5f",
             "gridcolor": "white",
             "linecolor": "white",
             "minorgridcolor": "white",
             "startlinecolor": "#2a3f5f"
            },
            "type": "carpet"
           }
          ],
          "choropleth": [
           {
            "colorbar": {
             "outlinewidth": 0,
             "ticks": ""
            },
            "type": "choropleth"
           }
          ],
          "contour": [
           {
            "colorbar": {
             "outlinewidth": 0,
             "ticks": ""
            },
            "colorscale": [
             [
              0,
              "#0d0887"
             ],
             [
              0.1111111111111111,
              "#46039f"
             ],
             [
              0.2222222222222222,
              "#7201a8"
             ],
             [
              0.3333333333333333,
              "#9c179e"
             ],
             [
              0.4444444444444444,
              "#bd3786"
             ],
             [
              0.5555555555555556,
              "#d8576b"
             ],
             [
              0.6666666666666666,
              "#ed7953"
             ],
             [
              0.7777777777777778,
              "#fb9f3a"
             ],
             [
              0.8888888888888888,
              "#fdca26"
             ],
             [
              1,
              "#f0f921"
             ]
            ],
            "type": "contour"
           }
          ],
          "contourcarpet": [
           {
            "colorbar": {
             "outlinewidth": 0,
             "ticks": ""
            },
            "type": "contourcarpet"
           }
          ],
          "heatmap": [
           {
            "colorbar": {
             "outlinewidth": 0,
             "ticks": ""
            },
            "colorscale": [
             [
              0,
              "#0d0887"
             ],
             [
              0.1111111111111111,
              "#46039f"
             ],
             [
              0.2222222222222222,
              "#7201a8"
             ],
             [
              0.3333333333333333,
              "#9c179e"
             ],
             [
              0.4444444444444444,
              "#bd3786"
             ],
             [
              0.5555555555555556,
              "#d8576b"
             ],
             [
              0.6666666666666666,
              "#ed7953"
             ],
             [
              0.7777777777777778,
              "#fb9f3a"
             ],
             [
              0.8888888888888888,
              "#fdca26"
             ],
             [
              1,
              "#f0f921"
             ]
            ],
            "type": "heatmap"
           }
          ],
          "heatmapgl": [
           {
            "colorbar": {
             "outlinewidth": 0,
             "ticks": ""
            },
            "colorscale": [
             [
              0,
              "#0d0887"
             ],
             [
              0.1111111111111111,
              "#46039f"
             ],
             [
              0.2222222222222222,
              "#7201a8"
             ],
             [
              0.3333333333333333,
              "#9c179e"
             ],
             [
              0.4444444444444444,
              "#bd3786"
             ],
             [
              0.5555555555555556,
              "#d8576b"
             ],
             [
              0.6666666666666666,
              "#ed7953"
             ],
             [
              0.7777777777777778,
              "#fb9f3a"
             ],
             [
              0.8888888888888888,
              "#fdca26"
             ],
             [
              1,
              "#f0f921"
             ]
            ],
            "type": "heatmapgl"
           }
          ],
          "histogram": [
           {
            "marker": {
             "pattern": {
              "fillmode": "overlay",
              "size": 10,
              "solidity": 0.2
             }
            },
            "type": "histogram"
           }
          ],
          "histogram2d": [
           {
            "colorbar": {
             "outlinewidth": 0,
             "ticks": ""
            },
            "colorscale": [
             [
              0,
              "#0d0887"
             ],
             [
              0.1111111111111111,
              "#46039f"
             ],
             [
              0.2222222222222222,
              "#7201a8"
             ],
             [
              0.3333333333333333,
              "#9c179e"
             ],
             [
              0.4444444444444444,
              "#bd3786"
             ],
             [
              0.5555555555555556,
              "#d8576b"
             ],
             [
              0.6666666666666666,
              "#ed7953"
             ],
             [
              0.7777777777777778,
              "#fb9f3a"
             ],
             [
              0.8888888888888888,
              "#fdca26"
             ],
             [
              1,
              "#f0f921"
             ]
            ],
            "type": "histogram2d"
           }
          ],
          "histogram2dcontour": [
           {
            "colorbar": {
             "outlinewidth": 0,
             "ticks": ""
            },
            "colorscale": [
             [
              0,
              "#0d0887"
             ],
             [
              0.1111111111111111,
              "#46039f"
             ],
             [
              0.2222222222222222,
              "#7201a8"
             ],
             [
              0.3333333333333333,
              "#9c179e"
             ],
             [
              0.4444444444444444,
              "#bd3786"
             ],
             [
              0.5555555555555556,
              "#d8576b"
             ],
             [
              0.6666666666666666,
              "#ed7953"
             ],
             [
              0.7777777777777778,
              "#fb9f3a"
             ],
             [
              0.8888888888888888,
              "#fdca26"
             ],
             [
              1,
              "#f0f921"
             ]
            ],
            "type": "histogram2dcontour"
           }
          ],
          "mesh3d": [
           {
            "colorbar": {
             "outlinewidth": 0,
             "ticks": ""
            },
            "type": "mesh3d"
           }
          ],
          "parcoords": [
           {
            "line": {
             "colorbar": {
              "outlinewidth": 0,
              "ticks": ""
             }
            },
            "type": "parcoords"
           }
          ],
          "pie": [
           {
            "automargin": true,
            "type": "pie"
           }
          ],
          "scatter": [
           {
            "fillpattern": {
             "fillmode": "overlay",
             "size": 10,
             "solidity": 0.2
            },
            "type": "scatter"
           }
          ],
          "scatter3d": [
           {
            "line": {
             "colorbar": {
              "outlinewidth": 0,
              "ticks": ""
             }
            },
            "marker": {
             "colorbar": {
              "outlinewidth": 0,
              "ticks": ""
             }
            },
            "type": "scatter3d"
           }
          ],
          "scattercarpet": [
           {
            "marker": {
             "colorbar": {
              "outlinewidth": 0,
              "ticks": ""
             }
            },
            "type": "scattercarpet"
           }
          ],
          "scattergeo": [
           {
            "marker": {
             "colorbar": {
              "outlinewidth": 0,
              "ticks": ""
             }
            },
            "type": "scattergeo"
           }
          ],
          "scattergl": [
           {
            "marker": {
             "colorbar": {
              "outlinewidth": 0,
              "ticks": ""
             }
            },
            "type": "scattergl"
           }
          ],
          "scattermapbox": [
           {
            "marker": {
             "colorbar": {
              "outlinewidth": 0,
              "ticks": ""
             }
            },
            "type": "scattermapbox"
           }
          ],
          "scatterpolar": [
           {
            "marker": {
             "colorbar": {
              "outlinewidth": 0,
              "ticks": ""
             }
            },
            "type": "scatterpolar"
           }
          ],
          "scatterpolargl": [
           {
            "marker": {
             "colorbar": {
              "outlinewidth": 0,
              "ticks": ""
             }
            },
            "type": "scatterpolargl"
           }
          ],
          "scatterternary": [
           {
            "marker": {
             "colorbar": {
              "outlinewidth": 0,
              "ticks": ""
             }
            },
            "type": "scatterternary"
           }
          ],
          "surface": [
           {
            "colorbar": {
             "outlinewidth": 0,
             "ticks": ""
            },
            "colorscale": [
             [
              0,
              "#0d0887"
             ],
             [
              0.1111111111111111,
              "#46039f"
             ],
             [
              0.2222222222222222,
              "#7201a8"
             ],
             [
              0.3333333333333333,
              "#9c179e"
             ],
             [
              0.4444444444444444,
              "#bd3786"
             ],
             [
              0.5555555555555556,
              "#d8576b"
             ],
             [
              0.6666666666666666,
              "#ed7953"
             ],
             [
              0.7777777777777778,
              "#fb9f3a"
             ],
             [
              0.8888888888888888,
              "#fdca26"
             ],
             [
              1,
              "#f0f921"
             ]
            ],
            "type": "surface"
           }
          ],
          "table": [
           {
            "cells": {
             "fill": {
              "color": "#EBF0F8"
             },
             "line": {
              "color": "white"
             }
            },
            "header": {
             "fill": {
              "color": "#C8D4E3"
             },
             "line": {
              "color": "white"
             }
            },
            "type": "table"
           }
          ]
         },
         "layout": {
          "annotationdefaults": {
           "arrowcolor": "#2a3f5f",
           "arrowhead": 0,
           "arrowwidth": 1
          },
          "autotypenumbers": "strict",
          "coloraxis": {
           "colorbar": {
            "outlinewidth": 0,
            "ticks": ""
           }
          },
          "colorscale": {
           "diverging": [
            [
             0,
             "#8e0152"
            ],
            [
             0.1,
             "#c51b7d"
            ],
            [
             0.2,
             "#de77ae"
            ],
            [
             0.3,
             "#f1b6da"
            ],
            [
             0.4,
             "#fde0ef"
            ],
            [
             0.5,
             "#f7f7f7"
            ],
            [
             0.6,
             "#e6f5d0"
            ],
            [
             0.7,
             "#b8e186"
            ],
            [
             0.8,
             "#7fbc41"
            ],
            [
             0.9,
             "#4d9221"
            ],
            [
             1,
             "#276419"
            ]
           ],
           "sequential": [
            [
             0,
             "#0d0887"
            ],
            [
             0.1111111111111111,
             "#46039f"
            ],
            [
             0.2222222222222222,
             "#7201a8"
            ],
            [
             0.3333333333333333,
             "#9c179e"
            ],
            [
             0.4444444444444444,
             "#bd3786"
            ],
            [
             0.5555555555555556,
             "#d8576b"
            ],
            [
             0.6666666666666666,
             "#ed7953"
            ],
            [
             0.7777777777777778,
             "#fb9f3a"
            ],
            [
             0.8888888888888888,
             "#fdca26"
            ],
            [
             1,
             "#f0f921"
            ]
           ],
           "sequentialminus": [
            [
             0,
             "#0d0887"
            ],
            [
             0.1111111111111111,
             "#46039f"
            ],
            [
             0.2222222222222222,
             "#7201a8"
            ],
            [
             0.3333333333333333,
             "#9c179e"
            ],
            [
             0.4444444444444444,
             "#bd3786"
            ],
            [
             0.5555555555555556,
             "#d8576b"
            ],
            [
             0.6666666666666666,
             "#ed7953"
            ],
            [
             0.7777777777777778,
             "#fb9f3a"
            ],
            [
             0.8888888888888888,
             "#fdca26"
            ],
            [
             1,
             "#f0f921"
            ]
           ]
          },
          "colorway": [
           "#636efa",
           "#EF553B",
           "#00cc96",
           "#ab63fa",
           "#FFA15A",
           "#19d3f3",
           "#FF6692",
           "#B6E880",
           "#FF97FF",
           "#FECB52"
          ],
          "font": {
           "color": "#2a3f5f"
          },
          "geo": {
           "bgcolor": "white",
           "lakecolor": "white",
           "landcolor": "#E5ECF6",
           "showlakes": true,
           "showland": true,
           "subunitcolor": "white"
          },
          "hoverlabel": {
           "align": "left"
          },
          "hovermode": "closest",
          "mapbox": {
           "style": "light"
          },
          "paper_bgcolor": "white",
          "plot_bgcolor": "#E5ECF6",
          "polar": {
           "angularaxis": {
            "gridcolor": "white",
            "linecolor": "white",
            "ticks": ""
           },
           "bgcolor": "#E5ECF6",
           "radialaxis": {
            "gridcolor": "white",
            "linecolor": "white",
            "ticks": ""
           }
          },
          "scene": {
           "xaxis": {
            "backgroundcolor": "#E5ECF6",
            "gridcolor": "white",
            "gridwidth": 2,
            "linecolor": "white",
            "showbackground": true,
            "ticks": "",
            "zerolinecolor": "white"
           },
           "yaxis": {
            "backgroundcolor": "#E5ECF6",
            "gridcolor": "white",
            "gridwidth": 2,
            "linecolor": "white",
            "showbackground": true,
            "ticks": "",
            "zerolinecolor": "white"
           },
           "zaxis": {
            "backgroundcolor": "#E5ECF6",
            "gridcolor": "white",
            "gridwidth": 2,
            "linecolor": "white",
            "showbackground": true,
            "ticks": "",
            "zerolinecolor": "white"
           }
          },
          "shapedefaults": {
           "line": {
            "color": "#2a3f5f"
           }
          },
          "ternary": {
           "aaxis": {
            "gridcolor": "white",
            "linecolor": "white",
            "ticks": ""
           },
           "baxis": {
            "gridcolor": "white",
            "linecolor": "white",
            "ticks": ""
           },
           "bgcolor": "#E5ECF6",
           "caxis": {
            "gridcolor": "white",
            "linecolor": "white",
            "ticks": ""
           }
          },
          "title": {
           "x": 0.05
          },
          "xaxis": {
           "automargin": true,
           "gridcolor": "white",
           "linecolor": "white",
           "ticks": "",
           "title": {
            "standoff": 15
           },
           "zerolinecolor": "white",
           "zerolinewidth": 2
          },
          "yaxis": {
           "automargin": true,
           "gridcolor": "white",
           "linecolor": "white",
           "ticks": "",
           "title": {
            "standoff": 15
           },
           "zerolinecolor": "white",
           "zerolinewidth": 2
          }
         }
        },
        "title": {
         "text": "Cosine sim of Input weights and the my color probe for top layer 5 neurons"
        },
        "xaxis": {
         "anchor": "y",
         "domain": [
          0,
          0.08200000000000002
         ],
         "title": {
          "text": "x"
         }
        },
        "xaxis10": {
         "anchor": "y10",
         "domain": [
          0.9180000000000001,
          1
         ],
         "matches": "x",
         "title": {
          "text": "x"
         }
        },
        "xaxis2": {
         "anchor": "y2",
         "domain": [
          0.10200000000000002,
          0.18400000000000005
         ],
         "matches": "x",
         "title": {
          "text": "x"
         }
        },
        "xaxis3": {
         "anchor": "y3",
         "domain": [
          0.20400000000000004,
          0.28600000000000003
         ],
         "matches": "x",
         "title": {
          "text": "x"
         }
        },
        "xaxis4": {
         "anchor": "y4",
         "domain": [
          0.30600000000000005,
          0.38800000000000007
         ],
         "matches": "x",
         "title": {
          "text": "x"
         }
        },
        "xaxis5": {
         "anchor": "y5",
         "domain": [
          0.4080000000000001,
          0.4900000000000001
         ],
         "matches": "x",
         "title": {
          "text": "x"
         }
        },
        "xaxis6": {
         "anchor": "y6",
         "domain": [
          0.5100000000000001,
          0.5920000000000001
         ],
         "matches": "x",
         "title": {
          "text": "x"
         }
        },
        "xaxis7": {
         "anchor": "y7",
         "domain": [
          0.6120000000000001,
          0.6940000000000002
         ],
         "matches": "x",
         "title": {
          "text": "x"
         }
        },
        "xaxis8": {
         "anchor": "y8",
         "domain": [
          0.7140000000000001,
          0.796
         ],
         "matches": "x",
         "title": {
          "text": "x"
         }
        },
        "xaxis9": {
         "anchor": "y9",
         "domain": [
          0.8160000000000002,
          0.8980000000000001
         ],
         "matches": "x",
         "title": {
          "text": "x"
         }
        },
        "yaxis": {
         "anchor": "x",
         "autorange": "reversed",
         "domain": [
          0,
          1
         ],
         "title": {
          "text": "y"
         }
        },
        "yaxis10": {
         "anchor": "x10",
         "domain": [
          0,
          1
         ],
         "matches": "y",
         "showticklabels": false
        },
        "yaxis2": {
         "anchor": "x2",
         "domain": [
          0,
          1
         ],
         "matches": "y",
         "showticklabels": false
        },
        "yaxis3": {
         "anchor": "x3",
         "domain": [
          0,
          1
         ],
         "matches": "y",
         "showticklabels": false
        },
        "yaxis4": {
         "anchor": "x4",
         "domain": [
          0,
          1
         ],
         "matches": "y",
         "showticklabels": false
        },
        "yaxis5": {
         "anchor": "x5",
         "domain": [
          0,
          1
         ],
         "matches": "y",
         "showticklabels": false
        },
        "yaxis6": {
         "anchor": "x6",
         "domain": [
          0,
          1
         ],
         "matches": "y",
         "showticklabels": false
        },
        "yaxis7": {
         "anchor": "x7",
         "domain": [
          0,
          1
         ],
         "matches": "y",
         "showticklabels": false
        },
        "yaxis8": {
         "anchor": "x8",
         "domain": [
          0,
          1
         ],
         "matches": "y",
         "showticklabels": false
        },
        "yaxis9": {
         "anchor": "x9",
         "domain": [
          0,
          1
         ],
         "matches": "y",
         "showticklabels": false
        }
       }
      }
     },
     "metadata": {},
     "output_type": "display_data"
    },
    {
     "data": {
      "application/vnd.plotly.v1+json": {
       "config": {
        "plotlyServerURL": "https://plot.ly"
       },
       "data": [
        {
         "coloraxis": "coloraxis",
         "hovertemplate": "x: %{x}<br>y: %{y}<br>color: %{z}<extra></extra>",
         "name": "0",
         "type": "heatmap",
         "xaxis": "x",
         "y": [
          "A",
          "B",
          "C",
          "D",
          "E",
          "F",
          "G",
          "H"
         ],
         "yaxis": "y",
         "z": [
          [
           0.1133209615945816,
           0.05409576743841171,
           0.06085315719246864,
           0.10392521321773529,
           0.035083480179309845,
           0.044662460684776306,
           0.031693585216999054,
           -0.047957904636859894
          ],
          [
           0.026413265615701675,
           0.22541731595993042,
           0.16565774381160736,
           0.18766821920871735,
           -0.029108677059412003,
           0.07530029863119125,
           -0.07314714789390564,
           -0.08066080510616302
          ],
          [
           0.07250697165727615,
           0.13942289352416992,
           0.4951942265033722,
           0.20685842633247375,
           -0.0648135095834732,
           -0.06607618927955627,
           -0.036303117871284485,
           -0.0698975995182991
          ],
          [
           0.014002841897308826,
           0.026935294270515442,
           0.02062317356467247,
           0,
           0,
           -0.0561913438141346,
           -0.041012298315763474,
           -0.03054228611290455
          ],
          [
           -0.045985765755176544,
           -0.07142391800880432,
           -0.004027143120765686,
           0,
           0,
           0.017171956598758698,
           -0.07076236605644226,
           -0.03141358494758606
          ],
          [
           -0.026792868971824646,
           -0.03254454582929611,
           -0.04273192211985588,
           -0.04808829724788666,
           0.021562758833169937,
           -0.0029685478657484055,
           -0.06581772863864899,
           -0.044211722910404205
          ],
          [
           -0.034086164087057114,
           -0.04316006600856781,
           -0.05393407121300697,
           -0.050206106156110764,
           -0.05890139564871788,
           -0.007452484220266342,
           -0.03768433257937431,
           -0.04064708575606346
          ],
          [
           -0.047194868326187134,
           -0.07621876150369644,
           -0.06564120203256607,
           -0.05518914759159088,
           -0.034163281321525574,
           0.02598346397280693,
           -0.01995225064456463,
           -0.06348645687103271
          ]
         ]
        },
        {
         "coloraxis": "coloraxis",
         "hovertemplate": "x: %{x}<br>y: %{y}<br>color: %{z}<extra></extra>",
         "name": "1",
         "type": "heatmap",
         "xaxis": "x2",
         "y": [
          "A",
          "B",
          "C",
          "D",
          "E",
          "F",
          "G",
          "H"
         ],
         "yaxis": "y2",
         "z": [
          [
           -0.028728432953357697,
           0.03244577348232269,
           -0.003946896642446518,
           0.017677193507552147,
           -0.03680259734392166,
           0.0038154609501361847,
           0.02841067872941494,
           -0.031260356307029724
          ],
          [
           0.012005286291241646,
           0.03202830255031586,
           -0.003948992118239403,
           0.007372935302555561,
           0.004666367080062628,
           -0.07880176603794098,
           -0.00751863420009613,
           0.04446946829557419
          ],
          [
           -0.0242823027074337,
           0.010175790637731552,
           -0.02046360820531845,
           0.03642410784959793,
           0.007057955488562584,
           0.03662172704935074,
           0.06000126898288727,
           0.2977026700973511
          ],
          [
           -0.026427965611219406,
           0.03559897840023041,
           0.002910897135734558,
           0,
           0,
           0.12210904061794281,
           0.592320442199707,
           0.17095795273780823
          ],
          [
           0.048719361424446106,
           0.01165507547557354,
           0.024409448727965355,
           0,
           0,
           0.06035749986767769,
           0.08424168080091476,
           0.027743447571992874
          ],
          [
           0.009830101393163204,
           0.03642623871564865,
           0.030304914340376854,
           0.10078952461481094,
           0.025593481957912445,
           -0.012703047133982182,
           0.07504384219646454,
           0.026209212839603424
          ],
          [
           0.036024704575538635,
           0.04962542653083801,
           0.03987526148557663,
           0.03562062233686447,
           0.009511817246675491,
           0.0032243188470602036,
           0.060615621507167816,
           0.005957596004009247
          ],
          [
           -0.0027829939499497414,
           0.021309031173586845,
           0.00031762197613716125,
           0.052909694612026215,
           0.05574224516749382,
           0.011062726378440857,
           0.004673086106777191,
           0.006114490330219269
          ]
         ]
        },
        {
         "coloraxis": "coloraxis",
         "hovertemplate": "x: %{x}<br>y: %{y}<br>color: %{z}<extra></extra>",
         "name": "2",
         "type": "heatmap",
         "xaxis": "x3",
         "y": [
          "A",
          "B",
          "C",
          "D",
          "E",
          "F",
          "G",
          "H"
         ],
         "yaxis": "y3",
         "z": [
          [
           0.027108535170555115,
           -0.006000231020152569,
           0.01703065261244774,
           -0.007082855328917503,
           -0.06706122308969498,
           -0.03923576697707176,
           -0.007178218103945255,
           -0.04863784834742546
          ],
          [
           0.08237257599830627,
           0.0017695017158985138,
           0.02448257990181446,
           -0.010609062388539314,
           -0.0545010007917881,
           -0.09068810194730759,
           -0.05555989593267441,
           -0.043358005583286285
          ],
          [
           0.06891833245754242,
           0.13131724298000336,
           0.10271205008029938,
           0.03602083399891853,
           -0.10553017258644104,
           0.013726690784096718,
           -0.05576246231794357,
           -0.019321344792842865
          ],
          [
           0.13992129266262054,
           0.19528374075889587,
           0.3511326313018799,
           0,
           0,
           -0.04274030029773712,
           -0.060910411179065704,
           -0.05996205285191536
          ],
          [
           0.02296183630824089,
           0.1287495195865631,
           0.35092154145240784,
           0,
           0,
           -0.05022253468632698,
           -0.05502462759613991,
           -0.004877306520938873
          ],
          [
           0.048536065965890884,
           0.07781575620174408,
           0.027367262169718742,
           0.04396108537912369,
           -0.0716680958867073,
           -0.004034142009913921,
           -0.044168621301651,
           -0.031277548521757126
          ],
          [
           0.08822855353355408,
           0.014826287515461445,
           0.03698868304491043,
           -0.045865412801504135,
           -0.012554168701171875,
           -0.05622094124555588,
           -0.004155527800321579,
           -0.03457726165652275
          ],
          [
           -0.05815771967172623,
           -0.02014506794512272,
           -0.01424990314990282,
           -0.023709312081336975,
           -0.05979813635349274,
           -0.049219705164432526,
           -0.0873267725110054,
           -0.02260977402329445
          ]
         ]
        },
        {
         "coloraxis": "coloraxis",
         "hovertemplate": "x: %{x}<br>y: %{y}<br>color: %{z}<extra></extra>",
         "name": "3",
         "type": "heatmap",
         "xaxis": "x4",
         "y": [
          "A",
          "B",
          "C",
          "D",
          "E",
          "F",
          "G",
          "H"
         ],
         "yaxis": "y4",
         "z": [
          [
           -0.0001912410371005535,
           0.03295901045203209,
           0.008741282857954502,
           -0.0020125065930187702,
           -0.034530848264694214,
           0.003008289262652397,
           0.016942815855145454,
           -0.006845233961939812
          ],
          [
           0.011210165917873383,
           -0.007537533063441515,
           -0.010658813640475273,
           -0.001367378979921341,
           -0.017111752182245255,
           0.004698822274804115,
           0.015389553271234035,
           0.041522637009620667
          ],
          [
           -0.01807597652077675,
           -0.01770860143005848,
           0.03497318550944328,
           0.036918364465236664,
           0.0065864073112607,
           0.048857174813747406,
           0.057606521993875504,
           0.04766135290265083
          ],
          [
           -0.033438701182603836,
           0.010385572910308838,
           0.03492744266986847,
           0,
           0,
           -0.000939028337597847,
           0.009990930557250977,
           -0.02407362498342991
          ],
          [
           0.027834001928567886,
           0.01647704467177391,
           0.014709187671542168,
           0,
           0,
           -0.0043223705142736435,
           0.007930832915008068,
           -0.005943938158452511
          ],
          [
           0.026617271825671196,
           -0.015117358416318893,
           0.022795122116804123,
           0.0650501400232315,
           0.17108280956745148,
           0.027927381917834282,
           0.031771861016750336,
           -0.04328373447060585
          ],
          [
           -0.035751823335886,
           0.016711419448256493,
           -0.025655489414930344,
           0.010850625112652779,
           0.6154553890228271,
           0.07089871913194656,
           0.026531606912612915,
           -0.040353965014219284
          ],
          [
           0.040859706699848175,
           0.006839247420430183,
           0.03884522244334221,
           0.10542763024568558,
           0.12782883644104004,
           0.1811060905456543,
           0.042036838829517365,
           0.011320818215608597
          ]
         ]
        },
        {
         "coloraxis": "coloraxis",
         "hovertemplate": "x: %{x}<br>y: %{y}<br>color: %{z}<extra></extra>",
         "name": "4",
         "type": "heatmap",
         "xaxis": "x5",
         "y": [
          "A",
          "B",
          "C",
          "D",
          "E",
          "F",
          "G",
          "H"
         ],
         "yaxis": "y5",
         "z": [
          [
           0.0699753537774086,
           -0.003016030415892601,
           0.018221989274024963,
           0.011928396299481392,
           0.0014370717108249664,
           0.03175894543528557,
           0.02298748679459095,
           0.041859328746795654
          ],
          [
           0.059423767030239105,
           0.028005942702293396,
           0.04838300496339798,
           -0.003047351725399494,
           0.023837359622120857,
           -0.003759726881980896,
           -0.014461856335401535,
           0.02700556442141533
          ],
          [
           -0.03706914186477661,
           -0.07772406935691833,
           -0.02377265691757202,
           0.014371342957019806,
           -0.027795374393463135,
           -0.037379197776317596,
           -0.019064825028181076,
           0.004998672753572464
          ],
          [
           -0.6069619059562683,
           -0.17814376950263977,
           -0.016752520576119423,
           0,
           0,
           -0.011851046234369278,
           0.05415431037545204,
           0.04931942746043205
          ],
          [
           -0.015841403976082802,
           0.033157311379909515,
           -0.003057628870010376,
           0,
           0,
           -0.01711100898683071,
           -0.00025265663862228394,
           0.029344189912080765
          ],
          [
           0.0729551762342453,
           0.026913002133369446,
           0.08709864318370819,
           -0.005898019298911095,
           0.029969707131385803,
           -0.026240970939397812,
           0.016288159415125847,
           0.022728845477104187
          ],
          [
           0.04671458154916763,
           0.0068613141775131226,
           0.03754359111189842,
           -0.02260279655456543,
           -0.017100410535931587,
           0.019548948854207993,
           -0.01622297242283821,
           -0.0023377910256385803
          ],
          [
           -0.011597990989685059,
           -0.010875243693590164,
           -0.009595183655619621,
           -0.02019500359892845,
           0.030294757336378098,
           0.002267296891659498,
           0.02973627671599388,
           0.008329469710588455
          ]
         ]
        },
        {
         "coloraxis": "coloraxis",
         "hovertemplate": "x: %{x}<br>y: %{y}<br>color: %{z}<extra></extra>",
         "name": "5",
         "type": "heatmap",
         "xaxis": "x6",
         "y": [
          "A",
          "B",
          "C",
          "D",
          "E",
          "F",
          "G",
          "H"
         ],
         "yaxis": "y6",
         "z": [
          [
           -0.016625558957457542,
           -0.0530172660946846,
           -0.0350283607840538,
           -0.028964700177311897,
           0.0022815391421318054,
           -0.029810350388288498,
           0.015798160806298256,
           -0.023455630987882614
          ],
          [
           -0.007342092227190733,
           -0.0150812529027462,
           -0.06294136494398117,
           0.000977998599410057,
           0.00558698084205389,
           0.02830214612185955,
           -0.01473043579608202,
           0.06260070949792862
          ],
          [
           -0.07062587141990662,
           -0.04128197208046913,
           -0.035934146493673325,
           -0.032583046704530716,
           0.00693710520863533,
           0.019187238067388535,
           0.06354036182165146,
           0.03085421584546566
          ],
          [
           -0.0816807895898819,
           -0.048089124262332916,
           -0.015011632815003395,
           0,
           0,
           0.08290360867977142,
           -0.01519557274878025,
           0.08508723229169846
          ],
          [
           -0.05329949036240578,
           -0.003704911097884178,
           0.003828260116279125,
           0,
           0,
           0.2375088632106781,
           0.2288326621055603,
           0.10029454529285431
          ],
          [
           -0.03457154333591461,
           -0.020619506016373634,
           0.0018474804237484932,
           -0.12689098715782166,
           0.1192280575633049,
           0.38728106021881104,
           0.14917562901973724,
           0.13775624334812164
          ],
          [
           -0.052259016782045364,
           -0.032804954797029495,
           -0.0399450846016407,
           -0.093572698533535,
           0.006864054128527641,
           0.1106734350323677,
           0.18508754670619965,
           0.040298350155353546
          ],
          [
           0.011025509797036648,
           -0.07281669974327087,
           -0.020128600299358368,
           -0.04071945697069168,
           0.026154007762670517,
           0.048302266746759415,
           0.0244003813713789,
           0.06639304757118225
          ]
         ]
        },
        {
         "coloraxis": "coloraxis",
         "hovertemplate": "x: %{x}<br>y: %{y}<br>color: %{z}<extra></extra>",
         "name": "6",
         "type": "heatmap",
         "xaxis": "x7",
         "y": [
          "A",
          "B",
          "C",
          "D",
          "E",
          "F",
          "G",
          "H"
         ],
         "yaxis": "y7",
         "z": [
          [
           -0.04219711199402809,
           0.21960216760635376,
           -0.0018111467361450195,
           0.14181140065193176,
           0.03838048130273819,
           0.08033061772584915,
           0.030298300087451935,
           -0.013399627059698105
          ],
          [
           0.040560923516750336,
           -0.008283102884888649,
           0.23595106601715088,
           0.14578673243522644,
           0.1644497960805893,
           -0.01711280643939972,
           -0.0017243791371583939,
           -0.01771194487810135
          ],
          [
           -0.016617270186543465,
           0.10699883848428726,
           -0.001417938619852066,
           0.4516524076461792,
           0.11382733285427094,
           0.009004402905702591,
           0.0054313139989972115,
           -0.01481037586927414
          ],
          [
           -0.017156248912215233,
           -0.0009168330579996109,
           -0.06572769582271576,
           0,
           0,
           0.03248848393559456,
           0.04211918264627457,
           -0.006130389869213104
          ],
          [
           0.0003580688498914242,
           0.0458831712603569,
           -0.052387066185474396,
           0,
           0,
           -0.03939026966691017,
           -0.022715015336871147,
           -0.007049361243844032
          ],
          [
           0.0363226942718029,
           0.015625007450580597,
           -0.01599198207259178,
           -0.06575696915388107,
           0.05527930334210396,
           -0.02636145055294037,
           -0.12647157907485962,
           -0.03035806491971016
          ],
          [
           -0.0033519016578793526,
           -0.025493282824754715,
           -0.010200290009379387,
           -0.03763117641210556,
           -0.023559991270303726,
           0.002863164059817791,
           -0.03324621170759201,
           -0.06665647774934769
          ],
          [
           -0.007984809577465057,
           -0.030653808265924454,
           -0.008246021345257759,
           -0.040408700704574585,
           0.005998425185680389,
           -0.03994271904230118,
           -0.014056324027478695,
           -0.04962624981999397
          ]
         ]
        },
        {
         "coloraxis": "coloraxis",
         "hovertemplate": "x: %{x}<br>y: %{y}<br>color: %{z}<extra></extra>",
         "name": "7",
         "type": "heatmap",
         "xaxis": "x8",
         "y": [
          "A",
          "B",
          "C",
          "D",
          "E",
          "F",
          "G",
          "H"
         ],
         "yaxis": "y8",
         "z": [
          [
           -0.0345408171415329,
           0.02505498193204403,
           -0.019439607858657837,
           0.06437070667743683,
           0.194195955991745,
           0.08552203327417374,
           0.12333697825670242,
           0.07012126594781876
          ],
          [
           0.01590484380722046,
           -0.05068681761622429,
           0.05814282223582268,
           0.08556030690670013,
           0.3865804672241211,
           0.09594020247459412,
           0.09390042722225189,
           -0.025328950956463814
          ],
          [
           -0.07985430210828781,
           -0.05615527182817459,
           -0.12845227122306824,
           0.031156830489635468,
           0.27710968255996704,
           0.1758701652288437,
           -0.040340356528759,
           -0.04529636725783348
          ],
          [
           -0.02713990956544876,
           -0.05069734528660774,
           -0.0333903469145298,
           0,
           0,
           0.02454349584877491,
           -0.008509069681167603,
           -0.004008462652564049
          ],
          [
           -0.006777507718652487,
           -0.06185029074549675,
           0.0035508116707205772,
           0,
           0,
           -0.01541433297097683,
           -0.03515757620334625,
           0.022211886942386627
          ],
          [
           0.006956654600799084,
           -0.018290745094418526,
           0.017470650374889374,
           0.015233568847179413,
           -0.055009108036756516,
           -0.03181465342640877,
           0.024172086268663406,
           -0.032441116869449615
          ],
          [
           0.0336429700255394,
           0.027182191610336304,
           -0.0011673718690872192,
           -0.005576993338763714,
           -0.11408764123916626,
           -0.03424200415611267,
           -0.06930660456418991,
           -0.061041854321956635
          ],
          [
           -0.041647713631391525,
           -0.03310415521264076,
           -0.008538804948329926,
           0.0003082789480686188,
           -0.05702001973986626,
           -0.025850243866443634,
           -0.01711433008313179,
           -0.04952527582645416
          ]
         ]
        },
        {
         "coloraxis": "coloraxis",
         "hovertemplate": "x: %{x}<br>y: %{y}<br>color: %{z}<extra></extra>",
         "name": "8",
         "type": "heatmap",
         "xaxis": "x9",
         "y": [
          "A",
          "B",
          "C",
          "D",
          "E",
          "F",
          "G",
          "H"
         ],
         "yaxis": "y9",
         "z": [
          [
           -0.03752731531858444,
           -0.006893014535307884,
           0.0625363364815712,
           -0.0056871287524700165,
           0.0014025792479515076,
           -0.030240146443247795,
           0.02241239696741104,
           0.0015496239066123962
          ],
          [
           -0.002898923587054014,
           -0.025655923411250114,
           0.04836657643318176,
           0.014101874083280563,
           -0.05195576697587967,
           0.0039861323311924934,
           0.005689635872840881,
           -0.0037623783573508263
          ],
          [
           -0.0415508896112442,
           0.003584453836083412,
           0.010184378363192081,
           -0.003261784091591835,
           0.016265161335468292,
           0.06935620307922363,
           -0.03878484666347504,
           0.015983734279870987
          ],
          [
           0.06200222298502922,
           -0.034440044313669205,
           0.06653834134340286,
           0,
           0,
           0.02137167565524578,
           -0.02701493911445141,
           -0.030032027512788773
          ],
          [
           0.12003190070390701,
           0.5751221179962158,
           0.1810392439365387,
           0,
           0,
           0.02526789717376232,
           0.01594265177845955,
           -0.013822047039866447
          ],
          [
           0.12023258209228516,
           -0.017118019983172417,
           0.043547604233026505,
           -0.006365861743688583,
           -0.02277565374970436,
           -0.021167028695344925,
           -0.02334313653409481,
           -0.04943862557411194
          ],
          [
           -0.00835769809782505,
           0.0018851887434720993,
           -0.009653281420469284,
           -0.034720368683338165,
           0.051909189671278,
           0.05830278992652893,
           0.03146038204431534,
           0.005974702537059784
          ],
          [
           -0.012509536929428577,
           -0.020932383835315704,
           0.029508570209145546,
           -0.011832053773105145,
           -0.025197001174092293,
           0.006220443174242973,
           0.025048477575182915,
           0.009809864684939384
          ]
         ]
        },
        {
         "coloraxis": "coloraxis",
         "hovertemplate": "x: %{x}<br>y: %{y}<br>color: %{z}<extra></extra>",
         "name": "9",
         "type": "heatmap",
         "xaxis": "x10",
         "y": [
          "A",
          "B",
          "C",
          "D",
          "E",
          "F",
          "G",
          "H"
         ],
         "yaxis": "y10",
         "z": [
          [
           -0.03688017651438713,
           0.20855343341827393,
           0.060834355652332306,
           -0.007196703925728798,
           -0.007617754861712456,
           0.029023075476288795,
           0.010697796940803528,
           -0.01254756934940815
          ],
          [
           -0.017416290938854218,
           0.01798206940293312,
           0.6007693409919739,
           0.050875671207904816,
           -0.011984442360699177,
           -0.005385078489780426,
           0.001970302313566208,
           -0.029044749215245247
          ],
          [
           0.011784257367253304,
           0.007243678905069828,
           0.044026732444763184,
           0.10049235075712204,
           0.03343864902853966,
           0.01760043203830719,
           0.03049970231950283,
           0.010176473297178745
          ],
          [
           -0.06116630509495735,
           0.020776916295289993,
           0.00017074402421712875,
           0,
           0,
           0.05000145733356476,
           0.028276635333895683,
           -0.007222168147563934
          ],
          [
           0.02751142531633377,
           0.016192559152841568,
           0.013783475384116173,
           0,
           0,
           -0.030523687601089478,
           0.00946781411767006,
           0.0018671266734600067
          ],
          [
           0.004749933257699013,
           0.03564422205090523,
           0.009280705824494362,
           0.016239091753959656,
           0.016367107629776,
           -0.017571954056620598,
           -0.03706984594464302,
           0.013987749814987183
          ],
          [
           0.02645803801715374,
           -0.006411411799490452,
           0.020684413611888885,
           0.018967006355524063,
           -0.02254653163254261,
           -0.009662356227636337,
           -0.012056604027748108,
           -0.024854082614183426
          ],
          [
           0.01997736468911171,
           0.009435679763555527,
           0.01730804145336151,
           0.012184535153210163,
           0.0034586978144943714,
           0.015764521434903145,
           0.03696054592728615,
           0.003886084072291851
          ]
         ]
        }
       ],
       "layout": {
        "annotations": [
         {
          "font": {},
          "showarrow": false,
          "text": "L6N862",
          "x": 0.04100000000000001,
          "xanchor": "center",
          "xref": "paper",
          "y": 1,
          "yanchor": "bottom",
          "yref": "paper"
         },
         {
          "font": {},
          "showarrow": false,
          "text": "L6N997",
          "x": 0.14300000000000004,
          "xanchor": "center",
          "xref": "paper",
          "y": 1,
          "yanchor": "bottom",
          "yref": "paper"
         },
         {
          "font": {},
          "showarrow": false,
          "text": "L6N709",
          "x": 0.24500000000000005,
          "xanchor": "center",
          "xref": "paper",
          "y": 1,
          "yanchor": "bottom",
          "yref": "paper"
         },
         {
          "font": {},
          "showarrow": false,
          "text": "L6N214",
          "x": 0.3470000000000001,
          "xanchor": "center",
          "xref": "paper",
          "y": 1,
          "yanchor": "bottom",
          "yref": "paper"
         },
         {
          "font": {},
          "showarrow": false,
          "text": "L6N1425",
          "x": 0.44900000000000007,
          "xanchor": "center",
          "xref": "paper",
          "y": 1,
          "yanchor": "bottom",
          "yref": "paper"
         },
         {
          "font": {},
          "showarrow": false,
          "text": "L6N346",
          "x": 0.5510000000000002,
          "xanchor": "center",
          "xref": "paper",
          "y": 1,
          "yanchor": "bottom",
          "yref": "paper"
         },
         {
          "font": {},
          "showarrow": false,
          "text": "L6N1130",
          "x": 0.6530000000000001,
          "xanchor": "center",
          "xref": "paper",
          "y": 1,
          "yanchor": "bottom",
          "yref": "paper"
         },
         {
          "font": {},
          "showarrow": false,
          "text": "L6N330",
          "x": 0.7550000000000001,
          "xanchor": "center",
          "xref": "paper",
          "y": 1,
          "yanchor": "bottom",
          "yref": "paper"
         },
         {
          "font": {},
          "showarrow": false,
          "text": "L6N1407",
          "x": 0.8570000000000002,
          "xanchor": "center",
          "xref": "paper",
          "y": 1,
          "yanchor": "bottom",
          "yref": "paper"
         },
         {
          "font": {},
          "showarrow": false,
          "text": "L6N450",
          "x": 0.9590000000000002,
          "xanchor": "center",
          "xref": "paper",
          "y": 1,
          "yanchor": "bottom",
          "yref": "paper"
         }
        ],
        "coloraxis": {
         "cmid": 0,
         "colorscale": [
          [
           0,
           "rgb(103,0,31)"
          ],
          [
           0.1,
           "rgb(178,24,43)"
          ],
          [
           0.2,
           "rgb(214,96,77)"
          ],
          [
           0.3,
           "rgb(244,165,130)"
          ],
          [
           0.4,
           "rgb(253,219,199)"
          ],
          [
           0.5,
           "rgb(247,247,247)"
          ],
          [
           0.6,
           "rgb(209,229,240)"
          ],
          [
           0.7,
           "rgb(146,197,222)"
          ],
          [
           0.8,
           "rgb(67,147,195)"
          ],
          [
           0.9,
           "rgb(33,102,172)"
          ],
          [
           1,
           "rgb(5,48,97)"
          ]
         ]
        },
        "template": {
         "data": {
          "bar": [
           {
            "error_x": {
             "color": "#2a3f5f"
            },
            "error_y": {
             "color": "#2a3f5f"
            },
            "marker": {
             "line": {
              "color": "#E5ECF6",
              "width": 0.5
             },
             "pattern": {
              "fillmode": "overlay",
              "size": 10,
              "solidity": 0.2
             }
            },
            "type": "bar"
           }
          ],
          "barpolar": [
           {
            "marker": {
             "line": {
              "color": "#E5ECF6",
              "width": 0.5
             },
             "pattern": {
              "fillmode": "overlay",
              "size": 10,
              "solidity": 0.2
             }
            },
            "type": "barpolar"
           }
          ],
          "carpet": [
           {
            "aaxis": {
             "endlinecolor": "#2a3f5f",
             "gridcolor": "white",
             "linecolor": "white",
             "minorgridcolor": "white",
             "startlinecolor": "#2a3f5f"
            },
            "baxis": {
             "endlinecolor": "#2a3f5f",
             "gridcolor": "white",
             "linecolor": "white",
             "minorgridcolor": "white",
             "startlinecolor": "#2a3f5f"
            },
            "type": "carpet"
           }
          ],
          "choropleth": [
           {
            "colorbar": {
             "outlinewidth": 0,
             "ticks": ""
            },
            "type": "choropleth"
           }
          ],
          "contour": [
           {
            "colorbar": {
             "outlinewidth": 0,
             "ticks": ""
            },
            "colorscale": [
             [
              0,
              "#0d0887"
             ],
             [
              0.1111111111111111,
              "#46039f"
             ],
             [
              0.2222222222222222,
              "#7201a8"
             ],
             [
              0.3333333333333333,
              "#9c179e"
             ],
             [
              0.4444444444444444,
              "#bd3786"
             ],
             [
              0.5555555555555556,
              "#d8576b"
             ],
             [
              0.6666666666666666,
              "#ed7953"
             ],
             [
              0.7777777777777778,
              "#fb9f3a"
             ],
             [
              0.8888888888888888,
              "#fdca26"
             ],
             [
              1,
              "#f0f921"
             ]
            ],
            "type": "contour"
           }
          ],
          "contourcarpet": [
           {
            "colorbar": {
             "outlinewidth": 0,
             "ticks": ""
            },
            "type": "contourcarpet"
           }
          ],
          "heatmap": [
           {
            "colorbar": {
             "outlinewidth": 0,
             "ticks": ""
            },
            "colorscale": [
             [
              0,
              "#0d0887"
             ],
             [
              0.1111111111111111,
              "#46039f"
             ],
             [
              0.2222222222222222,
              "#7201a8"
             ],
             [
              0.3333333333333333,
              "#9c179e"
             ],
             [
              0.4444444444444444,
              "#bd3786"
             ],
             [
              0.5555555555555556,
              "#d8576b"
             ],
             [
              0.6666666666666666,
              "#ed7953"
             ],
             [
              0.7777777777777778,
              "#fb9f3a"
             ],
             [
              0.8888888888888888,
              "#fdca26"
             ],
             [
              1,
              "#f0f921"
             ]
            ],
            "type": "heatmap"
           }
          ],
          "heatmapgl": [
           {
            "colorbar": {
             "outlinewidth": 0,
             "ticks": ""
            },
            "colorscale": [
             [
              0,
              "#0d0887"
             ],
             [
              0.1111111111111111,
              "#46039f"
             ],
             [
              0.2222222222222222,
              "#7201a8"
             ],
             [
              0.3333333333333333,
              "#9c179e"
             ],
             [
              0.4444444444444444,
              "#bd3786"
             ],
             [
              0.5555555555555556,
              "#d8576b"
             ],
             [
              0.6666666666666666,
              "#ed7953"
             ],
             [
              0.7777777777777778,
              "#fb9f3a"
             ],
             [
              0.8888888888888888,
              "#fdca26"
             ],
             [
              1,
              "#f0f921"
             ]
            ],
            "type": "heatmapgl"
           }
          ],
          "histogram": [
           {
            "marker": {
             "pattern": {
              "fillmode": "overlay",
              "size": 10,
              "solidity": 0.2
             }
            },
            "type": "histogram"
           }
          ],
          "histogram2d": [
           {
            "colorbar": {
             "outlinewidth": 0,
             "ticks": ""
            },
            "colorscale": [
             [
              0,
              "#0d0887"
             ],
             [
              0.1111111111111111,
              "#46039f"
             ],
             [
              0.2222222222222222,
              "#7201a8"
             ],
             [
              0.3333333333333333,
              "#9c179e"
             ],
             [
              0.4444444444444444,
              "#bd3786"
             ],
             [
              0.5555555555555556,
              "#d8576b"
             ],
             [
              0.6666666666666666,
              "#ed7953"
             ],
             [
              0.7777777777777778,
              "#fb9f3a"
             ],
             [
              0.8888888888888888,
              "#fdca26"
             ],
             [
              1,
              "#f0f921"
             ]
            ],
            "type": "histogram2d"
           }
          ],
          "histogram2dcontour": [
           {
            "colorbar": {
             "outlinewidth": 0,
             "ticks": ""
            },
            "colorscale": [
             [
              0,
              "#0d0887"
             ],
             [
              0.1111111111111111,
              "#46039f"
             ],
             [
              0.2222222222222222,
              "#7201a8"
             ],
             [
              0.3333333333333333,
              "#9c179e"
             ],
             [
              0.4444444444444444,
              "#bd3786"
             ],
             [
              0.5555555555555556,
              "#d8576b"
             ],
             [
              0.6666666666666666,
              "#ed7953"
             ],
             [
              0.7777777777777778,
              "#fb9f3a"
             ],
             [
              0.8888888888888888,
              "#fdca26"
             ],
             [
              1,
              "#f0f921"
             ]
            ],
            "type": "histogram2dcontour"
           }
          ],
          "mesh3d": [
           {
            "colorbar": {
             "outlinewidth": 0,
             "ticks": ""
            },
            "type": "mesh3d"
           }
          ],
          "parcoords": [
           {
            "line": {
             "colorbar": {
              "outlinewidth": 0,
              "ticks": ""
             }
            },
            "type": "parcoords"
           }
          ],
          "pie": [
           {
            "automargin": true,
            "type": "pie"
           }
          ],
          "scatter": [
           {
            "fillpattern": {
             "fillmode": "overlay",
             "size": 10,
             "solidity": 0.2
            },
            "type": "scatter"
           }
          ],
          "scatter3d": [
           {
            "line": {
             "colorbar": {
              "outlinewidth": 0,
              "ticks": ""
             }
            },
            "marker": {
             "colorbar": {
              "outlinewidth": 0,
              "ticks": ""
             }
            },
            "type": "scatter3d"
           }
          ],
          "scattercarpet": [
           {
            "marker": {
             "colorbar": {
              "outlinewidth": 0,
              "ticks": ""
             }
            },
            "type": "scattercarpet"
           }
          ],
          "scattergeo": [
           {
            "marker": {
             "colorbar": {
              "outlinewidth": 0,
              "ticks": ""
             }
            },
            "type": "scattergeo"
           }
          ],
          "scattergl": [
           {
            "marker": {
             "colorbar": {
              "outlinewidth": 0,
              "ticks": ""
             }
            },
            "type": "scattergl"
           }
          ],
          "scattermapbox": [
           {
            "marker": {
             "colorbar": {
              "outlinewidth": 0,
              "ticks": ""
             }
            },
            "type": "scattermapbox"
           }
          ],
          "scatterpolar": [
           {
            "marker": {
             "colorbar": {
              "outlinewidth": 0,
              "ticks": ""
             }
            },
            "type": "scatterpolar"
           }
          ],
          "scatterpolargl": [
           {
            "marker": {
             "colorbar": {
              "outlinewidth": 0,
              "ticks": ""
             }
            },
            "type": "scatterpolargl"
           }
          ],
          "scatterternary": [
           {
            "marker": {
             "colorbar": {
              "outlinewidth": 0,
              "ticks": ""
             }
            },
            "type": "scatterternary"
           }
          ],
          "surface": [
           {
            "colorbar": {
             "outlinewidth": 0,
             "ticks": ""
            },
            "colorscale": [
             [
              0,
              "#0d0887"
             ],
             [
              0.1111111111111111,
              "#46039f"
             ],
             [
              0.2222222222222222,
              "#7201a8"
             ],
             [
              0.3333333333333333,
              "#9c179e"
             ],
             [
              0.4444444444444444,
              "#bd3786"
             ],
             [
              0.5555555555555556,
              "#d8576b"
             ],
             [
              0.6666666666666666,
              "#ed7953"
             ],
             [
              0.7777777777777778,
              "#fb9f3a"
             ],
             [
              0.8888888888888888,
              "#fdca26"
             ],
             [
              1,
              "#f0f921"
             ]
            ],
            "type": "surface"
           }
          ],
          "table": [
           {
            "cells": {
             "fill": {
              "color": "#EBF0F8"
             },
             "line": {
              "color": "white"
             }
            },
            "header": {
             "fill": {
              "color": "#C8D4E3"
             },
             "line": {
              "color": "white"
             }
            },
            "type": "table"
           }
          ]
         },
         "layout": {
          "annotationdefaults": {
           "arrowcolor": "#2a3f5f",
           "arrowhead": 0,
           "arrowwidth": 1
          },
          "autotypenumbers": "strict",
          "coloraxis": {
           "colorbar": {
            "outlinewidth": 0,
            "ticks": ""
           }
          },
          "colorscale": {
           "diverging": [
            [
             0,
             "#8e0152"
            ],
            [
             0.1,
             "#c51b7d"
            ],
            [
             0.2,
             "#de77ae"
            ],
            [
             0.3,
             "#f1b6da"
            ],
            [
             0.4,
             "#fde0ef"
            ],
            [
             0.5,
             "#f7f7f7"
            ],
            [
             0.6,
             "#e6f5d0"
            ],
            [
             0.7,
             "#b8e186"
            ],
            [
             0.8,
             "#7fbc41"
            ],
            [
             0.9,
             "#4d9221"
            ],
            [
             1,
             "#276419"
            ]
           ],
           "sequential": [
            [
             0,
             "#0d0887"
            ],
            [
             0.1111111111111111,
             "#46039f"
            ],
            [
             0.2222222222222222,
             "#7201a8"
            ],
            [
             0.3333333333333333,
             "#9c179e"
            ],
            [
             0.4444444444444444,
             "#bd3786"
            ],
            [
             0.5555555555555556,
             "#d8576b"
            ],
            [
             0.6666666666666666,
             "#ed7953"
            ],
            [
             0.7777777777777778,
             "#fb9f3a"
            ],
            [
             0.8888888888888888,
             "#fdca26"
            ],
            [
             1,
             "#f0f921"
            ]
           ],
           "sequentialminus": [
            [
             0,
             "#0d0887"
            ],
            [
             0.1111111111111111,
             "#46039f"
            ],
            [
             0.2222222222222222,
             "#7201a8"
            ],
            [
             0.3333333333333333,
             "#9c179e"
            ],
            [
             0.4444444444444444,
             "#bd3786"
            ],
            [
             0.5555555555555556,
             "#d8576b"
            ],
            [
             0.6666666666666666,
             "#ed7953"
            ],
            [
             0.7777777777777778,
             "#fb9f3a"
            ],
            [
             0.8888888888888888,
             "#fdca26"
            ],
            [
             1,
             "#f0f921"
            ]
           ]
          },
          "colorway": [
           "#636efa",
           "#EF553B",
           "#00cc96",
           "#ab63fa",
           "#FFA15A",
           "#19d3f3",
           "#FF6692",
           "#B6E880",
           "#FF97FF",
           "#FECB52"
          ],
          "font": {
           "color": "#2a3f5f"
          },
          "geo": {
           "bgcolor": "white",
           "lakecolor": "white",
           "landcolor": "#E5ECF6",
           "showlakes": true,
           "showland": true,
           "subunitcolor": "white"
          },
          "hoverlabel": {
           "align": "left"
          },
          "hovermode": "closest",
          "mapbox": {
           "style": "light"
          },
          "paper_bgcolor": "white",
          "plot_bgcolor": "#E5ECF6",
          "polar": {
           "angularaxis": {
            "gridcolor": "white",
            "linecolor": "white",
            "ticks": ""
           },
           "bgcolor": "#E5ECF6",
           "radialaxis": {
            "gridcolor": "white",
            "linecolor": "white",
            "ticks": ""
           }
          },
          "scene": {
           "xaxis": {
            "backgroundcolor": "#E5ECF6",
            "gridcolor": "white",
            "gridwidth": 2,
            "linecolor": "white",
            "showbackground": true,
            "ticks": "",
            "zerolinecolor": "white"
           },
           "yaxis": {
            "backgroundcolor": "#E5ECF6",
            "gridcolor": "white",
            "gridwidth": 2,
            "linecolor": "white",
            "showbackground": true,
            "ticks": "",
            "zerolinecolor": "white"
           },
           "zaxis": {
            "backgroundcolor": "#E5ECF6",
            "gridcolor": "white",
            "gridwidth": 2,
            "linecolor": "white",
            "showbackground": true,
            "ticks": "",
            "zerolinecolor": "white"
           }
          },
          "shapedefaults": {
           "line": {
            "color": "#2a3f5f"
           }
          },
          "ternary": {
           "aaxis": {
            "gridcolor": "white",
            "linecolor": "white",
            "ticks": ""
           },
           "baxis": {
            "gridcolor": "white",
            "linecolor": "white",
            "ticks": ""
           },
           "bgcolor": "#E5ECF6",
           "caxis": {
            "gridcolor": "white",
            "linecolor": "white",
            "ticks": ""
           }
          },
          "title": {
           "x": 0.05
          },
          "xaxis": {
           "automargin": true,
           "gridcolor": "white",
           "linecolor": "white",
           "ticks": "",
           "title": {
            "standoff": 15
           },
           "zerolinecolor": "white",
           "zerolinewidth": 2
          },
          "yaxis": {
           "automargin": true,
           "gridcolor": "white",
           "linecolor": "white",
           "ticks": "",
           "title": {
            "standoff": 15
           },
           "zerolinecolor": "white",
           "zerolinewidth": 2
          }
         }
        },
        "title": {
         "text": "Cosine sim of Input weights and the my color probe for top layer 6 neurons"
        },
        "xaxis": {
         "anchor": "y",
         "domain": [
          0,
          0.08200000000000002
         ],
         "title": {
          "text": "x"
         }
        },
        "xaxis10": {
         "anchor": "y10",
         "domain": [
          0.9180000000000001,
          1
         ],
         "matches": "x",
         "title": {
          "text": "x"
         }
        },
        "xaxis2": {
         "anchor": "y2",
         "domain": [
          0.10200000000000002,
          0.18400000000000005
         ],
         "matches": "x",
         "title": {
          "text": "x"
         }
        },
        "xaxis3": {
         "anchor": "y3",
         "domain": [
          0.20400000000000004,
          0.28600000000000003
         ],
         "matches": "x",
         "title": {
          "text": "x"
         }
        },
        "xaxis4": {
         "anchor": "y4",
         "domain": [
          0.30600000000000005,
          0.38800000000000007
         ],
         "matches": "x",
         "title": {
          "text": "x"
         }
        },
        "xaxis5": {
         "anchor": "y5",
         "domain": [
          0.4080000000000001,
          0.4900000000000001
         ],
         "matches": "x",
         "title": {
          "text": "x"
         }
        },
        "xaxis6": {
         "anchor": "y6",
         "domain": [
          0.5100000000000001,
          0.5920000000000001
         ],
         "matches": "x",
         "title": {
          "text": "x"
         }
        },
        "xaxis7": {
         "anchor": "y7",
         "domain": [
          0.6120000000000001,
          0.6940000000000002
         ],
         "matches": "x",
         "title": {
          "text": "x"
         }
        },
        "xaxis8": {
         "anchor": "y8",
         "domain": [
          0.7140000000000001,
          0.796
         ],
         "matches": "x",
         "title": {
          "text": "x"
         }
        },
        "xaxis9": {
         "anchor": "y9",
         "domain": [
          0.8160000000000002,
          0.8980000000000001
         ],
         "matches": "x",
         "title": {
          "text": "x"
         }
        },
        "yaxis": {
         "anchor": "x",
         "autorange": "reversed",
         "domain": [
          0,
          1
         ],
         "title": {
          "text": "y"
         }
        },
        "yaxis10": {
         "anchor": "x10",
         "domain": [
          0,
          1
         ],
         "matches": "y",
         "showticklabels": false
        },
        "yaxis2": {
         "anchor": "x2",
         "domain": [
          0,
          1
         ],
         "matches": "y",
         "showticklabels": false
        },
        "yaxis3": {
         "anchor": "x3",
         "domain": [
          0,
          1
         ],
         "matches": "y",
         "showticklabels": false
        },
        "yaxis4": {
         "anchor": "x4",
         "domain": [
          0,
          1
         ],
         "matches": "y",
         "showticklabels": false
        },
        "yaxis5": {
         "anchor": "x5",
         "domain": [
          0,
          1
         ],
         "matches": "y",
         "showticklabels": false
        },
        "yaxis6": {
         "anchor": "x6",
         "domain": [
          0,
          1
         ],
         "matches": "y",
         "showticklabels": false
        },
        "yaxis7": {
         "anchor": "x7",
         "domain": [
          0,
          1
         ],
         "matches": "y",
         "showticklabels": false
        },
        "yaxis8": {
         "anchor": "x8",
         "domain": [
          0,
          1
         ],
         "matches": "y",
         "showticklabels": false
        },
        "yaxis9": {
         "anchor": "x9",
         "domain": [
          0,
          1
         ],
         "matches": "y",
         "showticklabels": false
        }
       }
      }
     },
     "metadata": {},
     "output_type": "display_data"
    },
    {
     "data": {
      "application/vnd.plotly.v1+json": {
       "config": {
        "plotlyServerURL": "https://plot.ly"
       },
       "data": [
        {
         "coloraxis": "coloraxis",
         "hovertemplate": "x: %{x}<br>y: %{y}<br>color: %{z}<extra></extra>",
         "name": "0",
         "type": "heatmap",
         "xaxis": "x",
         "y": [
          "A",
          "B",
          "C",
          "D",
          "E",
          "F",
          "G",
          "H"
         ],
         "yaxis": "y",
         "z": [
          [
           0.09224358201026917,
           0.08751880377531052,
           0.09326708316802979,
           0.013032175600528717,
           0.003922227770090103,
           -0.010258940979838371,
           -0.0776710957288742,
           -0.08379821479320526
          ],
          [
           0.07990908622741699,
           0.16552191972732544,
           0.1597651094198227,
           0.05071745067834854,
           -0.03081132099032402,
           -0.0001790253445506096,
           -0.05189232528209686,
           -0.049747951328754425
          ],
          [
           0.11044133454561234,
           0.26559144258499146,
           0.4137004613876343,
           0.1312735676765442,
           0.05426450073719025,
           -0.008775454014539719,
           -0.014922991394996643,
           0.003369889222085476
          ],
          [
           0.09012813121080399,
           0.20759257674217224,
           0.1356779932975769,
           0,
           0,
           -0.006370355375111103,
           0.005698717199265957,
           0.018756762146949768
          ],
          [
           0.04094301164150238,
           0.06189517304301262,
           0.008324721828103065,
           0,
           0,
           -0.0045736245810985565,
           -0.04487653076648712,
           -0.027039887383580208
          ],
          [
           0.05715387314558029,
           -0.053266219794750214,
           -0.006507180165499449,
           0.022284697741270065,
           0.004428725689649582,
           -0.06533998996019363,
           -0.05291198194026947,
           -0.005214400589466095
          ],
          [
           -0.017625899985432625,
           0.003956456668674946,
           -0.08898667246103287,
           -0.0011704601347446442,
           -0.03206661343574524,
           -0.03869104012846947,
           -0.07931280136108398,
           -0.05954606086015701
          ],
          [
           -0.04195649176836014,
           -0.08455716073513031,
           -0.0027407556772232056,
           -0.06803655624389648,
           -0.0323573499917984,
           -0.006325060501694679,
           -0.005023227073252201,
           -0.07911576330661774
          ]
         ]
        },
        {
         "coloraxis": "coloraxis",
         "hovertemplate": "x: %{x}<br>y: %{y}<br>color: %{z}<extra></extra>",
         "name": "1",
         "type": "heatmap",
         "xaxis": "x2",
         "y": [
          "A",
          "B",
          "C",
          "D",
          "E",
          "F",
          "G",
          "H"
         ],
         "yaxis": "y2",
         "z": [
          [
           -0.02736509032547474,
           -0.01206081360578537,
           -0.026825372129678726,
           -0.05364082008600235,
           -0.047321710735559464,
           -0.03716254606842995,
           0.017249692231416702,
           0.03680301457643509
          ],
          [
           -0.016614556312561035,
           -0.015939995646476746,
           0.05040706694126129,
           -0.03904661536216736,
           0.024621909484267235,
           -0.037700001150369644,
           0.06446420401334763,
           0.06879600137472153
          ],
          [
           0.012550557032227516,
           -0.09874743223190308,
           -0.1167571097612381,
           -0.06339861452579498,
           -0.027675330638885498,
           -0.09371590614318848,
           0.07582820951938629,
           0.08392912149429321
          ],
          [
           0.16530191898345947,
           0.15648654103279114,
           0.16397953033447266,
           0,
           0,
           0.3057592213153839,
           0.40496522188186646,
           0.17373940348625183
          ],
          [
           -0.004906461574137211,
           -0.04509936645627022,
           -0.09179854393005371,
           0,
           0,
           -0.07127080857753754,
           -0.018513381481170654,
           0.049535177648067474
          ],
          [
           0.03512682765722275,
           -0.06867197155952454,
           -0.029396964237093925,
           -0.003520885482430458,
           0.001023435965180397,
           -0.038668446242809296,
           -0.07910484075546265,
           -0.035651229321956635
          ],
          [
           -0.015731915831565857,
           0.04515659064054489,
           -0.023980198428034782,
           -0.023390034213662148,
           0.0031202249228954315,
           0.008221506141126156,
           -0.005524103529751301,
           0.05127968639135361
          ],
          [
           0.02191852778196335,
           -0.04031836614012718,
           -0.009536472149193287,
           0.0019767340272665024,
           0.050390809774398804,
           0.03099897876381874,
           -0.003768923692405224,
           0.035471297800540924
          ]
         ]
        },
        {
         "coloraxis": "coloraxis",
         "hovertemplate": "x: %{x}<br>y: %{y}<br>color: %{z}<extra></extra>",
         "name": "2",
         "type": "heatmap",
         "xaxis": "x3",
         "y": [
          "A",
          "B",
          "C",
          "D",
          "E",
          "F",
          "G",
          "H"
         ],
         "yaxis": "y3",
         "z": [
          [
           -0.02693600207567215,
           -0.04401626065373421,
           -0.03778308629989624,
           -0.01315942220389843,
           -0.001966504380106926,
           0.004791107028722763,
           0.03363895043730736,
           0.03021266683936119
          ],
          [
           -0.005965372547507286,
           -0.03681327775120735,
           -0.03614441305398941,
           -0.029705148190259933,
           -0.04556172341108322,
           0.016715925186872482,
           0.07755157351493835,
           0.11909011006355286
          ],
          [
           -0.026660829782485962,
           -0.04240647703409195,
           -0.08152991533279419,
           -0.07569275796413422,
           -0.014108175411820412,
           0.17250850796699524,
           0.10644854605197906,
           0.04930417239665985
          ],
          [
           -0.04182450845837593,
           -0.036976054310798645,
           -0.012053816579282284,
           0,
           0,
           0.3875911235809326,
           0.08958983421325684,
           0.0985385850071907
          ],
          [
           -0.02865668013691902,
           -0.0172872394323349,
           -0.02139429748058319,
           0,
           0,
           0.3498012125492096,
           0.14182528853416443,
           0.15223746001720428
          ],
          [
           -0.03390298783779144,
           -0.0380767360329628,
           -0.03819727897644043,
           0.012910755351185799,
           0.02861996553838253,
           0.146694153547287,
           0.041921500116586685,
           0.042671602219343185
          ],
          [
           -0.052296482026576996,
           0.05319499224424362,
           -0.04170777648687363,
           0.0051962644793093204,
           0.049311913549900055,
           0.062367845326662064,
           0.04813332110643387,
           0.06457222998142242
          ],
          [
           -0.008653100579977036,
           -0.020449962466955185,
           0.020667536184191704,
           0.04509156569838524,
           0.017718765884637833,
           -0.004296134226024151,
           -0.012828469276428223,
           0.007967531681060791
          ]
         ]
        },
        {
         "coloraxis": "coloraxis",
         "hovertemplate": "x: %{x}<br>y: %{y}<br>color: %{z}<extra></extra>",
         "name": "3",
         "type": "heatmap",
         "xaxis": "x4",
         "y": [
          "A",
          "B",
          "C",
          "D",
          "E",
          "F",
          "G",
          "H"
         ],
         "yaxis": "y4",
         "z": [
          [
           0.0025976765900850296,
           -0.06497691571712494,
           -0.040069807320833206,
           -0.029870666563510895,
           -0.06465787440538406,
           -0.04715627431869507,
           0.01645684987306595,
           -0.014351410791277885
          ],
          [
           -0.005858315154910088,
           -0.03723948448896408,
           -0.03255125880241394,
           0.009215587750077248,
           -0.02114131674170494,
           -0.012221157550811768,
           0.015117369592189789,
           0.002145836129784584
          ],
          [
           -0.00011882558465003967,
           -0.039279840886592865,
           -0.032534483820199966,
           -0.04037092253565788,
           -0.03438764438033104,
           -0.0843142420053482,
           -0.015774264931678772,
           -0.0024811848998069763
          ],
          [
           0.27889350056648254,
           0.4464258551597595,
           0.30136603116989136,
           0,
           0,
           0.08103600144386292,
           0.15377816557884216,
           0.05164724215865135
          ],
          [
           0.015327908098697662,
           -0.022653114050626755,
           -0.03772307559847832,
           0,
           0,
           -0.015020656399428844,
           -0.027163181453943253,
           -0.039503760635852814
          ],
          [
           0.01722828298807144,
           -0.037319548428058624,
           -0.02297624573111534,
           0.04502180218696594,
           0.011554097756743431,
           0.006522390991449356,
           -0.04077845811843872,
           -0.005861259996891022
          ],
          [
           -0.02847183495759964,
           0.033910609781742096,
           -0.001415615901350975,
           0.0006300080567598343,
           -0.009003814309835434,
           0.0029476210474967957,
           0.000015422701835632324,
           0.002089213579893112
          ],
          [
           -0.015498131513595581,
           -0.023281309753656387,
           0.012144993059337139,
           -0.018183225765824318,
           -0.01043363381177187,
           -0.024178598076105118,
           -0.04715272784233093,
           -0.01791859045624733
          ]
         ]
        },
        {
         "coloraxis": "coloraxis",
         "hovertemplate": "x: %{x}<br>y: %{y}<br>color: %{z}<extra></extra>",
         "name": "4",
         "type": "heatmap",
         "xaxis": "x5",
         "y": [
          "A",
          "B",
          "C",
          "D",
          "E",
          "F",
          "G",
          "H"
         ],
         "yaxis": "y5",
         "z": [
          [
           -0.004781372845172882,
           -0.034712452441453934,
           -0.011333824135363102,
           -0.029511436820030212,
           0.01788511499762535,
           -0.00041034072637557983,
           0.008332331664860249,
           -0.002589978277683258
          ],
          [
           -0.014460645616054535,
           -0.019432593137025833,
           -0.005413008853793144,
           0.03295505791902542,
           -0.04585147649049759,
           0.012617141008377075,
           0.06353278458118439,
           0.1511482298374176
          ],
          [
           -0.0035934019833803177,
           -0.02624543011188507,
           0.02237875573337078,
           -0.04648418724536896,
           0.03052155114710331,
           0.12336794286966324,
           0.15470001101493835,
           -0.002634241245687008
          ],
          [
           -0.0684208869934082,
           -0.04525310546159744,
           -0.00924547016620636,
           0,
           0,
           0.5259788036346436,
           0.044862858951091766,
           0.12289486080408096
          ],
          [
           0.01324373483657837,
           -0.014187981374561787,
           0.03300561383366585,
           0,
           0,
           -0.029872281476855278,
           0.048166461288928986,
           -0.004020491614937782
          ],
          [
           0.004883699119091034,
           -0.07535217702388763,
           -0.06079207360744476,
           0.06748174875974655,
           -0.06886044144630432,
           0.026207152754068375,
           -0.07996931672096252,
           0.061851341277360916
          ],
          [
           -0.015365785919129848,
           -0.019802868366241455,
           0.02118249237537384,
           -0.029588382691144943,
           0.040501173585653305,
           -0.018004827201366425,
           -0.007196351885795593,
           -0.019698116928339005
          ],
          [
           -0.04538238048553467,
           0.004976207390427589,
           -0.06666317582130432,
           0.03927729278802872,
           -0.004769753664731979,
           -0.02677261456847191,
           -0.04837622866034508,
           -0.011798793449997902
          ]
         ]
        },
        {
         "coloraxis": "coloraxis",
         "hovertemplate": "x: %{x}<br>y: %{y}<br>color: %{z}<extra></extra>",
         "name": "5",
         "type": "heatmap",
         "xaxis": "x6",
         "y": [
          "A",
          "B",
          "C",
          "D",
          "E",
          "F",
          "G",
          "H"
         ],
         "yaxis": "y6",
         "z": [
          [
           0.01426941528916359,
           0.05195101350545883,
           0.0005569290369749069,
           0.30275148153305054,
           0.02790900133550167,
           0.0351291187107563,
           -0.0021184738725423813,
           -0.023101571947336197
          ],
          [
           -0.026014655828475952,
           -0.013127196580171585,
           0.02477666363120079,
           0.39918583631515503,
           -0.024915197864174843,
           -0.05544789135456085,
           0.004170890897512436,
           0.016776060685515404
          ],
          [
           -0.0014841509982943535,
           0.014775069430470467,
           0.032771725207567215,
           0.23545074462890625,
           -0.03991542384028435,
           0.01746877282857895,
           0.023961929604411125,
           -0.02698812633752823
          ],
          [
           -0.020719124004244804,
           0.042871154844760895,
           -0.06142804026603699,
           0,
           0,
           0.06501929461956024,
           0.018620021641254425,
           -0.017979152500629425
          ],
          [
           -0.009714515879750252,
           -0.002325919456779957,
           0.045993030071258545,
           0,
           0,
           -0.03866316005587578,
           -0.010152343660593033,
           -0.014413625933229923
          ],
          [
           -0.021503644064068794,
           0.01863306760787964,
           -0.004488907288759947,
           0.26213961839675903,
           0.0073440056294202805,
           0.020199887454509735,
           -0.00799145083874464,
           -0.00463767908513546
          ],
          [
           -0.03870033472776413,
           -0.043513841927051544,
           -0.0028864294290542603,
           0.17461146414279938,
           -0.0015268120914697647,
           0.042134128510951996,
           -0.011571556329727173,
           0.02265920862555504
          ],
          [
           0.0006795525550842285,
           0.015805106610059738,
           -0.012556344270706177,
           0.09587879478931427,
           0.006483804434537888,
           0.022849850356578827,
           -0.02213464118540287,
           -0.00432178657501936
          ]
         ]
        },
        {
         "coloraxis": "coloraxis",
         "hovertemplate": "x: %{x}<br>y: %{y}<br>color: %{z}<extra></extra>",
         "name": "6",
         "type": "heatmap",
         "xaxis": "x7",
         "y": [
          "A",
          "B",
          "C",
          "D",
          "E",
          "F",
          "G",
          "H"
         ],
         "yaxis": "y7",
         "z": [
          [
           -0.012962300330400467,
           -0.04375778138637543,
           0.04692155867815018,
           -0.05552566424012184,
           -0.050227466970682144,
           -0.011396560817956924,
           0.0018870905041694641,
           -0.06036074459552765
          ],
          [
           0.03223773092031479,
           -0.05062158405780792,
           -0.047516219317913055,
           0.019901210442185402,
           -0.04537346586585045,
           -0.07924522459506989,
           -0.049784157425165176,
           -0.045961856842041016
          ],
          [
           0.03878076374530792,
           0.016682656481862068,
           0.026415452361106873,
           -0.020452141761779785,
           0.013182117603719234,
           -0.007997180335223675,
           -0.03194095194339752,
           -0.04929286241531372
          ],
          [
           0.03176598623394966,
           0.06996513158082962,
           0.07335873693227768,
           0,
           0,
           -0.02253735065460205,
           -0.03318300098180771,
           -0.027063965797424316
          ],
          [
           0.05652946978807449,
           0.14263436198234558,
           0.24658480286598206,
           0,
           0,
           -0.013196133077144623,
           0.006474895402789116,
           -0.0456257238984108
          ],
          [
           0.08308066427707672,
           0.12325821816921234,
           0.3519922196865082,
           0.283274382352829,
           0.010662861168384552,
           -0.003003491088747978,
           -0.01133181806653738,
           -0.019024809822440147
          ],
          [
           0.07178688794374466,
           0.11208374798297882,
           0.1442127823829651,
           0.07211889326572418,
           0.003106708638370037,
           -0.00814994890242815,
           -0.07012967765331268,
           -0.07483094185590744
          ],
          [
           0.04862605780363083,
           0.07859498262405396,
           0.09979870915412903,
           0.015726713463664055,
           0.025032132863998413,
           -0.015360226854681969,
           -0.010506561025977135,
           -0.05200359970331192
          ]
         ]
        },
        {
         "coloraxis": "coloraxis",
         "hovertemplate": "x: %{x}<br>y: %{y}<br>color: %{z}<extra></extra>",
         "name": "7",
         "type": "heatmap",
         "xaxis": "x8",
         "y": [
          "A",
          "B",
          "C",
          "D",
          "E",
          "F",
          "G",
          "H"
         ],
         "yaxis": "y8",
         "z": [
          [
           0.014949280768632889,
           0.12493515014648438,
           0.10501965880393982,
           0.05315355211496353,
           -0.020330630242824554,
           -0.09283719956874847,
           0.008313475176692009,
           -0.02153005078434944
          ],
          [
           0.10493505001068115,
           0.0567304790019989,
           0.37222224473953247,
           -0.008365031331777573,
           -0.09433867037296295,
           -0.04441045969724655,
           -0.03368891775608063,
           -0.043652914464473724
          ],
          [
           0.04893819987773895,
           0.049471285194158554,
           0.20762476325035095,
           0.03664594516158104,
           0.018083320930600166,
           -0.022736797109246254,
           -0.006569594144821167,
           0.007110214326530695
          ],
          [
           0.08825807273387909,
           0.07816662639379501,
           0.2747739553451538,
           0,
           0,
           0.0055998219177126884,
           -0.013751594349741936,
           -0.002550378441810608
          ],
          [
           0.0073717013001441956,
           0.1142827644944191,
           0.047315873205661774,
           0,
           0,
           0.02886197715997696,
           -0.015095938928425312,
           -0.05640935152769089
          ],
          [
           0.100213423371315,
           -0.05892278626561165,
           -0.02612193301320076,
           0.10718235373497009,
           -0.05401339381933212,
           -0.05301549285650253,
           -0.0655028223991394,
           -0.030046990141272545
          ],
          [
           -0.014920748770236969,
           -0.03811962902545929,
           -0.016869880259037018,
           0.04760747402906418,
           -0.01959092915058136,
           -0.09727531671524048,
           -0.013293169438838959,
           -0.05197763442993164
          ],
          [
           -0.03079034388065338,
           -0.055123575031757355,
           -0.04565674811601639,
           -0.02111281454563141,
           -0.020000532269477844,
           -0.03575950115919113,
           -0.025076331570744514,
           -0.01393292099237442
          ]
         ]
        },
        {
         "coloraxis": "coloraxis",
         "hovertemplate": "x: %{x}<br>y: %{y}<br>color: %{z}<extra></extra>",
         "name": "8",
         "type": "heatmap",
         "xaxis": "x9",
         "y": [
          "A",
          "B",
          "C",
          "D",
          "E",
          "F",
          "G",
          "H"
         ],
         "yaxis": "y9",
         "z": [
          [
           -0.04022277519106865,
           0.023270731791853905,
           0.014453146606683731,
           -0.025472749024629593,
           -0.03674883395433426,
           0.0156246954575181,
           0.011568862944841385,
           -0.056261081248521805
          ],
          [
           -0.01803211122751236,
           0.04386310279369354,
           0.08249348402023315,
           0.0401938334107399,
           0.005444761365652084,
           -0.017702922224998474,
           -0.09583795070648193,
           -0.10607288777828217
          ],
          [
           0.025372164323925972,
           0.08554506301879883,
           0.08750084042549133,
           0.2732078433036804,
           0.2008453607559204,
           -0.004466617945581675,
           -0.06290962547063828,
           -0.07286291569471359
          ],
          [
           0.027215002104640007,
           -0.003992840647697449,
           0.2524992823600769,
           0,
           0,
           -0.10595452785491943,
           -0.1154581680893898,
           -0.07946404069662094
          ],
          [
           0.02546895295381546,
           0.08514676988124847,
           0.24336762726306915,
           0,
           0,
           0.01632983423769474,
           -0.03894873708486557,
           -0.06710298359394073
          ],
          [
           -0.06504303216934204,
           -0.04015009477734566,
           -0.02757926657795906,
           -0.06277652829885483,
           -0.07791247963905334,
           -0.0023521925322711468,
           -0.032816365361213684,
           -0.07240497320890427
          ],
          [
           -0.027477748692035675,
           -0.06529571115970612,
           -0.016774559393525124,
           -0.02035893127322197,
           -0.05650067329406738,
           0.02308581955730915,
           -0.01049458235502243,
           -0.07544119656085968
          ],
          [
           -0.02997901290655136,
           -0.08627251535654068,
           -0.10518738627433777,
           -0.04296102374792099,
           -0.04007987305521965,
           -0.07002274692058563,
           -0.06806019693613052,
           -0.030087005347013474
          ]
         ]
        },
        {
         "coloraxis": "coloraxis",
         "hovertemplate": "x: %{x}<br>y: %{y}<br>color: %{z}<extra></extra>",
         "name": "9",
         "type": "heatmap",
         "xaxis": "x10",
         "y": [
          "A",
          "B",
          "C",
          "D",
          "E",
          "F",
          "G",
          "H"
         ],
         "yaxis": "y10",
         "z": [
          [
           -0.01624809391796589,
           0.033844806253910065,
           0.00678245909512043,
           -0.024235118180513382,
           0.040496088564395905,
           -0.027920156717300415,
           -0.035620614886283875,
           -0.016497816890478134
          ],
          [
           0.0012431470677256584,
           -0.008976755663752556,
           0.07140319794416428,
           0.055156175047159195,
           0.00475473515689373,
           -0.08281461149454117,
           0.04010318964719772,
           0.10951963067054749
          ],
          [
           0.022033756598830223,
           0.012715039774775505,
           0.021987687796354294,
           0.019646698608994484,
           0.05978725850582123,
           0.030573759227991104,
           0.14504623413085938,
           0.028399089351296425
          ],
          [
           -0.045303042978048325,
           -0.03942396491765976,
           -0.003068614285439253,
           0,
           0,
           0.5529906153678894,
           0.1906438022851944,
           -0.0037577636539936066
          ],
          [
           0.03376445174217224,
           0.019274715334177017,
           0.021156596019864082,
           0,
           0,
           0.0344063900411129,
           0.04605301097035408,
           0.020723307505249977
          ],
          [
           -0.008273817598819733,
           -0.005484198220074177,
           -0.0032927030697464943,
           -0.019042883068323135,
           0.057224951684474945,
           -0.0637572854757309,
           0.009150736033916473,
           0.034216299653053284
          ],
          [
           -0.027324164286255836,
           0.006637577898800373,
           -0.03177914023399353,
           -0.004996655508875847,
           0.009928745217621326,
           -0.01855899952352047,
           -0.004728032276034355,
           -0.0007879296317696571
          ],
          [
           -0.022021247074007988,
           -0.07414058595895767,
           0.002138756215572357,
           -0.010998163372278214,
           -0.00937582179903984,
           -0.036173321306705475,
           -0.00991964153945446,
           -0.005159236490726471
          ]
         ]
        }
       ],
       "layout": {
        "annotations": [
         {
          "font": {},
          "showarrow": false,
          "text": "L7N1948",
          "x": 0.04100000000000001,
          "xanchor": "center",
          "xref": "paper",
          "y": 1,
          "yanchor": "bottom",
          "yref": "paper"
         },
         {
          "font": {},
          "showarrow": false,
          "text": "L7N197",
          "x": 0.14300000000000004,
          "xanchor": "center",
          "xref": "paper",
          "y": 1,
          "yanchor": "bottom",
          "yref": "paper"
         },
         {
          "font": {},
          "showarrow": false,
          "text": "L7N1271",
          "x": 0.24500000000000005,
          "xanchor": "center",
          "xref": "paper",
          "y": 1,
          "yanchor": "bottom",
          "yref": "paper"
         },
         {
          "font": {},
          "showarrow": false,
          "text": "L7N1135",
          "x": 0.3470000000000001,
          "xanchor": "center",
          "xref": "paper",
          "y": 1,
          "yanchor": "bottom",
          "yref": "paper"
         },
         {
          "font": {},
          "showarrow": false,
          "text": "L7N1042",
          "x": 0.44900000000000007,
          "xanchor": "center",
          "xref": "paper",
          "y": 1,
          "yanchor": "bottom",
          "yref": "paper"
         },
         {
          "font": {},
          "showarrow": false,
          "text": "L7N1848",
          "x": 0.5510000000000002,
          "xanchor": "center",
          "xref": "paper",
          "y": 1,
          "yanchor": "bottom",
          "yref": "paper"
         },
         {
          "font": {},
          "showarrow": false,
          "text": "L7N136",
          "x": 0.6530000000000001,
          "xanchor": "center",
          "xref": "paper",
          "y": 1,
          "yanchor": "bottom",
          "yref": "paper"
         },
         {
          "font": {},
          "showarrow": false,
          "text": "L7N1340",
          "x": 0.7550000000000001,
          "xanchor": "center",
          "xref": "paper",
          "y": 1,
          "yanchor": "bottom",
          "yref": "paper"
         },
         {
          "font": {},
          "showarrow": false,
          "text": "L7N1175",
          "x": 0.8570000000000002,
          "xanchor": "center",
          "xref": "paper",
          "y": 1,
          "yanchor": "bottom",
          "yref": "paper"
         },
         {
          "font": {},
          "showarrow": false,
          "text": "L7N1813",
          "x": 0.9590000000000002,
          "xanchor": "center",
          "xref": "paper",
          "y": 1,
          "yanchor": "bottom",
          "yref": "paper"
         }
        ],
        "coloraxis": {
         "cmid": 0,
         "colorscale": [
          [
           0,
           "rgb(103,0,31)"
          ],
          [
           0.1,
           "rgb(178,24,43)"
          ],
          [
           0.2,
           "rgb(214,96,77)"
          ],
          [
           0.3,
           "rgb(244,165,130)"
          ],
          [
           0.4,
           "rgb(253,219,199)"
          ],
          [
           0.5,
           "rgb(247,247,247)"
          ],
          [
           0.6,
           "rgb(209,229,240)"
          ],
          [
           0.7,
           "rgb(146,197,222)"
          ],
          [
           0.8,
           "rgb(67,147,195)"
          ],
          [
           0.9,
           "rgb(33,102,172)"
          ],
          [
           1,
           "rgb(5,48,97)"
          ]
         ]
        },
        "template": {
         "data": {
          "bar": [
           {
            "error_x": {
             "color": "#2a3f5f"
            },
            "error_y": {
             "color": "#2a3f5f"
            },
            "marker": {
             "line": {
              "color": "#E5ECF6",
              "width": 0.5
             },
             "pattern": {
              "fillmode": "overlay",
              "size": 10,
              "solidity": 0.2
             }
            },
            "type": "bar"
           }
          ],
          "barpolar": [
           {
            "marker": {
             "line": {
              "color": "#E5ECF6",
              "width": 0.5
             },
             "pattern": {
              "fillmode": "overlay",
              "size": 10,
              "solidity": 0.2
             }
            },
            "type": "barpolar"
           }
          ],
          "carpet": [
           {
            "aaxis": {
             "endlinecolor": "#2a3f5f",
             "gridcolor": "white",
             "linecolor": "white",
             "minorgridcolor": "white",
             "startlinecolor": "#2a3f5f"
            },
            "baxis": {
             "endlinecolor": "#2a3f5f",
             "gridcolor": "white",
             "linecolor": "white",
             "minorgridcolor": "white",
             "startlinecolor": "#2a3f5f"
            },
            "type": "carpet"
           }
          ],
          "choropleth": [
           {
            "colorbar": {
             "outlinewidth": 0,
             "ticks": ""
            },
            "type": "choropleth"
           }
          ],
          "contour": [
           {
            "colorbar": {
             "outlinewidth": 0,
             "ticks": ""
            },
            "colorscale": [
             [
              0,
              "#0d0887"
             ],
             [
              0.1111111111111111,
              "#46039f"
             ],
             [
              0.2222222222222222,
              "#7201a8"
             ],
             [
              0.3333333333333333,
              "#9c179e"
             ],
             [
              0.4444444444444444,
              "#bd3786"
             ],
             [
              0.5555555555555556,
              "#d8576b"
             ],
             [
              0.6666666666666666,
              "#ed7953"
             ],
             [
              0.7777777777777778,
              "#fb9f3a"
             ],
             [
              0.8888888888888888,
              "#fdca26"
             ],
             [
              1,
              "#f0f921"
             ]
            ],
            "type": "contour"
           }
          ],
          "contourcarpet": [
           {
            "colorbar": {
             "outlinewidth": 0,
             "ticks": ""
            },
            "type": "contourcarpet"
           }
          ],
          "heatmap": [
           {
            "colorbar": {
             "outlinewidth": 0,
             "ticks": ""
            },
            "colorscale": [
             [
              0,
              "#0d0887"
             ],
             [
              0.1111111111111111,
              "#46039f"
             ],
             [
              0.2222222222222222,
              "#7201a8"
             ],
             [
              0.3333333333333333,
              "#9c179e"
             ],
             [
              0.4444444444444444,
              "#bd3786"
             ],
             [
              0.5555555555555556,
              "#d8576b"
             ],
             [
              0.6666666666666666,
              "#ed7953"
             ],
             [
              0.7777777777777778,
              "#fb9f3a"
             ],
             [
              0.8888888888888888,
              "#fdca26"
             ],
             [
              1,
              "#f0f921"
             ]
            ],
            "type": "heatmap"
           }
          ],
          "heatmapgl": [
           {
            "colorbar": {
             "outlinewidth": 0,
             "ticks": ""
            },
            "colorscale": [
             [
              0,
              "#0d0887"
             ],
             [
              0.1111111111111111,
              "#46039f"
             ],
             [
              0.2222222222222222,
              "#7201a8"
             ],
             [
              0.3333333333333333,
              "#9c179e"
             ],
             [
              0.4444444444444444,
              "#bd3786"
             ],
             [
              0.5555555555555556,
              "#d8576b"
             ],
             [
              0.6666666666666666,
              "#ed7953"
             ],
             [
              0.7777777777777778,
              "#fb9f3a"
             ],
             [
              0.8888888888888888,
              "#fdca26"
             ],
             [
              1,
              "#f0f921"
             ]
            ],
            "type": "heatmapgl"
           }
          ],
          "histogram": [
           {
            "marker": {
             "pattern": {
              "fillmode": "overlay",
              "size": 10,
              "solidity": 0.2
             }
            },
            "type": "histogram"
           }
          ],
          "histogram2d": [
           {
            "colorbar": {
             "outlinewidth": 0,
             "ticks": ""
            },
            "colorscale": [
             [
              0,
              "#0d0887"
             ],
             [
              0.1111111111111111,
              "#46039f"
             ],
             [
              0.2222222222222222,
              "#7201a8"
             ],
             [
              0.3333333333333333,
              "#9c179e"
             ],
             [
              0.4444444444444444,
              "#bd3786"
             ],
             [
              0.5555555555555556,
              "#d8576b"
             ],
             [
              0.6666666666666666,
              "#ed7953"
             ],
             [
              0.7777777777777778,
              "#fb9f3a"
             ],
             [
              0.8888888888888888,
              "#fdca26"
             ],
             [
              1,
              "#f0f921"
             ]
            ],
            "type": "histogram2d"
           }
          ],
          "histogram2dcontour": [
           {
            "colorbar": {
             "outlinewidth": 0,
             "ticks": ""
            },
            "colorscale": [
             [
              0,
              "#0d0887"
             ],
             [
              0.1111111111111111,
              "#46039f"
             ],
             [
              0.2222222222222222,
              "#7201a8"
             ],
             [
              0.3333333333333333,
              "#9c179e"
             ],
             [
              0.4444444444444444,
              "#bd3786"
             ],
             [
              0.5555555555555556,
              "#d8576b"
             ],
             [
              0.6666666666666666,
              "#ed7953"
             ],
             [
              0.7777777777777778,
              "#fb9f3a"
             ],
             [
              0.8888888888888888,
              "#fdca26"
             ],
             [
              1,
              "#f0f921"
             ]
            ],
            "type": "histogram2dcontour"
           }
          ],
          "mesh3d": [
           {
            "colorbar": {
             "outlinewidth": 0,
             "ticks": ""
            },
            "type": "mesh3d"
           }
          ],
          "parcoords": [
           {
            "line": {
             "colorbar": {
              "outlinewidth": 0,
              "ticks": ""
             }
            },
            "type": "parcoords"
           }
          ],
          "pie": [
           {
            "automargin": true,
            "type": "pie"
           }
          ],
          "scatter": [
           {
            "fillpattern": {
             "fillmode": "overlay",
             "size": 10,
             "solidity": 0.2
            },
            "type": "scatter"
           }
          ],
          "scatter3d": [
           {
            "line": {
             "colorbar": {
              "outlinewidth": 0,
              "ticks": ""
             }
            },
            "marker": {
             "colorbar": {
              "outlinewidth": 0,
              "ticks": ""
             }
            },
            "type": "scatter3d"
           }
          ],
          "scattercarpet": [
           {
            "marker": {
             "colorbar": {
              "outlinewidth": 0,
              "ticks": ""
             }
            },
            "type": "scattercarpet"
           }
          ],
          "scattergeo": [
           {
            "marker": {
             "colorbar": {
              "outlinewidth": 0,
              "ticks": ""
             }
            },
            "type": "scattergeo"
           }
          ],
          "scattergl": [
           {
            "marker": {
             "colorbar": {
              "outlinewidth": 0,
              "ticks": ""
             }
            },
            "type": "scattergl"
           }
          ],
          "scattermapbox": [
           {
            "marker": {
             "colorbar": {
              "outlinewidth": 0,
              "ticks": ""
             }
            },
            "type": "scattermapbox"
           }
          ],
          "scatterpolar": [
           {
            "marker": {
             "colorbar": {
              "outlinewidth": 0,
              "ticks": ""
             }
            },
            "type": "scatterpolar"
           }
          ],
          "scatterpolargl": [
           {
            "marker": {
             "colorbar": {
              "outlinewidth": 0,
              "ticks": ""
             }
            },
            "type": "scatterpolargl"
           }
          ],
          "scatterternary": [
           {
            "marker": {
             "colorbar": {
              "outlinewidth": 0,
              "ticks": ""
             }
            },
            "type": "scatterternary"
           }
          ],
          "surface": [
           {
            "colorbar": {
             "outlinewidth": 0,
             "ticks": ""
            },
            "colorscale": [
             [
              0,
              "#0d0887"
             ],
             [
              0.1111111111111111,
              "#46039f"
             ],
             [
              0.2222222222222222,
              "#7201a8"
             ],
             [
              0.3333333333333333,
              "#9c179e"
             ],
             [
              0.4444444444444444,
              "#bd3786"
             ],
             [
              0.5555555555555556,
              "#d8576b"
             ],
             [
              0.6666666666666666,
              "#ed7953"
             ],
             [
              0.7777777777777778,
              "#fb9f3a"
             ],
             [
              0.8888888888888888,
              "#fdca26"
             ],
             [
              1,
              "#f0f921"
             ]
            ],
            "type": "surface"
           }
          ],
          "table": [
           {
            "cells": {
             "fill": {
              "color": "#EBF0F8"
             },
             "line": {
              "color": "white"
             }
            },
            "header": {
             "fill": {
              "color": "#C8D4E3"
             },
             "line": {
              "color": "white"
             }
            },
            "type": "table"
           }
          ]
         },
         "layout": {
          "annotationdefaults": {
           "arrowcolor": "#2a3f5f",
           "arrowhead": 0,
           "arrowwidth": 1
          },
          "autotypenumbers": "strict",
          "coloraxis": {
           "colorbar": {
            "outlinewidth": 0,
            "ticks": ""
           }
          },
          "colorscale": {
           "diverging": [
            [
             0,
             "#8e0152"
            ],
            [
             0.1,
             "#c51b7d"
            ],
            [
             0.2,
             "#de77ae"
            ],
            [
             0.3,
             "#f1b6da"
            ],
            [
             0.4,
             "#fde0ef"
            ],
            [
             0.5,
             "#f7f7f7"
            ],
            [
             0.6,
             "#e6f5d0"
            ],
            [
             0.7,
             "#b8e186"
            ],
            [
             0.8,
             "#7fbc41"
            ],
            [
             0.9,
             "#4d9221"
            ],
            [
             1,
             "#276419"
            ]
           ],
           "sequential": [
            [
             0,
             "#0d0887"
            ],
            [
             0.1111111111111111,
             "#46039f"
            ],
            [
             0.2222222222222222,
             "#7201a8"
            ],
            [
             0.3333333333333333,
             "#9c179e"
            ],
            [
             0.4444444444444444,
             "#bd3786"
            ],
            [
             0.5555555555555556,
             "#d8576b"
            ],
            [
             0.6666666666666666,
             "#ed7953"
            ],
            [
             0.7777777777777778,
             "#fb9f3a"
            ],
            [
             0.8888888888888888,
             "#fdca26"
            ],
            [
             1,
             "#f0f921"
            ]
           ],
           "sequentialminus": [
            [
             0,
             "#0d0887"
            ],
            [
             0.1111111111111111,
             "#46039f"
            ],
            [
             0.2222222222222222,
             "#7201a8"
            ],
            [
             0.3333333333333333,
             "#9c179e"
            ],
            [
             0.4444444444444444,
             "#bd3786"
            ],
            [
             0.5555555555555556,
             "#d8576b"
            ],
            [
             0.6666666666666666,
             "#ed7953"
            ],
            [
             0.7777777777777778,
             "#fb9f3a"
            ],
            [
             0.8888888888888888,
             "#fdca26"
            ],
            [
             1,
             "#f0f921"
            ]
           ]
          },
          "colorway": [
           "#636efa",
           "#EF553B",
           "#00cc96",
           "#ab63fa",
           "#FFA15A",
           "#19d3f3",
           "#FF6692",
           "#B6E880",
           "#FF97FF",
           "#FECB52"
          ],
          "font": {
           "color": "#2a3f5f"
          },
          "geo": {
           "bgcolor": "white",
           "lakecolor": "white",
           "landcolor": "#E5ECF6",
           "showlakes": true,
           "showland": true,
           "subunitcolor": "white"
          },
          "hoverlabel": {
           "align": "left"
          },
          "hovermode": "closest",
          "mapbox": {
           "style": "light"
          },
          "paper_bgcolor": "white",
          "plot_bgcolor": "#E5ECF6",
          "polar": {
           "angularaxis": {
            "gridcolor": "white",
            "linecolor": "white",
            "ticks": ""
           },
           "bgcolor": "#E5ECF6",
           "radialaxis": {
            "gridcolor": "white",
            "linecolor": "white",
            "ticks": ""
           }
          },
          "scene": {
           "xaxis": {
            "backgroundcolor": "#E5ECF6",
            "gridcolor": "white",
            "gridwidth": 2,
            "linecolor": "white",
            "showbackground": true,
            "ticks": "",
            "zerolinecolor": "white"
           },
           "yaxis": {
            "backgroundcolor": "#E5ECF6",
            "gridcolor": "white",
            "gridwidth": 2,
            "linecolor": "white",
            "showbackground": true,
            "ticks": "",
            "zerolinecolor": "white"
           },
           "zaxis": {
            "backgroundcolor": "#E5ECF6",
            "gridcolor": "white",
            "gridwidth": 2,
            "linecolor": "white",
            "showbackground": true,
            "ticks": "",
            "zerolinecolor": "white"
           }
          },
          "shapedefaults": {
           "line": {
            "color": "#2a3f5f"
           }
          },
          "ternary": {
           "aaxis": {
            "gridcolor": "white",
            "linecolor": "white",
            "ticks": ""
           },
           "baxis": {
            "gridcolor": "white",
            "linecolor": "white",
            "ticks": ""
           },
           "bgcolor": "#E5ECF6",
           "caxis": {
            "gridcolor": "white",
            "linecolor": "white",
            "ticks": ""
           }
          },
          "title": {
           "x": 0.05
          },
          "xaxis": {
           "automargin": true,
           "gridcolor": "white",
           "linecolor": "white",
           "ticks": "",
           "title": {
            "standoff": 15
           },
           "zerolinecolor": "white",
           "zerolinewidth": 2
          },
          "yaxis": {
           "automargin": true,
           "gridcolor": "white",
           "linecolor": "white",
           "ticks": "",
           "title": {
            "standoff": 15
           },
           "zerolinecolor": "white",
           "zerolinewidth": 2
          }
         }
        },
        "title": {
         "text": "Cosine sim of Input weights and the my color probe for top layer 7 neurons"
        },
        "xaxis": {
         "anchor": "y",
         "domain": [
          0,
          0.08200000000000002
         ],
         "title": {
          "text": "x"
         }
        },
        "xaxis10": {
         "anchor": "y10",
         "domain": [
          0.9180000000000001,
          1
         ],
         "matches": "x",
         "title": {
          "text": "x"
         }
        },
        "xaxis2": {
         "anchor": "y2",
         "domain": [
          0.10200000000000002,
          0.18400000000000005
         ],
         "matches": "x",
         "title": {
          "text": "x"
         }
        },
        "xaxis3": {
         "anchor": "y3",
         "domain": [
          0.20400000000000004,
          0.28600000000000003
         ],
         "matches": "x",
         "title": {
          "text": "x"
         }
        },
        "xaxis4": {
         "anchor": "y4",
         "domain": [
          0.30600000000000005,
          0.38800000000000007
         ],
         "matches": "x",
         "title": {
          "text": "x"
         }
        },
        "xaxis5": {
         "anchor": "y5",
         "domain": [
          0.4080000000000001,
          0.4900000000000001
         ],
         "matches": "x",
         "title": {
          "text": "x"
         }
        },
        "xaxis6": {
         "anchor": "y6",
         "domain": [
          0.5100000000000001,
          0.5920000000000001
         ],
         "matches": "x",
         "title": {
          "text": "x"
         }
        },
        "xaxis7": {
         "anchor": "y7",
         "domain": [
          0.6120000000000001,
          0.6940000000000002
         ],
         "matches": "x",
         "title": {
          "text": "x"
         }
        },
        "xaxis8": {
         "anchor": "y8",
         "domain": [
          0.7140000000000001,
          0.796
         ],
         "matches": "x",
         "title": {
          "text": "x"
         }
        },
        "xaxis9": {
         "anchor": "y9",
         "domain": [
          0.8160000000000002,
          0.8980000000000001
         ],
         "matches": "x",
         "title": {
          "text": "x"
         }
        },
        "yaxis": {
         "anchor": "x",
         "autorange": "reversed",
         "domain": [
          0,
          1
         ],
         "title": {
          "text": "y"
         }
        },
        "yaxis10": {
         "anchor": "x10",
         "domain": [
          0,
          1
         ],
         "matches": "y",
         "showticklabels": false
        },
        "yaxis2": {
         "anchor": "x2",
         "domain": [
          0,
          1
         ],
         "matches": "y",
         "showticklabels": false
        },
        "yaxis3": {
         "anchor": "x3",
         "domain": [
          0,
          1
         ],
         "matches": "y",
         "showticklabels": false
        },
        "yaxis4": {
         "anchor": "x4",
         "domain": [
          0,
          1
         ],
         "matches": "y",
         "showticklabels": false
        },
        "yaxis5": {
         "anchor": "x5",
         "domain": [
          0,
          1
         ],
         "matches": "y",
         "showticklabels": false
        },
        "yaxis6": {
         "anchor": "x6",
         "domain": [
          0,
          1
         ],
         "matches": "y",
         "showticklabels": false
        },
        "yaxis7": {
         "anchor": "x7",
         "domain": [
          0,
          1
         ],
         "matches": "y",
         "showticklabels": false
        },
        "yaxis8": {
         "anchor": "x8",
         "domain": [
          0,
          1
         ],
         "matches": "y",
         "showticklabels": false
        },
        "yaxis9": {
         "anchor": "x9",
         "domain": [
          0,
          1
         ],
         "matches": "y",
         "showticklabels": false
        }
       }
      }
     },
     "metadata": {},
     "output_type": "display_data"
    },
    {
     "data": {
      "application/vnd.plotly.v1+json": {
       "config": {
        "plotlyServerURL": "https://plot.ly"
       },
       "data": [
        {
         "coloraxis": "coloraxis",
         "hovertemplate": "x: %{x}<br>y: %{y}<br>color: %{z}<extra></extra>",
         "name": "0",
         "type": "heatmap",
         "xaxis": "x",
         "y": [
          "A",
          "B",
          "C",
          "D",
          "E",
          "F",
          "G",
          "H"
         ],
         "yaxis": "y",
         "z": [
          [
           -0.00904916413128376,
           -0.01130673848092556,
           -0.04411536455154419,
           -0.008038568310439587,
           -0.04054877161979675,
           -0.02493160590529442,
           -0.005450470373034477,
           -0.011867434717714787
          ],
          [
           0.1330694556236267,
           -0.02195647545158863,
           -0.027745017781853676,
           -0.02765551023185253,
           -0.017061900347471237,
           0.012330127879977226,
           -0.023829016834497452,
           -0.007076853886246681
          ],
          [
           0.0003738459199666977,
           0.11634983122348785,
           -0.05151277408003807,
           -0.0378313809633255,
           0.013377530500292778,
           0.010730307549238205,
           -0.0033732596784830093,
           0.01905503123998642
          ],
          [
           0.044387996196746826,
           0.05381055176258087,
           0.5438123941421509,
           0,
           0,
           0.02148069068789482,
           -0.025549422949552536,
           -0.014235284179449081
          ],
          [
           -0.044241808354854584,
           0.004887702874839306,
           0.008483167737722397,
           0,
           0,
           -0.0006090067327022552,
           -0.032794028520584106,
           -0.03417528048157692
          ],
          [
           0.021388471126556396,
           -0.025732386857271194,
           -0.03297552466392517,
           0.002894042059779167,
           -0.024469152092933655,
           -0.02631165087223053,
           -0.039752256125211716,
           -0.024242663756012917
          ],
          [
           -0.012483447790145874,
           0.001762237399816513,
           -0.035903144627809525,
           -0.03898218274116516,
           -0.03157765790820122,
           -0.045803502202034,
           -0.006856674328446388,
           -0.028108710423111916
          ],
          [
           -0.020939335227012634,
           -0.0529475063085556,
           -0.02679687924683094,
           -0.03505752235651016,
           -0.03505335748195648,
           -0.03559610992670059,
           -0.08093789219856262,
           -0.02672802284359932
          ]
         ]
        },
        {
         "coloraxis": "coloraxis",
         "hovertemplate": "x: %{x}<br>y: %{y}<br>color: %{z}<extra></extra>",
         "name": "1",
         "type": "heatmap",
         "xaxis": "x2",
         "y": [
          "A",
          "B",
          "C",
          "D",
          "E",
          "F",
          "G",
          "H"
         ],
         "yaxis": "y2",
         "z": [
          [
           0.013911242596805096,
           0.0003901571035385132,
           0.04372995346784592,
           -0.006825794465839863,
           -0.03069331869482994,
           0.005334512330591679,
           -0.021615002304315567,
           -0.025741523131728172
          ],
          [
           0.006212688982486725,
           -0.03037112206220627,
           -0.025620318949222565,
           0.007429792545735836,
           0.008557259105145931,
           -0.04374435544013977,
           -0.01352391205728054,
           -0.05561735853552818
          ],
          [
           0.024971064180135727,
           0.013185925781726837,
           -0.04535531997680664,
           0.018143434077501297,
           -0.009014617651700974,
           -0.01978575810790062,
           -0.050377845764160156,
           -0.0379234254360199
          ],
          [
           -0.005792052485048771,
           -0.001909993588924408,
           0.019658397883176804,
           0,
           0,
           -0.0405006967484951,
           0.009940659627318382,
           -0.005639084614813328
          ],
          [
           0.045746851712465286,
           0.09531967341899872,
           0.5606973767280579,
           0,
           0,
           0.017417624592781067,
           -0.039634112268686295,
           -0.02545759081840515
          ],
          [
           0.013181209564208984,
           0.09021938592195511,
           -0.007849365472793579,
           -0.00666369404643774,
           -0.029910095036029816,
           0.014770740643143654,
           0.0150726567953825,
           -0.017238007858395576
          ],
          [
           0.10675066709518433,
           -0.011434796266257763,
           -0.001222945749759674,
           -0.006218778435140848,
           0.002168036997318268,
           0.0129291582852602,
           -0.01687355525791645,
           -0.0066528599709272385
          ],
          [
           -0.0057714879512786865,
           -0.01976740173995495,
           -0.009492047131061554,
           0.022201351821422577,
           0.0094626285135746,
           -0.004942861385643482,
           0.006670577451586723,
           0.02073640376329422
          ]
         ]
        },
        {
         "coloraxis": "coloraxis",
         "hovertemplate": "x: %{x}<br>y: %{y}<br>color: %{z}<extra></extra>",
         "name": "2",
         "type": "heatmap",
         "xaxis": "x3",
         "y": [
          "A",
          "B",
          "C",
          "D",
          "E",
          "F",
          "G",
          "H"
         ],
         "yaxis": "y3",
         "z": [
          [
           0.018854472786188126,
           -0.04292164742946625,
           -0.003976072184741497,
           -0.0034010177478194237,
           -0.006046298425644636,
           -0.009461617097258568,
           -0.005017073359340429,
           0.014058692380785942
          ],
          [
           -0.027978114783763885,
           0.03044251725077629,
           -0.05174674838781357,
           0.0035434551537036896,
           -0.021323859691619873,
           -0.02527051791548729,
           -0.0028449771925807,
           0.01647108793258667
          ],
          [
           -0.023485561832785606,
           -0.05595371499657631,
           0.006318582221865654,
           -0.03556184098124504,
           -0.028147758916020393,
           0.009054437279701233,
           0.01550758071243763,
           0.010870464146137238
          ],
          [
           -0.0165078304708004,
           -0.00012027285993099213,
           -0.05042778328061104,
           0,
           0,
           -0.002147255465388298,
           -0.008313092403113842,
           -0.013150833547115326
          ],
          [
           -0.019548382610082626,
           -0.014019940048456192,
           -0.0017921887338161469,
           0,
           0,
           -0.03698260337114334,
           -0.029123354703187943,
           -0.012937633320689201
          ],
          [
           -0.06741160899400711,
           -0.017283322289586067,
           -0.007086185738444328,
           0.0032082144170999527,
           0.5565935373306274,
           0.015527710318565369,
           0.06304782629013062,
           -0.014261728152632713
          ],
          [
           -0.026311732828617096,
           -0.04505087435245514,
           0.014057930558919907,
           0.030130652710795403,
           0.05532792583107948,
           0.08003289997577667,
           -0.014705786481499672,
           -0.025972168892621994
          ],
          [
           0.004342462867498398,
           -0.0015235058963298798,
           0.031626634299755096,
           -0.0002757292240858078,
           0.03671269863843918,
           0.00796528346836567,
           0.09971310198307037,
           -0.02815190702676773
          ]
         ]
        },
        {
         "coloraxis": "coloraxis",
         "hovertemplate": "x: %{x}<br>y: %{y}<br>color: %{z}<extra></extra>",
         "name": "3",
         "type": "heatmap",
         "xaxis": "x4",
         "y": [
          "A",
          "B",
          "C",
          "D",
          "E",
          "F",
          "G",
          "H"
         ],
         "yaxis": "y4",
         "z": [
          [
           -0.03810198977589607,
           -0.036255545914173126,
           0.08108275383710861,
           -0.003554506227374077,
           0.1390463411808014,
           0.022412434220314026,
           0.11233805119991302,
           -0.003265516832470894
          ],
          [
           0.011685622856020927,
           -0.013043202459812164,
           0.014302656054496765,
           0.0416254848241806,
           0.14162132143974304,
           0.1397201418876648,
           0.0023802299983799458,
           -0.043236538767814636
          ],
          [
           0.0270855575799942,
           -0.00863628089427948,
           -0.02375163324177265,
           0.012852615676820278,
           0.5022082924842834,
           -0.028773248195648193,
           -0.015081197023391724,
           -0.018474679440259933
          ],
          [
           0.024178598076105118,
           -0.0024761706590652466,
           -0.04348411411046982,
           0,
           0,
           -0.021774079650640488,
           -0.014206543564796448,
           -0.020670484751462936
          ],
          [
           -0.022282510995864868,
           -0.04801233485341072,
           -0.03388874977827072,
           0,
           0,
           -0.011805914342403412,
           -0.04787536337971687,
           -0.004287936724722385
          ],
          [
           -0.013358278200030327,
           0.002403897000476718,
           0.032606832683086395,
           -0.015343631617724895,
           -0.007456693798303604,
           -0.029276516288518906,
           0.03828069567680359,
           0.01009827759116888
          ],
          [
           0.017834309488534927,
           0.023469872772693634,
           -0.021361133083701134,
           -0.016818229109048843,
           0.00042646005749702454,
           -0.005988242104649544,
           -0.004736676812171936,
           -0.03292131796479225
          ],
          [
           0.0295837614685297,
           -0.035363662987947464,
           -0.044501833617687225,
           -0.027799351140856743,
           -0.009661903604865074,
           0.003947862423956394,
           -0.01908673346042633,
           0.006579820066690445
          ]
         ]
        },
        {
         "coloraxis": "coloraxis",
         "hovertemplate": "x: %{x}<br>y: %{y}<br>color: %{z}<extra></extra>",
         "name": "4",
         "type": "heatmap",
         "xaxis": "x5",
         "y": [
          "A",
          "B",
          "C",
          "D",
          "E",
          "F",
          "G",
          "H"
         ],
         "yaxis": "y5",
         "z": [
          [
           -0.028149573132395744,
           -0.00792028196156025,
           0.034012407064437866,
           -0.029465865343809128,
           0.047602444887161255,
           -0.011577431112527847,
           0.08487334847450256,
           0.007786417379975319
          ],
          [
           0.002286657691001892,
           0.02362709864974022,
           0.026836905628442764,
           0.014502819627523422,
           0.05463680997490883,
           0.12019501626491547,
           -0.013752542436122894,
           -0.0426299124956131
          ],
          [
           0.018214717507362366,
           -0.034321129322052,
           -0.028367310762405396,
           0.043320491909980774,
           0.5322372913360596,
           -0.033124178647994995,
           -0.022701527923345566,
           -0.029425764456391335
          ],
          [
           0.046178221702575684,
           0.025280162692070007,
           -0.023001153022050858,
           0,
           0,
           -0.0061898003332316875,
           -0.022968770936131477,
           -0.02297661080956459
          ],
          [
           -0.016395315527915955,
           -0.0491437204182148,
           -0.05936308577656746,
           0,
           0,
           -0.005713135935366154,
           -0.03183816000819206,
           -0.004727750550955534
          ],
          [
           0.003028775565326214,
           -0.0310257188975811,
           0.03461509197950363,
           -0.014086108654737473,
           -0.01369008794426918,
           -0.03641858696937561,
           0.02135469764471054,
           0.0012853126972913742
          ],
          [
           -0.04213982820510864,
           0.016452495008707047,
           -0.05897757411003113,
           -0.020516589283943176,
           -0.014368034899234772,
           -0.002831242047250271,
           -0.009732753038406372,
           -0.020792370662093163
          ],
          [
           0.00602394063025713,
           -0.03019561618566513,
           -0.045260414481163025,
           -0.019612792879343033,
           -0.03805164247751236,
           0.003893435001373291,
           -0.021044643595814705,
           -0.008126286789774895
          ]
         ]
        },
        {
         "coloraxis": "coloraxis",
         "hovertemplate": "x: %{x}<br>y: %{y}<br>color: %{z}<extra></extra>",
         "name": "5",
         "type": "heatmap",
         "xaxis": "x6",
         "y": [
          "A",
          "B",
          "C",
          "D",
          "E",
          "F",
          "G",
          "H"
         ],
         "yaxis": "y6",
         "z": [
          [
           -0.028656430542469025,
           0.07140607386827469,
           -0.03240111842751503,
           0.12333465367555618,
           0.02668633684515953,
           0.07369624823331833,
           -0.001986594870686531,
           -0.02102784998714924
          ],
          [
           -0.04979409649968147,
           0.009547935798764229,
           0.031173832714557648,
           0.11238061636686325,
           -0.005059573799371719,
           -0.0007723849266767502,
           -0.03844572976231575,
           -0.022293228656053543
          ],
          [
           0.005678893998265266,
           0.019997049123048782,
           0.00022543314844369888,
           0.5146912932395935,
           -0.0137111134827137,
           -0.06300027668476105,
           -0.03534931689500809,
           -0.030503002926707268
          ],
          [
           -0.013914612121880054,
           0.004701550118625164,
           -0.05701304227113724,
           0,
           0,
           -0.053677450865507126,
           0.013421784155070782,
           -0.007631744258105755
          ],
          [
           0.003167828544974327,
           -0.032246701419353485,
           0.03197459876537323,
           0,
           0,
           -0.024997450411319733,
           -0.03651345148682594,
           -0.004572547040879726
          ],
          [
           -0.01189107820391655,
           0.0017970474436879158,
           -0.002167217433452606,
           -0.016274701803922653,
           -0.027661729604005814,
           0.008757375180721283,
           -0.058342717587947845,
           -0.015850823372602463
          ],
          [
           -0.007672365754842758,
           -0.015781041234731674,
           0.02196066454052925,
           -0.023345354944467545,
           0.018703024834394455,
           -0.06758231669664383,
           0.021205386146903038,
           -0.004412234295159578
          ],
          [
           -0.01599556766450405,
           -0.03140665963292122,
           -0.028688296675682068,
           -0.013114683330059052,
           -0.013974158093333244,
           -0.033290863037109375,
           -0.016400881111621857,
           -0.025509264320135117
          ]
         ]
        },
        {
         "coloraxis": "coloraxis",
         "hovertemplate": "x: %{x}<br>y: %{y}<br>color: %{z}<extra></extra>",
         "name": "6",
         "type": "heatmap",
         "xaxis": "x7",
         "y": [
          "A",
          "B",
          "C",
          "D",
          "E",
          "F",
          "G",
          "H"
         ],
         "yaxis": "y7",
         "z": [
          [
           0.0011131535284221172,
           -0.015950271859765053,
           -0.03123370371758938,
           -0.005348721519112587,
           -0.012424766086041927,
           -0.02258867770433426,
           0.0019877012819051743,
           -0.00525798462331295
          ],
          [
           -0.02308131754398346,
           0.014780093915760517,
           -0.037710100412368774,
           -0.011721724644303322,
           -0.03934494033455849,
           -0.02297632396221161,
           -0.03075004741549492,
           0.00019087642431259155
          ],
          [
           -0.018146559596061707,
           -0.03873129189014435,
           -0.02392081916332245,
           -0.038211796432733536,
           -0.011867120862007141,
           0.00034827739000320435,
           0.015995176509022713,
           0.04210607707500458
          ],
          [
           -0.03143656998872757,
           0.005466265603899956,
           -0.029439736157655716,
           0,
           0,
           -0.01853177323937416,
           0.021840190514922142,
           0.0257333442568779
          ],
          [
           -0.014423462562263012,
           -0.035203125327825546,
           0.003661602735519409,
           0,
           0,
           0.5344628691673279,
           0.07214833050966263,
           0.09433799237012863
          ],
          [
           -0.04390070214867592,
           0.002054542303085327,
           -0.010781563818454742,
           0.03668191283941269,
           -0.04336080327630043,
           0.04707150161266327,
           0.07853707671165466,
           0.009058201685547829
          ],
          [
           -0.058868326246738434,
           -0.02201983705163002,
           -0.002301929285749793,
           0.02177770994603634,
           -0.01651599258184433,
           0.005140678025782108,
           -0.006276246160268784,
           0.0870547741651535
          ],
          [
           0.0021337494254112244,
           0.007167518138885498,
           -0.02261006087064743,
           -0.00803927518427372,
           -0.01203654520213604,
           -0.017495838925242424,
           -0.036666858941316605,
           0.008078133687376976
          ]
         ]
        },
        {
         "coloraxis": "coloraxis",
         "hovertemplate": "x: %{x}<br>y: %{y}<br>color: %{z}<extra></extra>",
         "name": "7",
         "type": "heatmap",
         "xaxis": "x8",
         "y": [
          "A",
          "B",
          "C",
          "D",
          "E",
          "F",
          "G",
          "H"
         ],
         "yaxis": "y8",
         "z": [
          [
           -0.0004262421280145645,
           0.14115183055400848,
           0.022258784621953964,
           0.13558867573738098,
           0.013603171333670616,
           0.09403842687606812,
           -0.008646881207823753,
           -0.013198603875935078
          ],
          [
           -0.026575520634651184,
           0.017201684415340424,
           0.08516140282154083,
           0.11300817877054214,
           0.025953203439712524,
           -0.026906391605734825,
           -0.004057090729475021,
           -0.01440825592726469
          ],
          [
           0.008052574470639229,
           0.011835254728794098,
           0.002279018983244896,
           0.5131850242614746,
           -0.025193244218826294,
           -0.017302384600043297,
           -0.03778630122542381,
           -0.0312404315918684
          ],
          [
           -0.04361815005540848,
           -0.0036775595508515835,
           -0.06150805205106735,
           0,
           0,
           -0.03422978147864342,
           0.023612894117832184,
           -0.02245468646287918
          ],
          [
           0.008159846067428589,
           -0.014267507940530777,
           0.031006958335638046,
           0,
           0,
           -0.01760929264128208,
           -0.02838163822889328,
           0.003946200013160706
          ],
          [
           0.001510915346443653,
           0.014828064478933811,
           0.0022591203451156616,
           0.029300983995199203,
           0.015371992252767086,
           0.011255111545324326,
           -0.015309611335396767,
           -0.004174914211034775
          ],
          [
           -0.005500324070453644,
           -0.02844196744263172,
           0.019385945051908493,
           0.014906303957104683,
           0.0024637356400489807,
           -0.012969594448804855,
           0.019596461206674576,
           0.01526644080877304
          ],
          [
           -0.012264333665370941,
           -0.02118750661611557,
           -0.02634652704000473,
           -0.005157940089702606,
           0.008523698896169662,
           0.008759254589676857,
           -0.000389736145734787,
           -0.02447349764406681
          ]
         ]
        },
        {
         "coloraxis": "coloraxis",
         "hovertemplate": "x: %{x}<br>y: %{y}<br>color: %{z}<extra></extra>",
         "name": "8",
         "type": "heatmap",
         "xaxis": "x9",
         "y": [
          "A",
          "B",
          "C",
          "D",
          "E",
          "F",
          "G",
          "H"
         ],
         "yaxis": "y9",
         "z": [
          [
           -0.03879944235086441,
           -0.01002245582640171,
           -0.02118835784494877,
           -0.00997704267501831,
           -0.0077157216146588326,
           -0.05967637151479721,
           -0.034005120396614075,
           -0.014872504398226738
          ],
          [
           0.0012322086840867996,
           -0.013313554227352142,
           -0.02446078136563301,
           -0.021296631544828415,
           -0.005295027047395706,
           -0.0644766092300415,
           -0.05410584807395935,
           -0.003017962910234928
          ],
          [
           -0.03335191309452057,
           0.030904129147529602,
           0.0031403545290231705,
           0.04226155951619148,
           0.012400288134813309,
           -0.046877890825271606,
           -0.005887968465685844,
           -0.000475218053907156
          ],
          [
           -0.0027069440111517906,
           -0.035971514880657196,
           0.019315645098686218,
           0,
           0,
           -0.045213669538497925,
           -0.045219071209430695,
           0.0016827764920890331
          ],
          [
           -0.00662480853497982,
           0.022717375308275223,
           0.013568430207669735,
           0,
           0,
           0.016404325142502785,
           -0.025934472680091858,
           -0.010434477590024471
          ],
          [
           0.014818440191447735,
           -0.035652413964271545,
           -0.008391376584768295,
           -0.046396851539611816,
           -0.005027128383517265,
           0.5071752071380615,
           0.04868179187178612,
           0.03901313245296478
          ],
          [
           0.007716117426753044,
           0.031778402626514435,
           -0.002353781834244728,
           -0.031104937195777893,
           0.011393273249268532,
           0.03119213692843914,
           0.1585794985294342,
           0.015113253146409988
          ],
          [
           -0.005321210250258446,
           0.00773133710026741,
           0.0337369330227375,
           0.031020354479551315,
           -0.025818947702646255,
           0.037983134388923645,
           0.02838829532265663,
           0.07685931026935577
          ]
         ]
        },
        {
         "coloraxis": "coloraxis",
         "hovertemplate": "x: %{x}<br>y: %{y}<br>color: %{z}<extra></extra>",
         "name": "9",
         "type": "heatmap",
         "xaxis": "x10",
         "y": [
          "A",
          "B",
          "C",
          "D",
          "E",
          "F",
          "G",
          "H"
         ],
         "yaxis": "y10",
         "z": [
          [
           0.09399177879095078,
           -0.002899431623518467,
           0.017859697341918945,
           -0.02244585007429123,
           -0.001957615837454796,
           0.007974058389663696,
           -0.022843942046165466,
           -0.013233775272965431
          ],
          [
           -0.0002160109579563141,
           0.1558658331632614,
           0.04020466282963753,
           0.025106482207775116,
           -0.02351011335849762,
           -0.003329617902636528,
           -0.02342655137181282,
           -0.025269640609622
          ],
          [
           0.058343306183815,
           0.04114994779229164,
           0.5245688557624817,
           0.001368355005979538,
           -0.02685532160103321,
           -0.009937264025211334,
           -0.015240957029163837,
           -0.00548502616584301
          ],
          [
           0.012684948742389679,
           0.007940161973237991,
           0.026020968332886696,
           0,
           0,
           0.010440794751048088,
           -0.004783459007740021,
           -0.0029229121282696724
          ],
          [
           0.00599422212690115,
           0.0007984824478626251,
           -0.018611546605825424,
           0,
           0,
           0.004176780581474304,
           -0.0226995088160038,
           0.0033734720200300217
          ],
          [
           -0.01696629635989666,
           -0.027422599494457245,
           0.002144917845726013,
           0.05132829397916794,
           -0.0018383190035820007,
           -0.004405632149428129,
           0.05101706087589264,
           -0.0034750737249851227
          ],
          [
           -0.021306578069925308,
           0.029263179749250412,
           -0.0423014834523201,
           0.0022884514182806015,
           -0.02831113338470459,
           0.035605985671281815,
           0.0061929840594530106,
           -0.009913623332977295
          ],
          [
           -0.010122749023139477,
           -0.02922188676893711,
           -0.02948005497455597,
           -0.026481440290808678,
           0.0022459644824266434,
           0.031678784638643265,
           0.009272608906030655,
           -0.0182256568223238
          ]
         ]
        }
       ],
       "layout": {
        "annotations": [
         {
          "font": {},
          "showarrow": false,
          "text": "L8N282",
          "x": 0.04100000000000001,
          "xanchor": "center",
          "xref": "paper",
          "y": 1,
          "yanchor": "bottom",
          "yref": "paper"
         },
         {
          "font": {},
          "showarrow": false,
          "text": "L8N869",
          "x": 0.14300000000000004,
          "xanchor": "center",
          "xref": "paper",
          "y": 1,
          "yanchor": "bottom",
          "yref": "paper"
         },
         {
          "font": {},
          "showarrow": false,
          "text": "L8N314",
          "x": 0.24500000000000005,
          "xanchor": "center",
          "xref": "paper",
          "y": 1,
          "yanchor": "bottom",
          "yref": "paper"
         },
         {
          "font": {},
          "showarrow": false,
          "text": "L8N1636",
          "x": 0.3470000000000001,
          "xanchor": "center",
          "xref": "paper",
          "y": 1,
          "yanchor": "bottom",
          "yref": "paper"
         },
         {
          "font": {},
          "showarrow": false,
          "text": "L8N1266",
          "x": 0.44900000000000007,
          "xanchor": "center",
          "xref": "paper",
          "y": 1,
          "yanchor": "bottom",
          "yref": "paper"
         },
         {
          "font": {},
          "showarrow": false,
          "text": "L8N750",
          "x": 0.5510000000000002,
          "xanchor": "center",
          "xref": "paper",
          "y": 1,
          "yanchor": "bottom",
          "yref": "paper"
         },
         {
          "font": {},
          "showarrow": false,
          "text": "L8N553",
          "x": 0.6530000000000001,
          "xanchor": "center",
          "xref": "paper",
          "y": 1,
          "yanchor": "bottom",
          "yref": "paper"
         },
         {
          "font": {},
          "showarrow": false,
          "text": "L8N734",
          "x": 0.7550000000000001,
          "xanchor": "center",
          "xref": "paper",
          "y": 1,
          "yanchor": "bottom",
          "yref": "paper"
         },
         {
          "font": {},
          "showarrow": false,
          "text": "L8N476",
          "x": 0.8570000000000002,
          "xanchor": "center",
          "xref": "paper",
          "y": 1,
          "yanchor": "bottom",
          "yref": "paper"
         },
         {
          "font": {},
          "showarrow": false,
          "text": "L8N333",
          "x": 0.9590000000000002,
          "xanchor": "center",
          "xref": "paper",
          "y": 1,
          "yanchor": "bottom",
          "yref": "paper"
         }
        ],
        "coloraxis": {
         "cmid": 0,
         "colorscale": [
          [
           0,
           "rgb(103,0,31)"
          ],
          [
           0.1,
           "rgb(178,24,43)"
          ],
          [
           0.2,
           "rgb(214,96,77)"
          ],
          [
           0.3,
           "rgb(244,165,130)"
          ],
          [
           0.4,
           "rgb(253,219,199)"
          ],
          [
           0.5,
           "rgb(247,247,247)"
          ],
          [
           0.6,
           "rgb(209,229,240)"
          ],
          [
           0.7,
           "rgb(146,197,222)"
          ],
          [
           0.8,
           "rgb(67,147,195)"
          ],
          [
           0.9,
           "rgb(33,102,172)"
          ],
          [
           1,
           "rgb(5,48,97)"
          ]
         ]
        },
        "template": {
         "data": {
          "bar": [
           {
            "error_x": {
             "color": "#2a3f5f"
            },
            "error_y": {
             "color": "#2a3f5f"
            },
            "marker": {
             "line": {
              "color": "#E5ECF6",
              "width": 0.5
             },
             "pattern": {
              "fillmode": "overlay",
              "size": 10,
              "solidity": 0.2
             }
            },
            "type": "bar"
           }
          ],
          "barpolar": [
           {
            "marker": {
             "line": {
              "color": "#E5ECF6",
              "width": 0.5
             },
             "pattern": {
              "fillmode": "overlay",
              "size": 10,
              "solidity": 0.2
             }
            },
            "type": "barpolar"
           }
          ],
          "carpet": [
           {
            "aaxis": {
             "endlinecolor": "#2a3f5f",
             "gridcolor": "white",
             "linecolor": "white",
             "minorgridcolor": "white",
             "startlinecolor": "#2a3f5f"
            },
            "baxis": {
             "endlinecolor": "#2a3f5f",
             "gridcolor": "white",
             "linecolor": "white",
             "minorgridcolor": "white",
             "startlinecolor": "#2a3f5f"
            },
            "type": "carpet"
           }
          ],
          "choropleth": [
           {
            "colorbar": {
             "outlinewidth": 0,
             "ticks": ""
            },
            "type": "choropleth"
           }
          ],
          "contour": [
           {
            "colorbar": {
             "outlinewidth": 0,
             "ticks": ""
            },
            "colorscale": [
             [
              0,
              "#0d0887"
             ],
             [
              0.1111111111111111,
              "#46039f"
             ],
             [
              0.2222222222222222,
              "#7201a8"
             ],
             [
              0.3333333333333333,
              "#9c179e"
             ],
             [
              0.4444444444444444,
              "#bd3786"
             ],
             [
              0.5555555555555556,
              "#d8576b"
             ],
             [
              0.6666666666666666,
              "#ed7953"
             ],
             [
              0.7777777777777778,
              "#fb9f3a"
             ],
             [
              0.8888888888888888,
              "#fdca26"
             ],
             [
              1,
              "#f0f921"
             ]
            ],
            "type": "contour"
           }
          ],
          "contourcarpet": [
           {
            "colorbar": {
             "outlinewidth": 0,
             "ticks": ""
            },
            "type": "contourcarpet"
           }
          ],
          "heatmap": [
           {
            "colorbar": {
             "outlinewidth": 0,
             "ticks": ""
            },
            "colorscale": [
             [
              0,
              "#0d0887"
             ],
             [
              0.1111111111111111,
              "#46039f"
             ],
             [
              0.2222222222222222,
              "#7201a8"
             ],
             [
              0.3333333333333333,
              "#9c179e"
             ],
             [
              0.4444444444444444,
              "#bd3786"
             ],
             [
              0.5555555555555556,
              "#d8576b"
             ],
             [
              0.6666666666666666,
              "#ed7953"
             ],
             [
              0.7777777777777778,
              "#fb9f3a"
             ],
             [
              0.8888888888888888,
              "#fdca26"
             ],
             [
              1,
              "#f0f921"
             ]
            ],
            "type": "heatmap"
           }
          ],
          "heatmapgl": [
           {
            "colorbar": {
             "outlinewidth": 0,
             "ticks": ""
            },
            "colorscale": [
             [
              0,
              "#0d0887"
             ],
             [
              0.1111111111111111,
              "#46039f"
             ],
             [
              0.2222222222222222,
              "#7201a8"
             ],
             [
              0.3333333333333333,
              "#9c179e"
             ],
             [
              0.4444444444444444,
              "#bd3786"
             ],
             [
              0.5555555555555556,
              "#d8576b"
             ],
             [
              0.6666666666666666,
              "#ed7953"
             ],
             [
              0.7777777777777778,
              "#fb9f3a"
             ],
             [
              0.8888888888888888,
              "#fdca26"
             ],
             [
              1,
              "#f0f921"
             ]
            ],
            "type": "heatmapgl"
           }
          ],
          "histogram": [
           {
            "marker": {
             "pattern": {
              "fillmode": "overlay",
              "size": 10,
              "solidity": 0.2
             }
            },
            "type": "histogram"
           }
          ],
          "histogram2d": [
           {
            "colorbar": {
             "outlinewidth": 0,
             "ticks": ""
            },
            "colorscale": [
             [
              0,
              "#0d0887"
             ],
             [
              0.1111111111111111,
              "#46039f"
             ],
             [
              0.2222222222222222,
              "#7201a8"
             ],
             [
              0.3333333333333333,
              "#9c179e"
             ],
             [
              0.4444444444444444,
              "#bd3786"
             ],
             [
              0.5555555555555556,
              "#d8576b"
             ],
             [
              0.6666666666666666,
              "#ed7953"
             ],
             [
              0.7777777777777778,
              "#fb9f3a"
             ],
             [
              0.8888888888888888,
              "#fdca26"
             ],
             [
              1,
              "#f0f921"
             ]
            ],
            "type": "histogram2d"
           }
          ],
          "histogram2dcontour": [
           {
            "colorbar": {
             "outlinewidth": 0,
             "ticks": ""
            },
            "colorscale": [
             [
              0,
              "#0d0887"
             ],
             [
              0.1111111111111111,
              "#46039f"
             ],
             [
              0.2222222222222222,
              "#7201a8"
             ],
             [
              0.3333333333333333,
              "#9c179e"
             ],
             [
              0.4444444444444444,
              "#bd3786"
             ],
             [
              0.5555555555555556,
              "#d8576b"
             ],
             [
              0.6666666666666666,
              "#ed7953"
             ],
             [
              0.7777777777777778,
              "#fb9f3a"
             ],
             [
              0.8888888888888888,
              "#fdca26"
             ],
             [
              1,
              "#f0f921"
             ]
            ],
            "type": "histogram2dcontour"
           }
          ],
          "mesh3d": [
           {
            "colorbar": {
             "outlinewidth": 0,
             "ticks": ""
            },
            "type": "mesh3d"
           }
          ],
          "parcoords": [
           {
            "line": {
             "colorbar": {
              "outlinewidth": 0,
              "ticks": ""
             }
            },
            "type": "parcoords"
           }
          ],
          "pie": [
           {
            "automargin": true,
            "type": "pie"
           }
          ],
          "scatter": [
           {
            "fillpattern": {
             "fillmode": "overlay",
             "size": 10,
             "solidity": 0.2
            },
            "type": "scatter"
           }
          ],
          "scatter3d": [
           {
            "line": {
             "colorbar": {
              "outlinewidth": 0,
              "ticks": ""
             }
            },
            "marker": {
             "colorbar": {
              "outlinewidth": 0,
              "ticks": ""
             }
            },
            "type": "scatter3d"
           }
          ],
          "scattercarpet": [
           {
            "marker": {
             "colorbar": {
              "outlinewidth": 0,
              "ticks": ""
             }
            },
            "type": "scattercarpet"
           }
          ],
          "scattergeo": [
           {
            "marker": {
             "colorbar": {
              "outlinewidth": 0,
              "ticks": ""
             }
            },
            "type": "scattergeo"
           }
          ],
          "scattergl": [
           {
            "marker": {
             "colorbar": {
              "outlinewidth": 0,
              "ticks": ""
             }
            },
            "type": "scattergl"
           }
          ],
          "scattermapbox": [
           {
            "marker": {
             "colorbar": {
              "outlinewidth": 0,
              "ticks": ""
             }
            },
            "type": "scattermapbox"
           }
          ],
          "scatterpolar": [
           {
            "marker": {
             "colorbar": {
              "outlinewidth": 0,
              "ticks": ""
             }
            },
            "type": "scatterpolar"
           }
          ],
          "scatterpolargl": [
           {
            "marker": {
             "colorbar": {
              "outlinewidth": 0,
              "ticks": ""
             }
            },
            "type": "scatterpolargl"
           }
          ],
          "scatterternary": [
           {
            "marker": {
             "colorbar": {
              "outlinewidth": 0,
              "ticks": ""
             }
            },
            "type": "scatterternary"
           }
          ],
          "surface": [
           {
            "colorbar": {
             "outlinewidth": 0,
             "ticks": ""
            },
            "colorscale": [
             [
              0,
              "#0d0887"
             ],
             [
              0.1111111111111111,
              "#46039f"
             ],
             [
              0.2222222222222222,
              "#7201a8"
             ],
             [
              0.3333333333333333,
              "#9c179e"
             ],
             [
              0.4444444444444444,
              "#bd3786"
             ],
             [
              0.5555555555555556,
              "#d8576b"
             ],
             [
              0.6666666666666666,
              "#ed7953"
             ],
             [
              0.7777777777777778,
              "#fb9f3a"
             ],
             [
              0.8888888888888888,
              "#fdca26"
             ],
             [
              1,
              "#f0f921"
             ]
            ],
            "type": "surface"
           }
          ],
          "table": [
           {
            "cells": {
             "fill": {
              "color": "#EBF0F8"
             },
             "line": {
              "color": "white"
             }
            },
            "header": {
             "fill": {
              "color": "#C8D4E3"
             },
             "line": {
              "color": "white"
             }
            },
            "type": "table"
           }
          ]
         },
         "layout": {
          "annotationdefaults": {
           "arrowcolor": "#2a3f5f",
           "arrowhead": 0,
           "arrowwidth": 1
          },
          "autotypenumbers": "strict",
          "coloraxis": {
           "colorbar": {
            "outlinewidth": 0,
            "ticks": ""
           }
          },
          "colorscale": {
           "diverging": [
            [
             0,
             "#8e0152"
            ],
            [
             0.1,
             "#c51b7d"
            ],
            [
             0.2,
             "#de77ae"
            ],
            [
             0.3,
             "#f1b6da"
            ],
            [
             0.4,
             "#fde0ef"
            ],
            [
             0.5,
             "#f7f7f7"
            ],
            [
             0.6,
             "#e6f5d0"
            ],
            [
             0.7,
             "#b8e186"
            ],
            [
             0.8,
             "#7fbc41"
            ],
            [
             0.9,
             "#4d9221"
            ],
            [
             1,
             "#276419"
            ]
           ],
           "sequential": [
            [
             0,
             "#0d0887"
            ],
            [
             0.1111111111111111,
             "#46039f"
            ],
            [
             0.2222222222222222,
             "#7201a8"
            ],
            [
             0.3333333333333333,
             "#9c179e"
            ],
            [
             0.4444444444444444,
             "#bd3786"
            ],
            [
             0.5555555555555556,
             "#d8576b"
            ],
            [
             0.6666666666666666,
             "#ed7953"
            ],
            [
             0.7777777777777778,
             "#fb9f3a"
            ],
            [
             0.8888888888888888,
             "#fdca26"
            ],
            [
             1,
             "#f0f921"
            ]
           ],
           "sequentialminus": [
            [
             0,
             "#0d0887"
            ],
            [
             0.1111111111111111,
             "#46039f"
            ],
            [
             0.2222222222222222,
             "#7201a8"
            ],
            [
             0.3333333333333333,
             "#9c179e"
            ],
            [
             0.4444444444444444,
             "#bd3786"
            ],
            [
             0.5555555555555556,
             "#d8576b"
            ],
            [
             0.6666666666666666,
             "#ed7953"
            ],
            [
             0.7777777777777778,
             "#fb9f3a"
            ],
            [
             0.8888888888888888,
             "#fdca26"
            ],
            [
             1,
             "#f0f921"
            ]
           ]
          },
          "colorway": [
           "#636efa",
           "#EF553B",
           "#00cc96",
           "#ab63fa",
           "#FFA15A",
           "#19d3f3",
           "#FF6692",
           "#B6E880",
           "#FF97FF",
           "#FECB52"
          ],
          "font": {
           "color": "#2a3f5f"
          },
          "geo": {
           "bgcolor": "white",
           "lakecolor": "white",
           "landcolor": "#E5ECF6",
           "showlakes": true,
           "showland": true,
           "subunitcolor": "white"
          },
          "hoverlabel": {
           "align": "left"
          },
          "hovermode": "closest",
          "mapbox": {
           "style": "light"
          },
          "paper_bgcolor": "white",
          "plot_bgcolor": "#E5ECF6",
          "polar": {
           "angularaxis": {
            "gridcolor": "white",
            "linecolor": "white",
            "ticks": ""
           },
           "bgcolor": "#E5ECF6",
           "radialaxis": {
            "gridcolor": "white",
            "linecolor": "white",
            "ticks": ""
           }
          },
          "scene": {
           "xaxis": {
            "backgroundcolor": "#E5ECF6",
            "gridcolor": "white",
            "gridwidth": 2,
            "linecolor": "white",
            "showbackground": true,
            "ticks": "",
            "zerolinecolor": "white"
           },
           "yaxis": {
            "backgroundcolor": "#E5ECF6",
            "gridcolor": "white",
            "gridwidth": 2,
            "linecolor": "white",
            "showbackground": true,
            "ticks": "",
            "zerolinecolor": "white"
           },
           "zaxis": {
            "backgroundcolor": "#E5ECF6",
            "gridcolor": "white",
            "gridwidth": 2,
            "linecolor": "white",
            "showbackground": true,
            "ticks": "",
            "zerolinecolor": "white"
           }
          },
          "shapedefaults": {
           "line": {
            "color": "#2a3f5f"
           }
          },
          "ternary": {
           "aaxis": {
            "gridcolor": "white",
            "linecolor": "white",
            "ticks": ""
           },
           "baxis": {
            "gridcolor": "white",
            "linecolor": "white",
            "ticks": ""
           },
           "bgcolor": "#E5ECF6",
           "caxis": {
            "gridcolor": "white",
            "linecolor": "white",
            "ticks": ""
           }
          },
          "title": {
           "x": 0.05
          },
          "xaxis": {
           "automargin": true,
           "gridcolor": "white",
           "linecolor": "white",
           "ticks": "",
           "title": {
            "standoff": 15
           },
           "zerolinecolor": "white",
           "zerolinewidth": 2
          },
          "yaxis": {
           "automargin": true,
           "gridcolor": "white",
           "linecolor": "white",
           "ticks": "",
           "title": {
            "standoff": 15
           },
           "zerolinecolor": "white",
           "zerolinewidth": 2
          }
         }
        },
        "title": {
         "text": "Cosine sim of Input weights and the my color probe for top layer 8 neurons"
        },
        "xaxis": {
         "anchor": "y",
         "domain": [
          0,
          0.08200000000000002
         ],
         "title": {
          "text": "x"
         }
        },
        "xaxis10": {
         "anchor": "y10",
         "domain": [
          0.9180000000000001,
          1
         ],
         "matches": "x",
         "title": {
          "text": "x"
         }
        },
        "xaxis2": {
         "anchor": "y2",
         "domain": [
          0.10200000000000002,
          0.18400000000000005
         ],
         "matches": "x",
         "title": {
          "text": "x"
         }
        },
        "xaxis3": {
         "anchor": "y3",
         "domain": [
          0.20400000000000004,
          0.28600000000000003
         ],
         "matches": "x",
         "title": {
          "text": "x"
         }
        },
        "xaxis4": {
         "anchor": "y4",
         "domain": [
          0.30600000000000005,
          0.38800000000000007
         ],
         "matches": "x",
         "title": {
          "text": "x"
         }
        },
        "xaxis5": {
         "anchor": "y5",
         "domain": [
          0.4080000000000001,
          0.4900000000000001
         ],
         "matches": "x",
         "title": {
          "text": "x"
         }
        },
        "xaxis6": {
         "anchor": "y6",
         "domain": [
          0.5100000000000001,
          0.5920000000000001
         ],
         "matches": "x",
         "title": {
          "text": "x"
         }
        },
        "xaxis7": {
         "anchor": "y7",
         "domain": [
          0.6120000000000001,
          0.6940000000000002
         ],
         "matches": "x",
         "title": {
          "text": "x"
         }
        },
        "xaxis8": {
         "anchor": "y8",
         "domain": [
          0.7140000000000001,
          0.796
         ],
         "matches": "x",
         "title": {
          "text": "x"
         }
        },
        "xaxis9": {
         "anchor": "y9",
         "domain": [
          0.8160000000000002,
          0.8980000000000001
         ],
         "matches": "x",
         "title": {
          "text": "x"
         }
        },
        "yaxis": {
         "anchor": "x",
         "autorange": "reversed",
         "domain": [
          0,
          1
         ],
         "title": {
          "text": "y"
         }
        },
        "yaxis10": {
         "anchor": "x10",
         "domain": [
          0,
          1
         ],
         "matches": "y",
         "showticklabels": false
        },
        "yaxis2": {
         "anchor": "x2",
         "domain": [
          0,
          1
         ],
         "matches": "y",
         "showticklabels": false
        },
        "yaxis3": {
         "anchor": "x3",
         "domain": [
          0,
          1
         ],
         "matches": "y",
         "showticklabels": false
        },
        "yaxis4": {
         "anchor": "x4",
         "domain": [
          0,
          1
         ],
         "matches": "y",
         "showticklabels": false
        },
        "yaxis5": {
         "anchor": "x5",
         "domain": [
          0,
          1
         ],
         "matches": "y",
         "showticklabels": false
        },
        "yaxis6": {
         "anchor": "x6",
         "domain": [
          0,
          1
         ],
         "matches": "y",
         "showticklabels": false
        },
        "yaxis7": {
         "anchor": "x7",
         "domain": [
          0,
          1
         ],
         "matches": "y",
         "showticklabels": false
        },
        "yaxis8": {
         "anchor": "x8",
         "domain": [
          0,
          1
         ],
         "matches": "y",
         "showticklabels": false
        },
        "yaxis9": {
         "anchor": "x9",
         "domain": [
          0,
          1
         ],
         "matches": "y",
         "showticklabels": false
        }
       }
      }
     },
     "metadata": {},
     "output_type": "display_data"
    }
   ],
   "source": [
    "layers = list(range(0,8))\n",
    "mode = 2 # [\"empty\", \"own\", \"enemy\"]\n",
    "\n",
    "for layer in layers:\n",
    "    # Probe\n",
    "    probe_path = f\"probes/probe_layer_{layer}.pkl\"\n",
    "    full_linear_probe = torch.load(probe_path)\n",
    "    my_probe_W = full_linear_probe.state_dict()[f'classifier.{mode}.weight'] # (64, 512)\n",
    "    my_probe_W = my_probe_W.t()\n",
    "    my_probe_normalised = my_probe_W / my_probe_W.norm(dim=0, keepdim=True) # torch.Size([512, 64])\n",
    "    my_probe_normalised[:, [27, 28, 35, 36]] = 0.\n",
    "    # Weight\n",
    "    weight_in_key = f\"blocks.{layer}.mlp_sublayer.proj.weight\"\n",
    "    \n",
    "    heatmaps_my = []\n",
    "    w_in = othello_gpt.state_dict()[weight_in_key] # torch.Size([512, 2048])\n",
    "    w_in /= w_in.norm(dim=0, keepdim=True)\n",
    "    for neuron in range(0, 2048):\n",
    "        neuron_weight = w_in[:, neuron]\n",
    "        heatmaps_my.append((neuron_weight[:, None] * my_probe_normalised).sum(dim=0))\n",
    "        \n",
    "    heatmaps_my = torch.stack(heatmaps_my).reshape(-1, 8, 8)\n",
    "    # print(heatmaps_my.shape)\n",
    "    heatmaps_my_id = heatmaps_my.std(dim=[1, 2]).argsort(descending=True)[:10]\n",
    "    heatmaps_my = heatmaps_my[heatmaps_my_id]\n",
    "\n",
    "    imshow(heatmaps_my,\n",
    "        facet_col=0,\n",
    "        y=[i for i in \"ABCDEFGH\"],\n",
    "        title=f\"Cosine sim of Input weights and the my color probe for top layer {layer+1} neurons\",\n",
    "        facet_labels=[f\"L{layer+1}N{n.item()}\" for n in heatmaps_my_id])"
   ]
  },
  {
   "cell_type": "markdown",
   "metadata": {},
   "source": [
    "#### Histogram"
   ]
  },
  {
   "cell_type": "code",
   "execution_count": null,
   "metadata": {},
   "outputs": [
    {
     "data": {
      "image/png": "[encoded data removed]",
      "text/plain": [
       "<Figure size 1000x600 with 1 Axes>"
      ]
     },
     "metadata": {},
     "output_type": "display_data"
    },
    {
     "data": {
      "image/png": "[encoded data removed]",
      "text/plain": [
       "<Figure size 1000x600 with 1 Axes>"
      ]
     },
     "metadata": {},
     "output_type": "display_data"
    },
    {
     "data": {
      "image/png": "[encoded data removed]",
      "text/plain": [
       "<Figure size 1000x600 with 1 Axes>"
      ]
     },
     "metadata": {},
     "output_type": "display_data"
    },
    {
     "data": {
      "image/png": "[encoded data removed]",
      "text/plain": [
       "<Figure size 1000x600 with 1 Axes>"
      ]
     },
     "metadata": {},
     "output_type": "display_data"
    },
    {
     "data": {
      "image/png": "[encoded data removed]",
      "text/plain": [
       "<Figure size 1000x600 with 1 Axes>"
      ]
     },
     "metadata": {},
     "output_type": "display_data"
    },
    {
     "data": {
      "image/png": "[encoded data removed]",
      "text/plain": [
       "<Figure size 1000x600 with 1 Axes>"
      ]
     },
     "metadata": {},
     "output_type": "display_data"
    },
    {
     "data": {
      "image/png": "[encoded data removed]",
      "text/plain": [
       "<Figure size 1000x600 with 1 Axes>"
      ]
     },
     "metadata": {},
     "output_type": "display_data"
    },
    {
     "data": {
      "image/png": "[encoded data removed]",
      "text/plain": [
       "<Figure size 1000x600 with 1 Axes>"
      ]
     },
     "metadata": {},
     "output_type": "display_data"
    }
   ],
   "source": [
    "layers = list(range(0,8))\n",
    "mode = 2 # [\"empty\", \"own\", \"enemy\"]\n",
    "\n",
    "for layer in layers:\n",
    "    # Probe\n",
    "    probe_path = f\"probes/probe_layer_{layer}.pkl\"\n",
    "    full_linear_probe = torch.load(probe_path)\n",
    "    my_probe_W = full_linear_probe.state_dict()[f'classifier.{mode}.weight'] # (64, 512)\n",
    "    my_probe_W = my_probe_W.t()\n",
    "    my_probe_normalised = my_probe_W / my_probe_W.norm(dim=0, keepdim=True) # torch.Size([512, 64])\n",
    "    my_probe_normalised[:, [27, 28, 35, 36]] = 0.\n",
    "    # Weight\n",
    "    weight_in_key = f\"blocks.{layer}.mlp_sublayer.proj.weight\"\n",
    "    \n",
    "    heatmaps_my = []\n",
    "    w_in = othello_gpt.state_dict()[weight_in_key] # torch.Size([512, 2048])\n",
    "    w_in /= w_in.norm(dim=0, keepdim=True)\n",
    "    for neuron in range(0, 2048):\n",
    "        neuron_weight = w_in[:, neuron]\n",
    "        heatmaps_my.append((neuron_weight[:, None] * my_probe_normalised).sum(dim=0))\n",
    "        \n",
    "    heatmaps_my = torch.stack(heatmaps_my).reshape(-1, 8, 8)\n",
    "    \n",
    "    if False:\n",
    "        heatmaps_blank_std = heatmaps_blank.std(dim=[1, 2])\n",
    "        mean_value = heatmaps_blank_std.mean().item()\n",
    "\n",
    "        plt.figure(figsize=(10, 6))\n",
    "        plt.hist(heatmaps_blank_std.detach().cpu().numpy(), bins=50, edgecolor='black')\n",
    "        plt.axvline(mean_value, color='red', linestyle='dashed', linewidth=2, label=f'Mean = {mean_value:.4f}')\n",
    "        plt.title(f\"Input Histogram of Heatmaps Blank Standard Deviation in Layer {layer+1}\")\n",
    "        plt.xlabel(\"Standard Deviation\")\n",
    "        plt.ylabel(\"Frequency\")\n",
    "        plt.legend()\n",
    "        plt.show()\n",
    "    else:\n",
    "        heatmaps_my_std = heatmaps_my.std(dim=[1, 2])\n",
    "        mean_value = heatmaps_my_std.mean().item()\n",
    "        plt.figure(figsize=(10, 6))\n",
    "        plt.hist(heatmaps_my_std.detach().cpu().numpy(), bins=50, edgecolor='black')\n",
    "        plt.axvline(mean_value, color='red', linestyle='dashed', linewidth=2, label=f'Mean = {mean_value:.6f}')\n",
    "        plt.title(f\"Input Histogram of Heatmaps My Standard Deviation in Layer {layer+1}\")\n",
    "        plt.xlabel(\"Standard Deviation\")\n",
    "        plt.ylabel(\"Frequency\")\n",
    "        plt.legend()\n",
    "        plt.show()"
   ]
  }
 ],
 "metadata": {
  "kernelspec": {
   "display_name": "othellogpt",
   "language": "python",
   "name": "python3"
  },
  "language_info": {
   "codemirror_mode": {
    "name": "ipython",
    "version": 3
   },
   "file_extension": ".py",
   "mimetype": "text/x-python",
   "name": "python",
   "nbconvert_exporter": "python",
   "pygments_lexer": "ipython3",
   "version": "3.10.15"
  }
 },
 "nbformat": 4,
 "nbformat_minor": 2
}
